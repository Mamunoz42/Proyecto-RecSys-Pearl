{
  "nbformat": 4,
  "nbformat_minor": 0,
  "metadata": {
    "colab": {
      "provenance": [],
      "collapsed_sections": [
        "CTSDgbED3wT8"
      ],
      "gpuType": "T4"
    },
    "kernelspec": {
      "name": "python3",
      "display_name": "Python 3"
    },
    "language_info": {
      "name": "python"
    },
    "accelerator": "GPU",
    "widgets": {
      "application/vnd.jupyter.widget-state+json": {
        "26636a60ea904de481eca852efd6e1e6": {
          "model_module": "@jupyter-widgets/controls",
          "model_name": "HBoxModel",
          "model_module_version": "1.5.0",
          "state": {
            "_dom_classes": [],
            "_model_module": "@jupyter-widgets/controls",
            "_model_module_version": "1.5.0",
            "_model_name": "HBoxModel",
            "_view_count": null,
            "_view_module": "@jupyter-widgets/controls",
            "_view_module_version": "1.5.0",
            "_view_name": "HBoxView",
            "box_style": "",
            "children": [
              "IPY_MODEL_65dc117568a84f168b24740424db4dbe",
              "IPY_MODEL_71641a02a549430594e7a60619fc1a8a",
              "IPY_MODEL_dab88afc07f44880baedaa610f21923b"
            ],
            "layout": "IPY_MODEL_9b099e03cce6493ea1592564e2b3cd98"
          }
        },
        "65dc117568a84f168b24740424db4dbe": {
          "model_module": "@jupyter-widgets/controls",
          "model_name": "HTMLModel",
          "model_module_version": "1.5.0",
          "state": {
            "_dom_classes": [],
            "_model_module": "@jupyter-widgets/controls",
            "_model_module_version": "1.5.0",
            "_model_name": "HTMLModel",
            "_view_count": null,
            "_view_module": "@jupyter-widgets/controls",
            "_view_module_version": "1.5.0",
            "_view_name": "HTMLView",
            "description": "",
            "description_tooltip": null,
            "layout": "IPY_MODEL_fba4dc17e83b4bc28756655707b2296f",
            "placeholder": "​",
            "style": "IPY_MODEL_c7041c9f85c7445f8d9141506bb00623",
            "value": "model.safetensors: 100%"
          }
        },
        "71641a02a549430594e7a60619fc1a8a": {
          "model_module": "@jupyter-widgets/controls",
          "model_name": "FloatProgressModel",
          "model_module_version": "1.5.0",
          "state": {
            "_dom_classes": [],
            "_model_module": "@jupyter-widgets/controls",
            "_model_module_version": "1.5.0",
            "_model_name": "FloatProgressModel",
            "_view_count": null,
            "_view_module": "@jupyter-widgets/controls",
            "_view_module_version": "1.5.0",
            "_view_name": "ProgressView",
            "bar_style": "success",
            "description": "",
            "description_tooltip": null,
            "layout": "IPY_MODEL_7a778736b7e9410e956ea9bd40982253",
            "max": 2264298476,
            "min": 0,
            "orientation": "horizontal",
            "style": "IPY_MODEL_3839748baafd447ea057180afafaca75",
            "value": 2264298476
          }
        },
        "dab88afc07f44880baedaa610f21923b": {
          "model_module": "@jupyter-widgets/controls",
          "model_name": "HTMLModel",
          "model_module_version": "1.5.0",
          "state": {
            "_dom_classes": [],
            "_model_module": "@jupyter-widgets/controls",
            "_model_module_version": "1.5.0",
            "_model_name": "HTMLModel",
            "_view_count": null,
            "_view_module": "@jupyter-widgets/controls",
            "_view_module_version": "1.5.0",
            "_view_name": "HTMLView",
            "description": "",
            "description_tooltip": null,
            "layout": "IPY_MODEL_8e9fc18aa8e14c74af2cba33dc9735a4",
            "placeholder": "​",
            "style": "IPY_MODEL_fa3519fdc6f74893af3bb46fdf8dbaa9",
            "value": " 2.26G/2.26G [00:53&lt;00:00, 42.2MB/s]"
          }
        },
        "9b099e03cce6493ea1592564e2b3cd98": {
          "model_module": "@jupyter-widgets/base",
          "model_name": "LayoutModel",
          "model_module_version": "1.2.0",
          "state": {
            "_model_module": "@jupyter-widgets/base",
            "_model_module_version": "1.2.0",
            "_model_name": "LayoutModel",
            "_view_count": null,
            "_view_module": "@jupyter-widgets/base",
            "_view_module_version": "1.2.0",
            "_view_name": "LayoutView",
            "align_content": null,
            "align_items": null,
            "align_self": null,
            "border": null,
            "bottom": null,
            "display": null,
            "flex": null,
            "flex_flow": null,
            "grid_area": null,
            "grid_auto_columns": null,
            "grid_auto_flow": null,
            "grid_auto_rows": null,
            "grid_column": null,
            "grid_gap": null,
            "grid_row": null,
            "grid_template_areas": null,
            "grid_template_columns": null,
            "grid_template_rows": null,
            "height": null,
            "justify_content": null,
            "justify_items": null,
            "left": null,
            "margin": null,
            "max_height": null,
            "max_width": null,
            "min_height": null,
            "min_width": null,
            "object_fit": null,
            "object_position": null,
            "order": null,
            "overflow": null,
            "overflow_x": null,
            "overflow_y": null,
            "padding": null,
            "right": null,
            "top": null,
            "visibility": null,
            "width": null
          }
        },
        "fba4dc17e83b4bc28756655707b2296f": {
          "model_module": "@jupyter-widgets/base",
          "model_name": "LayoutModel",
          "model_module_version": "1.2.0",
          "state": {
            "_model_module": "@jupyter-widgets/base",
            "_model_module_version": "1.2.0",
            "_model_name": "LayoutModel",
            "_view_count": null,
            "_view_module": "@jupyter-widgets/base",
            "_view_module_version": "1.2.0",
            "_view_name": "LayoutView",
            "align_content": null,
            "align_items": null,
            "align_self": null,
            "border": null,
            "bottom": null,
            "display": null,
            "flex": null,
            "flex_flow": null,
            "grid_area": null,
            "grid_auto_columns": null,
            "grid_auto_flow": null,
            "grid_auto_rows": null,
            "grid_column": null,
            "grid_gap": null,
            "grid_row": null,
            "grid_template_areas": null,
            "grid_template_columns": null,
            "grid_template_rows": null,
            "height": null,
            "justify_content": null,
            "justify_items": null,
            "left": null,
            "margin": null,
            "max_height": null,
            "max_width": null,
            "min_height": null,
            "min_width": null,
            "object_fit": null,
            "object_position": null,
            "order": null,
            "overflow": null,
            "overflow_x": null,
            "overflow_y": null,
            "padding": null,
            "right": null,
            "top": null,
            "visibility": null,
            "width": null
          }
        },
        "c7041c9f85c7445f8d9141506bb00623": {
          "model_module": "@jupyter-widgets/controls",
          "model_name": "DescriptionStyleModel",
          "model_module_version": "1.5.0",
          "state": {
            "_model_module": "@jupyter-widgets/controls",
            "_model_module_version": "1.5.0",
            "_model_name": "DescriptionStyleModel",
            "_view_count": null,
            "_view_module": "@jupyter-widgets/base",
            "_view_module_version": "1.2.0",
            "_view_name": "StyleView",
            "description_width": ""
          }
        },
        "7a778736b7e9410e956ea9bd40982253": {
          "model_module": "@jupyter-widgets/base",
          "model_name": "LayoutModel",
          "model_module_version": "1.2.0",
          "state": {
            "_model_module": "@jupyter-widgets/base",
            "_model_module_version": "1.2.0",
            "_model_name": "LayoutModel",
            "_view_count": null,
            "_view_module": "@jupyter-widgets/base",
            "_view_module_version": "1.2.0",
            "_view_name": "LayoutView",
            "align_content": null,
            "align_items": null,
            "align_self": null,
            "border": null,
            "bottom": null,
            "display": null,
            "flex": null,
            "flex_flow": null,
            "grid_area": null,
            "grid_auto_columns": null,
            "grid_auto_flow": null,
            "grid_auto_rows": null,
            "grid_column": null,
            "grid_gap": null,
            "grid_row": null,
            "grid_template_areas": null,
            "grid_template_columns": null,
            "grid_template_rows": null,
            "height": null,
            "justify_content": null,
            "justify_items": null,
            "left": null,
            "margin": null,
            "max_height": null,
            "max_width": null,
            "min_height": null,
            "min_width": null,
            "object_fit": null,
            "object_position": null,
            "order": null,
            "overflow": null,
            "overflow_x": null,
            "overflow_y": null,
            "padding": null,
            "right": null,
            "top": null,
            "visibility": null,
            "width": null
          }
        },
        "3839748baafd447ea057180afafaca75": {
          "model_module": "@jupyter-widgets/controls",
          "model_name": "ProgressStyleModel",
          "model_module_version": "1.5.0",
          "state": {
            "_model_module": "@jupyter-widgets/controls",
            "_model_module_version": "1.5.0",
            "_model_name": "ProgressStyleModel",
            "_view_count": null,
            "_view_module": "@jupyter-widgets/base",
            "_view_module_version": "1.2.0",
            "_view_name": "StyleView",
            "bar_color": null,
            "description_width": ""
          }
        },
        "8e9fc18aa8e14c74af2cba33dc9735a4": {
          "model_module": "@jupyter-widgets/base",
          "model_name": "LayoutModel",
          "model_module_version": "1.2.0",
          "state": {
            "_model_module": "@jupyter-widgets/base",
            "_model_module_version": "1.2.0",
            "_model_name": "LayoutModel",
            "_view_count": null,
            "_view_module": "@jupyter-widgets/base",
            "_view_module_version": "1.2.0",
            "_view_name": "LayoutView",
            "align_content": null,
            "align_items": null,
            "align_self": null,
            "border": null,
            "bottom": null,
            "display": null,
            "flex": null,
            "flex_flow": null,
            "grid_area": null,
            "grid_auto_columns": null,
            "grid_auto_flow": null,
            "grid_auto_rows": null,
            "grid_column": null,
            "grid_gap": null,
            "grid_row": null,
            "grid_template_areas": null,
            "grid_template_columns": null,
            "grid_template_rows": null,
            "height": null,
            "justify_content": null,
            "justify_items": null,
            "left": null,
            "margin": null,
            "max_height": null,
            "max_width": null,
            "min_height": null,
            "min_width": null,
            "object_fit": null,
            "object_position": null,
            "order": null,
            "overflow": null,
            "overflow_x": null,
            "overflow_y": null,
            "padding": null,
            "right": null,
            "top": null,
            "visibility": null,
            "width": null
          }
        },
        "fa3519fdc6f74893af3bb46fdf8dbaa9": {
          "model_module": "@jupyter-widgets/controls",
          "model_name": "DescriptionStyleModel",
          "model_module_version": "1.5.0",
          "state": {
            "_model_module": "@jupyter-widgets/controls",
            "_model_module_version": "1.5.0",
            "_model_name": "DescriptionStyleModel",
            "_view_count": null,
            "_view_module": "@jupyter-widgets/base",
            "_view_module_version": "1.2.0",
            "_view_name": "StyleView",
            "description_width": ""
          }
        },
        "6caa332445944a0b97b21cad076cc2c9": {
          "model_module": "@jupyter-widgets/controls",
          "model_name": "HBoxModel",
          "model_module_version": "1.5.0",
          "state": {
            "_dom_classes": [],
            "_model_module": "@jupyter-widgets/controls",
            "_model_module_version": "1.5.0",
            "_model_name": "HBoxModel",
            "_view_count": null,
            "_view_module": "@jupyter-widgets/controls",
            "_view_module_version": "1.5.0",
            "_view_name": "HBoxView",
            "box_style": "",
            "children": [
              "IPY_MODEL_e44e618336c34a2e8f453b421560f588",
              "IPY_MODEL_20d0620092a94e6baec8f9a5636a2f6e",
              "IPY_MODEL_49da85a97ded4c618f07422021b07fbd"
            ],
            "layout": "IPY_MODEL_043a014c4c004b088e27104863ddbb2c"
          }
        },
        "e44e618336c34a2e8f453b421560f588": {
          "model_module": "@jupyter-widgets/controls",
          "model_name": "HTMLModel",
          "model_module_version": "1.5.0",
          "state": {
            "_dom_classes": [],
            "_model_module": "@jupyter-widgets/controls",
            "_model_module_version": "1.5.0",
            "_model_name": "HTMLModel",
            "_view_count": null,
            "_view_module": "@jupyter-widgets/controls",
            "_view_module_version": "1.5.0",
            "_view_name": "HTMLView",
            "description": "",
            "description_tooltip": null,
            "layout": "IPY_MODEL_69ae5e9b17274b4a8b1b81da9a2bf763",
            "placeholder": "​",
            "style": "IPY_MODEL_c0a8c81306f04420b6f09cd6d35c0210",
            "value": "generation_config.json: 100%"
          }
        },
        "20d0620092a94e6baec8f9a5636a2f6e": {
          "model_module": "@jupyter-widgets/controls",
          "model_name": "FloatProgressModel",
          "model_module_version": "1.5.0",
          "state": {
            "_dom_classes": [],
            "_model_module": "@jupyter-widgets/controls",
            "_model_module_version": "1.5.0",
            "_model_name": "FloatProgressModel",
            "_view_count": null,
            "_view_module": "@jupyter-widgets/controls",
            "_view_module_version": "1.5.0",
            "_view_name": "ProgressView",
            "bar_style": "success",
            "description": "",
            "description_tooltip": null,
            "layout": "IPY_MODEL_90677d0a9dd44b1885edaa9c3404059e",
            "max": 140,
            "min": 0,
            "orientation": "horizontal",
            "style": "IPY_MODEL_ef5f89a0f7b9413687465bc41adb9086",
            "value": 140
          }
        },
        "49da85a97ded4c618f07422021b07fbd": {
          "model_module": "@jupyter-widgets/controls",
          "model_name": "HTMLModel",
          "model_module_version": "1.5.0",
          "state": {
            "_dom_classes": [],
            "_model_module": "@jupyter-widgets/controls",
            "_model_module_version": "1.5.0",
            "_model_name": "HTMLModel",
            "_view_count": null,
            "_view_module": "@jupyter-widgets/controls",
            "_view_module_version": "1.5.0",
            "_view_name": "HTMLView",
            "description": "",
            "description_tooltip": null,
            "layout": "IPY_MODEL_303a8181180648c483bdc4e23893df6f",
            "placeholder": "​",
            "style": "IPY_MODEL_cbed9961ada345b5824076e4581e0030",
            "value": " 140/140 [00:00&lt;00:00, 5.31kB/s]"
          }
        },
        "043a014c4c004b088e27104863ddbb2c": {
          "model_module": "@jupyter-widgets/base",
          "model_name": "LayoutModel",
          "model_module_version": "1.2.0",
          "state": {
            "_model_module": "@jupyter-widgets/base",
            "_model_module_version": "1.2.0",
            "_model_name": "LayoutModel",
            "_view_count": null,
            "_view_module": "@jupyter-widgets/base",
            "_view_module_version": "1.2.0",
            "_view_name": "LayoutView",
            "align_content": null,
            "align_items": null,
            "align_self": null,
            "border": null,
            "bottom": null,
            "display": null,
            "flex": null,
            "flex_flow": null,
            "grid_area": null,
            "grid_auto_columns": null,
            "grid_auto_flow": null,
            "grid_auto_rows": null,
            "grid_column": null,
            "grid_gap": null,
            "grid_row": null,
            "grid_template_areas": null,
            "grid_template_columns": null,
            "grid_template_rows": null,
            "height": null,
            "justify_content": null,
            "justify_items": null,
            "left": null,
            "margin": null,
            "max_height": null,
            "max_width": null,
            "min_height": null,
            "min_width": null,
            "object_fit": null,
            "object_position": null,
            "order": null,
            "overflow": null,
            "overflow_x": null,
            "overflow_y": null,
            "padding": null,
            "right": null,
            "top": null,
            "visibility": null,
            "width": null
          }
        },
        "69ae5e9b17274b4a8b1b81da9a2bf763": {
          "model_module": "@jupyter-widgets/base",
          "model_name": "LayoutModel",
          "model_module_version": "1.2.0",
          "state": {
            "_model_module": "@jupyter-widgets/base",
            "_model_module_version": "1.2.0",
            "_model_name": "LayoutModel",
            "_view_count": null,
            "_view_module": "@jupyter-widgets/base",
            "_view_module_version": "1.2.0",
            "_view_name": "LayoutView",
            "align_content": null,
            "align_items": null,
            "align_self": null,
            "border": null,
            "bottom": null,
            "display": null,
            "flex": null,
            "flex_flow": null,
            "grid_area": null,
            "grid_auto_columns": null,
            "grid_auto_flow": null,
            "grid_auto_rows": null,
            "grid_column": null,
            "grid_gap": null,
            "grid_row": null,
            "grid_template_areas": null,
            "grid_template_columns": null,
            "grid_template_rows": null,
            "height": null,
            "justify_content": null,
            "justify_items": null,
            "left": null,
            "margin": null,
            "max_height": null,
            "max_width": null,
            "min_height": null,
            "min_width": null,
            "object_fit": null,
            "object_position": null,
            "order": null,
            "overflow": null,
            "overflow_x": null,
            "overflow_y": null,
            "padding": null,
            "right": null,
            "top": null,
            "visibility": null,
            "width": null
          }
        },
        "c0a8c81306f04420b6f09cd6d35c0210": {
          "model_module": "@jupyter-widgets/controls",
          "model_name": "DescriptionStyleModel",
          "model_module_version": "1.5.0",
          "state": {
            "_model_module": "@jupyter-widgets/controls",
            "_model_module_version": "1.5.0",
            "_model_name": "DescriptionStyleModel",
            "_view_count": null,
            "_view_module": "@jupyter-widgets/base",
            "_view_module_version": "1.2.0",
            "_view_name": "StyleView",
            "description_width": ""
          }
        },
        "90677d0a9dd44b1885edaa9c3404059e": {
          "model_module": "@jupyter-widgets/base",
          "model_name": "LayoutModel",
          "model_module_version": "1.2.0",
          "state": {
            "_model_module": "@jupyter-widgets/base",
            "_model_module_version": "1.2.0",
            "_model_name": "LayoutModel",
            "_view_count": null,
            "_view_module": "@jupyter-widgets/base",
            "_view_module_version": "1.2.0",
            "_view_name": "LayoutView",
            "align_content": null,
            "align_items": null,
            "align_self": null,
            "border": null,
            "bottom": null,
            "display": null,
            "flex": null,
            "flex_flow": null,
            "grid_area": null,
            "grid_auto_columns": null,
            "grid_auto_flow": null,
            "grid_auto_rows": null,
            "grid_column": null,
            "grid_gap": null,
            "grid_row": null,
            "grid_template_areas": null,
            "grid_template_columns": null,
            "grid_template_rows": null,
            "height": null,
            "justify_content": null,
            "justify_items": null,
            "left": null,
            "margin": null,
            "max_height": null,
            "max_width": null,
            "min_height": null,
            "min_width": null,
            "object_fit": null,
            "object_position": null,
            "order": null,
            "overflow": null,
            "overflow_x": null,
            "overflow_y": null,
            "padding": null,
            "right": null,
            "top": null,
            "visibility": null,
            "width": null
          }
        },
        "ef5f89a0f7b9413687465bc41adb9086": {
          "model_module": "@jupyter-widgets/controls",
          "model_name": "ProgressStyleModel",
          "model_module_version": "1.5.0",
          "state": {
            "_model_module": "@jupyter-widgets/controls",
            "_model_module_version": "1.5.0",
            "_model_name": "ProgressStyleModel",
            "_view_count": null,
            "_view_module": "@jupyter-widgets/base",
            "_view_module_version": "1.2.0",
            "_view_name": "StyleView",
            "bar_color": null,
            "description_width": ""
          }
        },
        "303a8181180648c483bdc4e23893df6f": {
          "model_module": "@jupyter-widgets/base",
          "model_name": "LayoutModel",
          "model_module_version": "1.2.0",
          "state": {
            "_model_module": "@jupyter-widgets/base",
            "_model_module_version": "1.2.0",
            "_model_name": "LayoutModel",
            "_view_count": null,
            "_view_module": "@jupyter-widgets/base",
            "_view_module_version": "1.2.0",
            "_view_name": "LayoutView",
            "align_content": null,
            "align_items": null,
            "align_self": null,
            "border": null,
            "bottom": null,
            "display": null,
            "flex": null,
            "flex_flow": null,
            "grid_area": null,
            "grid_auto_columns": null,
            "grid_auto_flow": null,
            "grid_auto_rows": null,
            "grid_column": null,
            "grid_gap": null,
            "grid_row": null,
            "grid_template_areas": null,
            "grid_template_columns": null,
            "grid_template_rows": null,
            "height": null,
            "justify_content": null,
            "justify_items": null,
            "left": null,
            "margin": null,
            "max_height": null,
            "max_width": null,
            "min_height": null,
            "min_width": null,
            "object_fit": null,
            "object_position": null,
            "order": null,
            "overflow": null,
            "overflow_x": null,
            "overflow_y": null,
            "padding": null,
            "right": null,
            "top": null,
            "visibility": null,
            "width": null
          }
        },
        "cbed9961ada345b5824076e4581e0030": {
          "model_module": "@jupyter-widgets/controls",
          "model_name": "DescriptionStyleModel",
          "model_module_version": "1.5.0",
          "state": {
            "_model_module": "@jupyter-widgets/controls",
            "_model_module_version": "1.5.0",
            "_model_name": "DescriptionStyleModel",
            "_view_count": null,
            "_view_module": "@jupyter-widgets/base",
            "_view_module_version": "1.2.0",
            "_view_name": "StyleView",
            "description_width": ""
          }
        },
        "ac7f50eeba444108b0516f05044ef359": {
          "model_module": "@jupyter-widgets/controls",
          "model_name": "HBoxModel",
          "model_module_version": "1.5.0",
          "state": {
            "_dom_classes": [],
            "_model_module": "@jupyter-widgets/controls",
            "_model_module_version": "1.5.0",
            "_model_name": "HBoxModel",
            "_view_count": null,
            "_view_module": "@jupyter-widgets/controls",
            "_view_module_version": "1.5.0",
            "_view_name": "HBoxView",
            "box_style": "",
            "children": [
              "IPY_MODEL_c2f7649005494735971893b4b0770288",
              "IPY_MODEL_4c7bfcab5a2f4615bbce21f32bc0025b",
              "IPY_MODEL_32c432be447d43309da792599927ce2f"
            ],
            "layout": "IPY_MODEL_e35ea44781fd4ec1bae4a43f6eb86e20"
          }
        },
        "c2f7649005494735971893b4b0770288": {
          "model_module": "@jupyter-widgets/controls",
          "model_name": "HTMLModel",
          "model_module_version": "1.5.0",
          "state": {
            "_dom_classes": [],
            "_model_module": "@jupyter-widgets/controls",
            "_model_module_version": "1.5.0",
            "_model_name": "HTMLModel",
            "_view_count": null,
            "_view_module": "@jupyter-widgets/controls",
            "_view_module_version": "1.5.0",
            "_view_name": "HTMLView",
            "description": "",
            "description_tooltip": null,
            "layout": "IPY_MODEL_e148002fe01543f483dbb3c83ce7d6b2",
            "placeholder": "​",
            "style": "IPY_MODEL_416c7d7b867042f78836412e8a545dd7",
            "value": "tokenizer_config.json: 100%"
          }
        },
        "4c7bfcab5a2f4615bbce21f32bc0025b": {
          "model_module": "@jupyter-widgets/controls",
          "model_name": "FloatProgressModel",
          "model_module_version": "1.5.0",
          "state": {
            "_dom_classes": [],
            "_model_module": "@jupyter-widgets/controls",
            "_model_module_version": "1.5.0",
            "_model_name": "FloatProgressModel",
            "_view_count": null,
            "_view_module": "@jupyter-widgets/controls",
            "_view_module_version": "1.5.0",
            "_view_name": "ProgressView",
            "bar_style": "success",
            "description": "",
            "description_tooltip": null,
            "layout": "IPY_MODEL_d678ae4656ac477d8b58a310cd9d1042",
            "max": 3367,
            "min": 0,
            "orientation": "horizontal",
            "style": "IPY_MODEL_1e03f2e26dc048b8b3f9341608d11076",
            "value": 3367
          }
        },
        "32c432be447d43309da792599927ce2f": {
          "model_module": "@jupyter-widgets/controls",
          "model_name": "HTMLModel",
          "model_module_version": "1.5.0",
          "state": {
            "_dom_classes": [],
            "_model_module": "@jupyter-widgets/controls",
            "_model_module_version": "1.5.0",
            "_model_name": "HTMLModel",
            "_view_count": null,
            "_view_module": "@jupyter-widgets/controls",
            "_view_module_version": "1.5.0",
            "_view_name": "HTMLView",
            "description": "",
            "description_tooltip": null,
            "layout": "IPY_MODEL_cf3f8d5e9d3948139fe7332a062f49ec",
            "placeholder": "​",
            "style": "IPY_MODEL_bffa631c89ed42beacf334b62a9749bc",
            "value": " 3.37k/3.37k [00:00&lt;00:00, 99.1kB/s]"
          }
        },
        "e35ea44781fd4ec1bae4a43f6eb86e20": {
          "model_module": "@jupyter-widgets/base",
          "model_name": "LayoutModel",
          "model_module_version": "1.2.0",
          "state": {
            "_model_module": "@jupyter-widgets/base",
            "_model_module_version": "1.2.0",
            "_model_name": "LayoutModel",
            "_view_count": null,
            "_view_module": "@jupyter-widgets/base",
            "_view_module_version": "1.2.0",
            "_view_name": "LayoutView",
            "align_content": null,
            "align_items": null,
            "align_self": null,
            "border": null,
            "bottom": null,
            "display": null,
            "flex": null,
            "flex_flow": null,
            "grid_area": null,
            "grid_auto_columns": null,
            "grid_auto_flow": null,
            "grid_auto_rows": null,
            "grid_column": null,
            "grid_gap": null,
            "grid_row": null,
            "grid_template_areas": null,
            "grid_template_columns": null,
            "grid_template_rows": null,
            "height": null,
            "justify_content": null,
            "justify_items": null,
            "left": null,
            "margin": null,
            "max_height": null,
            "max_width": null,
            "min_height": null,
            "min_width": null,
            "object_fit": null,
            "object_position": null,
            "order": null,
            "overflow": null,
            "overflow_x": null,
            "overflow_y": null,
            "padding": null,
            "right": null,
            "top": null,
            "visibility": null,
            "width": null
          }
        },
        "e148002fe01543f483dbb3c83ce7d6b2": {
          "model_module": "@jupyter-widgets/base",
          "model_name": "LayoutModel",
          "model_module_version": "1.2.0",
          "state": {
            "_model_module": "@jupyter-widgets/base",
            "_model_module_version": "1.2.0",
            "_model_name": "LayoutModel",
            "_view_count": null,
            "_view_module": "@jupyter-widgets/base",
            "_view_module_version": "1.2.0",
            "_view_name": "LayoutView",
            "align_content": null,
            "align_items": null,
            "align_self": null,
            "border": null,
            "bottom": null,
            "display": null,
            "flex": null,
            "flex_flow": null,
            "grid_area": null,
            "grid_auto_columns": null,
            "grid_auto_flow": null,
            "grid_auto_rows": null,
            "grid_column": null,
            "grid_gap": null,
            "grid_row": null,
            "grid_template_areas": null,
            "grid_template_columns": null,
            "grid_template_rows": null,
            "height": null,
            "justify_content": null,
            "justify_items": null,
            "left": null,
            "margin": null,
            "max_height": null,
            "max_width": null,
            "min_height": null,
            "min_width": null,
            "object_fit": null,
            "object_position": null,
            "order": null,
            "overflow": null,
            "overflow_x": null,
            "overflow_y": null,
            "padding": null,
            "right": null,
            "top": null,
            "visibility": null,
            "width": null
          }
        },
        "416c7d7b867042f78836412e8a545dd7": {
          "model_module": "@jupyter-widgets/controls",
          "model_name": "DescriptionStyleModel",
          "model_module_version": "1.5.0",
          "state": {
            "_model_module": "@jupyter-widgets/controls",
            "_model_module_version": "1.5.0",
            "_model_name": "DescriptionStyleModel",
            "_view_count": null,
            "_view_module": "@jupyter-widgets/base",
            "_view_module_version": "1.2.0",
            "_view_name": "StyleView",
            "description_width": ""
          }
        },
        "d678ae4656ac477d8b58a310cd9d1042": {
          "model_module": "@jupyter-widgets/base",
          "model_name": "LayoutModel",
          "model_module_version": "1.2.0",
          "state": {
            "_model_module": "@jupyter-widgets/base",
            "_model_module_version": "1.2.0",
            "_model_name": "LayoutModel",
            "_view_count": null,
            "_view_module": "@jupyter-widgets/base",
            "_view_module_version": "1.2.0",
            "_view_name": "LayoutView",
            "align_content": null,
            "align_items": null,
            "align_self": null,
            "border": null,
            "bottom": null,
            "display": null,
            "flex": null,
            "flex_flow": null,
            "grid_area": null,
            "grid_auto_columns": null,
            "grid_auto_flow": null,
            "grid_auto_rows": null,
            "grid_column": null,
            "grid_gap": null,
            "grid_row": null,
            "grid_template_areas": null,
            "grid_template_columns": null,
            "grid_template_rows": null,
            "height": null,
            "justify_content": null,
            "justify_items": null,
            "left": null,
            "margin": null,
            "max_height": null,
            "max_width": null,
            "min_height": null,
            "min_width": null,
            "object_fit": null,
            "object_position": null,
            "order": null,
            "overflow": null,
            "overflow_x": null,
            "overflow_y": null,
            "padding": null,
            "right": null,
            "top": null,
            "visibility": null,
            "width": null
          }
        },
        "1e03f2e26dc048b8b3f9341608d11076": {
          "model_module": "@jupyter-widgets/controls",
          "model_name": "ProgressStyleModel",
          "model_module_version": "1.5.0",
          "state": {
            "_model_module": "@jupyter-widgets/controls",
            "_model_module_version": "1.5.0",
            "_model_name": "ProgressStyleModel",
            "_view_count": null,
            "_view_module": "@jupyter-widgets/base",
            "_view_module_version": "1.2.0",
            "_view_name": "StyleView",
            "bar_color": null,
            "description_width": ""
          }
        },
        "cf3f8d5e9d3948139fe7332a062f49ec": {
          "model_module": "@jupyter-widgets/base",
          "model_name": "LayoutModel",
          "model_module_version": "1.2.0",
          "state": {
            "_model_module": "@jupyter-widgets/base",
            "_model_module_version": "1.2.0",
            "_model_name": "LayoutModel",
            "_view_count": null,
            "_view_module": "@jupyter-widgets/base",
            "_view_module_version": "1.2.0",
            "_view_name": "LayoutView",
            "align_content": null,
            "align_items": null,
            "align_self": null,
            "border": null,
            "bottom": null,
            "display": null,
            "flex": null,
            "flex_flow": null,
            "grid_area": null,
            "grid_auto_columns": null,
            "grid_auto_flow": null,
            "grid_auto_rows": null,
            "grid_column": null,
            "grid_gap": null,
            "grid_row": null,
            "grid_template_areas": null,
            "grid_template_columns": null,
            "grid_template_rows": null,
            "height": null,
            "justify_content": null,
            "justify_items": null,
            "left": null,
            "margin": null,
            "max_height": null,
            "max_width": null,
            "min_height": null,
            "min_width": null,
            "object_fit": null,
            "object_position": null,
            "order": null,
            "overflow": null,
            "overflow_x": null,
            "overflow_y": null,
            "padding": null,
            "right": null,
            "top": null,
            "visibility": null,
            "width": null
          }
        },
        "bffa631c89ed42beacf334b62a9749bc": {
          "model_module": "@jupyter-widgets/controls",
          "model_name": "DescriptionStyleModel",
          "model_module_version": "1.5.0",
          "state": {
            "_model_module": "@jupyter-widgets/controls",
            "_model_module_version": "1.5.0",
            "_model_name": "DescriptionStyleModel",
            "_view_count": null,
            "_view_module": "@jupyter-widgets/base",
            "_view_module_version": "1.2.0",
            "_view_name": "StyleView",
            "description_width": ""
          }
        },
        "6153a932137b41adb883ba0deb19a70f": {
          "model_module": "@jupyter-widgets/controls",
          "model_name": "HBoxModel",
          "model_module_version": "1.5.0",
          "state": {
            "_dom_classes": [],
            "_model_module": "@jupyter-widgets/controls",
            "_model_module_version": "1.5.0",
            "_model_name": "HBoxModel",
            "_view_count": null,
            "_view_module": "@jupyter-widgets/controls",
            "_view_module_version": "1.5.0",
            "_view_name": "HBoxView",
            "box_style": "",
            "children": [
              "IPY_MODEL_423a07fad25f400a95537de121e21ffe",
              "IPY_MODEL_06b257eb2cf34193b3f1dee2cc97c9d7",
              "IPY_MODEL_982049f0d759408dbeb8f79700bb0b38"
            ],
            "layout": "IPY_MODEL_36f8a0b4c35845608939fd7da7b83bfc"
          }
        },
        "423a07fad25f400a95537de121e21ffe": {
          "model_module": "@jupyter-widgets/controls",
          "model_name": "HTMLModel",
          "model_module_version": "1.5.0",
          "state": {
            "_dom_classes": [],
            "_model_module": "@jupyter-widgets/controls",
            "_model_module_version": "1.5.0",
            "_model_name": "HTMLModel",
            "_view_count": null,
            "_view_module": "@jupyter-widgets/controls",
            "_view_module_version": "1.5.0",
            "_view_name": "HTMLView",
            "description": "",
            "description_tooltip": null,
            "layout": "IPY_MODEL_f0ce5fa4c7c84705b3a6c9feeda4dec4",
            "placeholder": "​",
            "style": "IPY_MODEL_54056e171a664c5c8c04e9692ce30f3f",
            "value": "tokenizer.model: 100%"
          }
        },
        "06b257eb2cf34193b3f1dee2cc97c9d7": {
          "model_module": "@jupyter-widgets/controls",
          "model_name": "FloatProgressModel",
          "model_module_version": "1.5.0",
          "state": {
            "_dom_classes": [],
            "_model_module": "@jupyter-widgets/controls",
            "_model_module_version": "1.5.0",
            "_model_name": "FloatProgressModel",
            "_view_count": null,
            "_view_module": "@jupyter-widgets/controls",
            "_view_module_version": "1.5.0",
            "_view_name": "ProgressView",
            "bar_style": "success",
            "description": "",
            "description_tooltip": null,
            "layout": "IPY_MODEL_c563dc30fc7247e4a000752bf31911d9",
            "max": 499723,
            "min": 0,
            "orientation": "horizontal",
            "style": "IPY_MODEL_e241571f135a4bb1a9910a9e4cae2716",
            "value": 499723
          }
        },
        "982049f0d759408dbeb8f79700bb0b38": {
          "model_module": "@jupyter-widgets/controls",
          "model_name": "HTMLModel",
          "model_module_version": "1.5.0",
          "state": {
            "_dom_classes": [],
            "_model_module": "@jupyter-widgets/controls",
            "_model_module_version": "1.5.0",
            "_model_name": "HTMLModel",
            "_view_count": null,
            "_view_module": "@jupyter-widgets/controls",
            "_view_module_version": "1.5.0",
            "_view_name": "HTMLView",
            "description": "",
            "description_tooltip": null,
            "layout": "IPY_MODEL_a3d50cf9eb684fecb1e16c6ce5e79cbf",
            "placeholder": "​",
            "style": "IPY_MODEL_3e2baccfd2d44b9ba9ad44e11950c2cc",
            "value": " 500k/500k [00:00&lt;00:00, 3.03MB/s]"
          }
        },
        "36f8a0b4c35845608939fd7da7b83bfc": {
          "model_module": "@jupyter-widgets/base",
          "model_name": "LayoutModel",
          "model_module_version": "1.2.0",
          "state": {
            "_model_module": "@jupyter-widgets/base",
            "_model_module_version": "1.2.0",
            "_model_name": "LayoutModel",
            "_view_count": null,
            "_view_module": "@jupyter-widgets/base",
            "_view_module_version": "1.2.0",
            "_view_name": "LayoutView",
            "align_content": null,
            "align_items": null,
            "align_self": null,
            "border": null,
            "bottom": null,
            "display": null,
            "flex": null,
            "flex_flow": null,
            "grid_area": null,
            "grid_auto_columns": null,
            "grid_auto_flow": null,
            "grid_auto_rows": null,
            "grid_column": null,
            "grid_gap": null,
            "grid_row": null,
            "grid_template_areas": null,
            "grid_template_columns": null,
            "grid_template_rows": null,
            "height": null,
            "justify_content": null,
            "justify_items": null,
            "left": null,
            "margin": null,
            "max_height": null,
            "max_width": null,
            "min_height": null,
            "min_width": null,
            "object_fit": null,
            "object_position": null,
            "order": null,
            "overflow": null,
            "overflow_x": null,
            "overflow_y": null,
            "padding": null,
            "right": null,
            "top": null,
            "visibility": null,
            "width": null
          }
        },
        "f0ce5fa4c7c84705b3a6c9feeda4dec4": {
          "model_module": "@jupyter-widgets/base",
          "model_name": "LayoutModel",
          "model_module_version": "1.2.0",
          "state": {
            "_model_module": "@jupyter-widgets/base",
            "_model_module_version": "1.2.0",
            "_model_name": "LayoutModel",
            "_view_count": null,
            "_view_module": "@jupyter-widgets/base",
            "_view_module_version": "1.2.0",
            "_view_name": "LayoutView",
            "align_content": null,
            "align_items": null,
            "align_self": null,
            "border": null,
            "bottom": null,
            "display": null,
            "flex": null,
            "flex_flow": null,
            "grid_area": null,
            "grid_auto_columns": null,
            "grid_auto_flow": null,
            "grid_auto_rows": null,
            "grid_column": null,
            "grid_gap": null,
            "grid_row": null,
            "grid_template_areas": null,
            "grid_template_columns": null,
            "grid_template_rows": null,
            "height": null,
            "justify_content": null,
            "justify_items": null,
            "left": null,
            "margin": null,
            "max_height": null,
            "max_width": null,
            "min_height": null,
            "min_width": null,
            "object_fit": null,
            "object_position": null,
            "order": null,
            "overflow": null,
            "overflow_x": null,
            "overflow_y": null,
            "padding": null,
            "right": null,
            "top": null,
            "visibility": null,
            "width": null
          }
        },
        "54056e171a664c5c8c04e9692ce30f3f": {
          "model_module": "@jupyter-widgets/controls",
          "model_name": "DescriptionStyleModel",
          "model_module_version": "1.5.0",
          "state": {
            "_model_module": "@jupyter-widgets/controls",
            "_model_module_version": "1.5.0",
            "_model_name": "DescriptionStyleModel",
            "_view_count": null,
            "_view_module": "@jupyter-widgets/base",
            "_view_module_version": "1.2.0",
            "_view_name": "StyleView",
            "description_width": ""
          }
        },
        "c563dc30fc7247e4a000752bf31911d9": {
          "model_module": "@jupyter-widgets/base",
          "model_name": "LayoutModel",
          "model_module_version": "1.2.0",
          "state": {
            "_model_module": "@jupyter-widgets/base",
            "_model_module_version": "1.2.0",
            "_model_name": "LayoutModel",
            "_view_count": null,
            "_view_module": "@jupyter-widgets/base",
            "_view_module_version": "1.2.0",
            "_view_name": "LayoutView",
            "align_content": null,
            "align_items": null,
            "align_self": null,
            "border": null,
            "bottom": null,
            "display": null,
            "flex": null,
            "flex_flow": null,
            "grid_area": null,
            "grid_auto_columns": null,
            "grid_auto_flow": null,
            "grid_auto_rows": null,
            "grid_column": null,
            "grid_gap": null,
            "grid_row": null,
            "grid_template_areas": null,
            "grid_template_columns": null,
            "grid_template_rows": null,
            "height": null,
            "justify_content": null,
            "justify_items": null,
            "left": null,
            "margin": null,
            "max_height": null,
            "max_width": null,
            "min_height": null,
            "min_width": null,
            "object_fit": null,
            "object_position": null,
            "order": null,
            "overflow": null,
            "overflow_x": null,
            "overflow_y": null,
            "padding": null,
            "right": null,
            "top": null,
            "visibility": null,
            "width": null
          }
        },
        "e241571f135a4bb1a9910a9e4cae2716": {
          "model_module": "@jupyter-widgets/controls",
          "model_name": "ProgressStyleModel",
          "model_module_version": "1.5.0",
          "state": {
            "_model_module": "@jupyter-widgets/controls",
            "_model_module_version": "1.5.0",
            "_model_name": "ProgressStyleModel",
            "_view_count": null,
            "_view_module": "@jupyter-widgets/base",
            "_view_module_version": "1.2.0",
            "_view_name": "StyleView",
            "bar_color": null,
            "description_width": ""
          }
        },
        "a3d50cf9eb684fecb1e16c6ce5e79cbf": {
          "model_module": "@jupyter-widgets/base",
          "model_name": "LayoutModel",
          "model_module_version": "1.2.0",
          "state": {
            "_model_module": "@jupyter-widgets/base",
            "_model_module_version": "1.2.0",
            "_model_name": "LayoutModel",
            "_view_count": null,
            "_view_module": "@jupyter-widgets/base",
            "_view_module_version": "1.2.0",
            "_view_name": "LayoutView",
            "align_content": null,
            "align_items": null,
            "align_self": null,
            "border": null,
            "bottom": null,
            "display": null,
            "flex": null,
            "flex_flow": null,
            "grid_area": null,
            "grid_auto_columns": null,
            "grid_auto_flow": null,
            "grid_auto_rows": null,
            "grid_column": null,
            "grid_gap": null,
            "grid_row": null,
            "grid_template_areas": null,
            "grid_template_columns": null,
            "grid_template_rows": null,
            "height": null,
            "justify_content": null,
            "justify_items": null,
            "left": null,
            "margin": null,
            "max_height": null,
            "max_width": null,
            "min_height": null,
            "min_width": null,
            "object_fit": null,
            "object_position": null,
            "order": null,
            "overflow": null,
            "overflow_x": null,
            "overflow_y": null,
            "padding": null,
            "right": null,
            "top": null,
            "visibility": null,
            "width": null
          }
        },
        "3e2baccfd2d44b9ba9ad44e11950c2cc": {
          "model_module": "@jupyter-widgets/controls",
          "model_name": "DescriptionStyleModel",
          "model_module_version": "1.5.0",
          "state": {
            "_model_module": "@jupyter-widgets/controls",
            "_model_module_version": "1.5.0",
            "_model_name": "DescriptionStyleModel",
            "_view_count": null,
            "_view_module": "@jupyter-widgets/base",
            "_view_module_version": "1.2.0",
            "_view_name": "StyleView",
            "description_width": ""
          }
        },
        "fcf298eb586b48c69a6dea044a05e4dc": {
          "model_module": "@jupyter-widgets/controls",
          "model_name": "HBoxModel",
          "model_module_version": "1.5.0",
          "state": {
            "_dom_classes": [],
            "_model_module": "@jupyter-widgets/controls",
            "_model_module_version": "1.5.0",
            "_model_name": "HBoxModel",
            "_view_count": null,
            "_view_module": "@jupyter-widgets/controls",
            "_view_module_version": "1.5.0",
            "_view_name": "HBoxView",
            "box_style": "",
            "children": [
              "IPY_MODEL_212ab6dd4d3643a8a0d9ce4395dd456b",
              "IPY_MODEL_3cd3aebc13b644e5b861eb200a89f546",
              "IPY_MODEL_6ce3f157f83e41da8c755139329c9af3"
            ],
            "layout": "IPY_MODEL_7c97dcfaeb1448b6b4557db977acbd47"
          }
        },
        "212ab6dd4d3643a8a0d9ce4395dd456b": {
          "model_module": "@jupyter-widgets/controls",
          "model_name": "HTMLModel",
          "model_module_version": "1.5.0",
          "state": {
            "_dom_classes": [],
            "_model_module": "@jupyter-widgets/controls",
            "_model_module_version": "1.5.0",
            "_model_name": "HTMLModel",
            "_view_count": null,
            "_view_module": "@jupyter-widgets/controls",
            "_view_module_version": "1.5.0",
            "_view_name": "HTMLView",
            "description": "",
            "description_tooltip": null,
            "layout": "IPY_MODEL_36a9de0e220340218d20852b0097eb3e",
            "placeholder": "​",
            "style": "IPY_MODEL_85e9582d5dfb46ae9b2465b1d6864254",
            "value": "added_tokens.json: 100%"
          }
        },
        "3cd3aebc13b644e5b861eb200a89f546": {
          "model_module": "@jupyter-widgets/controls",
          "model_name": "FloatProgressModel",
          "model_module_version": "1.5.0",
          "state": {
            "_dom_classes": [],
            "_model_module": "@jupyter-widgets/controls",
            "_model_module_version": "1.5.0",
            "_model_name": "FloatProgressModel",
            "_view_count": null,
            "_view_module": "@jupyter-widgets/controls",
            "_view_module_version": "1.5.0",
            "_view_name": "ProgressView",
            "bar_style": "success",
            "description": "",
            "description_tooltip": null,
            "layout": "IPY_MODEL_74f37b7410e8476c8bf4a2e4424645f8",
            "max": 293,
            "min": 0,
            "orientation": "horizontal",
            "style": "IPY_MODEL_9e3baaacc0674d03968ada4619067db1",
            "value": 293
          }
        },
        "6ce3f157f83e41da8c755139329c9af3": {
          "model_module": "@jupyter-widgets/controls",
          "model_name": "HTMLModel",
          "model_module_version": "1.5.0",
          "state": {
            "_dom_classes": [],
            "_model_module": "@jupyter-widgets/controls",
            "_model_module_version": "1.5.0",
            "_model_name": "HTMLModel",
            "_view_count": null,
            "_view_module": "@jupyter-widgets/controls",
            "_view_module_version": "1.5.0",
            "_view_name": "HTMLView",
            "description": "",
            "description_tooltip": null,
            "layout": "IPY_MODEL_4300c29172024169b9575c5de809beda",
            "placeholder": "​",
            "style": "IPY_MODEL_b3a1c794aa7d4e3890fbf3c71a3e2fea",
            "value": " 293/293 [00:00&lt;00:00, 9.69kB/s]"
          }
        },
        "7c97dcfaeb1448b6b4557db977acbd47": {
          "model_module": "@jupyter-widgets/base",
          "model_name": "LayoutModel",
          "model_module_version": "1.2.0",
          "state": {
            "_model_module": "@jupyter-widgets/base",
            "_model_module_version": "1.2.0",
            "_model_name": "LayoutModel",
            "_view_count": null,
            "_view_module": "@jupyter-widgets/base",
            "_view_module_version": "1.2.0",
            "_view_name": "LayoutView",
            "align_content": null,
            "align_items": null,
            "align_self": null,
            "border": null,
            "bottom": null,
            "display": null,
            "flex": null,
            "flex_flow": null,
            "grid_area": null,
            "grid_auto_columns": null,
            "grid_auto_flow": null,
            "grid_auto_rows": null,
            "grid_column": null,
            "grid_gap": null,
            "grid_row": null,
            "grid_template_areas": null,
            "grid_template_columns": null,
            "grid_template_rows": null,
            "height": null,
            "justify_content": null,
            "justify_items": null,
            "left": null,
            "margin": null,
            "max_height": null,
            "max_width": null,
            "min_height": null,
            "min_width": null,
            "object_fit": null,
            "object_position": null,
            "order": null,
            "overflow": null,
            "overflow_x": null,
            "overflow_y": null,
            "padding": null,
            "right": null,
            "top": null,
            "visibility": null,
            "width": null
          }
        },
        "36a9de0e220340218d20852b0097eb3e": {
          "model_module": "@jupyter-widgets/base",
          "model_name": "LayoutModel",
          "model_module_version": "1.2.0",
          "state": {
            "_model_module": "@jupyter-widgets/base",
            "_model_module_version": "1.2.0",
            "_model_name": "LayoutModel",
            "_view_count": null,
            "_view_module": "@jupyter-widgets/base",
            "_view_module_version": "1.2.0",
            "_view_name": "LayoutView",
            "align_content": null,
            "align_items": null,
            "align_self": null,
            "border": null,
            "bottom": null,
            "display": null,
            "flex": null,
            "flex_flow": null,
            "grid_area": null,
            "grid_auto_columns": null,
            "grid_auto_flow": null,
            "grid_auto_rows": null,
            "grid_column": null,
            "grid_gap": null,
            "grid_row": null,
            "grid_template_areas": null,
            "grid_template_columns": null,
            "grid_template_rows": null,
            "height": null,
            "justify_content": null,
            "justify_items": null,
            "left": null,
            "margin": null,
            "max_height": null,
            "max_width": null,
            "min_height": null,
            "min_width": null,
            "object_fit": null,
            "object_position": null,
            "order": null,
            "overflow": null,
            "overflow_x": null,
            "overflow_y": null,
            "padding": null,
            "right": null,
            "top": null,
            "visibility": null,
            "width": null
          }
        },
        "85e9582d5dfb46ae9b2465b1d6864254": {
          "model_module": "@jupyter-widgets/controls",
          "model_name": "DescriptionStyleModel",
          "model_module_version": "1.5.0",
          "state": {
            "_model_module": "@jupyter-widgets/controls",
            "_model_module_version": "1.5.0",
            "_model_name": "DescriptionStyleModel",
            "_view_count": null,
            "_view_module": "@jupyter-widgets/base",
            "_view_module_version": "1.2.0",
            "_view_name": "StyleView",
            "description_width": ""
          }
        },
        "74f37b7410e8476c8bf4a2e4424645f8": {
          "model_module": "@jupyter-widgets/base",
          "model_name": "LayoutModel",
          "model_module_version": "1.2.0",
          "state": {
            "_model_module": "@jupyter-widgets/base",
            "_model_module_version": "1.2.0",
            "_model_name": "LayoutModel",
            "_view_count": null,
            "_view_module": "@jupyter-widgets/base",
            "_view_module_version": "1.2.0",
            "_view_name": "LayoutView",
            "align_content": null,
            "align_items": null,
            "align_self": null,
            "border": null,
            "bottom": null,
            "display": null,
            "flex": null,
            "flex_flow": null,
            "grid_area": null,
            "grid_auto_columns": null,
            "grid_auto_flow": null,
            "grid_auto_rows": null,
            "grid_column": null,
            "grid_gap": null,
            "grid_row": null,
            "grid_template_areas": null,
            "grid_template_columns": null,
            "grid_template_rows": null,
            "height": null,
            "justify_content": null,
            "justify_items": null,
            "left": null,
            "margin": null,
            "max_height": null,
            "max_width": null,
            "min_height": null,
            "min_width": null,
            "object_fit": null,
            "object_position": null,
            "order": null,
            "overflow": null,
            "overflow_x": null,
            "overflow_y": null,
            "padding": null,
            "right": null,
            "top": null,
            "visibility": null,
            "width": null
          }
        },
        "9e3baaacc0674d03968ada4619067db1": {
          "model_module": "@jupyter-widgets/controls",
          "model_name": "ProgressStyleModel",
          "model_module_version": "1.5.0",
          "state": {
            "_model_module": "@jupyter-widgets/controls",
            "_model_module_version": "1.5.0",
            "_model_name": "ProgressStyleModel",
            "_view_count": null,
            "_view_module": "@jupyter-widgets/base",
            "_view_module_version": "1.2.0",
            "_view_name": "StyleView",
            "bar_color": null,
            "description_width": ""
          }
        },
        "4300c29172024169b9575c5de809beda": {
          "model_module": "@jupyter-widgets/base",
          "model_name": "LayoutModel",
          "model_module_version": "1.2.0",
          "state": {
            "_model_module": "@jupyter-widgets/base",
            "_model_module_version": "1.2.0",
            "_model_name": "LayoutModel",
            "_view_count": null,
            "_view_module": "@jupyter-widgets/base",
            "_view_module_version": "1.2.0",
            "_view_name": "LayoutView",
            "align_content": null,
            "align_items": null,
            "align_self": null,
            "border": null,
            "bottom": null,
            "display": null,
            "flex": null,
            "flex_flow": null,
            "grid_area": null,
            "grid_auto_columns": null,
            "grid_auto_flow": null,
            "grid_auto_rows": null,
            "grid_column": null,
            "grid_gap": null,
            "grid_row": null,
            "grid_template_areas": null,
            "grid_template_columns": null,
            "grid_template_rows": null,
            "height": null,
            "justify_content": null,
            "justify_items": null,
            "left": null,
            "margin": null,
            "max_height": null,
            "max_width": null,
            "min_height": null,
            "min_width": null,
            "object_fit": null,
            "object_position": null,
            "order": null,
            "overflow": null,
            "overflow_x": null,
            "overflow_y": null,
            "padding": null,
            "right": null,
            "top": null,
            "visibility": null,
            "width": null
          }
        },
        "b3a1c794aa7d4e3890fbf3c71a3e2fea": {
          "model_module": "@jupyter-widgets/controls",
          "model_name": "DescriptionStyleModel",
          "model_module_version": "1.5.0",
          "state": {
            "_model_module": "@jupyter-widgets/controls",
            "_model_module_version": "1.5.0",
            "_model_name": "DescriptionStyleModel",
            "_view_count": null,
            "_view_module": "@jupyter-widgets/base",
            "_view_module_version": "1.2.0",
            "_view_name": "StyleView",
            "description_width": ""
          }
        },
        "79b153493d2e4223b48783216113cdd2": {
          "model_module": "@jupyter-widgets/controls",
          "model_name": "HBoxModel",
          "model_module_version": "1.5.0",
          "state": {
            "_dom_classes": [],
            "_model_module": "@jupyter-widgets/controls",
            "_model_module_version": "1.5.0",
            "_model_name": "HBoxModel",
            "_view_count": null,
            "_view_module": "@jupyter-widgets/controls",
            "_view_module_version": "1.5.0",
            "_view_name": "HBoxView",
            "box_style": "",
            "children": [
              "IPY_MODEL_d95118604b144e70838ca02afcd96f9d",
              "IPY_MODEL_2dcafe9e9f1e413cbcfbc0a98913e4a5",
              "IPY_MODEL_7505e7d5eefa489c8f06989b89fc7855"
            ],
            "layout": "IPY_MODEL_10c5466d257941bbae3e69b14a16d0b9"
          }
        },
        "d95118604b144e70838ca02afcd96f9d": {
          "model_module": "@jupyter-widgets/controls",
          "model_name": "HTMLModel",
          "model_module_version": "1.5.0",
          "state": {
            "_dom_classes": [],
            "_model_module": "@jupyter-widgets/controls",
            "_model_module_version": "1.5.0",
            "_model_name": "HTMLModel",
            "_view_count": null,
            "_view_module": "@jupyter-widgets/controls",
            "_view_module_version": "1.5.0",
            "_view_name": "HTMLView",
            "description": "",
            "description_tooltip": null,
            "layout": "IPY_MODEL_3271b31b25974ff2b884c9775fa5cd39",
            "placeholder": "​",
            "style": "IPY_MODEL_069061bce3544b3280eee2b16525e60f",
            "value": "special_tokens_map.json: 100%"
          }
        },
        "2dcafe9e9f1e413cbcfbc0a98913e4a5": {
          "model_module": "@jupyter-widgets/controls",
          "model_name": "FloatProgressModel",
          "model_module_version": "1.5.0",
          "state": {
            "_dom_classes": [],
            "_model_module": "@jupyter-widgets/controls",
            "_model_module_version": "1.5.0",
            "_model_name": "FloatProgressModel",
            "_view_count": null,
            "_view_module": "@jupyter-widgets/controls",
            "_view_module_version": "1.5.0",
            "_view_name": "ProgressView",
            "bar_style": "success",
            "description": "",
            "description_tooltip": null,
            "layout": "IPY_MODEL_beece708579f436abb95a555152b74ac",
            "max": 571,
            "min": 0,
            "orientation": "horizontal",
            "style": "IPY_MODEL_2a289f10d79443b68bf51f8c101e30af",
            "value": 571
          }
        },
        "7505e7d5eefa489c8f06989b89fc7855": {
          "model_module": "@jupyter-widgets/controls",
          "model_name": "HTMLModel",
          "model_module_version": "1.5.0",
          "state": {
            "_dom_classes": [],
            "_model_module": "@jupyter-widgets/controls",
            "_model_module_version": "1.5.0",
            "_model_name": "HTMLModel",
            "_view_count": null,
            "_view_module": "@jupyter-widgets/controls",
            "_view_module_version": "1.5.0",
            "_view_name": "HTMLView",
            "description": "",
            "description_tooltip": null,
            "layout": "IPY_MODEL_d8c84f6094cf4247b9798920aef2cfd6",
            "placeholder": "​",
            "style": "IPY_MODEL_212b37b5e6294e6aae58c856f1617c6f",
            "value": " 571/571 [00:00&lt;00:00, 30.5kB/s]"
          }
        },
        "10c5466d257941bbae3e69b14a16d0b9": {
          "model_module": "@jupyter-widgets/base",
          "model_name": "LayoutModel",
          "model_module_version": "1.2.0",
          "state": {
            "_model_module": "@jupyter-widgets/base",
            "_model_module_version": "1.2.0",
            "_model_name": "LayoutModel",
            "_view_count": null,
            "_view_module": "@jupyter-widgets/base",
            "_view_module_version": "1.2.0",
            "_view_name": "LayoutView",
            "align_content": null,
            "align_items": null,
            "align_self": null,
            "border": null,
            "bottom": null,
            "display": null,
            "flex": null,
            "flex_flow": null,
            "grid_area": null,
            "grid_auto_columns": null,
            "grid_auto_flow": null,
            "grid_auto_rows": null,
            "grid_column": null,
            "grid_gap": null,
            "grid_row": null,
            "grid_template_areas": null,
            "grid_template_columns": null,
            "grid_template_rows": null,
            "height": null,
            "justify_content": null,
            "justify_items": null,
            "left": null,
            "margin": null,
            "max_height": null,
            "max_width": null,
            "min_height": null,
            "min_width": null,
            "object_fit": null,
            "object_position": null,
            "order": null,
            "overflow": null,
            "overflow_x": null,
            "overflow_y": null,
            "padding": null,
            "right": null,
            "top": null,
            "visibility": null,
            "width": null
          }
        },
        "3271b31b25974ff2b884c9775fa5cd39": {
          "model_module": "@jupyter-widgets/base",
          "model_name": "LayoutModel",
          "model_module_version": "1.2.0",
          "state": {
            "_model_module": "@jupyter-widgets/base",
            "_model_module_version": "1.2.0",
            "_model_name": "LayoutModel",
            "_view_count": null,
            "_view_module": "@jupyter-widgets/base",
            "_view_module_version": "1.2.0",
            "_view_name": "LayoutView",
            "align_content": null,
            "align_items": null,
            "align_self": null,
            "border": null,
            "bottom": null,
            "display": null,
            "flex": null,
            "flex_flow": null,
            "grid_area": null,
            "grid_auto_columns": null,
            "grid_auto_flow": null,
            "grid_auto_rows": null,
            "grid_column": null,
            "grid_gap": null,
            "grid_row": null,
            "grid_template_areas": null,
            "grid_template_columns": null,
            "grid_template_rows": null,
            "height": null,
            "justify_content": null,
            "justify_items": null,
            "left": null,
            "margin": null,
            "max_height": null,
            "max_width": null,
            "min_height": null,
            "min_width": null,
            "object_fit": null,
            "object_position": null,
            "order": null,
            "overflow": null,
            "overflow_x": null,
            "overflow_y": null,
            "padding": null,
            "right": null,
            "top": null,
            "visibility": null,
            "width": null
          }
        },
        "069061bce3544b3280eee2b16525e60f": {
          "model_module": "@jupyter-widgets/controls",
          "model_name": "DescriptionStyleModel",
          "model_module_version": "1.5.0",
          "state": {
            "_model_module": "@jupyter-widgets/controls",
            "_model_module_version": "1.5.0",
            "_model_name": "DescriptionStyleModel",
            "_view_count": null,
            "_view_module": "@jupyter-widgets/base",
            "_view_module_version": "1.2.0",
            "_view_name": "StyleView",
            "description_width": ""
          }
        },
        "beece708579f436abb95a555152b74ac": {
          "model_module": "@jupyter-widgets/base",
          "model_name": "LayoutModel",
          "model_module_version": "1.2.0",
          "state": {
            "_model_module": "@jupyter-widgets/base",
            "_model_module_version": "1.2.0",
            "_model_name": "LayoutModel",
            "_view_count": null,
            "_view_module": "@jupyter-widgets/base",
            "_view_module_version": "1.2.0",
            "_view_name": "LayoutView",
            "align_content": null,
            "align_items": null,
            "align_self": null,
            "border": null,
            "bottom": null,
            "display": null,
            "flex": null,
            "flex_flow": null,
            "grid_area": null,
            "grid_auto_columns": null,
            "grid_auto_flow": null,
            "grid_auto_rows": null,
            "grid_column": null,
            "grid_gap": null,
            "grid_row": null,
            "grid_template_areas": null,
            "grid_template_columns": null,
            "grid_template_rows": null,
            "height": null,
            "justify_content": null,
            "justify_items": null,
            "left": null,
            "margin": null,
            "max_height": null,
            "max_width": null,
            "min_height": null,
            "min_width": null,
            "object_fit": null,
            "object_position": null,
            "order": null,
            "overflow": null,
            "overflow_x": null,
            "overflow_y": null,
            "padding": null,
            "right": null,
            "top": null,
            "visibility": null,
            "width": null
          }
        },
        "2a289f10d79443b68bf51f8c101e30af": {
          "model_module": "@jupyter-widgets/controls",
          "model_name": "ProgressStyleModel",
          "model_module_version": "1.5.0",
          "state": {
            "_model_module": "@jupyter-widgets/controls",
            "_model_module_version": "1.5.0",
            "_model_name": "ProgressStyleModel",
            "_view_count": null,
            "_view_module": "@jupyter-widgets/base",
            "_view_module_version": "1.2.0",
            "_view_name": "StyleView",
            "bar_color": null,
            "description_width": ""
          }
        },
        "d8c84f6094cf4247b9798920aef2cfd6": {
          "model_module": "@jupyter-widgets/base",
          "model_name": "LayoutModel",
          "model_module_version": "1.2.0",
          "state": {
            "_model_module": "@jupyter-widgets/base",
            "_model_module_version": "1.2.0",
            "_model_name": "LayoutModel",
            "_view_count": null,
            "_view_module": "@jupyter-widgets/base",
            "_view_module_version": "1.2.0",
            "_view_name": "LayoutView",
            "align_content": null,
            "align_items": null,
            "align_self": null,
            "border": null,
            "bottom": null,
            "display": null,
            "flex": null,
            "flex_flow": null,
            "grid_area": null,
            "grid_auto_columns": null,
            "grid_auto_flow": null,
            "grid_auto_rows": null,
            "grid_column": null,
            "grid_gap": null,
            "grid_row": null,
            "grid_template_areas": null,
            "grid_template_columns": null,
            "grid_template_rows": null,
            "height": null,
            "justify_content": null,
            "justify_items": null,
            "left": null,
            "margin": null,
            "max_height": null,
            "max_width": null,
            "min_height": null,
            "min_width": null,
            "object_fit": null,
            "object_position": null,
            "order": null,
            "overflow": null,
            "overflow_x": null,
            "overflow_y": null,
            "padding": null,
            "right": null,
            "top": null,
            "visibility": null,
            "width": null
          }
        },
        "212b37b5e6294e6aae58c856f1617c6f": {
          "model_module": "@jupyter-widgets/controls",
          "model_name": "DescriptionStyleModel",
          "model_module_version": "1.5.0",
          "state": {
            "_model_module": "@jupyter-widgets/controls",
            "_model_module_version": "1.5.0",
            "_model_name": "DescriptionStyleModel",
            "_view_count": null,
            "_view_module": "@jupyter-widgets/base",
            "_view_module_version": "1.2.0",
            "_view_name": "StyleView",
            "description_width": ""
          }
        },
        "c0c1a18048804ecfaf3f4db37298d1df": {
          "model_module": "@jupyter-widgets/controls",
          "model_name": "HBoxModel",
          "model_module_version": "1.5.0",
          "state": {
            "_dom_classes": [],
            "_model_module": "@jupyter-widgets/controls",
            "_model_module_version": "1.5.0",
            "_model_name": "HBoxModel",
            "_view_count": null,
            "_view_module": "@jupyter-widgets/controls",
            "_view_module_version": "1.5.0",
            "_view_name": "HBoxView",
            "box_style": "",
            "children": [
              "IPY_MODEL_c0d4fa25c25841cf8af1e15538914d99",
              "IPY_MODEL_eb3765978b2945299aabbd050f8b6916",
              "IPY_MODEL_863fb603743f40a4ac75e40ea4ee235f"
            ],
            "layout": "IPY_MODEL_87958a6f492843a4a23d59f481478523"
          }
        },
        "c0d4fa25c25841cf8af1e15538914d99": {
          "model_module": "@jupyter-widgets/controls",
          "model_name": "HTMLModel",
          "model_module_version": "1.5.0",
          "state": {
            "_dom_classes": [],
            "_model_module": "@jupyter-widgets/controls",
            "_model_module_version": "1.5.0",
            "_model_name": "HTMLModel",
            "_view_count": null,
            "_view_module": "@jupyter-widgets/controls",
            "_view_module_version": "1.5.0",
            "_view_name": "HTMLView",
            "description": "",
            "description_tooltip": null,
            "layout": "IPY_MODEL_eff075cae2a249fcbb93c0c0ca115481",
            "placeholder": "​",
            "style": "IPY_MODEL_481deee013cd49c99543d1b7f8ee2137",
            "value": "tokenizer.json: 100%"
          }
        },
        "eb3765978b2945299aabbd050f8b6916": {
          "model_module": "@jupyter-widgets/controls",
          "model_name": "FloatProgressModel",
          "model_module_version": "1.5.0",
          "state": {
            "_dom_classes": [],
            "_model_module": "@jupyter-widgets/controls",
            "_model_module_version": "1.5.0",
            "_model_name": "FloatProgressModel",
            "_view_count": null,
            "_view_module": "@jupyter-widgets/controls",
            "_view_module_version": "1.5.0",
            "_view_name": "ProgressView",
            "bar_style": "success",
            "description": "",
            "description_tooltip": null,
            "layout": "IPY_MODEL_f9fdf58eeda4488a9f41c036ab47dec1",
            "max": 1844436,
            "min": 0,
            "orientation": "horizontal",
            "style": "IPY_MODEL_2a800abe6aec4667bf609a804db62951",
            "value": 1844436
          }
        },
        "863fb603743f40a4ac75e40ea4ee235f": {
          "model_module": "@jupyter-widgets/controls",
          "model_name": "HTMLModel",
          "model_module_version": "1.5.0",
          "state": {
            "_dom_classes": [],
            "_model_module": "@jupyter-widgets/controls",
            "_model_module_version": "1.5.0",
            "_model_name": "HTMLModel",
            "_view_count": null,
            "_view_module": "@jupyter-widgets/controls",
            "_view_module_version": "1.5.0",
            "_view_name": "HTMLView",
            "description": "",
            "description_tooltip": null,
            "layout": "IPY_MODEL_836d7df717124ff49a03d79bd4fe8442",
            "placeholder": "​",
            "style": "IPY_MODEL_202a0e5931574b57877bf9af85a2c675",
            "value": " 1.84M/1.84M [00:00&lt;00:00, 7.08MB/s]"
          }
        },
        "87958a6f492843a4a23d59f481478523": {
          "model_module": "@jupyter-widgets/base",
          "model_name": "LayoutModel",
          "model_module_version": "1.2.0",
          "state": {
            "_model_module": "@jupyter-widgets/base",
            "_model_module_version": "1.2.0",
            "_model_name": "LayoutModel",
            "_view_count": null,
            "_view_module": "@jupyter-widgets/base",
            "_view_module_version": "1.2.0",
            "_view_name": "LayoutView",
            "align_content": null,
            "align_items": null,
            "align_self": null,
            "border": null,
            "bottom": null,
            "display": null,
            "flex": null,
            "flex_flow": null,
            "grid_area": null,
            "grid_auto_columns": null,
            "grid_auto_flow": null,
            "grid_auto_rows": null,
            "grid_column": null,
            "grid_gap": null,
            "grid_row": null,
            "grid_template_areas": null,
            "grid_template_columns": null,
            "grid_template_rows": null,
            "height": null,
            "justify_content": null,
            "justify_items": null,
            "left": null,
            "margin": null,
            "max_height": null,
            "max_width": null,
            "min_height": null,
            "min_width": null,
            "object_fit": null,
            "object_position": null,
            "order": null,
            "overflow": null,
            "overflow_x": null,
            "overflow_y": null,
            "padding": null,
            "right": null,
            "top": null,
            "visibility": null,
            "width": null
          }
        },
        "eff075cae2a249fcbb93c0c0ca115481": {
          "model_module": "@jupyter-widgets/base",
          "model_name": "LayoutModel",
          "model_module_version": "1.2.0",
          "state": {
            "_model_module": "@jupyter-widgets/base",
            "_model_module_version": "1.2.0",
            "_model_name": "LayoutModel",
            "_view_count": null,
            "_view_module": "@jupyter-widgets/base",
            "_view_module_version": "1.2.0",
            "_view_name": "LayoutView",
            "align_content": null,
            "align_items": null,
            "align_self": null,
            "border": null,
            "bottom": null,
            "display": null,
            "flex": null,
            "flex_flow": null,
            "grid_area": null,
            "grid_auto_columns": null,
            "grid_auto_flow": null,
            "grid_auto_rows": null,
            "grid_column": null,
            "grid_gap": null,
            "grid_row": null,
            "grid_template_areas": null,
            "grid_template_columns": null,
            "grid_template_rows": null,
            "height": null,
            "justify_content": null,
            "justify_items": null,
            "left": null,
            "margin": null,
            "max_height": null,
            "max_width": null,
            "min_height": null,
            "min_width": null,
            "object_fit": null,
            "object_position": null,
            "order": null,
            "overflow": null,
            "overflow_x": null,
            "overflow_y": null,
            "padding": null,
            "right": null,
            "top": null,
            "visibility": null,
            "width": null
          }
        },
        "481deee013cd49c99543d1b7f8ee2137": {
          "model_module": "@jupyter-widgets/controls",
          "model_name": "DescriptionStyleModel",
          "model_module_version": "1.5.0",
          "state": {
            "_model_module": "@jupyter-widgets/controls",
            "_model_module_version": "1.5.0",
            "_model_name": "DescriptionStyleModel",
            "_view_count": null,
            "_view_module": "@jupyter-widgets/base",
            "_view_module_version": "1.2.0",
            "_view_name": "StyleView",
            "description_width": ""
          }
        },
        "f9fdf58eeda4488a9f41c036ab47dec1": {
          "model_module": "@jupyter-widgets/base",
          "model_name": "LayoutModel",
          "model_module_version": "1.2.0",
          "state": {
            "_model_module": "@jupyter-widgets/base",
            "_model_module_version": "1.2.0",
            "_model_name": "LayoutModel",
            "_view_count": null,
            "_view_module": "@jupyter-widgets/base",
            "_view_module_version": "1.2.0",
            "_view_name": "LayoutView",
            "align_content": null,
            "align_items": null,
            "align_self": null,
            "border": null,
            "bottom": null,
            "display": null,
            "flex": null,
            "flex_flow": null,
            "grid_area": null,
            "grid_auto_columns": null,
            "grid_auto_flow": null,
            "grid_auto_rows": null,
            "grid_column": null,
            "grid_gap": null,
            "grid_row": null,
            "grid_template_areas": null,
            "grid_template_columns": null,
            "grid_template_rows": null,
            "height": null,
            "justify_content": null,
            "justify_items": null,
            "left": null,
            "margin": null,
            "max_height": null,
            "max_width": null,
            "min_height": null,
            "min_width": null,
            "object_fit": null,
            "object_position": null,
            "order": null,
            "overflow": null,
            "overflow_x": null,
            "overflow_y": null,
            "padding": null,
            "right": null,
            "top": null,
            "visibility": null,
            "width": null
          }
        },
        "2a800abe6aec4667bf609a804db62951": {
          "model_module": "@jupyter-widgets/controls",
          "model_name": "ProgressStyleModel",
          "model_module_version": "1.5.0",
          "state": {
            "_model_module": "@jupyter-widgets/controls",
            "_model_module_version": "1.5.0",
            "_model_name": "ProgressStyleModel",
            "_view_count": null,
            "_view_module": "@jupyter-widgets/base",
            "_view_module_version": "1.2.0",
            "_view_name": "StyleView",
            "bar_color": null,
            "description_width": ""
          }
        },
        "836d7df717124ff49a03d79bd4fe8442": {
          "model_module": "@jupyter-widgets/base",
          "model_name": "LayoutModel",
          "model_module_version": "1.2.0",
          "state": {
            "_model_module": "@jupyter-widgets/base",
            "_model_module_version": "1.2.0",
            "_model_name": "LayoutModel",
            "_view_count": null,
            "_view_module": "@jupyter-widgets/base",
            "_view_module_version": "1.2.0",
            "_view_name": "LayoutView",
            "align_content": null,
            "align_items": null,
            "align_self": null,
            "border": null,
            "bottom": null,
            "display": null,
            "flex": null,
            "flex_flow": null,
            "grid_area": null,
            "grid_auto_columns": null,
            "grid_auto_flow": null,
            "grid_auto_rows": null,
            "grid_column": null,
            "grid_gap": null,
            "grid_row": null,
            "grid_template_areas": null,
            "grid_template_columns": null,
            "grid_template_rows": null,
            "height": null,
            "justify_content": null,
            "justify_items": null,
            "left": null,
            "margin": null,
            "max_height": null,
            "max_width": null,
            "min_height": null,
            "min_width": null,
            "object_fit": null,
            "object_position": null,
            "order": null,
            "overflow": null,
            "overflow_x": null,
            "overflow_y": null,
            "padding": null,
            "right": null,
            "top": null,
            "visibility": null,
            "width": null
          }
        },
        "202a0e5931574b57877bf9af85a2c675": {
          "model_module": "@jupyter-widgets/controls",
          "model_name": "DescriptionStyleModel",
          "model_module_version": "1.5.0",
          "state": {
            "_model_module": "@jupyter-widgets/controls",
            "_model_module_version": "1.5.0",
            "_model_name": "DescriptionStyleModel",
            "_view_count": null,
            "_view_module": "@jupyter-widgets/base",
            "_view_module_version": "1.2.0",
            "_view_name": "StyleView",
            "description_width": ""
          }
        },
        "776fd7989af44551818883889f04432f": {
          "model_module": "@jupyter-widgets/controls",
          "model_name": "HBoxModel",
          "model_module_version": "1.5.0",
          "state": {
            "_dom_classes": [],
            "_model_module": "@jupyter-widgets/controls",
            "_model_module_version": "1.5.0",
            "_model_name": "HBoxModel",
            "_view_count": null,
            "_view_module": "@jupyter-widgets/controls",
            "_view_module_version": "1.5.0",
            "_view_name": "HBoxView",
            "box_style": "",
            "children": [
              "IPY_MODEL_eae256b728d642449abc0057de3f49ab",
              "IPY_MODEL_96cd0f9a9b894d549471b05a4c6774c2",
              "IPY_MODEL_3bbaffcc5e604947a23fae81a826c935"
            ],
            "layout": "IPY_MODEL_935689cbfd074af7b16e917cdc238d60"
          }
        },
        "eae256b728d642449abc0057de3f49ab": {
          "model_module": "@jupyter-widgets/controls",
          "model_name": "HTMLModel",
          "model_module_version": "1.5.0",
          "state": {
            "_dom_classes": [],
            "_model_module": "@jupyter-widgets/controls",
            "_model_module_version": "1.5.0",
            "_model_name": "HTMLModel",
            "_view_count": null,
            "_view_module": "@jupyter-widgets/controls",
            "_view_module_version": "1.5.0",
            "_view_name": "HTMLView",
            "description": "",
            "description_tooltip": null,
            "layout": "IPY_MODEL_7500388a32534cee939d08921efcac81",
            "placeholder": "​",
            "style": "IPY_MODEL_a16ddfd08e684012afb978ec42b2943d",
            "value": "Map: 100%"
          }
        },
        "96cd0f9a9b894d549471b05a4c6774c2": {
          "model_module": "@jupyter-widgets/controls",
          "model_name": "FloatProgressModel",
          "model_module_version": "1.5.0",
          "state": {
            "_dom_classes": [],
            "_model_module": "@jupyter-widgets/controls",
            "_model_module_version": "1.5.0",
            "_model_name": "FloatProgressModel",
            "_view_count": null,
            "_view_module": "@jupyter-widgets/controls",
            "_view_module_version": "1.5.0",
            "_view_name": "ProgressView",
            "bar_style": "success",
            "description": "",
            "description_tooltip": null,
            "layout": "IPY_MODEL_794c17e59967424d9f9b20ce8f495b4f",
            "max": 50000,
            "min": 0,
            "orientation": "horizontal",
            "style": "IPY_MODEL_f646b9a02d1543dfa55b08c4634961fe",
            "value": 50000
          }
        },
        "3bbaffcc5e604947a23fae81a826c935": {
          "model_module": "@jupyter-widgets/controls",
          "model_name": "HTMLModel",
          "model_module_version": "1.5.0",
          "state": {
            "_dom_classes": [],
            "_model_module": "@jupyter-widgets/controls",
            "_model_module_version": "1.5.0",
            "_model_name": "HTMLModel",
            "_view_count": null,
            "_view_module": "@jupyter-widgets/controls",
            "_view_module_version": "1.5.0",
            "_view_name": "HTMLView",
            "description": "",
            "description_tooltip": null,
            "layout": "IPY_MODEL_d7c14a8df53d4ecabc4ac23e2b84df3f",
            "placeholder": "​",
            "style": "IPY_MODEL_df09087ff8a240f2ba79e4f4e52d8f7f",
            "value": " 50000/50000 [00:06&lt;00:00, 7770.35 examples/s]"
          }
        },
        "935689cbfd074af7b16e917cdc238d60": {
          "model_module": "@jupyter-widgets/base",
          "model_name": "LayoutModel",
          "model_module_version": "1.2.0",
          "state": {
            "_model_module": "@jupyter-widgets/base",
            "_model_module_version": "1.2.0",
            "_model_name": "LayoutModel",
            "_view_count": null,
            "_view_module": "@jupyter-widgets/base",
            "_view_module_version": "1.2.0",
            "_view_name": "LayoutView",
            "align_content": null,
            "align_items": null,
            "align_self": null,
            "border": null,
            "bottom": null,
            "display": null,
            "flex": null,
            "flex_flow": null,
            "grid_area": null,
            "grid_auto_columns": null,
            "grid_auto_flow": null,
            "grid_auto_rows": null,
            "grid_column": null,
            "grid_gap": null,
            "grid_row": null,
            "grid_template_areas": null,
            "grid_template_columns": null,
            "grid_template_rows": null,
            "height": null,
            "justify_content": null,
            "justify_items": null,
            "left": null,
            "margin": null,
            "max_height": null,
            "max_width": null,
            "min_height": null,
            "min_width": null,
            "object_fit": null,
            "object_position": null,
            "order": null,
            "overflow": null,
            "overflow_x": null,
            "overflow_y": null,
            "padding": null,
            "right": null,
            "top": null,
            "visibility": null,
            "width": null
          }
        },
        "7500388a32534cee939d08921efcac81": {
          "model_module": "@jupyter-widgets/base",
          "model_name": "LayoutModel",
          "model_module_version": "1.2.0",
          "state": {
            "_model_module": "@jupyter-widgets/base",
            "_model_module_version": "1.2.0",
            "_model_name": "LayoutModel",
            "_view_count": null,
            "_view_module": "@jupyter-widgets/base",
            "_view_module_version": "1.2.0",
            "_view_name": "LayoutView",
            "align_content": null,
            "align_items": null,
            "align_self": null,
            "border": null,
            "bottom": null,
            "display": null,
            "flex": null,
            "flex_flow": null,
            "grid_area": null,
            "grid_auto_columns": null,
            "grid_auto_flow": null,
            "grid_auto_rows": null,
            "grid_column": null,
            "grid_gap": null,
            "grid_row": null,
            "grid_template_areas": null,
            "grid_template_columns": null,
            "grid_template_rows": null,
            "height": null,
            "justify_content": null,
            "justify_items": null,
            "left": null,
            "margin": null,
            "max_height": null,
            "max_width": null,
            "min_height": null,
            "min_width": null,
            "object_fit": null,
            "object_position": null,
            "order": null,
            "overflow": null,
            "overflow_x": null,
            "overflow_y": null,
            "padding": null,
            "right": null,
            "top": null,
            "visibility": null,
            "width": null
          }
        },
        "a16ddfd08e684012afb978ec42b2943d": {
          "model_module": "@jupyter-widgets/controls",
          "model_name": "DescriptionStyleModel",
          "model_module_version": "1.5.0",
          "state": {
            "_model_module": "@jupyter-widgets/controls",
            "_model_module_version": "1.5.0",
            "_model_name": "DescriptionStyleModel",
            "_view_count": null,
            "_view_module": "@jupyter-widgets/base",
            "_view_module_version": "1.2.0",
            "_view_name": "StyleView",
            "description_width": ""
          }
        },
        "794c17e59967424d9f9b20ce8f495b4f": {
          "model_module": "@jupyter-widgets/base",
          "model_name": "LayoutModel",
          "model_module_version": "1.2.0",
          "state": {
            "_model_module": "@jupyter-widgets/base",
            "_model_module_version": "1.2.0",
            "_model_name": "LayoutModel",
            "_view_count": null,
            "_view_module": "@jupyter-widgets/base",
            "_view_module_version": "1.2.0",
            "_view_name": "LayoutView",
            "align_content": null,
            "align_items": null,
            "align_self": null,
            "border": null,
            "bottom": null,
            "display": null,
            "flex": null,
            "flex_flow": null,
            "grid_area": null,
            "grid_auto_columns": null,
            "grid_auto_flow": null,
            "grid_auto_rows": null,
            "grid_column": null,
            "grid_gap": null,
            "grid_row": null,
            "grid_template_areas": null,
            "grid_template_columns": null,
            "grid_template_rows": null,
            "height": null,
            "justify_content": null,
            "justify_items": null,
            "left": null,
            "margin": null,
            "max_height": null,
            "max_width": null,
            "min_height": null,
            "min_width": null,
            "object_fit": null,
            "object_position": null,
            "order": null,
            "overflow": null,
            "overflow_x": null,
            "overflow_y": null,
            "padding": null,
            "right": null,
            "top": null,
            "visibility": null,
            "width": null
          }
        },
        "f646b9a02d1543dfa55b08c4634961fe": {
          "model_module": "@jupyter-widgets/controls",
          "model_name": "ProgressStyleModel",
          "model_module_version": "1.5.0",
          "state": {
            "_model_module": "@jupyter-widgets/controls",
            "_model_module_version": "1.5.0",
            "_model_name": "ProgressStyleModel",
            "_view_count": null,
            "_view_module": "@jupyter-widgets/base",
            "_view_module_version": "1.2.0",
            "_view_name": "StyleView",
            "bar_color": null,
            "description_width": ""
          }
        },
        "d7c14a8df53d4ecabc4ac23e2b84df3f": {
          "model_module": "@jupyter-widgets/base",
          "model_name": "LayoutModel",
          "model_module_version": "1.2.0",
          "state": {
            "_model_module": "@jupyter-widgets/base",
            "_model_module_version": "1.2.0",
            "_model_name": "LayoutModel",
            "_view_count": null,
            "_view_module": "@jupyter-widgets/base",
            "_view_module_version": "1.2.0",
            "_view_name": "LayoutView",
            "align_content": null,
            "align_items": null,
            "align_self": null,
            "border": null,
            "bottom": null,
            "display": null,
            "flex": null,
            "flex_flow": null,
            "grid_area": null,
            "grid_auto_columns": null,
            "grid_auto_flow": null,
            "grid_auto_rows": null,
            "grid_column": null,
            "grid_gap": null,
            "grid_row": null,
            "grid_template_areas": null,
            "grid_template_columns": null,
            "grid_template_rows": null,
            "height": null,
            "justify_content": null,
            "justify_items": null,
            "left": null,
            "margin": null,
            "max_height": null,
            "max_width": null,
            "min_height": null,
            "min_width": null,
            "object_fit": null,
            "object_position": null,
            "order": null,
            "overflow": null,
            "overflow_x": null,
            "overflow_y": null,
            "padding": null,
            "right": null,
            "top": null,
            "visibility": null,
            "width": null
          }
        },
        "df09087ff8a240f2ba79e4f4e52d8f7f": {
          "model_module": "@jupyter-widgets/controls",
          "model_name": "DescriptionStyleModel",
          "model_module_version": "1.5.0",
          "state": {
            "_model_module": "@jupyter-widgets/controls",
            "_model_module_version": "1.5.0",
            "_model_name": "DescriptionStyleModel",
            "_view_count": null,
            "_view_module": "@jupyter-widgets/base",
            "_view_module_version": "1.2.0",
            "_view_name": "StyleView",
            "description_width": ""
          }
        },
        "5ea30a53f3a84ce69971e3d921baafe6": {
          "model_module": "@jupyter-widgets/controls",
          "model_name": "HBoxModel",
          "model_module_version": "1.5.0",
          "state": {
            "_dom_classes": [],
            "_model_module": "@jupyter-widgets/controls",
            "_model_module_version": "1.5.0",
            "_model_name": "HBoxModel",
            "_view_count": null,
            "_view_module": "@jupyter-widgets/controls",
            "_view_module_version": "1.5.0",
            "_view_name": "HBoxView",
            "box_style": "",
            "children": [
              "IPY_MODEL_4ad0849278254260bc9f32ab478bbfbd",
              "IPY_MODEL_6decfafbb2c842e5a6b0b739c45f7cb4",
              "IPY_MODEL_85bd77b2979a453586bf155341acb9d2"
            ],
            "layout": "IPY_MODEL_87c8b2987d504016995b4432ec87bc2a"
          }
        },
        "4ad0849278254260bc9f32ab478bbfbd": {
          "model_module": "@jupyter-widgets/controls",
          "model_name": "HTMLModel",
          "model_module_version": "1.5.0",
          "state": {
            "_dom_classes": [],
            "_model_module": "@jupyter-widgets/controls",
            "_model_module_version": "1.5.0",
            "_model_name": "HTMLModel",
            "_view_count": null,
            "_view_module": "@jupyter-widgets/controls",
            "_view_module_version": "1.5.0",
            "_view_name": "HTMLView",
            "description": "",
            "description_tooltip": null,
            "layout": "IPY_MODEL_304abb77835649dab9b98c950a6f4df3",
            "placeholder": "​",
            "style": "IPY_MODEL_05a21a05d342426ca0384699d5a3ed43",
            "value": "Map (num_proc=2): 100%"
          }
        },
        "6decfafbb2c842e5a6b0b739c45f7cb4": {
          "model_module": "@jupyter-widgets/controls",
          "model_name": "FloatProgressModel",
          "model_module_version": "1.5.0",
          "state": {
            "_dom_classes": [],
            "_model_module": "@jupyter-widgets/controls",
            "_model_module_version": "1.5.0",
            "_model_name": "FloatProgressModel",
            "_view_count": null,
            "_view_module": "@jupyter-widgets/controls",
            "_view_module_version": "1.5.0",
            "_view_name": "ProgressView",
            "bar_style": "success",
            "description": "",
            "description_tooltip": null,
            "layout": "IPY_MODEL_45acf83be4ad4729a8ee669cda2fc027",
            "max": 50000,
            "min": 0,
            "orientation": "horizontal",
            "style": "IPY_MODEL_96b055fc74a9429d9220b2bb14cebd82",
            "value": 50000
          }
        },
        "85bd77b2979a453586bf155341acb9d2": {
          "model_module": "@jupyter-widgets/controls",
          "model_name": "HTMLModel",
          "model_module_version": "1.5.0",
          "state": {
            "_dom_classes": [],
            "_model_module": "@jupyter-widgets/controls",
            "_model_module_version": "1.5.0",
            "_model_name": "HTMLModel",
            "_view_count": null,
            "_view_module": "@jupyter-widgets/controls",
            "_view_module_version": "1.5.0",
            "_view_name": "HTMLView",
            "description": "",
            "description_tooltip": null,
            "layout": "IPY_MODEL_b9e6adae27f14febb1bf2cdcc71aa6aa",
            "placeholder": "​",
            "style": "IPY_MODEL_702f4b99afa44d47b6879ec0d9bd24fc",
            "value": " 50000/50000 [03:06&lt;00:00, 218.73 examples/s]"
          }
        },
        "87c8b2987d504016995b4432ec87bc2a": {
          "model_module": "@jupyter-widgets/base",
          "model_name": "LayoutModel",
          "model_module_version": "1.2.0",
          "state": {
            "_model_module": "@jupyter-widgets/base",
            "_model_module_version": "1.2.0",
            "_model_name": "LayoutModel",
            "_view_count": null,
            "_view_module": "@jupyter-widgets/base",
            "_view_module_version": "1.2.0",
            "_view_name": "LayoutView",
            "align_content": null,
            "align_items": null,
            "align_self": null,
            "border": null,
            "bottom": null,
            "display": null,
            "flex": null,
            "flex_flow": null,
            "grid_area": null,
            "grid_auto_columns": null,
            "grid_auto_flow": null,
            "grid_auto_rows": null,
            "grid_column": null,
            "grid_gap": null,
            "grid_row": null,
            "grid_template_areas": null,
            "grid_template_columns": null,
            "grid_template_rows": null,
            "height": null,
            "justify_content": null,
            "justify_items": null,
            "left": null,
            "margin": null,
            "max_height": null,
            "max_width": null,
            "min_height": null,
            "min_width": null,
            "object_fit": null,
            "object_position": null,
            "order": null,
            "overflow": null,
            "overflow_x": null,
            "overflow_y": null,
            "padding": null,
            "right": null,
            "top": null,
            "visibility": null,
            "width": null
          }
        },
        "304abb77835649dab9b98c950a6f4df3": {
          "model_module": "@jupyter-widgets/base",
          "model_name": "LayoutModel",
          "model_module_version": "1.2.0",
          "state": {
            "_model_module": "@jupyter-widgets/base",
            "_model_module_version": "1.2.0",
            "_model_name": "LayoutModel",
            "_view_count": null,
            "_view_module": "@jupyter-widgets/base",
            "_view_module_version": "1.2.0",
            "_view_name": "LayoutView",
            "align_content": null,
            "align_items": null,
            "align_self": null,
            "border": null,
            "bottom": null,
            "display": null,
            "flex": null,
            "flex_flow": null,
            "grid_area": null,
            "grid_auto_columns": null,
            "grid_auto_flow": null,
            "grid_auto_rows": null,
            "grid_column": null,
            "grid_gap": null,
            "grid_row": null,
            "grid_template_areas": null,
            "grid_template_columns": null,
            "grid_template_rows": null,
            "height": null,
            "justify_content": null,
            "justify_items": null,
            "left": null,
            "margin": null,
            "max_height": null,
            "max_width": null,
            "min_height": null,
            "min_width": null,
            "object_fit": null,
            "object_position": null,
            "order": null,
            "overflow": null,
            "overflow_x": null,
            "overflow_y": null,
            "padding": null,
            "right": null,
            "top": null,
            "visibility": null,
            "width": null
          }
        },
        "05a21a05d342426ca0384699d5a3ed43": {
          "model_module": "@jupyter-widgets/controls",
          "model_name": "DescriptionStyleModel",
          "model_module_version": "1.5.0",
          "state": {
            "_model_module": "@jupyter-widgets/controls",
            "_model_module_version": "1.5.0",
            "_model_name": "DescriptionStyleModel",
            "_view_count": null,
            "_view_module": "@jupyter-widgets/base",
            "_view_module_version": "1.2.0",
            "_view_name": "StyleView",
            "description_width": ""
          }
        },
        "45acf83be4ad4729a8ee669cda2fc027": {
          "model_module": "@jupyter-widgets/base",
          "model_name": "LayoutModel",
          "model_module_version": "1.2.0",
          "state": {
            "_model_module": "@jupyter-widgets/base",
            "_model_module_version": "1.2.0",
            "_model_name": "LayoutModel",
            "_view_count": null,
            "_view_module": "@jupyter-widgets/base",
            "_view_module_version": "1.2.0",
            "_view_name": "LayoutView",
            "align_content": null,
            "align_items": null,
            "align_self": null,
            "border": null,
            "bottom": null,
            "display": null,
            "flex": null,
            "flex_flow": null,
            "grid_area": null,
            "grid_auto_columns": null,
            "grid_auto_flow": null,
            "grid_auto_rows": null,
            "grid_column": null,
            "grid_gap": null,
            "grid_row": null,
            "grid_template_areas": null,
            "grid_template_columns": null,
            "grid_template_rows": null,
            "height": null,
            "justify_content": null,
            "justify_items": null,
            "left": null,
            "margin": null,
            "max_height": null,
            "max_width": null,
            "min_height": null,
            "min_width": null,
            "object_fit": null,
            "object_position": null,
            "order": null,
            "overflow": null,
            "overflow_x": null,
            "overflow_y": null,
            "padding": null,
            "right": null,
            "top": null,
            "visibility": null,
            "width": null
          }
        },
        "96b055fc74a9429d9220b2bb14cebd82": {
          "model_module": "@jupyter-widgets/controls",
          "model_name": "ProgressStyleModel",
          "model_module_version": "1.5.0",
          "state": {
            "_model_module": "@jupyter-widgets/controls",
            "_model_module_version": "1.5.0",
            "_model_name": "ProgressStyleModel",
            "_view_count": null,
            "_view_module": "@jupyter-widgets/base",
            "_view_module_version": "1.2.0",
            "_view_name": "StyleView",
            "bar_color": null,
            "description_width": ""
          }
        },
        "b9e6adae27f14febb1bf2cdcc71aa6aa": {
          "model_module": "@jupyter-widgets/base",
          "model_name": "LayoutModel",
          "model_module_version": "1.2.0",
          "state": {
            "_model_module": "@jupyter-widgets/base",
            "_model_module_version": "1.2.0",
            "_model_name": "LayoutModel",
            "_view_count": null,
            "_view_module": "@jupyter-widgets/base",
            "_view_module_version": "1.2.0",
            "_view_name": "LayoutView",
            "align_content": null,
            "align_items": null,
            "align_self": null,
            "border": null,
            "bottom": null,
            "display": null,
            "flex": null,
            "flex_flow": null,
            "grid_area": null,
            "grid_auto_columns": null,
            "grid_auto_flow": null,
            "grid_auto_rows": null,
            "grid_column": null,
            "grid_gap": null,
            "grid_row": null,
            "grid_template_areas": null,
            "grid_template_columns": null,
            "grid_template_rows": null,
            "height": null,
            "justify_content": null,
            "justify_items": null,
            "left": null,
            "margin": null,
            "max_height": null,
            "max_width": null,
            "min_height": null,
            "min_width": null,
            "object_fit": null,
            "object_position": null,
            "order": null,
            "overflow": null,
            "overflow_x": null,
            "overflow_y": null,
            "padding": null,
            "right": null,
            "top": null,
            "visibility": null,
            "width": null
          }
        },
        "702f4b99afa44d47b6879ec0d9bd24fc": {
          "model_module": "@jupyter-widgets/controls",
          "model_name": "DescriptionStyleModel",
          "model_module_version": "1.5.0",
          "state": {
            "_model_module": "@jupyter-widgets/controls",
            "_model_module_version": "1.5.0",
            "_model_name": "DescriptionStyleModel",
            "_view_count": null,
            "_view_module": "@jupyter-widgets/base",
            "_view_module_version": "1.2.0",
            "_view_name": "StyleView",
            "description_width": ""
          }
        },
        "b6ab00c719844661904e58e9860acd90": {
          "model_module": "@jupyter-widgets/controls",
          "model_name": "HBoxModel",
          "model_module_version": "1.5.0",
          "state": {
            "_dom_classes": [],
            "_model_module": "@jupyter-widgets/controls",
            "_model_module_version": "1.5.0",
            "_model_name": "HBoxModel",
            "_view_count": null,
            "_view_module": "@jupyter-widgets/controls",
            "_view_module_version": "1.5.0",
            "_view_name": "HBoxView",
            "box_style": "",
            "children": [
              "IPY_MODEL_217cc58a5c1a40989979ccf4fdf26abe",
              "IPY_MODEL_a2447daf7d02441c9f4c526e27dc1c77",
              "IPY_MODEL_5ac20f2c821a43a8a5c594bdd42aeb06"
            ],
            "layout": "IPY_MODEL_59182ce99e6045238bb7c76a91cc0f2c"
          }
        },
        "217cc58a5c1a40989979ccf4fdf26abe": {
          "model_module": "@jupyter-widgets/controls",
          "model_name": "HTMLModel",
          "model_module_version": "1.5.0",
          "state": {
            "_dom_classes": [],
            "_model_module": "@jupyter-widgets/controls",
            "_model_module_version": "1.5.0",
            "_model_name": "HTMLModel",
            "_view_count": null,
            "_view_module": "@jupyter-widgets/controls",
            "_view_module_version": "1.5.0",
            "_view_name": "HTMLView",
            "description": "",
            "description_tooltip": null,
            "layout": "IPY_MODEL_e4a5eb55d65b43cbb4c97c7f3026eeec",
            "placeholder": "​",
            "style": "IPY_MODEL_6036b31bcf764fd58bf6bf77f03620e8",
            "value": "Map: 100%"
          }
        },
        "a2447daf7d02441c9f4c526e27dc1c77": {
          "model_module": "@jupyter-widgets/controls",
          "model_name": "FloatProgressModel",
          "model_module_version": "1.5.0",
          "state": {
            "_dom_classes": [],
            "_model_module": "@jupyter-widgets/controls",
            "_model_module_version": "1.5.0",
            "_model_name": "FloatProgressModel",
            "_view_count": null,
            "_view_module": "@jupyter-widgets/controls",
            "_view_module_version": "1.5.0",
            "_view_name": "ProgressView",
            "bar_style": "success",
            "description": "",
            "description_tooltip": null,
            "layout": "IPY_MODEL_e68c75de08c348c0a0286c583d422481",
            "max": 2277,
            "min": 0,
            "orientation": "horizontal",
            "style": "IPY_MODEL_e8ebb9879f204b87b67ca26d2be2c515",
            "value": 2277
          }
        },
        "5ac20f2c821a43a8a5c594bdd42aeb06": {
          "model_module": "@jupyter-widgets/controls",
          "model_name": "HTMLModel",
          "model_module_version": "1.5.0",
          "state": {
            "_dom_classes": [],
            "_model_module": "@jupyter-widgets/controls",
            "_model_module_version": "1.5.0",
            "_model_name": "HTMLModel",
            "_view_count": null,
            "_view_module": "@jupyter-widgets/controls",
            "_view_module_version": "1.5.0",
            "_view_name": "HTMLView",
            "description": "",
            "description_tooltip": null,
            "layout": "IPY_MODEL_67916fe2b13146e89245c0d485335f92",
            "placeholder": "​",
            "style": "IPY_MODEL_f16d4217032940a7a3786d64cf4b4ddc",
            "value": " 2277/2277 [00:00&lt;00:00, 6780.51 examples/s]"
          }
        },
        "59182ce99e6045238bb7c76a91cc0f2c": {
          "model_module": "@jupyter-widgets/base",
          "model_name": "LayoutModel",
          "model_module_version": "1.2.0",
          "state": {
            "_model_module": "@jupyter-widgets/base",
            "_model_module_version": "1.2.0",
            "_model_name": "LayoutModel",
            "_view_count": null,
            "_view_module": "@jupyter-widgets/base",
            "_view_module_version": "1.2.0",
            "_view_name": "LayoutView",
            "align_content": null,
            "align_items": null,
            "align_self": null,
            "border": null,
            "bottom": null,
            "display": null,
            "flex": null,
            "flex_flow": null,
            "grid_area": null,
            "grid_auto_columns": null,
            "grid_auto_flow": null,
            "grid_auto_rows": null,
            "grid_column": null,
            "grid_gap": null,
            "grid_row": null,
            "grid_template_areas": null,
            "grid_template_columns": null,
            "grid_template_rows": null,
            "height": null,
            "justify_content": null,
            "justify_items": null,
            "left": null,
            "margin": null,
            "max_height": null,
            "max_width": null,
            "min_height": null,
            "min_width": null,
            "object_fit": null,
            "object_position": null,
            "order": null,
            "overflow": null,
            "overflow_x": null,
            "overflow_y": null,
            "padding": null,
            "right": null,
            "top": null,
            "visibility": null,
            "width": null
          }
        },
        "e4a5eb55d65b43cbb4c97c7f3026eeec": {
          "model_module": "@jupyter-widgets/base",
          "model_name": "LayoutModel",
          "model_module_version": "1.2.0",
          "state": {
            "_model_module": "@jupyter-widgets/base",
            "_model_module_version": "1.2.0",
            "_model_name": "LayoutModel",
            "_view_count": null,
            "_view_module": "@jupyter-widgets/base",
            "_view_module_version": "1.2.0",
            "_view_name": "LayoutView",
            "align_content": null,
            "align_items": null,
            "align_self": null,
            "border": null,
            "bottom": null,
            "display": null,
            "flex": null,
            "flex_flow": null,
            "grid_area": null,
            "grid_auto_columns": null,
            "grid_auto_flow": null,
            "grid_auto_rows": null,
            "grid_column": null,
            "grid_gap": null,
            "grid_row": null,
            "grid_template_areas": null,
            "grid_template_columns": null,
            "grid_template_rows": null,
            "height": null,
            "justify_content": null,
            "justify_items": null,
            "left": null,
            "margin": null,
            "max_height": null,
            "max_width": null,
            "min_height": null,
            "min_width": null,
            "object_fit": null,
            "object_position": null,
            "order": null,
            "overflow": null,
            "overflow_x": null,
            "overflow_y": null,
            "padding": null,
            "right": null,
            "top": null,
            "visibility": null,
            "width": null
          }
        },
        "6036b31bcf764fd58bf6bf77f03620e8": {
          "model_module": "@jupyter-widgets/controls",
          "model_name": "DescriptionStyleModel",
          "model_module_version": "1.5.0",
          "state": {
            "_model_module": "@jupyter-widgets/controls",
            "_model_module_version": "1.5.0",
            "_model_name": "DescriptionStyleModel",
            "_view_count": null,
            "_view_module": "@jupyter-widgets/base",
            "_view_module_version": "1.2.0",
            "_view_name": "StyleView",
            "description_width": ""
          }
        },
        "e68c75de08c348c0a0286c583d422481": {
          "model_module": "@jupyter-widgets/base",
          "model_name": "LayoutModel",
          "model_module_version": "1.2.0",
          "state": {
            "_model_module": "@jupyter-widgets/base",
            "_model_module_version": "1.2.0",
            "_model_name": "LayoutModel",
            "_view_count": null,
            "_view_module": "@jupyter-widgets/base",
            "_view_module_version": "1.2.0",
            "_view_name": "LayoutView",
            "align_content": null,
            "align_items": null,
            "align_self": null,
            "border": null,
            "bottom": null,
            "display": null,
            "flex": null,
            "flex_flow": null,
            "grid_area": null,
            "grid_auto_columns": null,
            "grid_auto_flow": null,
            "grid_auto_rows": null,
            "grid_column": null,
            "grid_gap": null,
            "grid_row": null,
            "grid_template_areas": null,
            "grid_template_columns": null,
            "grid_template_rows": null,
            "height": null,
            "justify_content": null,
            "justify_items": null,
            "left": null,
            "margin": null,
            "max_height": null,
            "max_width": null,
            "min_height": null,
            "min_width": null,
            "object_fit": null,
            "object_position": null,
            "order": null,
            "overflow": null,
            "overflow_x": null,
            "overflow_y": null,
            "padding": null,
            "right": null,
            "top": null,
            "visibility": null,
            "width": null
          }
        },
        "e8ebb9879f204b87b67ca26d2be2c515": {
          "model_module": "@jupyter-widgets/controls",
          "model_name": "ProgressStyleModel",
          "model_module_version": "1.5.0",
          "state": {
            "_model_module": "@jupyter-widgets/controls",
            "_model_module_version": "1.5.0",
            "_model_name": "ProgressStyleModel",
            "_view_count": null,
            "_view_module": "@jupyter-widgets/base",
            "_view_module_version": "1.2.0",
            "_view_name": "StyleView",
            "bar_color": null,
            "description_width": ""
          }
        },
        "67916fe2b13146e89245c0d485335f92": {
          "model_module": "@jupyter-widgets/base",
          "model_name": "LayoutModel",
          "model_module_version": "1.2.0",
          "state": {
            "_model_module": "@jupyter-widgets/base",
            "_model_module_version": "1.2.0",
            "_model_name": "LayoutModel",
            "_view_count": null,
            "_view_module": "@jupyter-widgets/base",
            "_view_module_version": "1.2.0",
            "_view_name": "LayoutView",
            "align_content": null,
            "align_items": null,
            "align_self": null,
            "border": null,
            "bottom": null,
            "display": null,
            "flex": null,
            "flex_flow": null,
            "grid_area": null,
            "grid_auto_columns": null,
            "grid_auto_flow": null,
            "grid_auto_rows": null,
            "grid_column": null,
            "grid_gap": null,
            "grid_row": null,
            "grid_template_areas": null,
            "grid_template_columns": null,
            "grid_template_rows": null,
            "height": null,
            "justify_content": null,
            "justify_items": null,
            "left": null,
            "margin": null,
            "max_height": null,
            "max_width": null,
            "min_height": null,
            "min_width": null,
            "object_fit": null,
            "object_position": null,
            "order": null,
            "overflow": null,
            "overflow_x": null,
            "overflow_y": null,
            "padding": null,
            "right": null,
            "top": null,
            "visibility": null,
            "width": null
          }
        },
        "f16d4217032940a7a3786d64cf4b4ddc": {
          "model_module": "@jupyter-widgets/controls",
          "model_name": "DescriptionStyleModel",
          "model_module_version": "1.5.0",
          "state": {
            "_model_module": "@jupyter-widgets/controls",
            "_model_module_version": "1.5.0",
            "_model_name": "DescriptionStyleModel",
            "_view_count": null,
            "_view_module": "@jupyter-widgets/base",
            "_view_module_version": "1.2.0",
            "_view_name": "StyleView",
            "description_width": ""
          }
        }
      }
    }
  },
  "cells": [
    {
      "cell_type": "markdown",
      "source": [
        "# Descarga de los datos formateados"
      ],
      "metadata": {
        "id": "QraYqRGFurni"
      }
    },
    {
      "cell_type": "code",
      "execution_count": null,
      "metadata": {
        "id": "fSUMGle_tpE7"
      },
      "outputs": [],
      "source": [
        "%%capture\n",
        "!pip install gdown"
      ]
    },
    {
      "cell_type": "code",
      "source": [
        "import gdown\n",
        "\n",
        "files_to_download = {\n",
        "    \"formatted_train.jsonl\": \"13p2I_-pxXTQRjddJDd26bwAERjAgMqbe\",\n",
        "    \"formatted_test.jsonl\": \"10SQP_HikNR0mcgTJtT9BVczSk78aGziH\",\n",
        "    \"formatted_validation.jsonl\": \"1qkfNA5tm8jFv_whMpNWAgVC_C9YOgo-V\"\n",
        "}\n",
        "\n",
        "for destination, file_id in files_to_download.items():\n",
        "    gdown.download(f\"https://drive.google.com/uc?id={file_id}\", destination, quiet=False)"
      ],
      "metadata": {
        "colab": {
          "base_uri": "https://localhost:8080/"
        },
        "id": "7V3LHS-AtvFL",
        "outputId": "dbf04ec1-be5d-4250-be4a-deff2dd32354"
      },
      "execution_count": null,
      "outputs": [
        {
          "output_type": "stream",
          "name": "stderr",
          "text": [
            "Downloading...\n",
            "From (original): https://drive.google.com/uc?id=13p2I_-pxXTQRjddJDd26bwAERjAgMqbe\n",
            "From (redirected): https://drive.google.com/uc?id=13p2I_-pxXTQRjddJDd26bwAERjAgMqbe&confirm=t&uuid=5dd412a4-44cf-49cb-9aa2-8f72068e64e9\n",
            "To: /content/formatted_train.jsonl\n",
            "100%|██████████| 176M/176M [00:04<00:00, 37.7MB/s]\n",
            "Downloading...\n",
            "From: https://drive.google.com/uc?id=10SQP_HikNR0mcgTJtT9BVczSk78aGziH\n",
            "To: /content/formatted_test.jsonl\n",
            "100%|██████████| 8.00M/8.00M [00:00<00:00, 37.5MB/s]\n",
            "Downloading...\n",
            "From: https://drive.google.com/uc?id=1qkfNA5tm8jFv_whMpNWAgVC_C9YOgo-V\n",
            "To: /content/formatted_validation.jsonl\n",
            "100%|██████████| 17.6M/17.6M [00:00<00:00, 64.0MB/s]\n"
          ]
        }
      ]
    },
    {
      "cell_type": "markdown",
      "source": [
        "# Implementación del modelo"
      ],
      "metadata": {
        "id": "GSn2rylpvEqb"
      }
    },
    {
      "cell_type": "code",
      "source": [
        "%%capture\n",
        "!pip install unsloth \"xformers==0.0.28.post2\"\n",
        "# Also get the latest nightly Unsloth!\n",
        "!pip uninstall unsloth -y && pip install --upgrade --no-cache-dir \"unsloth[colab-new] @ git+https://github.com/unslothai/unsloth.git\"\n",
        "!pip install datasets"
      ],
      "metadata": {
        "id": "1SUyJjsGuqeE"
      },
      "execution_count": null,
      "outputs": []
    },
    {
      "cell_type": "code",
      "source": [
        "from datasets import load_dataset, Dataset\n",
        "from unsloth import FastLanguageModel, is_bfloat16_supported\n",
        "import torch\n",
        "from unsloth.chat_templates import get_chat_template, standardize_sharegpt, train_on_responses_only\n",
        "from trl import SFTTrainer\n",
        "from transformers import TrainingArguments, DataCollatorForSeq2Seq, TextStreamer, AutoTokenizer\n",
        "from peft import AutoPeftModelForCausalLM\n",
        "import json"
      ],
      "metadata": {
        "id": "tPpEPky3vQ4c",
        "colab": {
          "base_uri": "https://localhost:8080/"
        },
        "outputId": "4da74a4a-5bda-47ca-efc1-40903f80c623"
      },
      "execution_count": null,
      "outputs": [
        {
          "output_type": "stream",
          "name": "stdout",
          "text": [
            "🦥 Unsloth: Will patch your computer to enable 2x faster free finetuning.\n",
            "🦥 Unsloth Zoo will now patch everything to make training faster!\n"
          ]
        }
      ]
    },
    {
      "cell_type": "code",
      "source": [
        "with open(\"formatted_train.jsonl\", \"r\") as f:\n",
        "    data = [json.loads(line)[\"interaction\"] for line in f]\n",
        "\n",
        "dataset = Dataset.from_dict({\"conversations\": data})"
      ],
      "metadata": {
        "id": "KvzmfNdYwzmW"
      },
      "execution_count": null,
      "outputs": []
    },
    {
      "cell_type": "code",
      "source": [
        "max_seq_length = 2048\n",
        "\n",
        "def initialize_model_and_tokenizer():\n",
        "    base_model_name = \"unsloth/Phi-3.5-mini-instruct\"\n",
        "    model, tokenizer = FastLanguageModel.from_pretrained(\n",
        "        model_name=base_model_name,\n",
        "        max_seq_length=max_seq_length,\n",
        "        dtype=None,\n",
        "        load_in_4bit=True,\n",
        "    )\n",
        "    model = FastLanguageModel.get_peft_model(\n",
        "        model,\n",
        "        r=16,\n",
        "        target_modules=[\"q_proj\", \"k_proj\", \"v_proj\", \"o_proj\", \"gate_proj\", \"up_proj\", \"down_proj\"],\n",
        "        lora_alpha=16,\n",
        "        lora_dropout=0,\n",
        "        bias=\"none\",\n",
        "        use_gradient_checkpointing=\"unsloth\",\n",
        "        random_state=3407,\n",
        "        use_rslora=False,\n",
        "        loftq_config=None\n",
        "    )\n",
        "    tokenizer = get_chat_template(\n",
        "        tokenizer,\n",
        "        chat_template=\"phi-3.5\"\n",
        "    )\n",
        "\n",
        "    return model, tokenizer"
      ],
      "metadata": {
        "id": "RKYihPHox7rM"
      },
      "execution_count": null,
      "outputs": []
    },
    {
      "cell_type": "code",
      "source": [
        "def preprocess_dataset(dataset, tokenizer):\n",
        "    def formatting_prompts_func(examples):\n",
        "        convos = examples[\"conversations\"]\n",
        "        texts = [tokenizer.apply_chat_template(convo, tokenize=False, add_generation_prompt=False) for convo in convos]\n",
        "        return {\"text\": texts}\n",
        "\n",
        "    formatted_dataset = dataset.map(formatting_prompts_func, batched=True)\n",
        "    return formatted_dataset"
      ],
      "metadata": {
        "id": "o9FWavpozEWN"
      },
      "execution_count": null,
      "outputs": []
    },
    {
      "cell_type": "code",
      "source": [
        "used_seed = 3407"
      ],
      "metadata": {
        "id": "mKlEyBxLzHg0"
      },
      "execution_count": null,
      "outputs": []
    },
    {
      "cell_type": "markdown",
      "source": [
        "# Segundo entrenamiento"
      ],
      "metadata": {
        "id": "CTSDgbED3wT8"
      }
    },
    {
      "cell_type": "markdown",
      "source": [
        "En este entrenamiento se usarán los mismos paramétros de entrenamiento que antes, pero con la diferencia de que usaré la data que tenía con la primera forma de parseo, en donde entrego información de películas."
      ],
      "metadata": {
        "id": "6lR0TmlzMjkL"
      }
    },
    {
      "cell_type": "code",
      "source": [
        "files_to_download = {\n",
        "    \"formatted_train.json\": \"1Fm7aPdCv6bguP7UgoCqdUVcm8xpDo18_\",\n",
        "    \"formatted_test.json\": \"1a4YeF--Sks7WA1ZIQL2zDZx4teKk7p4m\",\n",
        "    \"formatted_validation.json\": \"1PC9OhZhNZt8lFO9wifhydy0BrIYe8Dkm\"\n",
        "}\n",
        "\n",
        "for destination, file_id in files_to_download.items():\n",
        "    gdown.download(f\"https://drive.google.com/uc?id={file_id}\", destination, quiet=False)"
      ],
      "metadata": {
        "colab": {
          "base_uri": "https://localhost:8080/"
        },
        "id": "cJhMs9gYNBk0",
        "outputId": "34e62db3-b7f9-474b-fda0-f5de59818a5b"
      },
      "execution_count": null,
      "outputs": [
        {
          "output_type": "stream",
          "name": "stderr",
          "text": [
            "Downloading...\n",
            "From (original): https://drive.google.com/uc?id=1Fm7aPdCv6bguP7UgoCqdUVcm8xpDo18_\n",
            "From (redirected): https://drive.google.com/uc?id=1Fm7aPdCv6bguP7UgoCqdUVcm8xpDo18_&confirm=t&uuid=f5c05b0c-ad64-44b9-9d97-249041acc97f\n",
            "To: /content/formatted_train.json\n",
            "100%|██████████| 237M/237M [00:03<00:00, 68.9MB/s]\n",
            "Downloading...\n",
            "From: https://drive.google.com/uc?id=1a4YeF--Sks7WA1ZIQL2zDZx4teKk7p4m\n",
            "To: /content/formatted_test.json\n",
            "100%|██████████| 10.8M/10.8M [00:00<00:00, 41.8MB/s]\n",
            "Downloading...\n",
            "From: https://drive.google.com/uc?id=1PC9OhZhNZt8lFO9wifhydy0BrIYe8Dkm\n",
            "To: /content/formatted_validation.json\n",
            "100%|██████████| 23.7M/23.7M [00:00<00:00, 54.4MB/s]\n"
          ]
        }
      ]
    },
    {
      "cell_type": "code",
      "source": [
        "with open(\"formatted_train.json\", \"r\") as f:\n",
        "    data = json.load(f)\n",
        "\n",
        "dataset_second_train = Dataset.from_dict({\"conversations\": data})"
      ],
      "metadata": {
        "id": "GkDKGkuTNV1z"
      },
      "execution_count": null,
      "outputs": []
    },
    {
      "cell_type": "code",
      "source": [
        "training_configuration = {\n",
        "    \"lr_scheduler_type\": \"linear\",\n",
        "    \"per_device_train_batch_size\": 2,\n",
        "    \"gradient_accumulation_steps\": 4,\n",
        "    \"max_steps\": 200,\n",
        "    \"output_dir\": \"second_train_output\",\n",
        "    \"learning_rate\": 2e-4\n",
        "}"
      ],
      "metadata": {
        "id": "Zw_Q67Ki0yof"
      },
      "execution_count": null,
      "outputs": []
    },
    {
      "cell_type": "code",
      "source": [
        "model_second_train, tokenizer_second_train = initialize_model_and_tokenizer()"
      ],
      "metadata": {
        "colab": {
          "base_uri": "https://localhost:8080/",
          "height": 363,
          "referenced_widgets": [
            "26636a60ea904de481eca852efd6e1e6",
            "65dc117568a84f168b24740424db4dbe",
            "71641a02a549430594e7a60619fc1a8a",
            "dab88afc07f44880baedaa610f21923b",
            "9b099e03cce6493ea1592564e2b3cd98",
            "fba4dc17e83b4bc28756655707b2296f",
            "c7041c9f85c7445f8d9141506bb00623",
            "7a778736b7e9410e956ea9bd40982253",
            "3839748baafd447ea057180afafaca75",
            "8e9fc18aa8e14c74af2cba33dc9735a4",
            "fa3519fdc6f74893af3bb46fdf8dbaa9",
            "6caa332445944a0b97b21cad076cc2c9",
            "e44e618336c34a2e8f453b421560f588",
            "20d0620092a94e6baec8f9a5636a2f6e",
            "49da85a97ded4c618f07422021b07fbd",
            "043a014c4c004b088e27104863ddbb2c",
            "69ae5e9b17274b4a8b1b81da9a2bf763",
            "c0a8c81306f04420b6f09cd6d35c0210",
            "90677d0a9dd44b1885edaa9c3404059e",
            "ef5f89a0f7b9413687465bc41adb9086",
            "303a8181180648c483bdc4e23893df6f",
            "cbed9961ada345b5824076e4581e0030",
            "ac7f50eeba444108b0516f05044ef359",
            "c2f7649005494735971893b4b0770288",
            "4c7bfcab5a2f4615bbce21f32bc0025b",
            "32c432be447d43309da792599927ce2f",
            "e35ea44781fd4ec1bae4a43f6eb86e20",
            "e148002fe01543f483dbb3c83ce7d6b2",
            "416c7d7b867042f78836412e8a545dd7",
            "d678ae4656ac477d8b58a310cd9d1042",
            "1e03f2e26dc048b8b3f9341608d11076",
            "cf3f8d5e9d3948139fe7332a062f49ec",
            "bffa631c89ed42beacf334b62a9749bc",
            "6153a932137b41adb883ba0deb19a70f",
            "423a07fad25f400a95537de121e21ffe",
            "06b257eb2cf34193b3f1dee2cc97c9d7",
            "982049f0d759408dbeb8f79700bb0b38",
            "36f8a0b4c35845608939fd7da7b83bfc",
            "f0ce5fa4c7c84705b3a6c9feeda4dec4",
            "54056e171a664c5c8c04e9692ce30f3f",
            "c563dc30fc7247e4a000752bf31911d9",
            "e241571f135a4bb1a9910a9e4cae2716",
            "a3d50cf9eb684fecb1e16c6ce5e79cbf",
            "3e2baccfd2d44b9ba9ad44e11950c2cc",
            "fcf298eb586b48c69a6dea044a05e4dc",
            "212ab6dd4d3643a8a0d9ce4395dd456b",
            "3cd3aebc13b644e5b861eb200a89f546",
            "6ce3f157f83e41da8c755139329c9af3",
            "7c97dcfaeb1448b6b4557db977acbd47",
            "36a9de0e220340218d20852b0097eb3e",
            "85e9582d5dfb46ae9b2465b1d6864254",
            "74f37b7410e8476c8bf4a2e4424645f8",
            "9e3baaacc0674d03968ada4619067db1",
            "4300c29172024169b9575c5de809beda",
            "b3a1c794aa7d4e3890fbf3c71a3e2fea",
            "79b153493d2e4223b48783216113cdd2",
            "d95118604b144e70838ca02afcd96f9d",
            "2dcafe9e9f1e413cbcfbc0a98913e4a5",
            "7505e7d5eefa489c8f06989b89fc7855",
            "10c5466d257941bbae3e69b14a16d0b9",
            "3271b31b25974ff2b884c9775fa5cd39",
            "069061bce3544b3280eee2b16525e60f",
            "beece708579f436abb95a555152b74ac",
            "2a289f10d79443b68bf51f8c101e30af",
            "d8c84f6094cf4247b9798920aef2cfd6",
            "212b37b5e6294e6aae58c856f1617c6f",
            "c0c1a18048804ecfaf3f4db37298d1df",
            "c0d4fa25c25841cf8af1e15538914d99",
            "eb3765978b2945299aabbd050f8b6916",
            "863fb603743f40a4ac75e40ea4ee235f",
            "87958a6f492843a4a23d59f481478523",
            "eff075cae2a249fcbb93c0c0ca115481",
            "481deee013cd49c99543d1b7f8ee2137",
            "f9fdf58eeda4488a9f41c036ab47dec1",
            "2a800abe6aec4667bf609a804db62951",
            "836d7df717124ff49a03d79bd4fe8442",
            "202a0e5931574b57877bf9af85a2c675"
          ]
        },
        "id": "zN13ochC37B_",
        "outputId": "a855d294-bc18-441c-c48b-024a70c22497"
      },
      "execution_count": null,
      "outputs": [
        {
          "output_type": "stream",
          "name": "stdout",
          "text": [
            "==((====))==  Unsloth 2024.12.4: Fast Llama patching. Transformers:4.46.3.\n",
            "   \\\\   /|    GPU: Tesla T4. Max memory: 14.748 GB. Platform: Linux.\n",
            "O^O/ \\_/ \\    Torch: 2.5.0+cu124. CUDA: 7.5. CUDA Toolkit: 12.4. Triton: 3.1.0\n",
            "\\        /    Bfloat16 = FALSE. FA [Xformers = 0.0.28.post2. FA2 = False]\n",
            " \"-____-\"     Free Apache license: http://github.com/unslothai/unsloth\n",
            "Unsloth: Fast downloading is enabled - ignore downloading bars which are red colored!\n"
          ]
        },
        {
          "output_type": "display_data",
          "data": {
            "text/plain": [
              "model.safetensors:   0%|          | 0.00/2.26G [00:00<?, ?B/s]"
            ],
            "application/vnd.jupyter.widget-view+json": {
              "version_major": 2,
              "version_minor": 0,
              "model_id": "26636a60ea904de481eca852efd6e1e6"
            }
          },
          "metadata": {}
        },
        {
          "output_type": "display_data",
          "data": {
            "text/plain": [
              "generation_config.json:   0%|          | 0.00/140 [00:00<?, ?B/s]"
            ],
            "application/vnd.jupyter.widget-view+json": {
              "version_major": 2,
              "version_minor": 0,
              "model_id": "6caa332445944a0b97b21cad076cc2c9"
            }
          },
          "metadata": {}
        },
        {
          "output_type": "display_data",
          "data": {
            "text/plain": [
              "tokenizer_config.json:   0%|          | 0.00/3.37k [00:00<?, ?B/s]"
            ],
            "application/vnd.jupyter.widget-view+json": {
              "version_major": 2,
              "version_minor": 0,
              "model_id": "ac7f50eeba444108b0516f05044ef359"
            }
          },
          "metadata": {}
        },
        {
          "output_type": "display_data",
          "data": {
            "text/plain": [
              "tokenizer.model:   0%|          | 0.00/500k [00:00<?, ?B/s]"
            ],
            "application/vnd.jupyter.widget-view+json": {
              "version_major": 2,
              "version_minor": 0,
              "model_id": "6153a932137b41adb883ba0deb19a70f"
            }
          },
          "metadata": {}
        },
        {
          "output_type": "display_data",
          "data": {
            "text/plain": [
              "added_tokens.json:   0%|          | 0.00/293 [00:00<?, ?B/s]"
            ],
            "application/vnd.jupyter.widget-view+json": {
              "version_major": 2,
              "version_minor": 0,
              "model_id": "fcf298eb586b48c69a6dea044a05e4dc"
            }
          },
          "metadata": {}
        },
        {
          "output_type": "display_data",
          "data": {
            "text/plain": [
              "special_tokens_map.json:   0%|          | 0.00/571 [00:00<?, ?B/s]"
            ],
            "application/vnd.jupyter.widget-view+json": {
              "version_major": 2,
              "version_minor": 0,
              "model_id": "79b153493d2e4223b48783216113cdd2"
            }
          },
          "metadata": {}
        },
        {
          "output_type": "display_data",
          "data": {
            "text/plain": [
              "tokenizer.json:   0%|          | 0.00/1.84M [00:00<?, ?B/s]"
            ],
            "application/vnd.jupyter.widget-view+json": {
              "version_major": 2,
              "version_minor": 0,
              "model_id": "c0c1a18048804ecfaf3f4db37298d1df"
            }
          },
          "metadata": {}
        },
        {
          "output_type": "stream",
          "name": "stderr",
          "text": [
            "Unsloth 2024.12.4 patched 32 layers with 32 QKV layers, 32 O layers and 32 MLP layers.\n"
          ]
        }
      ]
    },
    {
      "cell_type": "code",
      "source": [
        "formatted_dataset_second_train = preprocess_dataset(dataset_second_train, tokenizer_second_train)"
      ],
      "metadata": {
        "colab": {
          "base_uri": "https://localhost:8080/",
          "height": 49,
          "referenced_widgets": [
            "776fd7989af44551818883889f04432f",
            "eae256b728d642449abc0057de3f49ab",
            "96cd0f9a9b894d549471b05a4c6774c2",
            "3bbaffcc5e604947a23fae81a826c935",
            "935689cbfd074af7b16e917cdc238d60",
            "7500388a32534cee939d08921efcac81",
            "a16ddfd08e684012afb978ec42b2943d",
            "794c17e59967424d9f9b20ce8f495b4f",
            "f646b9a02d1543dfa55b08c4634961fe",
            "d7c14a8df53d4ecabc4ac23e2b84df3f",
            "df09087ff8a240f2ba79e4f4e52d8f7f"
          ]
        },
        "id": "u0qjS-soRdeL",
        "outputId": "27115942-85f8-4465-efba-58d60409b9b3"
      },
      "execution_count": null,
      "outputs": [
        {
          "output_type": "display_data",
          "data": {
            "text/plain": [
              "Map:   0%|          | 0/50000 [00:00<?, ? examples/s]"
            ],
            "application/vnd.jupyter.widget-view+json": {
              "version_major": 2,
              "version_minor": 0,
              "model_id": "776fd7989af44551818883889f04432f"
            }
          },
          "metadata": {}
        }
      ]
    },
    {
      "cell_type": "code",
      "source": [
        "trainer = SFTTrainer(\n",
        "    model=model_second_train,\n",
        "    tokenizer=tokenizer_second_train,\n",
        "    train_dataset=formatted_dataset_second_train,\n",
        "    dataset_text_field=\"text\",\n",
        "    max_seq_length=max_seq_length,\n",
        "    dataset_num_proc=2,\n",
        "    packing=False,\n",
        "    args=TrainingArguments(\n",
        "        learning_rate=5e-5,\n",
        "        lr_scheduler_type=training_configuration[\"lr_scheduler_type\"],\n",
        "        per_device_train_batch_size=training_configuration[\"per_device_train_batch_size\"],\n",
        "        gradient_accumulation_steps=training_configuration[\"gradient_accumulation_steps\"],\n",
        "        num_train_epochs=1,\n",
        "        max_steps=training_configuration[\"max_steps\"],\n",
        "        fp16=not is_bfloat16_supported(),\n",
        "        bf16=is_bfloat16_supported(),\n",
        "        logging_steps=1,\n",
        "        optim=\"adamw_8bit\",\n",
        "        weight_decay=0.001,\n",
        "        warmup_steps=5,\n",
        "        output_dir=training_configuration[\"output_dir\"],\n",
        "        seed=used_seed,\n",
        "    )\n",
        ")"
      ],
      "metadata": {
        "colab": {
          "base_uri": "https://localhost:8080/",
          "height": 66,
          "referenced_widgets": [
            "5ea30a53f3a84ce69971e3d921baafe6",
            "4ad0849278254260bc9f32ab478bbfbd",
            "6decfafbb2c842e5a6b0b739c45f7cb4",
            "85bd77b2979a453586bf155341acb9d2",
            "87c8b2987d504016995b4432ec87bc2a",
            "304abb77835649dab9b98c950a6f4df3",
            "05a21a05d342426ca0384699d5a3ed43",
            "45acf83be4ad4729a8ee669cda2fc027",
            "96b055fc74a9429d9220b2bb14cebd82",
            "b9e6adae27f14febb1bf2cdcc71aa6aa",
            "702f4b99afa44d47b6879ec0d9bd24fc"
          ]
        },
        "id": "nKbFp5kM37o9",
        "outputId": "77580718-bcb0-47d6-b65a-f934b9eeef69"
      },
      "execution_count": null,
      "outputs": [
        {
          "output_type": "display_data",
          "data": {
            "text/plain": [
              "Map (num_proc=2):   0%|          | 0/50000 [00:00<?, ? examples/s]"
            ],
            "application/vnd.jupyter.widget-view+json": {
              "version_major": 2,
              "version_minor": 0,
              "model_id": "5ea30a53f3a84ce69971e3d921baafe6"
            }
          },
          "metadata": {}
        },
        {
          "output_type": "stream",
          "name": "stderr",
          "text": [
            "max_steps is given, it will override any value given in num_train_epochs\n"
          ]
        }
      ]
    },
    {
      "cell_type": "code",
      "source": [
        "gpu_stats = torch.cuda.get_device_properties(0)\n",
        "start_gpu_memory = round(torch.cuda.max_memory_reserved() / 1024 / 1024 / 1024, 3)\n",
        "max_memory = round(gpu_stats.total_memory / 1024 / 1024 / 1024, 3)\n",
        "print(f\"GPU = {gpu_stats.name}. Max memory = {max_memory} GB.\")\n",
        "print(f\"{start_gpu_memory} GB of memory reserved.\")"
      ],
      "metadata": {
        "colab": {
          "base_uri": "https://localhost:8080/"
        },
        "id": "YIa67kzB4p2R",
        "outputId": "b8ec0000-e5ac-4ee3-f529-b562007fae32"
      },
      "execution_count": null,
      "outputs": [
        {
          "output_type": "stream",
          "name": "stdout",
          "text": [
            "GPU = Tesla T4. Max memory = 14.748 GB.\n",
            "2.285 GB of memory reserved.\n"
          ]
        }
      ]
    },
    {
      "cell_type": "code",
      "source": [
        "trainer_stats = trainer.train()"
      ],
      "metadata": {
        "colab": {
          "base_uri": "https://localhost:8080/",
          "height": 1000
        },
        "id": "1eDkSjC-4sLz",
        "outputId": "13731986-824f-42c6-b3ab-79ad381553e9"
      },
      "execution_count": null,
      "outputs": [
        {
          "output_type": "stream",
          "name": "stderr",
          "text": [
            "==((====))==  Unsloth - 2x faster free finetuning | Num GPUs = 1\n",
            "   \\\\   /|    Num examples = 50,000 | Num Epochs = 1\n",
            "O^O/ \\_/ \\    Batch size per device = 2 | Gradient Accumulation steps = 4\n",
            "\\        /    Total batch size = 8 | Total steps = 200\n",
            " \"-____-\"     Number of trainable parameters = 29,884,416\n",
            "\u001b[34m\u001b[1mwandb\u001b[0m: \u001b[33mWARNING\u001b[0m The `run_name` is currently set to the same value as `TrainingArguments.output_dir`. If this was not intended, please specify a different run name by setting the `TrainingArguments.run_name` parameter.\n",
            "\u001b[34m\u001b[1mwandb\u001b[0m: Using wandb-core as the SDK backend.  Please refer to https://wandb.me/wandb-core for more information.\n"
          ]
        },
        {
          "output_type": "display_data",
          "data": {
            "text/plain": [
              "<IPython.core.display.Javascript object>"
            ],
            "application/javascript": [
              "\n",
              "        window._wandbApiKey = new Promise((resolve, reject) => {\n",
              "            function loadScript(url) {\n",
              "            return new Promise(function(resolve, reject) {\n",
              "                let newScript = document.createElement(\"script\");\n",
              "                newScript.onerror = reject;\n",
              "                newScript.onload = resolve;\n",
              "                document.body.appendChild(newScript);\n",
              "                newScript.src = url;\n",
              "            });\n",
              "            }\n",
              "            loadScript(\"https://cdn.jsdelivr.net/npm/postmate/build/postmate.min.js\").then(() => {\n",
              "            const iframe = document.createElement('iframe')\n",
              "            iframe.style.cssText = \"width:0;height:0;border:none\"\n",
              "            document.body.appendChild(iframe)\n",
              "            const handshake = new Postmate({\n",
              "                container: iframe,\n",
              "                url: 'https://wandb.ai/authorize'\n",
              "            });\n",
              "            const timeout = setTimeout(() => reject(\"Couldn't auto authenticate\"), 5000)\n",
              "            handshake.then(function(child) {\n",
              "                child.on('authorize', data => {\n",
              "                    clearTimeout(timeout)\n",
              "                    resolve(data)\n",
              "                });\n",
              "            });\n",
              "            })\n",
              "        });\n",
              "    "
            ]
          },
          "metadata": {}
        },
        {
          "output_type": "stream",
          "name": "stderr",
          "text": [
            "\u001b[34m\u001b[1mwandb\u001b[0m: Logging into wandb.ai. (Learn how to deploy a W&B server locally: https://wandb.me/wandb-server)\n",
            "\u001b[34m\u001b[1mwandb\u001b[0m: You can find your API key in your browser here: https://wandb.ai/authorize\n",
            "wandb: Paste an API key from your profile and hit enter, or press ctrl+c to quit:"
          ]
        },
        {
          "name": "stdout",
          "output_type": "stream",
          "text": [
            " ··········\n"
          ]
        },
        {
          "output_type": "stream",
          "name": "stderr",
          "text": [
            "\u001b[34m\u001b[1mwandb\u001b[0m: Appending key for api.wandb.ai to your netrc file: /root/.netrc\n"
          ]
        },
        {
          "output_type": "display_data",
          "data": {
            "text/plain": [
              "<IPython.core.display.HTML object>"
            ],
            "text/html": [
              "Tracking run with wandb version 0.18.7"
            ]
          },
          "metadata": {}
        },
        {
          "output_type": "display_data",
          "data": {
            "text/plain": [
              "<IPython.core.display.HTML object>"
            ],
            "text/html": [
              "Run data is saved locally in <code>/content/wandb/run-20241209_190224-os1jvnjc</code>"
            ]
          },
          "metadata": {}
        },
        {
          "output_type": "display_data",
          "data": {
            "text/plain": [
              "<IPython.core.display.HTML object>"
            ],
            "text/html": [
              "Syncing run <strong><a href='https://wandb.ai/pabloskixd1314-pontificia-universidad-cat-lica-de-chile/huggingface/runs/os1jvnjc' target=\"_blank\">second_train_output</a></strong> to <a href='https://wandb.ai/pabloskixd1314-pontificia-universidad-cat-lica-de-chile/huggingface' target=\"_blank\">Weights & Biases</a> (<a href='https://wandb.me/developer-guide' target=\"_blank\">docs</a>)<br/>"
            ]
          },
          "metadata": {}
        },
        {
          "output_type": "display_data",
          "data": {
            "text/plain": [
              "<IPython.core.display.HTML object>"
            ],
            "text/html": [
              " View project at <a href='https://wandb.ai/pabloskixd1314-pontificia-universidad-cat-lica-de-chile/huggingface' target=\"_blank\">https://wandb.ai/pabloskixd1314-pontificia-universidad-cat-lica-de-chile/huggingface</a>"
            ]
          },
          "metadata": {}
        },
        {
          "output_type": "display_data",
          "data": {
            "text/plain": [
              "<IPython.core.display.HTML object>"
            ],
            "text/html": [
              " View run at <a href='https://wandb.ai/pabloskixd1314-pontificia-universidad-cat-lica-de-chile/huggingface/runs/os1jvnjc' target=\"_blank\">https://wandb.ai/pabloskixd1314-pontificia-universidad-cat-lica-de-chile/huggingface/runs/os1jvnjc</a>"
            ]
          },
          "metadata": {}
        },
        {
          "output_type": "display_data",
          "data": {
            "text/plain": [
              "<IPython.core.display.HTML object>"
            ],
            "text/html": [
              "\n",
              "    <div>\n",
              "      \n",
              "      <progress value='200' max='200' style='width:300px; height:20px; vertical-align: middle;'></progress>\n",
              "      [200/200 53:33, Epoch 0/1]\n",
              "    </div>\n",
              "    <table border=\"1\" class=\"dataframe\">\n",
              "  <thead>\n",
              " <tr style=\"text-align: left;\">\n",
              "      <th>Step</th>\n",
              "      <th>Training Loss</th>\n",
              "    </tr>\n",
              "  </thead>\n",
              "  <tbody>\n",
              "    <tr>\n",
              "      <td>1</td>\n",
              "      <td>1.912200</td>\n",
              "    </tr>\n",
              "    <tr>\n",
              "      <td>2</td>\n",
              "      <td>1.933300</td>\n",
              "    </tr>\n",
              "    <tr>\n",
              "      <td>3</td>\n",
              "      <td>1.826700</td>\n",
              "    </tr>\n",
              "    <tr>\n",
              "      <td>4</td>\n",
              "      <td>1.989900</td>\n",
              "    </tr>\n",
              "    <tr>\n",
              "      <td>5</td>\n",
              "      <td>1.940000</td>\n",
              "    </tr>\n",
              "    <tr>\n",
              "      <td>6</td>\n",
              "      <td>1.809000</td>\n",
              "    </tr>\n",
              "    <tr>\n",
              "      <td>7</td>\n",
              "      <td>1.819800</td>\n",
              "    </tr>\n",
              "    <tr>\n",
              "      <td>8</td>\n",
              "      <td>1.791900</td>\n",
              "    </tr>\n",
              "    <tr>\n",
              "      <td>9</td>\n",
              "      <td>1.730700</td>\n",
              "    </tr>\n",
              "    <tr>\n",
              "      <td>10</td>\n",
              "      <td>1.702400</td>\n",
              "    </tr>\n",
              "    <tr>\n",
              "      <td>11</td>\n",
              "      <td>1.744300</td>\n",
              "    </tr>\n",
              "    <tr>\n",
              "      <td>12</td>\n",
              "      <td>1.476100</td>\n",
              "    </tr>\n",
              "    <tr>\n",
              "      <td>13</td>\n",
              "      <td>1.686000</td>\n",
              "    </tr>\n",
              "    <tr>\n",
              "      <td>14</td>\n",
              "      <td>1.667400</td>\n",
              "    </tr>\n",
              "    <tr>\n",
              "      <td>15</td>\n",
              "      <td>1.663500</td>\n",
              "    </tr>\n",
              "    <tr>\n",
              "      <td>16</td>\n",
              "      <td>1.658900</td>\n",
              "    </tr>\n",
              "    <tr>\n",
              "      <td>17</td>\n",
              "      <td>1.579200</td>\n",
              "    </tr>\n",
              "    <tr>\n",
              "      <td>18</td>\n",
              "      <td>1.592100</td>\n",
              "    </tr>\n",
              "    <tr>\n",
              "      <td>19</td>\n",
              "      <td>1.517000</td>\n",
              "    </tr>\n",
              "    <tr>\n",
              "      <td>20</td>\n",
              "      <td>1.523000</td>\n",
              "    </tr>\n",
              "    <tr>\n",
              "      <td>21</td>\n",
              "      <td>1.532100</td>\n",
              "    </tr>\n",
              "    <tr>\n",
              "      <td>22</td>\n",
              "      <td>1.542600</td>\n",
              "    </tr>\n",
              "    <tr>\n",
              "      <td>23</td>\n",
              "      <td>1.425200</td>\n",
              "    </tr>\n",
              "    <tr>\n",
              "      <td>24</td>\n",
              "      <td>1.493900</td>\n",
              "    </tr>\n",
              "    <tr>\n",
              "      <td>25</td>\n",
              "      <td>1.521500</td>\n",
              "    </tr>\n",
              "    <tr>\n",
              "      <td>26</td>\n",
              "      <td>1.357400</td>\n",
              "    </tr>\n",
              "    <tr>\n",
              "      <td>27</td>\n",
              "      <td>1.587600</td>\n",
              "    </tr>\n",
              "    <tr>\n",
              "      <td>28</td>\n",
              "      <td>1.534800</td>\n",
              "    </tr>\n",
              "    <tr>\n",
              "      <td>29</td>\n",
              "      <td>1.417300</td>\n",
              "    </tr>\n",
              "    <tr>\n",
              "      <td>30</td>\n",
              "      <td>1.516900</td>\n",
              "    </tr>\n",
              "    <tr>\n",
              "      <td>31</td>\n",
              "      <td>1.479000</td>\n",
              "    </tr>\n",
              "    <tr>\n",
              "      <td>32</td>\n",
              "      <td>1.392300</td>\n",
              "    </tr>\n",
              "    <tr>\n",
              "      <td>33</td>\n",
              "      <td>1.388800</td>\n",
              "    </tr>\n",
              "    <tr>\n",
              "      <td>34</td>\n",
              "      <td>1.403100</td>\n",
              "    </tr>\n",
              "    <tr>\n",
              "      <td>35</td>\n",
              "      <td>1.355100</td>\n",
              "    </tr>\n",
              "    <tr>\n",
              "      <td>36</td>\n",
              "      <td>1.477200</td>\n",
              "    </tr>\n",
              "    <tr>\n",
              "      <td>37</td>\n",
              "      <td>1.410200</td>\n",
              "    </tr>\n",
              "    <tr>\n",
              "      <td>38</td>\n",
              "      <td>1.323700</td>\n",
              "    </tr>\n",
              "    <tr>\n",
              "      <td>39</td>\n",
              "      <td>1.394100</td>\n",
              "    </tr>\n",
              "    <tr>\n",
              "      <td>40</td>\n",
              "      <td>1.293200</td>\n",
              "    </tr>\n",
              "    <tr>\n",
              "      <td>41</td>\n",
              "      <td>1.366700</td>\n",
              "    </tr>\n",
              "    <tr>\n",
              "      <td>42</td>\n",
              "      <td>1.428400</td>\n",
              "    </tr>\n",
              "    <tr>\n",
              "      <td>43</td>\n",
              "      <td>1.404700</td>\n",
              "    </tr>\n",
              "    <tr>\n",
              "      <td>44</td>\n",
              "      <td>1.316600</td>\n",
              "    </tr>\n",
              "    <tr>\n",
              "      <td>45</td>\n",
              "      <td>1.383800</td>\n",
              "    </tr>\n",
              "    <tr>\n",
              "      <td>46</td>\n",
              "      <td>1.333800</td>\n",
              "    </tr>\n",
              "    <tr>\n",
              "      <td>47</td>\n",
              "      <td>1.347800</td>\n",
              "    </tr>\n",
              "    <tr>\n",
              "      <td>48</td>\n",
              "      <td>1.319400</td>\n",
              "    </tr>\n",
              "    <tr>\n",
              "      <td>49</td>\n",
              "      <td>1.288400</td>\n",
              "    </tr>\n",
              "    <tr>\n",
              "      <td>50</td>\n",
              "      <td>1.327400</td>\n",
              "    </tr>\n",
              "    <tr>\n",
              "      <td>51</td>\n",
              "      <td>1.277100</td>\n",
              "    </tr>\n",
              "    <tr>\n",
              "      <td>52</td>\n",
              "      <td>1.287800</td>\n",
              "    </tr>\n",
              "    <tr>\n",
              "      <td>53</td>\n",
              "      <td>1.231500</td>\n",
              "    </tr>\n",
              "    <tr>\n",
              "      <td>54</td>\n",
              "      <td>1.290500</td>\n",
              "    </tr>\n",
              "    <tr>\n",
              "      <td>55</td>\n",
              "      <td>1.345100</td>\n",
              "    </tr>\n",
              "    <tr>\n",
              "      <td>56</td>\n",
              "      <td>1.325700</td>\n",
              "    </tr>\n",
              "    <tr>\n",
              "      <td>57</td>\n",
              "      <td>1.323200</td>\n",
              "    </tr>\n",
              "    <tr>\n",
              "      <td>58</td>\n",
              "      <td>1.348600</td>\n",
              "    </tr>\n",
              "    <tr>\n",
              "      <td>59</td>\n",
              "      <td>1.283600</td>\n",
              "    </tr>\n",
              "    <tr>\n",
              "      <td>60</td>\n",
              "      <td>1.200500</td>\n",
              "    </tr>\n",
              "    <tr>\n",
              "      <td>61</td>\n",
              "      <td>1.294600</td>\n",
              "    </tr>\n",
              "    <tr>\n",
              "      <td>62</td>\n",
              "      <td>1.378900</td>\n",
              "    </tr>\n",
              "    <tr>\n",
              "      <td>63</td>\n",
              "      <td>1.228700</td>\n",
              "    </tr>\n",
              "    <tr>\n",
              "      <td>64</td>\n",
              "      <td>1.253500</td>\n",
              "    </tr>\n",
              "    <tr>\n",
              "      <td>65</td>\n",
              "      <td>1.147200</td>\n",
              "    </tr>\n",
              "    <tr>\n",
              "      <td>66</td>\n",
              "      <td>1.166100</td>\n",
              "    </tr>\n",
              "    <tr>\n",
              "      <td>67</td>\n",
              "      <td>1.215700</td>\n",
              "    </tr>\n",
              "    <tr>\n",
              "      <td>68</td>\n",
              "      <td>1.172000</td>\n",
              "    </tr>\n",
              "    <tr>\n",
              "      <td>69</td>\n",
              "      <td>1.244300</td>\n",
              "    </tr>\n",
              "    <tr>\n",
              "      <td>70</td>\n",
              "      <td>1.173900</td>\n",
              "    </tr>\n",
              "    <tr>\n",
              "      <td>71</td>\n",
              "      <td>1.180300</td>\n",
              "    </tr>\n",
              "    <tr>\n",
              "      <td>72</td>\n",
              "      <td>1.137100</td>\n",
              "    </tr>\n",
              "    <tr>\n",
              "      <td>73</td>\n",
              "      <td>1.155900</td>\n",
              "    </tr>\n",
              "    <tr>\n",
              "      <td>74</td>\n",
              "      <td>1.187500</td>\n",
              "    </tr>\n",
              "    <tr>\n",
              "      <td>75</td>\n",
              "      <td>1.125000</td>\n",
              "    </tr>\n",
              "    <tr>\n",
              "      <td>76</td>\n",
              "      <td>1.200700</td>\n",
              "    </tr>\n",
              "    <tr>\n",
              "      <td>77</td>\n",
              "      <td>1.160200</td>\n",
              "    </tr>\n",
              "    <tr>\n",
              "      <td>78</td>\n",
              "      <td>1.230200</td>\n",
              "    </tr>\n",
              "    <tr>\n",
              "      <td>79</td>\n",
              "      <td>1.140800</td>\n",
              "    </tr>\n",
              "    <tr>\n",
              "      <td>80</td>\n",
              "      <td>1.094900</td>\n",
              "    </tr>\n",
              "    <tr>\n",
              "      <td>81</td>\n",
              "      <td>1.146200</td>\n",
              "    </tr>\n",
              "    <tr>\n",
              "      <td>82</td>\n",
              "      <td>1.211700</td>\n",
              "    </tr>\n",
              "    <tr>\n",
              "      <td>83</td>\n",
              "      <td>1.146700</td>\n",
              "    </tr>\n",
              "    <tr>\n",
              "      <td>84</td>\n",
              "      <td>1.202200</td>\n",
              "    </tr>\n",
              "    <tr>\n",
              "      <td>85</td>\n",
              "      <td>1.271700</td>\n",
              "    </tr>\n",
              "    <tr>\n",
              "      <td>86</td>\n",
              "      <td>1.148700</td>\n",
              "    </tr>\n",
              "    <tr>\n",
              "      <td>87</td>\n",
              "      <td>1.136000</td>\n",
              "    </tr>\n",
              "    <tr>\n",
              "      <td>88</td>\n",
              "      <td>1.126300</td>\n",
              "    </tr>\n",
              "    <tr>\n",
              "      <td>89</td>\n",
              "      <td>1.186500</td>\n",
              "    </tr>\n",
              "    <tr>\n",
              "      <td>90</td>\n",
              "      <td>1.170400</td>\n",
              "    </tr>\n",
              "    <tr>\n",
              "      <td>91</td>\n",
              "      <td>1.116400</td>\n",
              "    </tr>\n",
              "    <tr>\n",
              "      <td>92</td>\n",
              "      <td>1.241800</td>\n",
              "    </tr>\n",
              "    <tr>\n",
              "      <td>93</td>\n",
              "      <td>1.155500</td>\n",
              "    </tr>\n",
              "    <tr>\n",
              "      <td>94</td>\n",
              "      <td>1.173700</td>\n",
              "    </tr>\n",
              "    <tr>\n",
              "      <td>95</td>\n",
              "      <td>1.149400</td>\n",
              "    </tr>\n",
              "    <tr>\n",
              "      <td>96</td>\n",
              "      <td>1.145700</td>\n",
              "    </tr>\n",
              "    <tr>\n",
              "      <td>97</td>\n",
              "      <td>1.192700</td>\n",
              "    </tr>\n",
              "    <tr>\n",
              "      <td>98</td>\n",
              "      <td>1.069500</td>\n",
              "    </tr>\n",
              "    <tr>\n",
              "      <td>99</td>\n",
              "      <td>1.198800</td>\n",
              "    </tr>\n",
              "    <tr>\n",
              "      <td>100</td>\n",
              "      <td>1.143400</td>\n",
              "    </tr>\n",
              "    <tr>\n",
              "      <td>101</td>\n",
              "      <td>1.136000</td>\n",
              "    </tr>\n",
              "    <tr>\n",
              "      <td>102</td>\n",
              "      <td>1.216600</td>\n",
              "    </tr>\n",
              "    <tr>\n",
              "      <td>103</td>\n",
              "      <td>1.113000</td>\n",
              "    </tr>\n",
              "    <tr>\n",
              "      <td>104</td>\n",
              "      <td>1.187700</td>\n",
              "    </tr>\n",
              "    <tr>\n",
              "      <td>105</td>\n",
              "      <td>1.196900</td>\n",
              "    </tr>\n",
              "    <tr>\n",
              "      <td>106</td>\n",
              "      <td>1.090200</td>\n",
              "    </tr>\n",
              "    <tr>\n",
              "      <td>107</td>\n",
              "      <td>1.183200</td>\n",
              "    </tr>\n",
              "    <tr>\n",
              "      <td>108</td>\n",
              "      <td>1.210000</td>\n",
              "    </tr>\n",
              "    <tr>\n",
              "      <td>109</td>\n",
              "      <td>1.172900</td>\n",
              "    </tr>\n",
              "    <tr>\n",
              "      <td>110</td>\n",
              "      <td>1.132700</td>\n",
              "    </tr>\n",
              "    <tr>\n",
              "      <td>111</td>\n",
              "      <td>1.085400</td>\n",
              "    </tr>\n",
              "    <tr>\n",
              "      <td>112</td>\n",
              "      <td>1.152400</td>\n",
              "    </tr>\n",
              "    <tr>\n",
              "      <td>113</td>\n",
              "      <td>1.199100</td>\n",
              "    </tr>\n",
              "    <tr>\n",
              "      <td>114</td>\n",
              "      <td>1.120200</td>\n",
              "    </tr>\n",
              "    <tr>\n",
              "      <td>115</td>\n",
              "      <td>1.147000</td>\n",
              "    </tr>\n",
              "    <tr>\n",
              "      <td>116</td>\n",
              "      <td>1.076200</td>\n",
              "    </tr>\n",
              "    <tr>\n",
              "      <td>117</td>\n",
              "      <td>1.106400</td>\n",
              "    </tr>\n",
              "    <tr>\n",
              "      <td>118</td>\n",
              "      <td>1.119100</td>\n",
              "    </tr>\n",
              "    <tr>\n",
              "      <td>119</td>\n",
              "      <td>1.138300</td>\n",
              "    </tr>\n",
              "    <tr>\n",
              "      <td>120</td>\n",
              "      <td>1.112900</td>\n",
              "    </tr>\n",
              "    <tr>\n",
              "      <td>121</td>\n",
              "      <td>1.067600</td>\n",
              "    </tr>\n",
              "    <tr>\n",
              "      <td>122</td>\n",
              "      <td>1.127700</td>\n",
              "    </tr>\n",
              "    <tr>\n",
              "      <td>123</td>\n",
              "      <td>1.108900</td>\n",
              "    </tr>\n",
              "    <tr>\n",
              "      <td>124</td>\n",
              "      <td>1.205400</td>\n",
              "    </tr>\n",
              "    <tr>\n",
              "      <td>125</td>\n",
              "      <td>1.112100</td>\n",
              "    </tr>\n",
              "    <tr>\n",
              "      <td>126</td>\n",
              "      <td>1.149100</td>\n",
              "    </tr>\n",
              "    <tr>\n",
              "      <td>127</td>\n",
              "      <td>1.136900</td>\n",
              "    </tr>\n",
              "    <tr>\n",
              "      <td>128</td>\n",
              "      <td>1.178200</td>\n",
              "    </tr>\n",
              "    <tr>\n",
              "      <td>129</td>\n",
              "      <td>1.086400</td>\n",
              "    </tr>\n",
              "    <tr>\n",
              "      <td>130</td>\n",
              "      <td>1.102600</td>\n",
              "    </tr>\n",
              "    <tr>\n",
              "      <td>131</td>\n",
              "      <td>1.121000</td>\n",
              "    </tr>\n",
              "    <tr>\n",
              "      <td>132</td>\n",
              "      <td>1.116400</td>\n",
              "    </tr>\n",
              "    <tr>\n",
              "      <td>133</td>\n",
              "      <td>1.149400</td>\n",
              "    </tr>\n",
              "    <tr>\n",
              "      <td>134</td>\n",
              "      <td>1.142400</td>\n",
              "    </tr>\n",
              "    <tr>\n",
              "      <td>135</td>\n",
              "      <td>1.200400</td>\n",
              "    </tr>\n",
              "    <tr>\n",
              "      <td>136</td>\n",
              "      <td>1.145700</td>\n",
              "    </tr>\n",
              "    <tr>\n",
              "      <td>137</td>\n",
              "      <td>1.164200</td>\n",
              "    </tr>\n",
              "    <tr>\n",
              "      <td>138</td>\n",
              "      <td>1.061500</td>\n",
              "    </tr>\n",
              "    <tr>\n",
              "      <td>139</td>\n",
              "      <td>1.105100</td>\n",
              "    </tr>\n",
              "    <tr>\n",
              "      <td>140</td>\n",
              "      <td>1.172700</td>\n",
              "    </tr>\n",
              "    <tr>\n",
              "      <td>141</td>\n",
              "      <td>1.132600</td>\n",
              "    </tr>\n",
              "    <tr>\n",
              "      <td>142</td>\n",
              "      <td>1.128500</td>\n",
              "    </tr>\n",
              "    <tr>\n",
              "      <td>143</td>\n",
              "      <td>1.072500</td>\n",
              "    </tr>\n",
              "    <tr>\n",
              "      <td>144</td>\n",
              "      <td>1.087600</td>\n",
              "    </tr>\n",
              "    <tr>\n",
              "      <td>145</td>\n",
              "      <td>1.090100</td>\n",
              "    </tr>\n",
              "    <tr>\n",
              "      <td>146</td>\n",
              "      <td>1.107200</td>\n",
              "    </tr>\n",
              "    <tr>\n",
              "      <td>147</td>\n",
              "      <td>1.103600</td>\n",
              "    </tr>\n",
              "    <tr>\n",
              "      <td>148</td>\n",
              "      <td>1.060700</td>\n",
              "    </tr>\n",
              "    <tr>\n",
              "      <td>149</td>\n",
              "      <td>1.132100</td>\n",
              "    </tr>\n",
              "    <tr>\n",
              "      <td>150</td>\n",
              "      <td>1.148000</td>\n",
              "    </tr>\n",
              "    <tr>\n",
              "      <td>151</td>\n",
              "      <td>1.188600</td>\n",
              "    </tr>\n",
              "    <tr>\n",
              "      <td>152</td>\n",
              "      <td>1.108300</td>\n",
              "    </tr>\n",
              "    <tr>\n",
              "      <td>153</td>\n",
              "      <td>1.140800</td>\n",
              "    </tr>\n",
              "    <tr>\n",
              "      <td>154</td>\n",
              "      <td>1.081500</td>\n",
              "    </tr>\n",
              "    <tr>\n",
              "      <td>155</td>\n",
              "      <td>1.132700</td>\n",
              "    </tr>\n",
              "    <tr>\n",
              "      <td>156</td>\n",
              "      <td>1.110000</td>\n",
              "    </tr>\n",
              "    <tr>\n",
              "      <td>157</td>\n",
              "      <td>1.127900</td>\n",
              "    </tr>\n",
              "    <tr>\n",
              "      <td>158</td>\n",
              "      <td>1.119500</td>\n",
              "    </tr>\n",
              "    <tr>\n",
              "      <td>159</td>\n",
              "      <td>1.179600</td>\n",
              "    </tr>\n",
              "    <tr>\n",
              "      <td>160</td>\n",
              "      <td>1.134700</td>\n",
              "    </tr>\n",
              "    <tr>\n",
              "      <td>161</td>\n",
              "      <td>1.146600</td>\n",
              "    </tr>\n",
              "    <tr>\n",
              "      <td>162</td>\n",
              "      <td>1.131800</td>\n",
              "    </tr>\n",
              "    <tr>\n",
              "      <td>163</td>\n",
              "      <td>1.168300</td>\n",
              "    </tr>\n",
              "    <tr>\n",
              "      <td>164</td>\n",
              "      <td>1.148600</td>\n",
              "    </tr>\n",
              "    <tr>\n",
              "      <td>165</td>\n",
              "      <td>1.086700</td>\n",
              "    </tr>\n",
              "    <tr>\n",
              "      <td>166</td>\n",
              "      <td>1.083000</td>\n",
              "    </tr>\n",
              "    <tr>\n",
              "      <td>167</td>\n",
              "      <td>1.126300</td>\n",
              "    </tr>\n",
              "    <tr>\n",
              "      <td>168</td>\n",
              "      <td>1.107900</td>\n",
              "    </tr>\n",
              "    <tr>\n",
              "      <td>169</td>\n",
              "      <td>1.179300</td>\n",
              "    </tr>\n",
              "    <tr>\n",
              "      <td>170</td>\n",
              "      <td>1.097600</td>\n",
              "    </tr>\n",
              "    <tr>\n",
              "      <td>171</td>\n",
              "      <td>1.111900</td>\n",
              "    </tr>\n",
              "    <tr>\n",
              "      <td>172</td>\n",
              "      <td>1.148100</td>\n",
              "    </tr>\n",
              "    <tr>\n",
              "      <td>173</td>\n",
              "      <td>1.108700</td>\n",
              "    </tr>\n",
              "    <tr>\n",
              "      <td>174</td>\n",
              "      <td>1.035000</td>\n",
              "    </tr>\n",
              "    <tr>\n",
              "      <td>175</td>\n",
              "      <td>1.195300</td>\n",
              "    </tr>\n",
              "    <tr>\n",
              "      <td>176</td>\n",
              "      <td>1.104800</td>\n",
              "    </tr>\n",
              "    <tr>\n",
              "      <td>177</td>\n",
              "      <td>1.128400</td>\n",
              "    </tr>\n",
              "    <tr>\n",
              "      <td>178</td>\n",
              "      <td>1.066500</td>\n",
              "    </tr>\n",
              "    <tr>\n",
              "      <td>179</td>\n",
              "      <td>1.051000</td>\n",
              "    </tr>\n",
              "    <tr>\n",
              "      <td>180</td>\n",
              "      <td>1.032500</td>\n",
              "    </tr>\n",
              "    <tr>\n",
              "      <td>181</td>\n",
              "      <td>1.135900</td>\n",
              "    </tr>\n",
              "    <tr>\n",
              "      <td>182</td>\n",
              "      <td>1.101700</td>\n",
              "    </tr>\n",
              "    <tr>\n",
              "      <td>183</td>\n",
              "      <td>1.095600</td>\n",
              "    </tr>\n",
              "    <tr>\n",
              "      <td>184</td>\n",
              "      <td>1.071500</td>\n",
              "    </tr>\n",
              "    <tr>\n",
              "      <td>185</td>\n",
              "      <td>1.085100</td>\n",
              "    </tr>\n",
              "    <tr>\n",
              "      <td>186</td>\n",
              "      <td>1.188600</td>\n",
              "    </tr>\n",
              "    <tr>\n",
              "      <td>187</td>\n",
              "      <td>1.067900</td>\n",
              "    </tr>\n",
              "    <tr>\n",
              "      <td>188</td>\n",
              "      <td>1.231100</td>\n",
              "    </tr>\n",
              "    <tr>\n",
              "      <td>189</td>\n",
              "      <td>1.153900</td>\n",
              "    </tr>\n",
              "    <tr>\n",
              "      <td>190</td>\n",
              "      <td>1.130000</td>\n",
              "    </tr>\n",
              "    <tr>\n",
              "      <td>191</td>\n",
              "      <td>1.080900</td>\n",
              "    </tr>\n",
              "    <tr>\n",
              "      <td>192</td>\n",
              "      <td>1.090200</td>\n",
              "    </tr>\n",
              "    <tr>\n",
              "      <td>193</td>\n",
              "      <td>1.140400</td>\n",
              "    </tr>\n",
              "    <tr>\n",
              "      <td>194</td>\n",
              "      <td>1.125700</td>\n",
              "    </tr>\n",
              "    <tr>\n",
              "      <td>195</td>\n",
              "      <td>1.155900</td>\n",
              "    </tr>\n",
              "    <tr>\n",
              "      <td>196</td>\n",
              "      <td>1.172200</td>\n",
              "    </tr>\n",
              "    <tr>\n",
              "      <td>197</td>\n",
              "      <td>1.167700</td>\n",
              "    </tr>\n",
              "    <tr>\n",
              "      <td>198</td>\n",
              "      <td>1.178200</td>\n",
              "    </tr>\n",
              "    <tr>\n",
              "      <td>199</td>\n",
              "      <td>1.063000</td>\n",
              "    </tr>\n",
              "    <tr>\n",
              "      <td>200</td>\n",
              "      <td>1.111200</td>\n",
              "    </tr>\n",
              "  </tbody>\n",
              "</table><p>"
            ]
          },
          "metadata": {}
        }
      ]
    },
    {
      "cell_type": "code",
      "source": [
        "used_memory = round(torch.cuda.max_memory_reserved() / 1024 / 1024 / 1024, 3)\n",
        "used_memory_for_lora = round(used_memory - start_gpu_memory, 3)\n",
        "used_percentage = round(used_memory         /max_memory*100, 3)\n",
        "lora_percentage = round(used_memory_for_lora/max_memory*100, 3)\n",
        "print(f\"{trainer_stats.metrics['train_runtime']} seconds used for training.\")\n",
        "print(f\"{round(trainer_stats.metrics['train_runtime']/60, 2)} minutes used for training.\")\n",
        "print(f\"Peak reserved memory = {used_memory} GB.\")\n",
        "print(f\"Peak reserved memory for training = {used_memory_for_lora} GB.\")\n",
        "print(f\"Peak reserved memory % of max memory = {used_percentage} %.\")\n",
        "print(f\"Peak reserved memory for training % of max memory = {lora_percentage} %.\")"
      ],
      "metadata": {
        "colab": {
          "base_uri": "https://localhost:8080/"
        },
        "id": "3UBd5Asa4tut",
        "outputId": "f1630c3d-d1ca-4e26-e21d-732843a23cd8"
      },
      "execution_count": null,
      "outputs": [
        {
          "output_type": "stream",
          "name": "stdout",
          "text": [
            "3475.3134 seconds used for training.\n",
            "57.92 minutes used for training.\n",
            "Peak reserved memory = 3.07 GB.\n",
            "Peak reserved memory for training = 0.785 GB.\n",
            "Peak reserved memory % of max memory = 20.816 %.\n",
            "Peak reserved memory for training % of max memory = 5.323 %.\n"
          ]
        }
      ]
    },
    {
      "cell_type": "code",
      "source": [
        "model_second_train.save_pretrained(\"lora_model_second_train\")\n",
        "tokenizer_second_train.save_pretrained(\"lora_model_second_train\")"
      ],
      "metadata": {
        "colab": {
          "base_uri": "https://localhost:8080/"
        },
        "id": "XT3xv4f84vPG",
        "outputId": "111889e4-7e59-4477-d9bc-8ef352fd0c1c"
      },
      "execution_count": null,
      "outputs": [
        {
          "output_type": "execute_result",
          "data": {
            "text/plain": [
              "('lora_model_second_train/tokenizer_config.json',\n",
              " 'lora_model_second_train/special_tokens_map.json',\n",
              " 'lora_model_second_train/tokenizer.model',\n",
              " 'lora_model_second_train/added_tokens.json',\n",
              " 'lora_model_second_train/tokenizer.json')"
            ]
          },
          "metadata": {},
          "execution_count": 18
        }
      ]
    },
    {
      "cell_type": "code",
      "source": [
        "!zip -r lora_model_second_train.zip lora_model_second_train/"
      ],
      "metadata": {
        "id": "K4C9vEou9-yd",
        "colab": {
          "base_uri": "https://localhost:8080/"
        },
        "outputId": "33d81d8b-fa1e-463a-8b32-2ccef0c2772a"
      },
      "execution_count": null,
      "outputs": [
        {
          "output_type": "stream",
          "name": "stdout",
          "text": [
            "  adding: lora_model_second_train/ (stored 0%)\n",
            "  adding: lora_model_second_train/tokenizer_config.json (deflated 83%)\n",
            "  adding: lora_model_second_train/added_tokens.json (deflated 62%)\n",
            "  adding: lora_model_second_train/special_tokens_map.json (deflated 76%)\n",
            "  adding: lora_model_second_train/tokenizer.model (deflated 55%)\n",
            "  adding: lora_model_second_train/tokenizer.json (deflated 85%)\n",
            "  adding: lora_model_second_train/adapter_model.safetensors (deflated 8%)\n",
            "  adding: lora_model_second_train/README.md (deflated 66%)\n",
            "  adding: lora_model_second_train/adapter_config.json (deflated 54%)\n"
          ]
        }
      ]
    },
    {
      "cell_type": "markdown",
      "source": [
        "# Testeo segundo modelo"
      ],
      "metadata": {
        "id": "G3xMonnoTnS9"
      }
    },
    {
      "cell_type": "code",
      "source": [
        "model, tokenizer = FastLanguageModel.from_pretrained(\n",
        "    model_name = \"lora_model_second_train\",\n",
        "    max_seq_length = max_seq_length,\n",
        "    dtype=None,\n",
        "    load_in_4bit=True,\n",
        ")\n",
        "FastLanguageModel.for_inference(model)"
      ],
      "metadata": {
        "colab": {
          "base_uri": "https://localhost:8080/"
        },
        "id": "dBZBeA54TpGT",
        "outputId": "379acf8a-a335-4b18-9fc8-b2f3fa5f129d"
      },
      "execution_count": null,
      "outputs": [
        {
          "output_type": "stream",
          "name": "stdout",
          "text": [
            "==((====))==  Unsloth 2024.12.4: Fast Llama patching. Transformers:4.46.3.\n",
            "   \\\\   /|    GPU: Tesla T4. Max memory: 14.748 GB. Platform: Linux.\n",
            "O^O/ \\_/ \\    Torch: 2.5.0+cu124. CUDA: 7.5. CUDA Toolkit: 12.4. Triton: 3.1.0\n",
            "\\        /    Bfloat16 = FALSE. FA [Xformers = 0.0.28.post2. FA2 = False]\n",
            " \"-____-\"     Free Apache license: http://github.com/unslothai/unsloth\n",
            "Unsloth: Fast downloading is enabled - ignore downloading bars which are red colored!\n"
          ]
        },
        {
          "output_type": "execute_result",
          "data": {
            "text/plain": [
              "PeftModelForCausalLM(\n",
              "  (base_model): LoraModel(\n",
              "    (model): LlamaForCausalLM(\n",
              "      (model): LlamaModel(\n",
              "        (embed_tokens): Embedding(32064, 3072, padding_idx=32000)\n",
              "        (layers): ModuleList(\n",
              "          (0-31): 32 x LlamaDecoderLayer(\n",
              "            (self_attn): LlamaAttention(\n",
              "              (q_proj): lora.Linear4bit(\n",
              "                (base_layer): Linear4bit(in_features=3072, out_features=3072, bias=False)\n",
              "                (lora_dropout): ModuleDict(\n",
              "                  (default): Identity()\n",
              "                )\n",
              "                (lora_A): ModuleDict(\n",
              "                  (default): Linear(in_features=3072, out_features=16, bias=False)\n",
              "                )\n",
              "                (lora_B): ModuleDict(\n",
              "                  (default): Linear(in_features=16, out_features=3072, bias=False)\n",
              "                )\n",
              "                (lora_embedding_A): ParameterDict()\n",
              "                (lora_embedding_B): ParameterDict()\n",
              "                (lora_magnitude_vector): ModuleDict()\n",
              "              )\n",
              "              (k_proj): lora.Linear4bit(\n",
              "                (base_layer): Linear4bit(in_features=3072, out_features=3072, bias=False)\n",
              "                (lora_dropout): ModuleDict(\n",
              "                  (default): Identity()\n",
              "                )\n",
              "                (lora_A): ModuleDict(\n",
              "                  (default): Linear(in_features=3072, out_features=16, bias=False)\n",
              "                )\n",
              "                (lora_B): ModuleDict(\n",
              "                  (default): Linear(in_features=16, out_features=3072, bias=False)\n",
              "                )\n",
              "                (lora_embedding_A): ParameterDict()\n",
              "                (lora_embedding_B): ParameterDict()\n",
              "                (lora_magnitude_vector): ModuleDict()\n",
              "              )\n",
              "              (v_proj): lora.Linear4bit(\n",
              "                (base_layer): Linear4bit(in_features=3072, out_features=3072, bias=False)\n",
              "                (lora_dropout): ModuleDict(\n",
              "                  (default): Identity()\n",
              "                )\n",
              "                (lora_A): ModuleDict(\n",
              "                  (default): Linear(in_features=3072, out_features=16, bias=False)\n",
              "                )\n",
              "                (lora_B): ModuleDict(\n",
              "                  (default): Linear(in_features=16, out_features=3072, bias=False)\n",
              "                )\n",
              "                (lora_embedding_A): ParameterDict()\n",
              "                (lora_embedding_B): ParameterDict()\n",
              "                (lora_magnitude_vector): ModuleDict()\n",
              "              )\n",
              "              (o_proj): lora.Linear4bit(\n",
              "                (base_layer): Linear4bit(in_features=3072, out_features=3072, bias=False)\n",
              "                (lora_dropout): ModuleDict(\n",
              "                  (default): Identity()\n",
              "                )\n",
              "                (lora_A): ModuleDict(\n",
              "                  (default): Linear(in_features=3072, out_features=16, bias=False)\n",
              "                )\n",
              "                (lora_B): ModuleDict(\n",
              "                  (default): Linear(in_features=16, out_features=3072, bias=False)\n",
              "                )\n",
              "                (lora_embedding_A): ParameterDict()\n",
              "                (lora_embedding_B): ParameterDict()\n",
              "                (lora_magnitude_vector): ModuleDict()\n",
              "              )\n",
              "              (rotary_emb): LongRopeRotaryEmbedding()\n",
              "            )\n",
              "            (mlp): LlamaMLP(\n",
              "              (gate_proj): lora.Linear4bit(\n",
              "                (base_layer): Linear4bit(in_features=3072, out_features=8192, bias=False)\n",
              "                (lora_dropout): ModuleDict(\n",
              "                  (default): Identity()\n",
              "                )\n",
              "                (lora_A): ModuleDict(\n",
              "                  (default): Linear(in_features=3072, out_features=16, bias=False)\n",
              "                )\n",
              "                (lora_B): ModuleDict(\n",
              "                  (default): Linear(in_features=16, out_features=8192, bias=False)\n",
              "                )\n",
              "                (lora_embedding_A): ParameterDict()\n",
              "                (lora_embedding_B): ParameterDict()\n",
              "                (lora_magnitude_vector): ModuleDict()\n",
              "              )\n",
              "              (up_proj): lora.Linear4bit(\n",
              "                (base_layer): Linear4bit(in_features=3072, out_features=8192, bias=False)\n",
              "                (lora_dropout): ModuleDict(\n",
              "                  (default): Identity()\n",
              "                )\n",
              "                (lora_A): ModuleDict(\n",
              "                  (default): Linear(in_features=3072, out_features=16, bias=False)\n",
              "                )\n",
              "                (lora_B): ModuleDict(\n",
              "                  (default): Linear(in_features=16, out_features=8192, bias=False)\n",
              "                )\n",
              "                (lora_embedding_A): ParameterDict()\n",
              "                (lora_embedding_B): ParameterDict()\n",
              "                (lora_magnitude_vector): ModuleDict()\n",
              "              )\n",
              "              (down_proj): lora.Linear4bit(\n",
              "                (base_layer): Linear4bit(in_features=8192, out_features=3072, bias=False)\n",
              "                (lora_dropout): ModuleDict(\n",
              "                  (default): Identity()\n",
              "                )\n",
              "                (lora_A): ModuleDict(\n",
              "                  (default): Linear(in_features=8192, out_features=16, bias=False)\n",
              "                )\n",
              "                (lora_B): ModuleDict(\n",
              "                  (default): Linear(in_features=16, out_features=3072, bias=False)\n",
              "                )\n",
              "                (lora_embedding_A): ParameterDict()\n",
              "                (lora_embedding_B): ParameterDict()\n",
              "                (lora_magnitude_vector): ModuleDict()\n",
              "              )\n",
              "              (act_fn): SiLU()\n",
              "            )\n",
              "            (input_layernorm): LlamaRMSNorm((3072,), eps=1e-05)\n",
              "            (post_attention_layernorm): LlamaRMSNorm((3072,), eps=1e-05)\n",
              "          )\n",
              "        )\n",
              "        (norm): LlamaRMSNorm((3072,), eps=1e-05)\n",
              "        (rotary_emb): LlamaRotaryEmbedding()\n",
              "      )\n",
              "      (lm_head): Linear(in_features=3072, out_features=32064, bias=False)\n",
              "    )\n",
              "  )\n",
              ")"
            ]
          },
          "metadata": {},
          "execution_count": 20
        }
      ]
    },
    {
      "cell_type": "code",
      "source": [
        "tokenizer = get_chat_template(\n",
        "    tokenizer,\n",
        "    chat_template=\"phi-3.5\",\n",
        ")"
      ],
      "metadata": {
        "id": "xxOv0lBJT1H8"
      },
      "execution_count": null,
      "outputs": []
    },
    {
      "cell_type": "code",
      "source": [
        "with open(\"formatted_test.json\", \"r\") as f:\n",
        "    data = json.load(f)\n",
        "\n",
        "dataset = Dataset.from_dict({\"conversations\": data})"
      ],
      "metadata": {
        "id": "bzpUmmllT36e"
      },
      "execution_count": null,
      "outputs": []
    },
    {
      "cell_type": "code",
      "source": [
        "formatted_test_dataset = preprocess_dataset(dataset, tokenizer)"
      ],
      "metadata": {
        "colab": {
          "base_uri": "https://localhost:8080/",
          "height": 49,
          "referenced_widgets": [
            "b6ab00c719844661904e58e9860acd90",
            "217cc58a5c1a40989979ccf4fdf26abe",
            "a2447daf7d02441c9f4c526e27dc1c77",
            "5ac20f2c821a43a8a5c594bdd42aeb06",
            "59182ce99e6045238bb7c76a91cc0f2c",
            "e4a5eb55d65b43cbb4c97c7f3026eeec",
            "6036b31bcf764fd58bf6bf77f03620e8",
            "e68c75de08c348c0a0286c583d422481",
            "e8ebb9879f204b87b67ca26d2be2c515",
            "67916fe2b13146e89245c0d485335f92",
            "f16d4217032940a7a3786d64cf4b4ddc"
          ]
        },
        "id": "Rfjn7-FOUBPM",
        "outputId": "ac306a11-8e06-4b2b-aa41-c7d04bd0cde4"
      },
      "execution_count": null,
      "outputs": [
        {
          "output_type": "display_data",
          "data": {
            "text/plain": [
              "Map:   0%|          | 0/2277 [00:00<?, ? examples/s]"
            ],
            "application/vnd.jupyter.widget-view+json": {
              "version_major": 2,
              "version_minor": 0,
              "model_id": "b6ab00c719844661904e58e9860acd90"
            }
          },
          "metadata": {}
        }
      ]
    },
    {
      "cell_type": "code",
      "source": [
        "%%capture\n",
        "!pip install tqdm"
      ],
      "metadata": {
        "id": "_OMtseCLUHGF"
      },
      "execution_count": null,
      "outputs": []
    },
    {
      "cell_type": "code",
      "source": [
        "percentage = 0.2\n",
        "sample_size = int(len(formatted_test_dataset) * percentage)\n",
        "subset_test_dataset = formatted_test_dataset.shuffle(seed=42).select(range(sample_size))\n",
        "\n",
        "print(f\"Usando {sample_size} ejemplos para la evaluación.\")"
      ],
      "metadata": {
        "colab": {
          "base_uri": "https://localhost:8080/"
        },
        "id": "l0pPd2CBUKol",
        "outputId": "c6224acd-51fc-43c3-9d6d-afeb60c05795"
      },
      "execution_count": null,
      "outputs": [
        {
          "output_type": "stream",
          "name": "stdout",
          "text": [
            "Usando 455 ejemplos para la evaluación.\n"
          ]
        }
      ]
    },
    {
      "cell_type": "code",
      "source": [
        "from tqdm import tqdm\n",
        "\n",
        "generation_args = {\n",
        "    \"max_new_tokens\": 100,\n",
        "    \"temperature\": 0.3,\n",
        "    \"use_cache\": True,\n",
        "    \"top_p\": 0.9,\n",
        "    \"top_k\": 50,\n",
        "}\n",
        "\n",
        "predictions = []\n",
        "references = []\n",
        "\n",
        "for example in tqdm(subset_test_dataset):\n",
        "    conversation = example[\"conversations\"]\n",
        "    system_message = conversation[0]\n",
        "    user_assistant_turns = conversation[1:-2]\n",
        "\n",
        "    max_turns = 10\n",
        "    truncated_turns = user_assistant_turns[-max_turns:]\n",
        "\n",
        "    messages = [system_message] + truncated_turns\n",
        "    inputs = tokenizer.apply_chat_template(\n",
        "        messages,\n",
        "        tokenize=True,\n",
        "        add_generation_prompt=True,\n",
        "        return_tensors=\"pt\",\n",
        "    ).to(\"cuda\")\n",
        "\n",
        "    print(f\"Inputs shape: {inputs.shape}\")\n",
        "\n",
        "    with torch.no_grad():\n",
        "        outputs = model.generate(input_ids=inputs, **generation_args)\n",
        "\n",
        "    generated_response = tokenizer.batch_decode(outputs, skip_special_tokens=True)[0]\n",
        "\n",
        "    if \"assistant\" in generated_response:\n",
        "        generated_response = generated_response.split(\"assistant\")[-1].strip()\n",
        "\n",
        "    predictions.append(generated_response)\n",
        "\n",
        "    references.append(conversation[-2][\"content\"])\n"
      ],
      "metadata": {
        "colab": {
          "base_uri": "https://localhost:8080/"
        },
        "id": "ywBSvP6zUSf4",
        "outputId": "785f46a5-2106-4b58-9a26-79c4a179537f"
      },
      "execution_count": null,
      "outputs": [
        {
          "output_type": "stream",
          "name": "stderr",
          "text": [
            "\r  0%|          | 0/455 [00:00<?, ?it/s]The attention mask is not set and cannot be inferred from input because pad token is same as eos token. As a consequence, you may observe unexpected behavior. Please pass your input's `attention_mask` to obtain reliable results.\n"
          ]
        },
        {
          "output_type": "stream",
          "name": "stdout",
          "text": [
            "Inputs shape: torch.Size([1, 1039])\n"
          ]
        },
        {
          "output_type": "stream",
          "name": "stderr",
          "text": [
            "\r  0%|          | 1/455 [00:24<3:05:41, 24.54s/it]"
          ]
        },
        {
          "output_type": "stream",
          "name": "stdout",
          "text": [
            "Inputs shape: torch.Size([1, 1106])\n"
          ]
        },
        {
          "output_type": "stream",
          "name": "stderr",
          "text": [
            "\r  0%|          | 2/455 [00:46<2:52:58, 22.91s/it]"
          ]
        },
        {
          "output_type": "stream",
          "name": "stdout",
          "text": [
            "Inputs shape: torch.Size([1, 1004])\n"
          ]
        },
        {
          "output_type": "stream",
          "name": "stderr",
          "text": [
            "\r  1%|          | 3/455 [00:59<2:20:48, 18.69s/it]"
          ]
        },
        {
          "output_type": "stream",
          "name": "stdout",
          "text": [
            "Inputs shape: torch.Size([1, 867])\n"
          ]
        },
        {
          "output_type": "stream",
          "name": "stderr",
          "text": [
            "\r  1%|          | 4/455 [01:10<1:56:28, 15.50s/it]"
          ]
        },
        {
          "output_type": "stream",
          "name": "stdout",
          "text": [
            "Inputs shape: torch.Size([1, 906])\n"
          ]
        },
        {
          "output_type": "stream",
          "name": "stderr",
          "text": [
            "\r  1%|          | 5/455 [01:20<1:40:28, 13.40s/it]"
          ]
        },
        {
          "output_type": "stream",
          "name": "stdout",
          "text": [
            "Inputs shape: torch.Size([1, 882])\n"
          ]
        },
        {
          "output_type": "stream",
          "name": "stderr",
          "text": [
            "\r  1%|▏         | 6/455 [01:26<1:22:43, 11.05s/it]"
          ]
        },
        {
          "output_type": "stream",
          "name": "stdout",
          "text": [
            "Inputs shape: torch.Size([1, 1208])\n"
          ]
        },
        {
          "output_type": "stream",
          "name": "stderr",
          "text": [
            "\r  2%|▏         | 7/455 [01:36<1:19:19, 10.62s/it]"
          ]
        },
        {
          "output_type": "stream",
          "name": "stdout",
          "text": [
            "Inputs shape: torch.Size([1, 1002])\n"
          ]
        },
        {
          "output_type": "stream",
          "name": "stderr",
          "text": [
            "\r  2%|▏         | 8/455 [01:47<1:19:47, 10.71s/it]"
          ]
        },
        {
          "output_type": "stream",
          "name": "stdout",
          "text": [
            "Inputs shape: torch.Size([1, 983])\n"
          ]
        },
        {
          "output_type": "stream",
          "name": "stderr",
          "text": [
            "\r  2%|▏         | 9/455 [01:53<1:09:52,  9.40s/it]"
          ]
        },
        {
          "output_type": "stream",
          "name": "stdout",
          "text": [
            "Inputs shape: torch.Size([1, 1608])\n"
          ]
        },
        {
          "output_type": "stream",
          "name": "stderr",
          "text": [
            "\r  2%|▏         | 10/455 [02:03<1:09:09,  9.32s/it]"
          ]
        },
        {
          "output_type": "stream",
          "name": "stdout",
          "text": [
            "Inputs shape: torch.Size([1, 770])\n"
          ]
        },
        {
          "output_type": "stream",
          "name": "stderr",
          "text": [
            "\r  2%|▏         | 11/455 [02:15<1:16:36, 10.35s/it]"
          ]
        },
        {
          "output_type": "stream",
          "name": "stdout",
          "text": [
            "Inputs shape: torch.Size([1, 958])\n"
          ]
        },
        {
          "output_type": "stream",
          "name": "stderr",
          "text": [
            "\r  3%|▎         | 12/455 [02:24<1:12:49,  9.86s/it]"
          ]
        },
        {
          "output_type": "stream",
          "name": "stdout",
          "text": [
            "Inputs shape: torch.Size([1, 932])\n"
          ]
        },
        {
          "output_type": "stream",
          "name": "stderr",
          "text": [
            "\r  3%|▎         | 13/455 [02:34<1:12:33,  9.85s/it]"
          ]
        },
        {
          "output_type": "stream",
          "name": "stdout",
          "text": [
            "Inputs shape: torch.Size([1, 1062])\n"
          ]
        },
        {
          "output_type": "stream",
          "name": "stderr",
          "text": [
            "\r  3%|▎         | 14/455 [02:45<1:14:54, 10.19s/it]"
          ]
        },
        {
          "output_type": "stream",
          "name": "stdout",
          "text": [
            "Inputs shape: torch.Size([1, 1315])\n"
          ]
        },
        {
          "output_type": "stream",
          "name": "stderr",
          "text": [
            "\r  3%|▎         | 15/455 [02:51<1:07:00,  9.14s/it]"
          ]
        },
        {
          "output_type": "stream",
          "name": "stdout",
          "text": [
            "Inputs shape: torch.Size([1, 866])\n"
          ]
        },
        {
          "output_type": "stream",
          "name": "stderr",
          "text": [
            "\r  4%|▎         | 16/455 [03:00<1:05:30,  8.95s/it]"
          ]
        },
        {
          "output_type": "stream",
          "name": "stdout",
          "text": [
            "Inputs shape: torch.Size([1, 1369])\n"
          ]
        },
        {
          "output_type": "stream",
          "name": "stderr",
          "text": [
            "\r  4%|▎         | 17/455 [03:11<1:10:23,  9.64s/it]"
          ]
        },
        {
          "output_type": "stream",
          "name": "stdout",
          "text": [
            "Inputs shape: torch.Size([1, 897])\n"
          ]
        },
        {
          "output_type": "stream",
          "name": "stderr",
          "text": [
            "\r  4%|▍         | 18/455 [03:19<1:05:38,  9.01s/it]"
          ]
        },
        {
          "output_type": "stream",
          "name": "stdout",
          "text": [
            "Inputs shape: torch.Size([1, 1127])\n"
          ]
        },
        {
          "output_type": "stream",
          "name": "stderr",
          "text": [
            "\r  4%|▍         | 19/455 [03:26<1:01:16,  8.43s/it]"
          ]
        },
        {
          "output_type": "stream",
          "name": "stdout",
          "text": [
            "Inputs shape: torch.Size([1, 1086])\n"
          ]
        },
        {
          "output_type": "stream",
          "name": "stderr",
          "text": [
            "\r  4%|▍         | 20/455 [03:37<1:06:29,  9.17s/it]"
          ]
        },
        {
          "output_type": "stream",
          "name": "stdout",
          "text": [
            "Inputs shape: torch.Size([1, 1028])\n"
          ]
        },
        {
          "output_type": "stream",
          "name": "stderr",
          "text": [
            "\r  5%|▍         | 21/455 [03:46<1:07:09,  9.28s/it]"
          ]
        },
        {
          "output_type": "stream",
          "name": "stdout",
          "text": [
            "Inputs shape: torch.Size([1, 1302])\n"
          ]
        },
        {
          "output_type": "stream",
          "name": "stderr",
          "text": [
            "\r  5%|▍         | 22/455 [03:53<1:01:40,  8.55s/it]"
          ]
        },
        {
          "output_type": "stream",
          "name": "stdout",
          "text": [
            "Inputs shape: torch.Size([1, 1080])\n"
          ]
        },
        {
          "output_type": "stream",
          "name": "stderr",
          "text": [
            "\r  5%|▌         | 23/455 [04:04<1:05:43,  9.13s/it]"
          ]
        },
        {
          "output_type": "stream",
          "name": "stdout",
          "text": [
            "Inputs shape: torch.Size([1, 1282])\n"
          ]
        },
        {
          "output_type": "stream",
          "name": "stderr",
          "text": [
            "\r  5%|▌         | 24/455 [04:14<1:09:00,  9.61s/it]"
          ]
        },
        {
          "output_type": "stream",
          "name": "stdout",
          "text": [
            "Inputs shape: torch.Size([1, 1100])\n"
          ]
        },
        {
          "output_type": "stream",
          "name": "stderr",
          "text": [
            "\r  5%|▌         | 25/455 [04:21<1:02:36,  8.74s/it]"
          ]
        },
        {
          "output_type": "stream",
          "name": "stdout",
          "text": [
            "Inputs shape: torch.Size([1, 1054])\n"
          ]
        },
        {
          "output_type": "stream",
          "name": "stderr",
          "text": [
            "\r  6%|▌         | 26/455 [04:30<1:03:18,  8.85s/it]"
          ]
        },
        {
          "output_type": "stream",
          "name": "stdout",
          "text": [
            "Inputs shape: torch.Size([1, 1139])\n"
          ]
        },
        {
          "output_type": "stream",
          "name": "stderr",
          "text": [
            "\r  6%|▌         | 27/455 [04:41<1:08:14,  9.57s/it]"
          ]
        },
        {
          "output_type": "stream",
          "name": "stdout",
          "text": [
            "Inputs shape: torch.Size([1, 1041])\n"
          ]
        },
        {
          "output_type": "stream",
          "name": "stderr",
          "text": [
            "\r  6%|▌         | 28/455 [04:49<1:02:56,  8.85s/it]"
          ]
        },
        {
          "output_type": "stream",
          "name": "stdout",
          "text": [
            "Inputs shape: torch.Size([1, 932])\n"
          ]
        },
        {
          "output_type": "stream",
          "name": "stderr",
          "text": [
            "\r  6%|▋         | 29/455 [04:56<1:00:07,  8.47s/it]"
          ]
        },
        {
          "output_type": "stream",
          "name": "stdout",
          "text": [
            "Inputs shape: torch.Size([1, 1333])\n"
          ]
        },
        {
          "output_type": "stream",
          "name": "stderr",
          "text": [
            "\r  7%|▋         | 30/455 [05:08<1:06:11,  9.34s/it]"
          ]
        },
        {
          "output_type": "stream",
          "name": "stdout",
          "text": [
            "Inputs shape: torch.Size([1, 1142])\n"
          ]
        },
        {
          "output_type": "stream",
          "name": "stderr",
          "text": [
            "\r  7%|▋         | 31/455 [05:16<1:04:08,  9.08s/it]"
          ]
        },
        {
          "output_type": "stream",
          "name": "stdout",
          "text": [
            "Inputs shape: torch.Size([1, 849])\n"
          ]
        },
        {
          "output_type": "stream",
          "name": "stderr",
          "text": [
            "\r  7%|▋         | 32/455 [05:23<59:09,  8.39s/it]  "
          ]
        },
        {
          "output_type": "stream",
          "name": "stdout",
          "text": [
            "Inputs shape: torch.Size([1, 1388])\n"
          ]
        },
        {
          "output_type": "stream",
          "name": "stderr",
          "text": [
            "\r  7%|▋         | 33/455 [05:34<1:04:42,  9.20s/it]"
          ]
        },
        {
          "output_type": "stream",
          "name": "stdout",
          "text": [
            "Inputs shape: torch.Size([1, 1311])\n"
          ]
        },
        {
          "output_type": "stream",
          "name": "stderr",
          "text": [
            "\r  7%|▋         | 34/455 [05:44<1:05:39,  9.36s/it]"
          ]
        },
        {
          "output_type": "stream",
          "name": "stdout",
          "text": [
            "Inputs shape: torch.Size([1, 807])\n"
          ]
        },
        {
          "output_type": "stream",
          "name": "stderr",
          "text": [
            "\r  8%|▊         | 35/455 [05:50<59:38,  8.52s/it]  "
          ]
        },
        {
          "output_type": "stream",
          "name": "stdout",
          "text": [
            "Inputs shape: torch.Size([1, 873])\n"
          ]
        },
        {
          "output_type": "stream",
          "name": "stderr",
          "text": [
            "\r  8%|▊         | 36/455 [06:00<1:02:25,  8.94s/it]"
          ]
        },
        {
          "output_type": "stream",
          "name": "stdout",
          "text": [
            "Inputs shape: torch.Size([1, 1005])\n"
          ]
        },
        {
          "output_type": "stream",
          "name": "stderr",
          "text": [
            "\r  8%|▊         | 37/455 [06:11<1:06:44,  9.58s/it]"
          ]
        },
        {
          "output_type": "stream",
          "name": "stdout",
          "text": [
            "Inputs shape: torch.Size([1, 1174])\n"
          ]
        },
        {
          "output_type": "stream",
          "name": "stderr",
          "text": [
            "\r  8%|▊         | 38/455 [06:18<1:00:39,  8.73s/it]"
          ]
        },
        {
          "output_type": "stream",
          "name": "stdout",
          "text": [
            "Inputs shape: torch.Size([1, 924])\n"
          ]
        },
        {
          "output_type": "stream",
          "name": "stderr",
          "text": [
            "\r  9%|▊         | 39/455 [06:27<1:00:48,  8.77s/it]"
          ]
        },
        {
          "output_type": "stream",
          "name": "stdout",
          "text": [
            "Inputs shape: torch.Size([1, 1217])\n"
          ]
        },
        {
          "output_type": "stream",
          "name": "stderr",
          "text": [
            "\r  9%|▉         | 40/455 [06:38<1:05:59,  9.54s/it]"
          ]
        },
        {
          "output_type": "stream",
          "name": "stdout",
          "text": [
            "Inputs shape: torch.Size([1, 892])\n"
          ]
        },
        {
          "output_type": "stream",
          "name": "stderr",
          "text": [
            "\r  9%|▉         | 41/455 [06:45<1:01:01,  8.84s/it]"
          ]
        },
        {
          "output_type": "stream",
          "name": "stdout",
          "text": [
            "Inputs shape: torch.Size([1, 909])\n"
          ]
        },
        {
          "output_type": "stream",
          "name": "stderr",
          "text": [
            "\r  9%|▉         | 42/455 [06:53<58:16,  8.47s/it]  "
          ]
        },
        {
          "output_type": "stream",
          "name": "stdout",
          "text": [
            "Inputs shape: torch.Size([1, 1094])\n"
          ]
        },
        {
          "output_type": "stream",
          "name": "stderr",
          "text": [
            "\r  9%|▉         | 43/455 [07:04<1:03:46,  9.29s/it]"
          ]
        },
        {
          "output_type": "stream",
          "name": "stdout",
          "text": [
            "Inputs shape: torch.Size([1, 1080])\n"
          ]
        },
        {
          "output_type": "stream",
          "name": "stderr",
          "text": [
            "\r 10%|▉         | 44/455 [07:13<1:02:07,  9.07s/it]"
          ]
        },
        {
          "output_type": "stream",
          "name": "stdout",
          "text": [
            "Inputs shape: torch.Size([1, 1263])\n"
          ]
        },
        {
          "output_type": "stream",
          "name": "stderr",
          "text": [
            "\r 10%|▉         | 45/455 [07:20<57:50,  8.47s/it]  "
          ]
        },
        {
          "output_type": "stream",
          "name": "stdout",
          "text": [
            "Inputs shape: torch.Size([1, 1047])\n"
          ]
        },
        {
          "output_type": "stream",
          "name": "stderr",
          "text": [
            "\r 10%|█         | 46/455 [07:31<1:02:37,  9.19s/it]"
          ]
        },
        {
          "output_type": "stream",
          "name": "stdout",
          "text": [
            "Inputs shape: torch.Size([1, 1240])\n"
          ]
        },
        {
          "output_type": "stream",
          "name": "stderr",
          "text": [
            "\r 10%|█         | 47/455 [07:40<1:03:46,  9.38s/it]"
          ]
        },
        {
          "output_type": "stream",
          "name": "stdout",
          "text": [
            "Inputs shape: torch.Size([1, 766])\n"
          ]
        },
        {
          "output_type": "stream",
          "name": "stderr",
          "text": [
            "\r 11%|█         | 48/455 [07:47<58:07,  8.57s/it]  "
          ]
        },
        {
          "output_type": "stream",
          "name": "stdout",
          "text": [
            "Inputs shape: torch.Size([1, 1214])\n"
          ]
        },
        {
          "output_type": "stream",
          "name": "stderr",
          "text": [
            "\r 11%|█         | 49/455 [07:57<1:01:00,  9.02s/it]"
          ]
        },
        {
          "output_type": "stream",
          "name": "stdout",
          "text": [
            "Inputs shape: torch.Size([1, 1305])\n"
          ]
        },
        {
          "output_type": "stream",
          "name": "stderr",
          "text": [
            "\r 11%|█         | 50/455 [08:08<1:05:27,  9.70s/it]"
          ]
        },
        {
          "output_type": "stream",
          "name": "stdout",
          "text": [
            "Inputs shape: torch.Size([1, 1108])\n"
          ]
        },
        {
          "output_type": "stream",
          "name": "stderr",
          "text": [
            "\r 11%|█         | 51/455 [08:15<59:24,  8.82s/it]  "
          ]
        },
        {
          "output_type": "stream",
          "name": "stdout",
          "text": [
            "Inputs shape: torch.Size([1, 942])\n"
          ]
        },
        {
          "output_type": "stream",
          "name": "stderr",
          "text": [
            "\r 11%|█▏        | 52/455 [08:24<58:57,  8.78s/it]"
          ]
        },
        {
          "output_type": "stream",
          "name": "stdout",
          "text": [
            "Inputs shape: torch.Size([1, 1064])\n"
          ]
        },
        {
          "output_type": "stream",
          "name": "stderr",
          "text": [
            "\r 12%|█▏        | 53/455 [08:35<1:03:49,  9.53s/it]"
          ]
        },
        {
          "output_type": "stream",
          "name": "stdout",
          "text": [
            "Inputs shape: torch.Size([1, 962])\n"
          ]
        },
        {
          "output_type": "stream",
          "name": "stderr",
          "text": [
            "\r 12%|█▏        | 54/455 [08:43<1:00:12,  9.01s/it]"
          ]
        },
        {
          "output_type": "stream",
          "name": "stdout",
          "text": [
            "Inputs shape: torch.Size([1, 1129])\n"
          ]
        },
        {
          "output_type": "stream",
          "name": "stderr",
          "text": [
            "\r 12%|█▏        | 55/455 [08:51<57:01,  8.55s/it]  "
          ]
        },
        {
          "output_type": "stream",
          "name": "stdout",
          "text": [
            "Inputs shape: torch.Size([1, 888])\n"
          ]
        },
        {
          "output_type": "stream",
          "name": "stderr",
          "text": [
            "\r 12%|█▏        | 56/455 [09:02<1:02:08,  9.34s/it]"
          ]
        },
        {
          "output_type": "stream",
          "name": "stdout",
          "text": [
            "Inputs shape: torch.Size([1, 863])\n"
          ]
        },
        {
          "output_type": "stream",
          "name": "stderr",
          "text": [
            "\r 13%|█▎        | 57/455 [09:11<1:00:58,  9.19s/it]"
          ]
        },
        {
          "output_type": "stream",
          "name": "stdout",
          "text": [
            "Inputs shape: torch.Size([1, 929])\n"
          ]
        },
        {
          "output_type": "stream",
          "name": "stderr",
          "text": [
            "\r 13%|█▎        | 58/455 [09:17<55:39,  8.41s/it]  "
          ]
        },
        {
          "output_type": "stream",
          "name": "stdout",
          "text": [
            "Inputs shape: torch.Size([1, 906])\n"
          ]
        },
        {
          "output_type": "stream",
          "name": "stderr",
          "text": [
            "\r 13%|█▎        | 59/455 [09:28<59:52,  9.07s/it]"
          ]
        },
        {
          "output_type": "stream",
          "name": "stdout",
          "text": [
            "Inputs shape: torch.Size([1, 1021])\n"
          ]
        },
        {
          "output_type": "stream",
          "name": "stderr",
          "text": [
            "\r 13%|█▎        | 60/455 [09:38<1:01:46,  9.38s/it]"
          ]
        },
        {
          "output_type": "stream",
          "name": "stdout",
          "text": [
            "Inputs shape: torch.Size([1, 1287])\n"
          ]
        },
        {
          "output_type": "stream",
          "name": "stderr",
          "text": [
            "\r 13%|█▎        | 61/455 [09:45<56:36,  8.62s/it]  "
          ]
        },
        {
          "output_type": "stream",
          "name": "stdout",
          "text": [
            "Inputs shape: torch.Size([1, 1118])\n"
          ]
        },
        {
          "output_type": "stream",
          "name": "stderr",
          "text": [
            "\r 14%|█▎        | 62/455 [09:54<58:34,  8.94s/it]"
          ]
        },
        {
          "output_type": "stream",
          "name": "stdout",
          "text": [
            "Inputs shape: torch.Size([1, 969])\n"
          ]
        },
        {
          "output_type": "stream",
          "name": "stderr",
          "text": [
            "\r 14%|█▍        | 63/455 [10:06<1:03:03,  9.65s/it]"
          ]
        },
        {
          "output_type": "stream",
          "name": "stdout",
          "text": [
            "Inputs shape: torch.Size([1, 996])\n"
          ]
        },
        {
          "output_type": "stream",
          "name": "stderr",
          "text": [
            "\r 14%|█▍        | 64/455 [10:12<57:01,  8.75s/it]  "
          ]
        },
        {
          "output_type": "stream",
          "name": "stdout",
          "text": [
            "Inputs shape: torch.Size([1, 1531])\n"
          ]
        },
        {
          "output_type": "stream",
          "name": "stderr",
          "text": [
            "\r 14%|█▍        | 65/455 [10:21<56:36,  8.71s/it]"
          ]
        },
        {
          "output_type": "stream",
          "name": "stdout",
          "text": [
            "Inputs shape: torch.Size([1, 901])\n"
          ]
        },
        {
          "output_type": "stream",
          "name": "stderr",
          "text": [
            "\r 15%|█▍        | 66/455 [10:32<1:01:14,  9.45s/it]"
          ]
        },
        {
          "output_type": "stream",
          "name": "stdout",
          "text": [
            "Inputs shape: torch.Size([1, 754])\n"
          ]
        },
        {
          "output_type": "stream",
          "name": "stderr",
          "text": [
            "\r 15%|█▍        | 67/455 [10:40<57:53,  8.95s/it]  "
          ]
        },
        {
          "output_type": "stream",
          "name": "stdout",
          "text": [
            "Inputs shape: torch.Size([1, 1169])\n"
          ]
        },
        {
          "output_type": "stream",
          "name": "stderr",
          "text": [
            "\r 15%|█▍        | 68/455 [10:47<54:15,  8.41s/it]"
          ]
        },
        {
          "output_type": "stream",
          "name": "stdout",
          "text": [
            "Inputs shape: torch.Size([1, 954])\n"
          ]
        },
        {
          "output_type": "stream",
          "name": "stderr",
          "text": [
            "\r 15%|█▌        | 69/455 [10:58<58:51,  9.15s/it]"
          ]
        },
        {
          "output_type": "stream",
          "name": "stdout",
          "text": [
            "Inputs shape: torch.Size([1, 1028])\n"
          ]
        },
        {
          "output_type": "stream",
          "name": "stderr",
          "text": [
            "\r 15%|█▌        | 70/455 [11:07<59:07,  9.21s/it]"
          ]
        },
        {
          "output_type": "stream",
          "name": "stdout",
          "text": [
            "Inputs shape: torch.Size([1, 1080])\n"
          ]
        },
        {
          "output_type": "stream",
          "name": "stderr",
          "text": [
            "\r 16%|█▌        | 71/455 [11:14<54:00,  8.44s/it]"
          ]
        },
        {
          "output_type": "stream",
          "name": "stdout",
          "text": [
            "Inputs shape: torch.Size([1, 875])\n"
          ]
        },
        {
          "output_type": "stream",
          "name": "stderr",
          "text": [
            "\r 16%|█▌        | 72/455 [11:24<57:01,  8.93s/it]"
          ]
        },
        {
          "output_type": "stream",
          "name": "stdout",
          "text": [
            "Inputs shape: torch.Size([1, 968])\n"
          ]
        },
        {
          "output_type": "stream",
          "name": "stderr",
          "text": [
            "\r 16%|█▌        | 73/455 [11:35<1:00:16,  9.47s/it]"
          ]
        },
        {
          "output_type": "stream",
          "name": "stdout",
          "text": [
            "Inputs shape: torch.Size([1, 1068])\n"
          ]
        },
        {
          "output_type": "stream",
          "name": "stderr",
          "text": [
            "\r 16%|█▋        | 74/455 [11:41<54:46,  8.63s/it]  "
          ]
        },
        {
          "output_type": "stream",
          "name": "stdout",
          "text": [
            "Inputs shape: torch.Size([1, 1051])\n"
          ]
        },
        {
          "output_type": "stream",
          "name": "stderr",
          "text": [
            "\r 16%|█▋        | 75/455 [11:51<55:37,  8.78s/it]"
          ]
        },
        {
          "output_type": "stream",
          "name": "stdout",
          "text": [
            "Inputs shape: torch.Size([1, 798])\n"
          ]
        },
        {
          "output_type": "stream",
          "name": "stderr",
          "text": [
            "\r 17%|█▋        | 76/455 [12:02<59:52,  9.48s/it]"
          ]
        },
        {
          "output_type": "stream",
          "name": "stdout",
          "text": [
            "Inputs shape: torch.Size([1, 1215])\n"
          ]
        },
        {
          "output_type": "stream",
          "name": "stderr",
          "text": [
            "\r 17%|█▋        | 77/455 [12:09<55:20,  8.79s/it]"
          ]
        },
        {
          "output_type": "stream",
          "name": "stdout",
          "text": [
            "Inputs shape: torch.Size([1, 854])\n"
          ]
        },
        {
          "output_type": "stream",
          "name": "stderr",
          "text": [
            "\r 17%|█▋        | 78/455 [12:16<52:47,  8.40s/it]"
          ]
        },
        {
          "output_type": "stream",
          "name": "stdout",
          "text": [
            "Inputs shape: torch.Size([1, 819])\n"
          ]
        },
        {
          "output_type": "stream",
          "name": "stderr",
          "text": [
            "\r 17%|█▋        | 79/455 [12:27<57:37,  9.20s/it]"
          ]
        },
        {
          "output_type": "stream",
          "name": "stdout",
          "text": [
            "Inputs shape: torch.Size([1, 1200])\n"
          ]
        },
        {
          "output_type": "stream",
          "name": "stderr",
          "text": [
            "\r 18%|█▊        | 80/455 [12:36<56:31,  9.04s/it]"
          ]
        },
        {
          "output_type": "stream",
          "name": "stdout",
          "text": [
            "Inputs shape: torch.Size([1, 965])\n"
          ]
        },
        {
          "output_type": "stream",
          "name": "stderr",
          "text": [
            "\r 18%|█▊        | 81/455 [12:43<52:02,  8.35s/it]"
          ]
        },
        {
          "output_type": "stream",
          "name": "stdout",
          "text": [
            "Inputs shape: torch.Size([1, 1061])\n"
          ]
        },
        {
          "output_type": "stream",
          "name": "stderr",
          "text": [
            "\r 18%|█▊        | 82/455 [12:53<55:57,  9.00s/it]"
          ]
        },
        {
          "output_type": "stream",
          "name": "stdout",
          "text": [
            "Inputs shape: torch.Size([1, 986])\n"
          ]
        },
        {
          "output_type": "stream",
          "name": "stderr",
          "text": [
            "\r 18%|█▊        | 83/455 [13:03<57:54,  9.34s/it]"
          ]
        },
        {
          "output_type": "stream",
          "name": "stdout",
          "text": [
            "Inputs shape: torch.Size([1, 940])\n"
          ]
        },
        {
          "output_type": "stream",
          "name": "stderr",
          "text": [
            "\r 18%|█▊        | 84/455 [13:10<52:29,  8.49s/it]"
          ]
        },
        {
          "output_type": "stream",
          "name": "stdout",
          "text": [
            "Inputs shape: torch.Size([1, 916])\n"
          ]
        },
        {
          "output_type": "stream",
          "name": "stderr",
          "text": [
            "\r 19%|█▊        | 85/455 [13:19<53:37,  8.69s/it]"
          ]
        },
        {
          "output_type": "stream",
          "name": "stdout",
          "text": [
            "Inputs shape: torch.Size([1, 1039])\n"
          ]
        },
        {
          "output_type": "stream",
          "name": "stderr",
          "text": [
            "\r 19%|█▉        | 86/455 [13:30<58:05,  9.45s/it]"
          ]
        },
        {
          "output_type": "stream",
          "name": "stdout",
          "text": [
            "Inputs shape: torch.Size([1, 1179])\n"
          ]
        },
        {
          "output_type": "stream",
          "name": "stderr",
          "text": [
            "\r 19%|█▉        | 87/455 [13:37<53:20,  8.70s/it]"
          ]
        },
        {
          "output_type": "stream",
          "name": "stdout",
          "text": [
            "Inputs shape: torch.Size([1, 833])\n"
          ]
        },
        {
          "output_type": "stream",
          "name": "stderr",
          "text": [
            "\r 19%|█▉        | 88/455 [13:45<51:15,  8.38s/it]"
          ]
        },
        {
          "output_type": "stream",
          "name": "stdout",
          "text": [
            "Inputs shape: torch.Size([1, 1100])\n"
          ]
        },
        {
          "output_type": "stream",
          "name": "stderr",
          "text": [
            "\r 20%|█▉        | 89/455 [13:56<56:05,  9.19s/it]"
          ]
        },
        {
          "output_type": "stream",
          "name": "stdout",
          "text": [
            "Inputs shape: torch.Size([1, 1003])\n"
          ]
        },
        {
          "output_type": "stream",
          "name": "stderr",
          "text": [
            "\r 20%|█▉        | 90/455 [14:04<54:32,  8.97s/it]"
          ]
        },
        {
          "output_type": "stream",
          "name": "stdout",
          "text": [
            "Inputs shape: torch.Size([1, 1028])\n"
          ]
        },
        {
          "output_type": "stream",
          "name": "stderr",
          "text": [
            "\r 20%|██        | 91/455 [14:11<50:20,  8.30s/it]"
          ]
        },
        {
          "output_type": "stream",
          "name": "stdout",
          "text": [
            "Inputs shape: torch.Size([1, 946])\n"
          ]
        },
        {
          "output_type": "stream",
          "name": "stderr",
          "text": [
            "\r 20%|██        | 92/455 [14:22<54:13,  8.96s/it]"
          ]
        },
        {
          "output_type": "stream",
          "name": "stdout",
          "text": [
            "Inputs shape: torch.Size([1, 1168])\n"
          ]
        },
        {
          "output_type": "stream",
          "name": "stderr",
          "text": [
            "\r 20%|██        | 93/455 [14:32<56:15,  9.32s/it]"
          ]
        },
        {
          "output_type": "stream",
          "name": "stdout",
          "text": [
            "Inputs shape: torch.Size([1, 1048])\n"
          ]
        },
        {
          "output_type": "stream",
          "name": "stderr",
          "text": [
            "\r 21%|██        | 94/455 [14:38<51:03,  8.49s/it]"
          ]
        },
        {
          "output_type": "stream",
          "name": "stdout",
          "text": [
            "Inputs shape: torch.Size([1, 1116])\n"
          ]
        },
        {
          "output_type": "stream",
          "name": "stderr",
          "text": [
            "\r 21%|██        | 95/455 [14:48<52:17,  8.72s/it]"
          ]
        },
        {
          "output_type": "stream",
          "name": "stdout",
          "text": [
            "Inputs shape: torch.Size([1, 1129])\n"
          ]
        },
        {
          "output_type": "stream",
          "name": "stderr",
          "text": [
            "\r 21%|██        | 96/455 [14:59<56:34,  9.46s/it]"
          ]
        },
        {
          "output_type": "stream",
          "name": "stdout",
          "text": [
            "Inputs shape: torch.Size([1, 794])\n"
          ]
        },
        {
          "output_type": "stream",
          "name": "stderr",
          "text": [
            "\r 21%|██▏       | 97/455 [15:06<51:33,  8.64s/it]"
          ]
        },
        {
          "output_type": "stream",
          "name": "stdout",
          "text": [
            "Inputs shape: torch.Size([1, 1148])\n"
          ]
        },
        {
          "output_type": "stream",
          "name": "stderr",
          "text": [
            "\r 22%|██▏       | 98/455 [15:13<49:49,  8.37s/it]"
          ]
        },
        {
          "output_type": "stream",
          "name": "stdout",
          "text": [
            "Inputs shape: torch.Size([1, 1140])\n"
          ]
        },
        {
          "output_type": "stream",
          "name": "stderr",
          "text": [
            "\r 22%|██▏       | 99/455 [15:24<54:24,  9.17s/it]"
          ]
        },
        {
          "output_type": "stream",
          "name": "stdout",
          "text": [
            "Inputs shape: torch.Size([1, 1081])\n"
          ]
        },
        {
          "output_type": "stream",
          "name": "stderr",
          "text": [
            "\r 22%|██▏       | 100/455 [15:33<53:26,  9.03s/it]"
          ]
        },
        {
          "output_type": "stream",
          "name": "stdout",
          "text": [
            "Inputs shape: torch.Size([1, 1106])\n"
          ]
        },
        {
          "output_type": "stream",
          "name": "stderr",
          "text": [
            "\r 22%|██▏       | 101/455 [15:40<49:04,  8.32s/it]"
          ]
        },
        {
          "output_type": "stream",
          "name": "stdout",
          "text": [
            "Inputs shape: torch.Size([1, 855])\n"
          ]
        },
        {
          "output_type": "stream",
          "name": "stderr",
          "text": [
            "\r 22%|██▏       | 102/455 [15:50<52:53,  8.99s/it]"
          ]
        },
        {
          "output_type": "stream",
          "name": "stdout",
          "text": [
            "Inputs shape: torch.Size([1, 1094])\n"
          ]
        },
        {
          "output_type": "stream",
          "name": "stderr",
          "text": [
            "\r 23%|██▎       | 103/455 [16:00<54:31,  9.30s/it]"
          ]
        },
        {
          "output_type": "stream",
          "name": "stdout",
          "text": [
            "Inputs shape: torch.Size([1, 1175])\n"
          ]
        },
        {
          "output_type": "stream",
          "name": "stderr",
          "text": [
            "\r 23%|██▎       | 104/455 [16:07<49:35,  8.48s/it]"
          ]
        },
        {
          "output_type": "stream",
          "name": "stdout",
          "text": [
            "Inputs shape: torch.Size([1, 1084])\n"
          ]
        },
        {
          "output_type": "stream",
          "name": "stderr",
          "text": [
            "\r 23%|██▎       | 105/455 [16:16<50:55,  8.73s/it]"
          ]
        },
        {
          "output_type": "stream",
          "name": "stdout",
          "text": [
            "Inputs shape: torch.Size([1, 937])\n"
          ]
        },
        {
          "output_type": "stream",
          "name": "stderr",
          "text": [
            "\r 23%|██▎       | 106/455 [16:27<55:00,  9.46s/it]"
          ]
        },
        {
          "output_type": "stream",
          "name": "stdout",
          "text": [
            "Inputs shape: torch.Size([1, 1025])\n"
          ]
        },
        {
          "output_type": "stream",
          "name": "stderr",
          "text": [
            "\r 24%|██▎       | 107/455 [16:34<50:08,  8.64s/it]"
          ]
        },
        {
          "output_type": "stream",
          "name": "stdout",
          "text": [
            "Inputs shape: torch.Size([1, 1157])\n"
          ]
        },
        {
          "output_type": "stream",
          "name": "stderr",
          "text": [
            "\r 24%|██▎       | 108/455 [16:42<48:12,  8.34s/it]"
          ]
        },
        {
          "output_type": "stream",
          "name": "stdout",
          "text": [
            "Inputs shape: torch.Size([1, 1293])\n"
          ]
        },
        {
          "output_type": "stream",
          "name": "stderr",
          "text": [
            "\r 24%|██▍       | 109/455 [16:53<52:52,  9.17s/it]"
          ]
        },
        {
          "output_type": "stream",
          "name": "stdout",
          "text": [
            "Inputs shape: torch.Size([1, 1070])\n"
          ]
        },
        {
          "output_type": "stream",
          "name": "stderr",
          "text": [
            "\r 24%|██▍       | 110/455 [17:01<51:35,  8.97s/it]"
          ]
        },
        {
          "output_type": "stream",
          "name": "stdout",
          "text": [
            "Inputs shape: torch.Size([1, 984])\n"
          ]
        },
        {
          "output_type": "stream",
          "name": "stderr",
          "text": [
            "\r 24%|██▍       | 111/455 [17:08<47:41,  8.32s/it]"
          ]
        },
        {
          "output_type": "stream",
          "name": "stdout",
          "text": [
            "Inputs shape: torch.Size([1, 861])\n"
          ]
        },
        {
          "output_type": "stream",
          "name": "stderr",
          "text": [
            "\r 25%|██▍       | 112/455 [17:19<51:57,  9.09s/it]"
          ]
        },
        {
          "output_type": "stream",
          "name": "stdout",
          "text": [
            "Inputs shape: torch.Size([1, 906])\n"
          ]
        },
        {
          "output_type": "stream",
          "name": "stderr",
          "text": [
            "\r 25%|██▍       | 113/455 [17:29<53:07,  9.32s/it]"
          ]
        },
        {
          "output_type": "stream",
          "name": "stdout",
          "text": [
            "Inputs shape: torch.Size([1, 1119])\n"
          ]
        },
        {
          "output_type": "stream",
          "name": "stderr",
          "text": [
            "\r 25%|██▌       | 114/455 [17:36<48:32,  8.54s/it]"
          ]
        },
        {
          "output_type": "stream",
          "name": "stdout",
          "text": [
            "Inputs shape: torch.Size([1, 1089])\n"
          ]
        },
        {
          "output_type": "stream",
          "name": "stderr",
          "text": [
            "\r 25%|██▌       | 115/455 [17:45<50:40,  8.94s/it]"
          ]
        },
        {
          "output_type": "stream",
          "name": "stdout",
          "text": [
            "Inputs shape: torch.Size([1, 1076])\n"
          ]
        },
        {
          "output_type": "stream",
          "name": "stderr",
          "text": [
            "\r 25%|██▌       | 116/455 [17:57<54:07,  9.58s/it]"
          ]
        },
        {
          "output_type": "stream",
          "name": "stdout",
          "text": [
            "Inputs shape: torch.Size([1, 1180])\n"
          ]
        },
        {
          "output_type": "stream",
          "name": "stderr",
          "text": [
            "\r 26%|██▌       | 117/455 [18:03<49:07,  8.72s/it]"
          ]
        },
        {
          "output_type": "stream",
          "name": "stdout",
          "text": [
            "Inputs shape: torch.Size([1, 980])\n"
          ]
        },
        {
          "output_type": "stream",
          "name": "stderr",
          "text": [
            "\r 26%|██▌       | 118/455 [18:12<48:48,  8.69s/it]"
          ]
        },
        {
          "output_type": "stream",
          "name": "stdout",
          "text": [
            "Inputs shape: torch.Size([1, 1080])\n"
          ]
        },
        {
          "output_type": "stream",
          "name": "stderr",
          "text": [
            "\r 26%|██▌       | 119/455 [18:23<52:53,  9.45s/it]"
          ]
        },
        {
          "output_type": "stream",
          "name": "stdout",
          "text": [
            "Inputs shape: torch.Size([1, 1071])\n"
          ]
        },
        {
          "output_type": "stream",
          "name": "stderr",
          "text": [
            "\r 26%|██▋       | 120/455 [18:31<49:32,  8.87s/it]"
          ]
        },
        {
          "output_type": "stream",
          "name": "stdout",
          "text": [
            "Inputs shape: torch.Size([1, 1161])\n"
          ]
        },
        {
          "output_type": "stream",
          "name": "stderr",
          "text": [
            "\r 27%|██▋       | 121/455 [18:38<46:35,  8.37s/it]"
          ]
        },
        {
          "output_type": "stream",
          "name": "stdout",
          "text": [
            "Inputs shape: torch.Size([1, 949])\n"
          ]
        },
        {
          "output_type": "stream",
          "name": "stderr",
          "text": [
            "\r 27%|██▋       | 122/455 [18:49<50:51,  9.16s/it]"
          ]
        },
        {
          "output_type": "stream",
          "name": "stdout",
          "text": [
            "Inputs shape: torch.Size([1, 908])\n"
          ]
        },
        {
          "output_type": "stream",
          "name": "stderr",
          "text": [
            "\r 27%|██▋       | 123/455 [18:58<50:31,  9.13s/it]"
          ]
        },
        {
          "output_type": "stream",
          "name": "stdout",
          "text": [
            "Inputs shape: torch.Size([1, 1010])\n"
          ]
        },
        {
          "output_type": "stream",
          "name": "stderr",
          "text": [
            "\r 27%|██▋       | 124/455 [19:05<46:20,  8.40s/it]"
          ]
        },
        {
          "output_type": "stream",
          "name": "stdout",
          "text": [
            "Inputs shape: torch.Size([1, 1171])\n"
          ]
        },
        {
          "output_type": "stream",
          "name": "stderr",
          "text": [
            "\r 27%|██▋       | 125/455 [19:15<49:37,  9.02s/it]"
          ]
        },
        {
          "output_type": "stream",
          "name": "stdout",
          "text": [
            "Inputs shape: torch.Size([1, 1031])\n"
          ]
        },
        {
          "output_type": "stream",
          "name": "stderr",
          "text": [
            "\r 28%|██▊       | 126/455 [19:25<51:32,  9.40s/it]"
          ]
        },
        {
          "output_type": "stream",
          "name": "stdout",
          "text": [
            "Inputs shape: torch.Size([1, 812])\n"
          ]
        },
        {
          "output_type": "stream",
          "name": "stderr",
          "text": [
            "\r 28%|██▊       | 127/455 [19:32<46:32,  8.51s/it]"
          ]
        },
        {
          "output_type": "stream",
          "name": "stdout",
          "text": [
            "Inputs shape: torch.Size([1, 1038])\n"
          ]
        },
        {
          "output_type": "stream",
          "name": "stderr",
          "text": [
            "\r 28%|██▊       | 128/455 [19:41<47:08,  8.65s/it]"
          ]
        },
        {
          "output_type": "stream",
          "name": "stdout",
          "text": [
            "Inputs shape: torch.Size([1, 850])\n"
          ]
        },
        {
          "output_type": "stream",
          "name": "stderr",
          "text": [
            "\r 28%|██▊       | 129/455 [19:52<51:01,  9.39s/it]"
          ]
        },
        {
          "output_type": "stream",
          "name": "stdout",
          "text": [
            "Inputs shape: torch.Size([1, 1088])\n"
          ]
        },
        {
          "output_type": "stream",
          "name": "stderr",
          "text": [
            "\r 29%|██▊       | 130/455 [19:59<47:07,  8.70s/it]"
          ]
        },
        {
          "output_type": "stream",
          "name": "stdout",
          "text": [
            "Inputs shape: torch.Size([1, 859])\n"
          ]
        },
        {
          "output_type": "stream",
          "name": "stderr",
          "text": [
            "\r 29%|██▉       | 131/455 [20:06<44:39,  8.27s/it]"
          ]
        },
        {
          "output_type": "stream",
          "name": "stdout",
          "text": [
            "Inputs shape: torch.Size([1, 1073])\n"
          ]
        },
        {
          "output_type": "stream",
          "name": "stderr",
          "text": [
            "\r 29%|██▉       | 132/455 [20:17<48:59,  9.10s/it]"
          ]
        },
        {
          "output_type": "stream",
          "name": "stdout",
          "text": [
            "Inputs shape: torch.Size([1, 1059])\n"
          ]
        },
        {
          "output_type": "stream",
          "name": "stderr",
          "text": [
            "\r 29%|██▉       | 133/455 [20:26<48:28,  9.03s/it]"
          ]
        },
        {
          "output_type": "stream",
          "name": "stdout",
          "text": [
            "Inputs shape: torch.Size([1, 1140])\n"
          ]
        },
        {
          "output_type": "stream",
          "name": "stderr",
          "text": [
            "\r 29%|██▉       | 134/455 [20:33<44:21,  8.29s/it]"
          ]
        },
        {
          "output_type": "stream",
          "name": "stdout",
          "text": [
            "Inputs shape: torch.Size([1, 959])\n"
          ]
        },
        {
          "output_type": "stream",
          "name": "stderr",
          "text": [
            "\r 30%|██▉       | 135/455 [20:43<47:32,  8.91s/it]"
          ]
        },
        {
          "output_type": "stream",
          "name": "stdout",
          "text": [
            "Inputs shape: torch.Size([1, 982])\n"
          ]
        },
        {
          "output_type": "stream",
          "name": "stderr",
          "text": [
            "\r 30%|██▉       | 136/455 [20:53<49:35,  9.33s/it]"
          ]
        },
        {
          "output_type": "stream",
          "name": "stdout",
          "text": [
            "Inputs shape: torch.Size([1, 1119])\n"
          ]
        },
        {
          "output_type": "stream",
          "name": "stderr",
          "text": [
            "\r 30%|███       | 137/455 [21:00<44:56,  8.48s/it]"
          ]
        },
        {
          "output_type": "stream",
          "name": "stdout",
          "text": [
            "Inputs shape: torch.Size([1, 855])\n"
          ]
        },
        {
          "output_type": "stream",
          "name": "stderr",
          "text": [
            "\r 30%|███       | 138/455 [21:09<45:15,  8.57s/it]"
          ]
        },
        {
          "output_type": "stream",
          "name": "stdout",
          "text": [
            "Inputs shape: torch.Size([1, 1249])\n"
          ]
        },
        {
          "output_type": "stream",
          "name": "stderr",
          "text": [
            "\r 31%|███       | 139/455 [21:20<49:08,  9.33s/it]"
          ]
        },
        {
          "output_type": "stream",
          "name": "stdout",
          "text": [
            "Inputs shape: torch.Size([1, 1016])\n"
          ]
        },
        {
          "output_type": "stream",
          "name": "stderr",
          "text": [
            "\r 31%|███       | 140/455 [21:27<45:46,  8.72s/it]"
          ]
        },
        {
          "output_type": "stream",
          "name": "stdout",
          "text": [
            "Inputs shape: torch.Size([1, 979])\n"
          ]
        },
        {
          "output_type": "stream",
          "name": "stderr",
          "text": [
            "\r 31%|███       | 141/455 [21:34<43:24,  8.30s/it]"
          ]
        },
        {
          "output_type": "stream",
          "name": "stdout",
          "text": [
            "Inputs shape: torch.Size([1, 913])\n"
          ]
        },
        {
          "output_type": "stream",
          "name": "stderr",
          "text": [
            "\r 31%|███       | 142/455 [21:45<47:14,  9.06s/it]"
          ]
        },
        {
          "output_type": "stream",
          "name": "stdout",
          "text": [
            "Inputs shape: torch.Size([1, 947])\n"
          ]
        },
        {
          "output_type": "stream",
          "name": "stderr",
          "text": [
            "\r 31%|███▏      | 143/455 [21:54<47:09,  9.07s/it]"
          ]
        },
        {
          "output_type": "stream",
          "name": "stdout",
          "text": [
            "Inputs shape: torch.Size([1, 1082])\n"
          ]
        },
        {
          "output_type": "stream",
          "name": "stderr",
          "text": [
            "\r 32%|███▏      | 144/455 [22:01<43:06,  8.32s/it]"
          ]
        },
        {
          "output_type": "stream",
          "name": "stdout",
          "text": [
            "Inputs shape: torch.Size([1, 975])\n"
          ]
        },
        {
          "output_type": "stream",
          "name": "stderr",
          "text": [
            "\r 32%|███▏      | 145/455 [22:11<45:56,  8.89s/it]"
          ]
        },
        {
          "output_type": "stream",
          "name": "stdout",
          "text": [
            "Inputs shape: torch.Size([1, 1026])\n"
          ]
        },
        {
          "output_type": "stream",
          "name": "stderr",
          "text": [
            "\r 32%|███▏      | 146/455 [22:22<48:14,  9.37s/it]"
          ]
        },
        {
          "output_type": "stream",
          "name": "stdout",
          "text": [
            "Inputs shape: torch.Size([1, 1234])\n"
          ]
        },
        {
          "output_type": "stream",
          "name": "stderr",
          "text": [
            "\r 32%|███▏      | 147/455 [22:28<43:54,  8.56s/it]"
          ]
        },
        {
          "output_type": "stream",
          "name": "stdout",
          "text": [
            "Inputs shape: torch.Size([1, 990])\n"
          ]
        },
        {
          "output_type": "stream",
          "name": "stderr",
          "text": [
            "\r 33%|███▎      | 148/455 [22:37<44:44,  8.75s/it]"
          ]
        },
        {
          "output_type": "stream",
          "name": "stdout",
          "text": [
            "Inputs shape: torch.Size([1, 1072])\n"
          ]
        },
        {
          "output_type": "stream",
          "name": "stderr",
          "text": [
            "\r 33%|███▎      | 149/455 [22:49<48:17,  9.47s/it]"
          ]
        },
        {
          "output_type": "stream",
          "name": "stdout",
          "text": [
            "Inputs shape: torch.Size([1, 1135])\n"
          ]
        },
        {
          "output_type": "stream",
          "name": "stderr",
          "text": [
            "\r 33%|███▎      | 150/455 [22:56<44:24,  8.74s/it]"
          ]
        },
        {
          "output_type": "stream",
          "name": "stdout",
          "text": [
            "Inputs shape: torch.Size([1, 1156])\n"
          ]
        },
        {
          "output_type": "stream",
          "name": "stderr",
          "text": [
            "\r 33%|███▎      | 151/455 [23:03<43:04,  8.50s/it]"
          ]
        },
        {
          "output_type": "stream",
          "name": "stdout",
          "text": [
            "Inputs shape: torch.Size([1, 1189])\n"
          ]
        },
        {
          "output_type": "stream",
          "name": "stderr",
          "text": [
            "\r 33%|███▎      | 152/455 [23:15<46:59,  9.31s/it]"
          ]
        },
        {
          "output_type": "stream",
          "name": "stdout",
          "text": [
            "Inputs shape: torch.Size([1, 1293])\n"
          ]
        },
        {
          "output_type": "stream",
          "name": "stderr",
          "text": [
            "\r 34%|███▎      | 153/455 [23:23<45:34,  9.06s/it]"
          ]
        },
        {
          "output_type": "stream",
          "name": "stdout",
          "text": [
            "Inputs shape: torch.Size([1, 885])\n"
          ]
        },
        {
          "output_type": "stream",
          "name": "stderr",
          "text": [
            "\r 34%|███▍      | 154/455 [23:30<42:15,  8.42s/it]"
          ]
        },
        {
          "output_type": "stream",
          "name": "stdout",
          "text": [
            "Inputs shape: torch.Size([1, 1085])\n"
          ]
        },
        {
          "output_type": "stream",
          "name": "stderr",
          "text": [
            "\r 34%|███▍      | 155/455 [23:41<45:33,  9.11s/it]"
          ]
        },
        {
          "output_type": "stream",
          "name": "stdout",
          "text": [
            "Inputs shape: torch.Size([1, 1138])\n"
          ]
        },
        {
          "output_type": "stream",
          "name": "stderr",
          "text": [
            "\r 34%|███▍      | 156/455 [23:51<46:33,  9.34s/it]"
          ]
        },
        {
          "output_type": "stream",
          "name": "stdout",
          "text": [
            "Inputs shape: torch.Size([1, 1128])\n"
          ]
        },
        {
          "output_type": "stream",
          "name": "stderr",
          "text": [
            "\r 35%|███▍      | 157/455 [23:57<42:26,  8.54s/it]"
          ]
        },
        {
          "output_type": "stream",
          "name": "stdout",
          "text": [
            "Inputs shape: torch.Size([1, 1240])\n"
          ]
        },
        {
          "output_type": "stream",
          "name": "stderr",
          "text": [
            "\r 35%|███▍      | 158/455 [24:07<44:11,  8.93s/it]"
          ]
        },
        {
          "output_type": "stream",
          "name": "stdout",
          "text": [
            "Inputs shape: torch.Size([1, 1097])\n"
          ]
        },
        {
          "output_type": "stream",
          "name": "stderr",
          "text": [
            "\r 35%|███▍      | 159/455 [24:18<47:21,  9.60s/it]"
          ]
        },
        {
          "output_type": "stream",
          "name": "stdout",
          "text": [
            "Inputs shape: torch.Size([1, 1403])\n"
          ]
        },
        {
          "output_type": "stream",
          "name": "stderr",
          "text": [
            "\r 35%|███▌      | 160/455 [24:25<43:03,  8.76s/it]"
          ]
        },
        {
          "output_type": "stream",
          "name": "stdout",
          "text": [
            "Inputs shape: torch.Size([1, 1387])\n"
          ]
        },
        {
          "output_type": "stream",
          "name": "stderr",
          "text": [
            "\r 35%|███▌      | 161/455 [24:34<43:07,  8.80s/it]"
          ]
        },
        {
          "output_type": "stream",
          "name": "stdout",
          "text": [
            "Inputs shape: torch.Size([1, 915])\n"
          ]
        },
        {
          "output_type": "stream",
          "name": "stderr",
          "text": [
            "\r 36%|███▌      | 162/455 [24:45<46:40,  9.56s/it]"
          ]
        },
        {
          "output_type": "stream",
          "name": "stdout",
          "text": [
            "Inputs shape: torch.Size([1, 1269])\n"
          ]
        },
        {
          "output_type": "stream",
          "name": "stderr",
          "text": [
            "\r 36%|███▌      | 163/455 [24:53<44:13,  9.09s/it]"
          ]
        },
        {
          "output_type": "stream",
          "name": "stdout",
          "text": [
            "Inputs shape: torch.Size([1, 973])\n"
          ]
        },
        {
          "output_type": "stream",
          "name": "stderr",
          "text": [
            "\r 36%|███▌      | 164/455 [25:01<41:20,  8.52s/it]"
          ]
        },
        {
          "output_type": "stream",
          "name": "stdout",
          "text": [
            "Inputs shape: torch.Size([1, 899])\n"
          ]
        },
        {
          "output_type": "stream",
          "name": "stderr",
          "text": [
            "\r 36%|███▋      | 165/455 [25:11<44:32,  9.22s/it]"
          ]
        },
        {
          "output_type": "stream",
          "name": "stdout",
          "text": [
            "Inputs shape: torch.Size([1, 1084])\n"
          ]
        },
        {
          "output_type": "stream",
          "name": "stderr",
          "text": [
            "\r 36%|███▋      | 166/455 [25:21<44:49,  9.31s/it]"
          ]
        },
        {
          "output_type": "stream",
          "name": "stdout",
          "text": [
            "Inputs shape: torch.Size([1, 992])\n"
          ]
        },
        {
          "output_type": "stream",
          "name": "stderr",
          "text": [
            "\r 37%|███▋      | 167/455 [25:28<40:43,  8.49s/it]"
          ]
        },
        {
          "output_type": "stream",
          "name": "stdout",
          "text": [
            "Inputs shape: torch.Size([1, 1200])\n"
          ]
        },
        {
          "output_type": "stream",
          "name": "stderr",
          "text": [
            "\r 37%|███▋      | 168/455 [25:38<42:51,  8.96s/it]"
          ]
        },
        {
          "output_type": "stream",
          "name": "stdout",
          "text": [
            "Inputs shape: torch.Size([1, 947])\n"
          ]
        },
        {
          "output_type": "stream",
          "name": "stderr",
          "text": [
            "\r 37%|███▋      | 169/455 [25:49<45:35,  9.57s/it]"
          ]
        },
        {
          "output_type": "stream",
          "name": "stdout",
          "text": [
            "Inputs shape: torch.Size([1, 770])\n"
          ]
        },
        {
          "output_type": "stream",
          "name": "stderr",
          "text": [
            "\r 37%|███▋      | 170/455 [25:55<41:12,  8.68s/it]"
          ]
        },
        {
          "output_type": "stream",
          "name": "stdout",
          "text": [
            "Inputs shape: torch.Size([1, 1299])\n"
          ]
        },
        {
          "output_type": "stream",
          "name": "stderr",
          "text": [
            "\r 38%|███▊      | 171/455 [26:04<41:22,  8.74s/it]"
          ]
        },
        {
          "output_type": "stream",
          "name": "stdout",
          "text": [
            "Inputs shape: torch.Size([1, 989])\n"
          ]
        },
        {
          "output_type": "stream",
          "name": "stderr",
          "text": [
            "\r 38%|███▊      | 172/455 [26:15<44:38,  9.46s/it]"
          ]
        },
        {
          "output_type": "stream",
          "name": "stdout",
          "text": [
            "Inputs shape: torch.Size([1, 1143])\n"
          ]
        },
        {
          "output_type": "stream",
          "name": "stderr",
          "text": [
            "\r 38%|███▊      | 173/455 [26:23<42:15,  8.99s/it]"
          ]
        },
        {
          "output_type": "stream",
          "name": "stdout",
          "text": [
            "Inputs shape: torch.Size([1, 1088])\n"
          ]
        },
        {
          "output_type": "stream",
          "name": "stderr",
          "text": [
            "\r 38%|███▊      | 174/455 [26:30<39:44,  8.48s/it]"
          ]
        },
        {
          "output_type": "stream",
          "name": "stdout",
          "text": [
            "Inputs shape: torch.Size([1, 953])\n"
          ]
        },
        {
          "output_type": "stream",
          "name": "stderr",
          "text": [
            "\r 38%|███▊      | 175/455 [26:41<43:04,  9.23s/it]"
          ]
        },
        {
          "output_type": "stream",
          "name": "stdout",
          "text": [
            "Inputs shape: torch.Size([1, 805])\n"
          ]
        },
        {
          "output_type": "stream",
          "name": "stderr",
          "text": [
            "\r 39%|███▊      | 176/455 [26:50<42:43,  9.19s/it]"
          ]
        },
        {
          "output_type": "stream",
          "name": "stdout",
          "text": [
            "Inputs shape: torch.Size([1, 1035])\n"
          ]
        },
        {
          "output_type": "stream",
          "name": "stderr",
          "text": [
            "\r 39%|███▉      | 177/455 [26:57<39:12,  8.46s/it]"
          ]
        },
        {
          "output_type": "stream",
          "name": "stdout",
          "text": [
            "Inputs shape: torch.Size([1, 1207])\n"
          ]
        },
        {
          "output_type": "stream",
          "name": "stderr",
          "text": [
            "\r 39%|███▉      | 178/455 [27:08<41:43,  9.04s/it]"
          ]
        },
        {
          "output_type": "stream",
          "name": "stdout",
          "text": [
            "Inputs shape: torch.Size([1, 975])\n"
          ]
        },
        {
          "output_type": "stream",
          "name": "stderr",
          "text": [
            "\r 39%|███▉      | 179/455 [27:18<43:52,  9.54s/it]"
          ]
        },
        {
          "output_type": "stream",
          "name": "stdout",
          "text": [
            "Inputs shape: torch.Size([1, 969])\n"
          ]
        },
        {
          "output_type": "stream",
          "name": "stderr",
          "text": [
            "\r 40%|███▉      | 180/455 [27:25<39:50,  8.69s/it]"
          ]
        },
        {
          "output_type": "stream",
          "name": "stdout",
          "text": [
            "Inputs shape: torch.Size([1, 1051])\n"
          ]
        },
        {
          "output_type": "stream",
          "name": "stderr",
          "text": [
            "\r 40%|███▉      | 181/455 [27:34<40:04,  8.78s/it]"
          ]
        },
        {
          "output_type": "stream",
          "name": "stdout",
          "text": [
            "Inputs shape: torch.Size([1, 1256])\n"
          ]
        },
        {
          "output_type": "stream",
          "name": "stderr",
          "text": [
            "\r 40%|████      | 182/455 [27:45<43:17,  9.51s/it]"
          ]
        },
        {
          "output_type": "stream",
          "name": "stdout",
          "text": [
            "Inputs shape: torch.Size([1, 1003])\n"
          ]
        },
        {
          "output_type": "stream",
          "name": "stderr",
          "text": [
            "\r 40%|████      | 183/455 [27:53<40:13,  8.87s/it]"
          ]
        },
        {
          "output_type": "stream",
          "name": "stdout",
          "text": [
            "Inputs shape: torch.Size([1, 1087])\n"
          ]
        },
        {
          "output_type": "stream",
          "name": "stderr",
          "text": [
            "\r 40%|████      | 184/455 [28:00<38:27,  8.51s/it]"
          ]
        },
        {
          "output_type": "stream",
          "name": "stdout",
          "text": [
            "Inputs shape: torch.Size([1, 880])\n"
          ]
        },
        {
          "output_type": "stream",
          "name": "stderr",
          "text": [
            "\r 41%|████      | 185/455 [28:11<41:40,  9.26s/it]"
          ]
        },
        {
          "output_type": "stream",
          "name": "stdout",
          "text": [
            "Inputs shape: torch.Size([1, 1090])\n"
          ]
        },
        {
          "output_type": "stream",
          "name": "stderr",
          "text": [
            "\r 41%|████      | 186/455 [28:20<41:11,  9.19s/it]"
          ]
        },
        {
          "output_type": "stream",
          "name": "stdout",
          "text": [
            "Inputs shape: torch.Size([1, 907])\n"
          ]
        },
        {
          "output_type": "stream",
          "name": "stderr",
          "text": [
            "\r 41%|████      | 187/455 [28:27<37:34,  8.41s/it]"
          ]
        },
        {
          "output_type": "stream",
          "name": "stdout",
          "text": [
            "Inputs shape: torch.Size([1, 1080])\n"
          ]
        },
        {
          "output_type": "stream",
          "name": "stderr",
          "text": [
            "\r 41%|████▏     | 188/455 [28:37<40:06,  9.01s/it]"
          ]
        },
        {
          "output_type": "stream",
          "name": "stdout",
          "text": [
            "Inputs shape: torch.Size([1, 1250])\n"
          ]
        },
        {
          "output_type": "stream",
          "name": "stderr",
          "text": [
            "\r 42%|████▏     | 189/455 [28:48<41:53,  9.45s/it]"
          ]
        },
        {
          "output_type": "stream",
          "name": "stdout",
          "text": [
            "Inputs shape: torch.Size([1, 877])\n"
          ]
        },
        {
          "output_type": "stream",
          "name": "stderr",
          "text": [
            "\r 42%|████▏     | 190/455 [28:54<37:55,  8.59s/it]"
          ]
        },
        {
          "output_type": "stream",
          "name": "stdout",
          "text": [
            "Inputs shape: torch.Size([1, 1295])\n"
          ]
        },
        {
          "output_type": "stream",
          "name": "stderr",
          "text": [
            "\r 42%|████▏     | 191/455 [29:04<38:39,  8.79s/it]"
          ]
        },
        {
          "output_type": "stream",
          "name": "stdout",
          "text": [
            "Inputs shape: torch.Size([1, 879])\n"
          ]
        },
        {
          "output_type": "stream",
          "name": "stderr",
          "text": [
            "\r 42%|████▏     | 192/455 [29:15<41:29,  9.47s/it]"
          ]
        },
        {
          "output_type": "stream",
          "name": "stdout",
          "text": [
            "Inputs shape: torch.Size([1, 799])\n"
          ]
        },
        {
          "output_type": "stream",
          "name": "stderr",
          "text": [
            "\r 42%|████▏     | 193/455 [29:21<37:48,  8.66s/it]"
          ]
        },
        {
          "output_type": "stream",
          "name": "stdout",
          "text": [
            "Inputs shape: torch.Size([1, 962])\n"
          ]
        },
        {
          "output_type": "stream",
          "name": "stderr",
          "text": [
            "\r 43%|████▎     | 194/455 [29:29<36:24,  8.37s/it]"
          ]
        },
        {
          "output_type": "stream",
          "name": "stdout",
          "text": [
            "Inputs shape: torch.Size([1, 1093])\n"
          ]
        },
        {
          "output_type": "stream",
          "name": "stderr",
          "text": [
            "\r 43%|████▎     | 195/455 [29:40<39:50,  9.19s/it]"
          ]
        },
        {
          "output_type": "stream",
          "name": "stdout",
          "text": [
            "Inputs shape: torch.Size([1, 1053])\n"
          ]
        },
        {
          "output_type": "stream",
          "name": "stderr",
          "text": [
            "\r 43%|████▎     | 196/455 [29:49<39:00,  9.04s/it]"
          ]
        },
        {
          "output_type": "stream",
          "name": "stdout",
          "text": [
            "Inputs shape: torch.Size([1, 1228])\n"
          ]
        },
        {
          "output_type": "stream",
          "name": "stderr",
          "text": [
            "\r 43%|████▎     | 197/455 [29:56<35:42,  8.30s/it]"
          ]
        },
        {
          "output_type": "stream",
          "name": "stdout",
          "text": [
            "Inputs shape: torch.Size([1, 742])\n"
          ]
        },
        {
          "output_type": "stream",
          "name": "stderr",
          "text": [
            "\r 44%|████▎     | 198/455 [30:06<38:07,  8.90s/it]"
          ]
        },
        {
          "output_type": "stream",
          "name": "stdout",
          "text": [
            "Inputs shape: torch.Size([1, 979])\n"
          ]
        },
        {
          "output_type": "stream",
          "name": "stderr",
          "text": [
            "\r 44%|████▎     | 199/455 [30:16<39:37,  9.29s/it]"
          ]
        },
        {
          "output_type": "stream",
          "name": "stdout",
          "text": [
            "Inputs shape: torch.Size([1, 1103])\n"
          ]
        },
        {
          "output_type": "stream",
          "name": "stderr",
          "text": [
            "\r 44%|████▍     | 200/455 [30:23<36:04,  8.49s/it]"
          ]
        },
        {
          "output_type": "stream",
          "name": "stdout",
          "text": [
            "Inputs shape: torch.Size([1, 1049])\n"
          ]
        },
        {
          "output_type": "stream",
          "name": "stderr",
          "text": [
            "\r 44%|████▍     | 201/455 [30:32<36:44,  8.68s/it]"
          ]
        },
        {
          "output_type": "stream",
          "name": "stdout",
          "text": [
            "Inputs shape: torch.Size([1, 999])\n"
          ]
        },
        {
          "output_type": "stream",
          "name": "stderr",
          "text": [
            "\r 44%|████▍     | 202/455 [30:43<39:36,  9.39s/it]"
          ]
        },
        {
          "output_type": "stream",
          "name": "stdout",
          "text": [
            "Inputs shape: torch.Size([1, 1116])\n"
          ]
        },
        {
          "output_type": "stream",
          "name": "stderr",
          "text": [
            "\r 45%|████▍     | 203/455 [30:50<36:05,  8.59s/it]"
          ]
        },
        {
          "output_type": "stream",
          "name": "stdout",
          "text": [
            "Inputs shape: torch.Size([1, 1417])\n"
          ]
        },
        {
          "output_type": "stream",
          "name": "stderr",
          "text": [
            "\r 45%|████▍     | 204/455 [30:58<35:14,  8.42s/it]"
          ]
        },
        {
          "output_type": "stream",
          "name": "stdout",
          "text": [
            "Inputs shape: torch.Size([1, 952])\n"
          ]
        },
        {
          "output_type": "stream",
          "name": "stderr",
          "text": [
            "\r 45%|████▌     | 205/455 [31:09<38:14,  9.18s/it]"
          ]
        },
        {
          "output_type": "stream",
          "name": "stdout",
          "text": [
            "Inputs shape: torch.Size([1, 1217])\n"
          ]
        },
        {
          "output_type": "stream",
          "name": "stderr",
          "text": [
            "\r 45%|████▌     | 206/455 [31:17<36:59,  8.92s/it]"
          ]
        },
        {
          "output_type": "stream",
          "name": "stdout",
          "text": [
            "Inputs shape: torch.Size([1, 819])\n"
          ]
        },
        {
          "output_type": "stream",
          "name": "stderr",
          "text": [
            "\r 45%|████▌     | 207/455 [31:24<34:18,  8.30s/it]"
          ]
        },
        {
          "output_type": "stream",
          "name": "stdout",
          "text": [
            "Inputs shape: torch.Size([1, 954])\n"
          ]
        },
        {
          "output_type": "stream",
          "name": "stderr",
          "text": [
            "\r 46%|████▌     | 208/455 [31:34<36:56,  8.97s/it]"
          ]
        },
        {
          "output_type": "stream",
          "name": "stdout",
          "text": [
            "Inputs shape: torch.Size([1, 1195])\n"
          ]
        },
        {
          "output_type": "stream",
          "name": "stderr",
          "text": [
            "\r 46%|████▌     | 209/455 [31:44<37:45,  9.21s/it]"
          ]
        },
        {
          "output_type": "stream",
          "name": "stdout",
          "text": [
            "Inputs shape: torch.Size([1, 1095])\n"
          ]
        },
        {
          "output_type": "stream",
          "name": "stderr",
          "text": [
            "\r 46%|████▌     | 210/455 [31:51<34:19,  8.41s/it]"
          ]
        },
        {
          "output_type": "stream",
          "name": "stdout",
          "text": [
            "Inputs shape: torch.Size([1, 902])\n"
          ]
        },
        {
          "output_type": "stream",
          "name": "stderr",
          "text": [
            "\r 46%|████▋     | 211/455 [32:00<35:18,  8.68s/it]"
          ]
        },
        {
          "output_type": "stream",
          "name": "stdout",
          "text": [
            "Inputs shape: torch.Size([1, 1086])\n"
          ]
        },
        {
          "output_type": "stream",
          "name": "stderr",
          "text": [
            "\r 47%|████▋     | 212/455 [32:11<38:11,  9.43s/it]"
          ]
        },
        {
          "output_type": "stream",
          "name": "stdout",
          "text": [
            "Inputs shape: torch.Size([1, 1240])\n"
          ]
        },
        {
          "output_type": "stream",
          "name": "stderr",
          "text": [
            "\r 47%|████▋     | 213/455 [32:18<34:39,  8.59s/it]"
          ]
        },
        {
          "output_type": "stream",
          "name": "stdout",
          "text": [
            "Inputs shape: torch.Size([1, 1013])\n"
          ]
        },
        {
          "output_type": "stream",
          "name": "stderr",
          "text": [
            "\r 47%|████▋     | 214/455 [32:26<33:37,  8.37s/it]"
          ]
        },
        {
          "output_type": "stream",
          "name": "stdout",
          "text": [
            "Inputs shape: torch.Size([1, 976])\n"
          ]
        },
        {
          "output_type": "stream",
          "name": "stderr",
          "text": [
            "\r 47%|████▋     | 215/455 [32:36<36:32,  9.13s/it]"
          ]
        },
        {
          "output_type": "stream",
          "name": "stdout",
          "text": [
            "Inputs shape: torch.Size([1, 1236])\n"
          ]
        },
        {
          "output_type": "stream",
          "name": "stderr",
          "text": [
            "\r 47%|████▋     | 216/455 [32:45<35:19,  8.87s/it]"
          ]
        },
        {
          "output_type": "stream",
          "name": "stdout",
          "text": [
            "Inputs shape: torch.Size([1, 1233])\n"
          ]
        },
        {
          "output_type": "stream",
          "name": "stderr",
          "text": [
            "\r 48%|████▊     | 217/455 [32:52<32:46,  8.26s/it]"
          ]
        },
        {
          "output_type": "stream",
          "name": "stdout",
          "text": [
            "Inputs shape: torch.Size([1, 1085])\n"
          ]
        },
        {
          "output_type": "stream",
          "name": "stderr",
          "text": [
            "\r 48%|████▊     | 218/455 [33:02<35:23,  8.96s/it]"
          ]
        },
        {
          "output_type": "stream",
          "name": "stdout",
          "text": [
            "Inputs shape: torch.Size([1, 948])\n"
          ]
        },
        {
          "output_type": "stream",
          "name": "stderr",
          "text": [
            "\r 48%|████▊     | 219/455 [33:12<36:04,  9.17s/it]"
          ]
        },
        {
          "output_type": "stream",
          "name": "stdout",
          "text": [
            "Inputs shape: torch.Size([1, 1260])\n"
          ]
        },
        {
          "output_type": "stream",
          "name": "stderr",
          "text": [
            "\r 48%|████▊     | 220/455 [33:18<32:48,  8.38s/it]"
          ]
        },
        {
          "output_type": "stream",
          "name": "stdout",
          "text": [
            "Inputs shape: torch.Size([1, 1240])\n"
          ]
        },
        {
          "output_type": "stream",
          "name": "stderr",
          "text": [
            "\r 49%|████▊     | 221/455 [33:28<34:10,  8.76s/it]"
          ]
        },
        {
          "output_type": "stream",
          "name": "stdout",
          "text": [
            "Inputs shape: torch.Size([1, 959])\n"
          ]
        },
        {
          "output_type": "stream",
          "name": "stderr",
          "text": [
            "\r 49%|████▉     | 222/455 [33:39<36:44,  9.46s/it]"
          ]
        },
        {
          "output_type": "stream",
          "name": "stdout",
          "text": [
            "Inputs shape: torch.Size([1, 708])\n"
          ]
        },
        {
          "output_type": "stream",
          "name": "stderr",
          "text": [
            "\r 49%|████▉     | 223/455 [33:45<33:05,  8.56s/it]"
          ]
        },
        {
          "output_type": "stream",
          "name": "stdout",
          "text": [
            "Inputs shape: torch.Size([1, 1324])\n"
          ]
        },
        {
          "output_type": "stream",
          "name": "stderr",
          "text": [
            "\r 49%|████▉     | 224/455 [33:54<32:42,  8.50s/it]"
          ]
        },
        {
          "output_type": "stream",
          "name": "stdout",
          "text": [
            "Inputs shape: torch.Size([1, 1444])\n"
          ]
        },
        {
          "output_type": "stream",
          "name": "stderr",
          "text": [
            "\r 49%|████▉     | 225/455 [34:05<35:38,  9.30s/it]"
          ]
        },
        {
          "output_type": "stream",
          "name": "stdout",
          "text": [
            "Inputs shape: torch.Size([1, 840])\n"
          ]
        },
        {
          "output_type": "stream",
          "name": "stderr",
          "text": [
            "\r 50%|████▉     | 226/455 [34:13<33:30,  8.78s/it]"
          ]
        },
        {
          "output_type": "stream",
          "name": "stdout",
          "text": [
            "Inputs shape: torch.Size([1, 999])\n"
          ]
        },
        {
          "output_type": "stream",
          "name": "stderr",
          "text": [
            "\r 50%|████▉     | 227/455 [34:20<31:19,  8.24s/it]"
          ]
        },
        {
          "output_type": "stream",
          "name": "stdout",
          "text": [
            "Inputs shape: torch.Size([1, 1243])\n"
          ]
        },
        {
          "output_type": "stream",
          "name": "stderr",
          "text": [
            "\r 50%|█████     | 228/455 [34:30<34:00,  8.99s/it]"
          ]
        },
        {
          "output_type": "stream",
          "name": "stdout",
          "text": [
            "Inputs shape: torch.Size([1, 1164])\n"
          ]
        },
        {
          "output_type": "stream",
          "name": "stderr",
          "text": [
            "\r 50%|█████     | 229/455 [34:40<34:27,  9.15s/it]"
          ]
        },
        {
          "output_type": "stream",
          "name": "stdout",
          "text": [
            "Inputs shape: torch.Size([1, 1288])\n"
          ]
        },
        {
          "output_type": "stream",
          "name": "stderr",
          "text": [
            "\r 51%|█████     | 230/455 [34:47<31:42,  8.46s/it]"
          ]
        },
        {
          "output_type": "stream",
          "name": "stdout",
          "text": [
            "Inputs shape: torch.Size([1, 977])\n"
          ]
        },
        {
          "output_type": "stream",
          "name": "stderr",
          "text": [
            "\r 51%|█████     | 231/455 [34:57<33:25,  8.95s/it]"
          ]
        },
        {
          "output_type": "stream",
          "name": "stdout",
          "text": [
            "Inputs shape: torch.Size([1, 989])\n"
          ]
        },
        {
          "output_type": "stream",
          "name": "stderr",
          "text": [
            "\r 51%|█████     | 232/455 [35:08<35:25,  9.53s/it]"
          ]
        },
        {
          "output_type": "stream",
          "name": "stdout",
          "text": [
            "Inputs shape: torch.Size([1, 1036])\n"
          ]
        },
        {
          "output_type": "stream",
          "name": "stderr",
          "text": [
            "\r 51%|█████     | 233/455 [35:14<31:51,  8.61s/it]"
          ]
        },
        {
          "output_type": "stream",
          "name": "stdout",
          "text": [
            "Inputs shape: torch.Size([1, 1099])\n"
          ]
        },
        {
          "output_type": "stream",
          "name": "stderr",
          "text": [
            "\r 51%|█████▏    | 234/455 [35:23<31:32,  8.56s/it]"
          ]
        },
        {
          "output_type": "stream",
          "name": "stdout",
          "text": [
            "Inputs shape: torch.Size([1, 1086])\n"
          ]
        },
        {
          "output_type": "stream",
          "name": "stderr",
          "text": [
            "\r 52%|█████▏    | 235/455 [35:34<34:06,  9.30s/it]"
          ]
        },
        {
          "output_type": "stream",
          "name": "stdout",
          "text": [
            "Inputs shape: torch.Size([1, 910])\n"
          ]
        },
        {
          "output_type": "stream",
          "name": "stderr",
          "text": [
            "\r 52%|█████▏    | 236/455 [35:41<31:57,  8.75s/it]"
          ]
        },
        {
          "output_type": "stream",
          "name": "stdout",
          "text": [
            "Inputs shape: torch.Size([1, 1113])\n"
          ]
        },
        {
          "output_type": "stream",
          "name": "stderr",
          "text": [
            "\r 52%|█████▏    | 237/455 [35:48<29:57,  8.24s/it]"
          ]
        },
        {
          "output_type": "stream",
          "name": "stdout",
          "text": [
            "Inputs shape: torch.Size([1, 1018])\n"
          ]
        },
        {
          "output_type": "stream",
          "name": "stderr",
          "text": [
            "\r 52%|█████▏    | 238/455 [35:59<32:38,  9.03s/it]"
          ]
        },
        {
          "output_type": "stream",
          "name": "stdout",
          "text": [
            "Inputs shape: torch.Size([1, 1072])\n"
          ]
        },
        {
          "output_type": "stream",
          "name": "stderr",
          "text": [
            "\r 53%|█████▎    | 239/455 [36:08<32:37,  9.06s/it]"
          ]
        },
        {
          "output_type": "stream",
          "name": "stdout",
          "text": [
            "Inputs shape: torch.Size([1, 990])\n"
          ]
        },
        {
          "output_type": "stream",
          "name": "stderr",
          "text": [
            "\r 53%|█████▎    | 240/455 [36:15<29:48,  8.32s/it]"
          ]
        },
        {
          "output_type": "stream",
          "name": "stdout",
          "text": [
            "Inputs shape: torch.Size([1, 995])\n"
          ]
        },
        {
          "output_type": "stream",
          "name": "stderr",
          "text": [
            "\r 53%|█████▎    | 241/455 [36:25<31:44,  8.90s/it]"
          ]
        },
        {
          "output_type": "stream",
          "name": "stdout",
          "text": [
            "Inputs shape: torch.Size([1, 821])\n"
          ]
        },
        {
          "output_type": "stream",
          "name": "stderr",
          "text": [
            "\r 53%|█████▎    | 242/455 [36:35<33:07,  9.33s/it]"
          ]
        },
        {
          "output_type": "stream",
          "name": "stdout",
          "text": [
            "Inputs shape: torch.Size([1, 954])\n"
          ]
        },
        {
          "output_type": "stream",
          "name": "stderr",
          "text": [
            "\r 53%|█████▎    | 243/455 [36:42<29:54,  8.46s/it]"
          ]
        },
        {
          "output_type": "stream",
          "name": "stdout",
          "text": [
            "Inputs shape: torch.Size([1, 1076])\n"
          ]
        },
        {
          "output_type": "stream",
          "name": "stderr",
          "text": [
            "\r 54%|█████▎    | 244/455 [36:50<30:03,  8.55s/it]"
          ]
        },
        {
          "output_type": "stream",
          "name": "stdout",
          "text": [
            "Inputs shape: torch.Size([1, 848])\n"
          ]
        },
        {
          "output_type": "stream",
          "name": "stderr",
          "text": [
            "\r 54%|█████▍    | 245/455 [37:01<32:26,  9.27s/it]"
          ]
        },
        {
          "output_type": "stream",
          "name": "stdout",
          "text": [
            "Inputs shape: torch.Size([1, 1179])\n"
          ]
        },
        {
          "output_type": "stream",
          "name": "stderr",
          "text": [
            "\r 54%|█████▍    | 246/455 [37:09<30:09,  8.66s/it]"
          ]
        },
        {
          "output_type": "stream",
          "name": "stdout",
          "text": [
            "Inputs shape: torch.Size([1, 869])\n"
          ]
        },
        {
          "output_type": "stream",
          "name": "stderr",
          "text": [
            "\r 54%|█████▍    | 247/455 [37:16<28:21,  8.18s/it]"
          ]
        },
        {
          "output_type": "stream",
          "name": "stdout",
          "text": [
            "Inputs shape: torch.Size([1, 1215])\n"
          ]
        },
        {
          "output_type": "stream",
          "name": "stderr",
          "text": [
            "\r 55%|█████▍    | 248/455 [37:27<31:10,  9.04s/it]"
          ]
        },
        {
          "output_type": "stream",
          "name": "stdout",
          "text": [
            "Inputs shape: torch.Size([1, 1035])\n"
          ]
        },
        {
          "output_type": "stream",
          "name": "stderr",
          "text": [
            "\r 55%|█████▍    | 249/455 [37:36<30:46,  8.96s/it]"
          ]
        },
        {
          "output_type": "stream",
          "name": "stdout",
          "text": [
            "Inputs shape: torch.Size([1, 1141])\n"
          ]
        },
        {
          "output_type": "stream",
          "name": "stderr",
          "text": [
            "\r 55%|█████▍    | 250/455 [37:42<28:08,  8.24s/it]"
          ]
        },
        {
          "output_type": "stream",
          "name": "stdout",
          "text": [
            "Inputs shape: torch.Size([1, 1069])\n"
          ]
        },
        {
          "output_type": "stream",
          "name": "stderr",
          "text": [
            "\r 55%|█████▌    | 251/455 [37:53<30:13,  8.89s/it]"
          ]
        },
        {
          "output_type": "stream",
          "name": "stdout",
          "text": [
            "Inputs shape: torch.Size([1, 757])\n"
          ]
        },
        {
          "output_type": "stream",
          "name": "stderr",
          "text": [
            "\r 55%|█████▌    | 252/455 [38:03<31:36,  9.34s/it]"
          ]
        },
        {
          "output_type": "stream",
          "name": "stdout",
          "text": [
            "Inputs shape: torch.Size([1, 867])\n"
          ]
        },
        {
          "output_type": "stream",
          "name": "stderr",
          "text": [
            "\r 56%|█████▌    | 253/455 [38:09<28:35,  8.49s/it]"
          ]
        },
        {
          "output_type": "stream",
          "name": "stdout",
          "text": [
            "Inputs shape: torch.Size([1, 1061])\n"
          ]
        },
        {
          "output_type": "stream",
          "name": "stderr",
          "text": [
            "\r 56%|█████▌    | 254/455 [38:18<28:52,  8.62s/it]"
          ]
        },
        {
          "output_type": "stream",
          "name": "stdout",
          "text": [
            "Inputs shape: torch.Size([1, 940])\n"
          ]
        },
        {
          "output_type": "stream",
          "name": "stderr",
          "text": [
            "\r 56%|█████▌    | 255/455 [38:29<31:09,  9.35s/it]"
          ]
        },
        {
          "output_type": "stream",
          "name": "stdout",
          "text": [
            "Inputs shape: torch.Size([1, 1142])\n"
          ]
        },
        {
          "output_type": "stream",
          "name": "stderr",
          "text": [
            "\r 56%|█████▋    | 256/455 [38:36<28:40,  8.65s/it]"
          ]
        },
        {
          "output_type": "stream",
          "name": "stdout",
          "text": [
            "Inputs shape: torch.Size([1, 996])\n"
          ]
        },
        {
          "output_type": "stream",
          "name": "stderr",
          "text": [
            "\r 56%|█████▋    | 257/455 [38:44<27:20,  8.28s/it]"
          ]
        },
        {
          "output_type": "stream",
          "name": "stdout",
          "text": [
            "Inputs shape: torch.Size([1, 1005])\n"
          ]
        },
        {
          "output_type": "stream",
          "name": "stderr",
          "text": [
            "\r 57%|█████▋    | 258/455 [38:55<29:43,  9.05s/it]"
          ]
        },
        {
          "output_type": "stream",
          "name": "stdout",
          "text": [
            "Inputs shape: torch.Size([1, 1213])\n"
          ]
        },
        {
          "output_type": "stream",
          "name": "stderr",
          "text": [
            "\r 57%|█████▋    | 259/455 [39:03<29:17,  8.97s/it]"
          ]
        },
        {
          "output_type": "stream",
          "name": "stdout",
          "text": [
            "Inputs shape: torch.Size([1, 1167])\n"
          ]
        },
        {
          "output_type": "stream",
          "name": "stderr",
          "text": [
            "\r 57%|█████▋    | 260/455 [39:10<26:46,  8.24s/it]"
          ]
        },
        {
          "output_type": "stream",
          "name": "stdout",
          "text": [
            "Inputs shape: torch.Size([1, 833])\n"
          ]
        },
        {
          "output_type": "stream",
          "name": "stderr",
          "text": [
            "\r 57%|█████▋    | 261/455 [39:20<28:25,  8.79s/it]"
          ]
        },
        {
          "output_type": "stream",
          "name": "stdout",
          "text": [
            "Inputs shape: torch.Size([1, 1002])\n"
          ]
        },
        {
          "output_type": "stream",
          "name": "stderr",
          "text": [
            "\r 58%|█████▊    | 262/455 [39:31<29:57,  9.31s/it]"
          ]
        },
        {
          "output_type": "stream",
          "name": "stdout",
          "text": [
            "Inputs shape: torch.Size([1, 1147])\n"
          ]
        },
        {
          "output_type": "stream",
          "name": "stderr",
          "text": [
            "\r 58%|█████▊    | 263/455 [39:37<27:08,  8.48s/it]"
          ]
        },
        {
          "output_type": "stream",
          "name": "stdout",
          "text": [
            "Inputs shape: torch.Size([1, 1077])\n"
          ]
        },
        {
          "output_type": "stream",
          "name": "stderr",
          "text": [
            "\r 58%|█████▊    | 264/455 [39:46<27:19,  8.58s/it]"
          ]
        },
        {
          "output_type": "stream",
          "name": "stdout",
          "text": [
            "Inputs shape: torch.Size([1, 807])\n"
          ]
        },
        {
          "output_type": "stream",
          "name": "stderr",
          "text": [
            "\r 58%|█████▊    | 265/455 [39:57<29:29,  9.31s/it]"
          ]
        },
        {
          "output_type": "stream",
          "name": "stdout",
          "text": [
            "Inputs shape: torch.Size([1, 922])\n"
          ]
        },
        {
          "output_type": "stream",
          "name": "stderr",
          "text": [
            "\r 58%|█████▊    | 266/455 [40:04<27:12,  8.64s/it]"
          ]
        },
        {
          "output_type": "stream",
          "name": "stdout",
          "text": [
            "Inputs shape: torch.Size([1, 840])\n"
          ]
        },
        {
          "output_type": "stream",
          "name": "stderr",
          "text": [
            "\r 59%|█████▊    | 267/455 [40:11<25:40,  8.19s/it]"
          ]
        },
        {
          "output_type": "stream",
          "name": "stdout",
          "text": [
            "Inputs shape: torch.Size([1, 1242])\n"
          ]
        },
        {
          "output_type": "stream",
          "name": "stderr",
          "text": [
            "\r 59%|█████▉    | 268/455 [40:22<28:06,  9.02s/it]"
          ]
        },
        {
          "output_type": "stream",
          "name": "stdout",
          "text": [
            "Inputs shape: torch.Size([1, 1189])\n"
          ]
        },
        {
          "output_type": "stream",
          "name": "stderr",
          "text": [
            "\r 59%|█████▉    | 269/455 [40:31<27:51,  8.99s/it]"
          ]
        },
        {
          "output_type": "stream",
          "name": "stdout",
          "text": [
            "Inputs shape: torch.Size([1, 923])\n"
          ]
        },
        {
          "output_type": "stream",
          "name": "stderr",
          "text": [
            "\r 59%|█████▉    | 270/455 [40:38<25:25,  8.25s/it]"
          ]
        },
        {
          "output_type": "stream",
          "name": "stdout",
          "text": [
            "Inputs shape: torch.Size([1, 1009])\n"
          ]
        },
        {
          "output_type": "stream",
          "name": "stderr",
          "text": [
            "\r 60%|█████▉    | 271/455 [40:48<27:14,  8.88s/it]"
          ]
        },
        {
          "output_type": "stream",
          "name": "stdout",
          "text": [
            "Inputs shape: torch.Size([1, 1199])\n"
          ]
        },
        {
          "output_type": "stream",
          "name": "stderr",
          "text": [
            "\r 60%|█████▉    | 272/455 [40:58<28:22,  9.30s/it]"
          ]
        },
        {
          "output_type": "stream",
          "name": "stdout",
          "text": [
            "Inputs shape: torch.Size([1, 1288])\n"
          ]
        },
        {
          "output_type": "stream",
          "name": "stderr",
          "text": [
            "\r 60%|██████    | 273/455 [41:05<25:48,  8.51s/it]"
          ]
        },
        {
          "output_type": "stream",
          "name": "stdout",
          "text": [
            "Inputs shape: torch.Size([1, 1030])\n"
          ]
        },
        {
          "output_type": "stream",
          "name": "stderr",
          "text": [
            "\r 60%|██████    | 274/455 [41:14<26:11,  8.69s/it]"
          ]
        },
        {
          "output_type": "stream",
          "name": "stdout",
          "text": [
            "Inputs shape: torch.Size([1, 1044])\n"
          ]
        },
        {
          "output_type": "stream",
          "name": "stderr",
          "text": [
            "\r 60%|██████    | 275/455 [41:25<28:18,  9.44s/it]"
          ]
        },
        {
          "output_type": "stream",
          "name": "stdout",
          "text": [
            "Inputs shape: torch.Size([1, 1024])\n"
          ]
        },
        {
          "output_type": "stream",
          "name": "stderr",
          "text": [
            "\r 61%|██████    | 276/455 [41:32<25:54,  8.68s/it]"
          ]
        },
        {
          "output_type": "stream",
          "name": "stdout",
          "text": [
            "Inputs shape: torch.Size([1, 1029])\n"
          ]
        },
        {
          "output_type": "stream",
          "name": "stderr",
          "text": [
            "\r 61%|██████    | 277/455 [41:40<24:47,  8.36s/it]"
          ]
        },
        {
          "output_type": "stream",
          "name": "stdout",
          "text": [
            "Inputs shape: torch.Size([1, 833])\n"
          ]
        },
        {
          "output_type": "stream",
          "name": "stderr",
          "text": [
            "\r 61%|██████    | 278/455 [41:51<26:58,  9.15s/it]"
          ]
        },
        {
          "output_type": "stream",
          "name": "stdout",
          "text": [
            "Inputs shape: torch.Size([1, 1173])\n"
          ]
        },
        {
          "output_type": "stream",
          "name": "stderr",
          "text": [
            "\r 61%|██████▏   | 279/455 [42:00<26:32,  9.05s/it]"
          ]
        },
        {
          "output_type": "stream",
          "name": "stdout",
          "text": [
            "Inputs shape: torch.Size([1, 1018])\n"
          ]
        },
        {
          "output_type": "stream",
          "name": "stderr",
          "text": [
            "\r 62%|██████▏   | 280/455 [42:06<24:13,  8.30s/it]"
          ]
        },
        {
          "output_type": "stream",
          "name": "stdout",
          "text": [
            "Inputs shape: torch.Size([1, 1003])\n"
          ]
        },
        {
          "output_type": "stream",
          "name": "stderr",
          "text": [
            "\r 62%|██████▏   | 281/455 [42:17<26:04,  8.99s/it]"
          ]
        },
        {
          "output_type": "stream",
          "name": "stdout",
          "text": [
            "Inputs shape: torch.Size([1, 916])\n"
          ]
        },
        {
          "output_type": "stream",
          "name": "stderr",
          "text": [
            "\r 62%|██████▏   | 282/455 [42:27<26:45,  9.28s/it]"
          ]
        },
        {
          "output_type": "stream",
          "name": "stdout",
          "text": [
            "Inputs shape: torch.Size([1, 852])\n"
          ]
        },
        {
          "output_type": "stream",
          "name": "stderr",
          "text": [
            "\r 62%|██████▏   | 283/455 [42:33<24:09,  8.43s/it]"
          ]
        },
        {
          "output_type": "stream",
          "name": "stdout",
          "text": [
            "Inputs shape: torch.Size([1, 935])\n"
          ]
        },
        {
          "output_type": "stream",
          "name": "stderr",
          "text": [
            "\r 62%|██████▏   | 284/455 [42:42<24:38,  8.64s/it]"
          ]
        },
        {
          "output_type": "stream",
          "name": "stdout",
          "text": [
            "Inputs shape: torch.Size([1, 1138])\n"
          ]
        },
        {
          "output_type": "stream",
          "name": "stderr",
          "text": [
            "\r 63%|██████▎   | 285/455 [42:53<26:31,  9.36s/it]"
          ]
        },
        {
          "output_type": "stream",
          "name": "stdout",
          "text": [
            "Inputs shape: torch.Size([1, 804])\n"
          ]
        },
        {
          "output_type": "stream",
          "name": "stderr",
          "text": [
            "\r 63%|██████▎   | 286/455 [43:00<24:02,  8.54s/it]"
          ]
        },
        {
          "output_type": "stream",
          "name": "stdout",
          "text": [
            "Inputs shape: torch.Size([1, 1168])\n"
          ]
        },
        {
          "output_type": "stream",
          "name": "stderr",
          "text": [
            "\r 63%|██████▎   | 287/455 [43:08<23:15,  8.31s/it]"
          ]
        },
        {
          "output_type": "stream",
          "name": "stdout",
          "text": [
            "Inputs shape: torch.Size([1, 1162])\n"
          ]
        },
        {
          "output_type": "stream",
          "name": "stderr",
          "text": [
            "\r 63%|██████▎   | 288/455 [43:19<25:21,  9.11s/it]"
          ]
        },
        {
          "output_type": "stream",
          "name": "stdout",
          "text": [
            "Inputs shape: torch.Size([1, 1041])\n"
          ]
        },
        {
          "output_type": "stream",
          "name": "stderr",
          "text": [
            "\r 64%|██████▎   | 289/455 [43:27<24:30,  8.86s/it]"
          ]
        },
        {
          "output_type": "stream",
          "name": "stdout",
          "text": [
            "Inputs shape: torch.Size([1, 944])\n"
          ]
        },
        {
          "output_type": "stream",
          "name": "stderr",
          "text": [
            "\r 64%|██████▎   | 290/455 [43:34<22:39,  8.24s/it]"
          ]
        },
        {
          "output_type": "stream",
          "name": "stdout",
          "text": [
            "Inputs shape: torch.Size([1, 1121])\n"
          ]
        },
        {
          "output_type": "stream",
          "name": "stderr",
          "text": [
            "\r 64%|██████▍   | 291/455 [43:44<24:24,  8.93s/it]"
          ]
        },
        {
          "output_type": "stream",
          "name": "stdout",
          "text": [
            "Inputs shape: torch.Size([1, 802])\n"
          ]
        },
        {
          "output_type": "stream",
          "name": "stderr",
          "text": [
            "\r 64%|██████▍   | 292/455 [43:54<25:04,  9.23s/it]"
          ]
        },
        {
          "output_type": "stream",
          "name": "stdout",
          "text": [
            "Inputs shape: torch.Size([1, 1242])\n"
          ]
        },
        {
          "output_type": "stream",
          "name": "stderr",
          "text": [
            "\r 64%|██████▍   | 293/455 [44:01<22:47,  8.44s/it]"
          ]
        },
        {
          "output_type": "stream",
          "name": "stdout",
          "text": [
            "Inputs shape: torch.Size([1, 1294])\n"
          ]
        },
        {
          "output_type": "stream",
          "name": "stderr",
          "text": [
            "\r 65%|██████▍   | 294/455 [44:11<23:45,  8.86s/it]"
          ]
        },
        {
          "output_type": "stream",
          "name": "stdout",
          "text": [
            "Inputs shape: torch.Size([1, 889])\n"
          ]
        },
        {
          "output_type": "stream",
          "name": "stderr",
          "text": [
            "\r 65%|██████▍   | 295/455 [44:22<25:23,  9.52s/it]"
          ]
        },
        {
          "output_type": "stream",
          "name": "stdout",
          "text": [
            "Inputs shape: torch.Size([1, 945])\n"
          ]
        },
        {
          "output_type": "stream",
          "name": "stderr",
          "text": [
            "\r 65%|██████▌   | 296/455 [44:28<22:48,  8.61s/it]"
          ]
        },
        {
          "output_type": "stream",
          "name": "stdout",
          "text": [
            "Inputs shape: torch.Size([1, 1179])\n"
          ]
        },
        {
          "output_type": "stream",
          "name": "stderr",
          "text": [
            "\r 65%|██████▌   | 297/455 [44:37<22:30,  8.55s/it]"
          ]
        },
        {
          "output_type": "stream",
          "name": "stdout",
          "text": [
            "Inputs shape: torch.Size([1, 1047])\n"
          ]
        },
        {
          "output_type": "stream",
          "name": "stderr",
          "text": [
            "\r 65%|██████▌   | 298/455 [44:48<24:23,  9.32s/it]"
          ]
        },
        {
          "output_type": "stream",
          "name": "stdout",
          "text": [
            "Inputs shape: torch.Size([1, 1109])\n"
          ]
        },
        {
          "output_type": "stream",
          "name": "stderr",
          "text": [
            "\r 66%|██████▌   | 299/455 [44:56<23:06,  8.89s/it]"
          ]
        },
        {
          "output_type": "stream",
          "name": "stdout",
          "text": [
            "Inputs shape: torch.Size([1, 946])\n"
          ]
        },
        {
          "output_type": "stream",
          "name": "stderr",
          "text": [
            "\r 66%|██████▌   | 300/455 [45:03<21:41,  8.40s/it]"
          ]
        },
        {
          "output_type": "stream",
          "name": "stdout",
          "text": [
            "Inputs shape: torch.Size([1, 933])\n"
          ]
        },
        {
          "output_type": "stream",
          "name": "stderr",
          "text": [
            "\r 66%|██████▌   | 301/455 [45:14<23:47,  9.27s/it]"
          ]
        },
        {
          "output_type": "stream",
          "name": "stdout",
          "text": [
            "Inputs shape: torch.Size([1, 1078])\n"
          ]
        },
        {
          "output_type": "stream",
          "name": "stderr",
          "text": [
            "\r 66%|██████▋   | 302/455 [45:23<23:28,  9.21s/it]"
          ]
        },
        {
          "output_type": "stream",
          "name": "stdout",
          "text": [
            "Inputs shape: torch.Size([1, 894])\n"
          ]
        },
        {
          "output_type": "stream",
          "name": "stderr",
          "text": [
            "\r 67%|██████▋   | 303/455 [45:30<21:19,  8.42s/it]"
          ]
        },
        {
          "output_type": "stream",
          "name": "stdout",
          "text": [
            "Inputs shape: torch.Size([1, 904])\n"
          ]
        },
        {
          "output_type": "stream",
          "name": "stderr",
          "text": [
            "\r 67%|██████▋   | 304/455 [45:40<22:44,  9.04s/it]"
          ]
        },
        {
          "output_type": "stream",
          "name": "stdout",
          "text": [
            "Inputs shape: torch.Size([1, 840])\n"
          ]
        },
        {
          "output_type": "stream",
          "name": "stderr",
          "text": [
            "\r 67%|██████▋   | 305/455 [45:50<23:30,  9.40s/it]"
          ]
        },
        {
          "output_type": "stream",
          "name": "stdout",
          "text": [
            "Inputs shape: torch.Size([1, 1002])\n"
          ]
        },
        {
          "output_type": "stream",
          "name": "stderr",
          "text": [
            "\r 67%|██████▋   | 306/455 [45:57<21:21,  8.60s/it]"
          ]
        },
        {
          "output_type": "stream",
          "name": "stdout",
          "text": [
            "Inputs shape: torch.Size([1, 1245])\n"
          ]
        },
        {
          "output_type": "stream",
          "name": "stderr",
          "text": [
            "\r 67%|██████▋   | 307/455 [46:07<21:55,  8.89s/it]"
          ]
        },
        {
          "output_type": "stream",
          "name": "stdout",
          "text": [
            "Inputs shape: torch.Size([1, 795])\n"
          ]
        },
        {
          "output_type": "stream",
          "name": "stderr",
          "text": [
            "\r 68%|██████▊   | 308/455 [46:18<23:21,  9.53s/it]"
          ]
        },
        {
          "output_type": "stream",
          "name": "stdout",
          "text": [
            "Inputs shape: torch.Size([1, 825])\n"
          ]
        },
        {
          "output_type": "stream",
          "name": "stderr",
          "text": [
            "\r 68%|██████▊   | 309/455 [46:24<21:02,  8.65s/it]"
          ]
        },
        {
          "output_type": "stream",
          "name": "stdout",
          "text": [
            "Inputs shape: torch.Size([1, 1027])\n"
          ]
        },
        {
          "output_type": "stream",
          "name": "stderr",
          "text": [
            "\r 68%|██████▊   | 310/455 [46:32<20:25,  8.45s/it]"
          ]
        },
        {
          "output_type": "stream",
          "name": "stdout",
          "text": [
            "Inputs shape: torch.Size([1, 921])\n"
          ]
        },
        {
          "output_type": "stream",
          "name": "stderr",
          "text": [
            "\r 68%|██████▊   | 311/455 [46:43<22:11,  9.24s/it]"
          ]
        },
        {
          "output_type": "stream",
          "name": "stdout",
          "text": [
            "Inputs shape: torch.Size([1, 1007])\n"
          ]
        },
        {
          "output_type": "stream",
          "name": "stderr",
          "text": [
            "\r 69%|██████▊   | 312/455 [46:52<21:19,  8.95s/it]"
          ]
        },
        {
          "output_type": "stream",
          "name": "stdout",
          "text": [
            "Inputs shape: torch.Size([1, 812])\n"
          ]
        },
        {
          "output_type": "stream",
          "name": "stderr",
          "text": [
            "\r 69%|██████▉   | 313/455 [46:58<19:37,  8.29s/it]"
          ]
        },
        {
          "output_type": "stream",
          "name": "stdout",
          "text": [
            "Inputs shape: torch.Size([1, 991])\n"
          ]
        },
        {
          "output_type": "stream",
          "name": "stderr",
          "text": [
            "\r 69%|██████▉   | 314/455 [47:10<21:30,  9.15s/it]"
          ]
        },
        {
          "output_type": "stream",
          "name": "stdout",
          "text": [
            "Inputs shape: torch.Size([1, 1017])\n"
          ]
        },
        {
          "output_type": "stream",
          "name": "stderr",
          "text": [
            "\r 69%|██████▉   | 315/455 [47:20<22:25,  9.61s/it]"
          ]
        },
        {
          "output_type": "stream",
          "name": "stdout",
          "text": [
            "Inputs shape: torch.Size([1, 957])\n"
          ]
        },
        {
          "output_type": "stream",
          "name": "stderr",
          "text": [
            "\r 69%|██████▉   | 316/455 [47:27<20:27,  8.83s/it]"
          ]
        },
        {
          "output_type": "stream",
          "name": "stdout",
          "text": [
            "Inputs shape: torch.Size([1, 1051])\n"
          ]
        },
        {
          "output_type": "stream",
          "name": "stderr",
          "text": [
            "\r 70%|██████▉   | 317/455 [47:38<21:21,  9.28s/it]"
          ]
        },
        {
          "output_type": "stream",
          "name": "stdout",
          "text": [
            "Inputs shape: torch.Size([1, 879])\n"
          ]
        },
        {
          "output_type": "stream",
          "name": "stderr",
          "text": [
            "\r 70%|██████▉   | 318/455 [47:49<22:54, 10.03s/it]"
          ]
        },
        {
          "output_type": "stream",
          "name": "stdout",
          "text": [
            "Inputs shape: torch.Size([1, 1073])\n"
          ]
        },
        {
          "output_type": "stream",
          "name": "stderr",
          "text": [
            "\r 70%|███████   | 319/455 [47:57<20:48,  9.18s/it]"
          ]
        },
        {
          "output_type": "stream",
          "name": "stdout",
          "text": [
            "Inputs shape: torch.Size([1, 948])\n"
          ]
        },
        {
          "output_type": "stream",
          "name": "stderr",
          "text": [
            "\r 70%|███████   | 320/455 [48:06<20:56,  9.31s/it]"
          ]
        },
        {
          "output_type": "stream",
          "name": "stdout",
          "text": [
            "Inputs shape: torch.Size([1, 1202])\n"
          ]
        },
        {
          "output_type": "stream",
          "name": "stderr",
          "text": [
            "\r 71%|███████   | 321/455 [48:18<22:09,  9.92s/it]"
          ]
        },
        {
          "output_type": "stream",
          "name": "stdout",
          "text": [
            "Inputs shape: torch.Size([1, 880])\n"
          ]
        },
        {
          "output_type": "stream",
          "name": "stderr",
          "text": [
            "\r 71%|███████   | 322/455 [48:25<20:11,  9.11s/it]"
          ]
        },
        {
          "output_type": "stream",
          "name": "stdout",
          "text": [
            "Inputs shape: torch.Size([1, 1186])\n"
          ]
        },
        {
          "output_type": "stream",
          "name": "stderr",
          "text": [
            "\r 71%|███████   | 323/455 [48:33<19:08,  8.70s/it]"
          ]
        },
        {
          "output_type": "stream",
          "name": "stdout",
          "text": [
            "Inputs shape: torch.Size([1, 1205])\n"
          ]
        },
        {
          "output_type": "stream",
          "name": "stderr",
          "text": [
            "\r 71%|███████   | 324/455 [48:44<20:37,  9.45s/it]"
          ]
        },
        {
          "output_type": "stream",
          "name": "stdout",
          "text": [
            "Inputs shape: torch.Size([1, 1060])\n"
          ]
        },
        {
          "output_type": "stream",
          "name": "stderr",
          "text": [
            "\r 71%|███████▏  | 325/455 [48:53<20:06,  9.28s/it]"
          ]
        },
        {
          "output_type": "stream",
          "name": "stdout",
          "text": [
            "Inputs shape: torch.Size([1, 1430])\n"
          ]
        },
        {
          "output_type": "stream",
          "name": "stderr",
          "text": [
            "\r 72%|███████▏  | 326/455 [49:00<18:41,  8.69s/it]"
          ]
        },
        {
          "output_type": "stream",
          "name": "stdout",
          "text": [
            "Inputs shape: torch.Size([1, 951])\n"
          ]
        },
        {
          "output_type": "stream",
          "name": "stderr",
          "text": [
            "\r 72%|███████▏  | 327/455 [49:11<19:45,  9.26s/it]"
          ]
        },
        {
          "output_type": "stream",
          "name": "stdout",
          "text": [
            "Inputs shape: torch.Size([1, 937])\n"
          ]
        },
        {
          "output_type": "stream",
          "name": "stderr",
          "text": [
            "\r 72%|███████▏  | 328/455 [49:21<20:04,  9.49s/it]"
          ]
        },
        {
          "output_type": "stream",
          "name": "stdout",
          "text": [
            "Inputs shape: torch.Size([1, 920])\n"
          ]
        },
        {
          "output_type": "stream",
          "name": "stderr",
          "text": [
            "\r 72%|███████▏  | 329/455 [49:27<18:12,  8.67s/it]"
          ]
        },
        {
          "output_type": "stream",
          "name": "stdout",
          "text": [
            "Inputs shape: torch.Size([1, 1152])\n"
          ]
        },
        {
          "output_type": "stream",
          "name": "stderr",
          "text": [
            "\r 73%|███████▎  | 330/455 [49:37<18:48,  9.03s/it]"
          ]
        },
        {
          "output_type": "stream",
          "name": "stdout",
          "text": [
            "Inputs shape: torch.Size([1, 1129])\n"
          ]
        },
        {
          "output_type": "stream",
          "name": "stderr",
          "text": [
            "\r 73%|███████▎  | 331/455 [49:49<20:08,  9.74s/it]"
          ]
        },
        {
          "output_type": "stream",
          "name": "stdout",
          "text": [
            "Inputs shape: torch.Size([1, 1298])\n"
          ]
        },
        {
          "output_type": "stream",
          "name": "stderr",
          "text": [
            "\r 73%|███████▎  | 332/455 [49:56<18:18,  8.93s/it]"
          ]
        },
        {
          "output_type": "stream",
          "name": "stdout",
          "text": [
            "Inputs shape: torch.Size([1, 1040])\n"
          ]
        },
        {
          "output_type": "stream",
          "name": "stderr",
          "text": [
            "\r 73%|███████▎  | 333/455 [50:04<17:54,  8.81s/it]"
          ]
        },
        {
          "output_type": "stream",
          "name": "stdout",
          "text": [
            "Inputs shape: torch.Size([1, 1074])\n"
          ]
        },
        {
          "output_type": "stream",
          "name": "stderr",
          "text": [
            "\r 73%|███████▎  | 334/455 [50:15<19:15,  9.55s/it]"
          ]
        },
        {
          "output_type": "stream",
          "name": "stdout",
          "text": [
            "Inputs shape: torch.Size([1, 1336])\n"
          ]
        },
        {
          "output_type": "stream",
          "name": "stderr",
          "text": [
            "\r 74%|███████▎  | 335/455 [50:24<18:18,  9.16s/it]"
          ]
        },
        {
          "output_type": "stream",
          "name": "stdout",
          "text": [
            "Inputs shape: torch.Size([1, 976])\n"
          ]
        },
        {
          "output_type": "stream",
          "name": "stderr",
          "text": [
            "\r 74%|███████▍  | 336/455 [50:31<17:00,  8.57s/it]"
          ]
        },
        {
          "output_type": "stream",
          "name": "stdout",
          "text": [
            "Inputs shape: torch.Size([1, 943])\n"
          ]
        },
        {
          "output_type": "stream",
          "name": "stderr",
          "text": [
            "\r 74%|███████▍  | 337/455 [50:42<18:15,  9.28s/it]"
          ]
        },
        {
          "output_type": "stream",
          "name": "stdout",
          "text": [
            "Inputs shape: torch.Size([1, 1343])\n"
          ]
        },
        {
          "output_type": "stream",
          "name": "stderr",
          "text": [
            "\r 74%|███████▍  | 338/455 [50:51<18:07,  9.29s/it]"
          ]
        },
        {
          "output_type": "stream",
          "name": "stdout",
          "text": [
            "Inputs shape: torch.Size([1, 1245])\n"
          ]
        },
        {
          "output_type": "stream",
          "name": "stderr",
          "text": [
            "\r 75%|███████▍  | 339/455 [50:58<16:29,  8.53s/it]"
          ]
        },
        {
          "output_type": "stream",
          "name": "stdout",
          "text": [
            "Inputs shape: torch.Size([1, 1163])\n"
          ]
        },
        {
          "output_type": "stream",
          "name": "stderr",
          "text": [
            "\r 75%|███████▍  | 340/455 [51:08<17:28,  9.11s/it]"
          ]
        },
        {
          "output_type": "stream",
          "name": "stdout",
          "text": [
            "Inputs shape: torch.Size([1, 1266])\n"
          ]
        },
        {
          "output_type": "stream",
          "name": "stderr",
          "text": [
            "\r 75%|███████▍  | 341/455 [51:13<14:59,  7.89s/it]"
          ]
        },
        {
          "output_type": "stream",
          "name": "stdout",
          "text": [
            "Inputs shape: torch.Size([1, 1023])\n"
          ]
        },
        {
          "output_type": "stream",
          "name": "stderr",
          "text": [
            "\r 75%|███████▌  | 342/455 [51:22<15:09,  8.05s/it]"
          ]
        },
        {
          "output_type": "stream",
          "name": "stdout",
          "text": [
            "Inputs shape: torch.Size([1, 1256])\n"
          ]
        },
        {
          "output_type": "stream",
          "name": "stderr",
          "text": [
            "\r 75%|███████▌  | 343/455 [51:29<14:27,  7.74s/it]"
          ]
        },
        {
          "output_type": "stream",
          "name": "stdout",
          "text": [
            "Inputs shape: torch.Size([1, 977])\n"
          ]
        },
        {
          "output_type": "stream",
          "name": "stderr",
          "text": [
            "\r 76%|███████▌  | 344/455 [51:40<16:00,  8.65s/it]"
          ]
        },
        {
          "output_type": "stream",
          "name": "stdout",
          "text": [
            "Inputs shape: torch.Size([1, 1009])\n"
          ]
        },
        {
          "output_type": "stream",
          "name": "stderr",
          "text": [
            "\r 76%|███████▌  | 345/455 [51:49<16:24,  8.95s/it]"
          ]
        },
        {
          "output_type": "stream",
          "name": "stdout",
          "text": [
            "Inputs shape: torch.Size([1, 1004])\n"
          ]
        },
        {
          "output_type": "stream",
          "name": "stderr",
          "text": [
            "\r 76%|███████▌  | 346/455 [51:56<15:02,  8.28s/it]"
          ]
        },
        {
          "output_type": "stream",
          "name": "stdout",
          "text": [
            "Inputs shape: torch.Size([1, 1118])\n"
          ]
        },
        {
          "output_type": "stream",
          "name": "stderr",
          "text": [
            "\r 76%|███████▋  | 347/455 [52:06<15:50,  8.80s/it]"
          ]
        },
        {
          "output_type": "stream",
          "name": "stdout",
          "text": [
            "Inputs shape: torch.Size([1, 1237])\n"
          ]
        },
        {
          "output_type": "stream",
          "name": "stderr",
          "text": [
            "\r 76%|███████▋  | 348/455 [52:17<16:58,  9.52s/it]"
          ]
        },
        {
          "output_type": "stream",
          "name": "stdout",
          "text": [
            "Inputs shape: torch.Size([1, 1029])\n"
          ]
        },
        {
          "output_type": "stream",
          "name": "stderr",
          "text": [
            "\r 77%|███████▋  | 349/455 [52:24<15:20,  8.68s/it]"
          ]
        },
        {
          "output_type": "stream",
          "name": "stdout",
          "text": [
            "Inputs shape: torch.Size([1, 977])\n"
          ]
        },
        {
          "output_type": "stream",
          "name": "stderr",
          "text": [
            "\r 77%|███████▋  | 350/455 [52:33<15:12,  8.69s/it]"
          ]
        },
        {
          "output_type": "stream",
          "name": "stdout",
          "text": [
            "Inputs shape: torch.Size([1, 1285])\n"
          ]
        },
        {
          "output_type": "stream",
          "name": "stderr",
          "text": [
            "\r 77%|███████▋  | 351/455 [52:44<16:22,  9.45s/it]"
          ]
        },
        {
          "output_type": "stream",
          "name": "stdout",
          "text": [
            "Inputs shape: torch.Size([1, 1017])\n"
          ]
        },
        {
          "output_type": "stream",
          "name": "stderr",
          "text": [
            "\r 77%|███████▋  | 352/455 [52:51<15:08,  8.82s/it]"
          ]
        },
        {
          "output_type": "stream",
          "name": "stdout",
          "text": [
            "Inputs shape: torch.Size([1, 970])\n"
          ]
        },
        {
          "output_type": "stream",
          "name": "stderr",
          "text": [
            "\r 78%|███████▊  | 353/455 [52:58<14:09,  8.33s/it]"
          ]
        },
        {
          "output_type": "stream",
          "name": "stdout",
          "text": [
            "Inputs shape: torch.Size([1, 896])\n"
          ]
        },
        {
          "output_type": "stream",
          "name": "stderr",
          "text": [
            "\r 78%|███████▊  | 354/455 [53:09<15:20,  9.11s/it]"
          ]
        },
        {
          "output_type": "stream",
          "name": "stdout",
          "text": [
            "Inputs shape: torch.Size([1, 1058])\n"
          ]
        },
        {
          "output_type": "stream",
          "name": "stderr",
          "text": [
            "\r 78%|███████▊  | 355/455 [53:18<15:06,  9.07s/it]"
          ]
        },
        {
          "output_type": "stream",
          "name": "stdout",
          "text": [
            "Inputs shape: torch.Size([1, 1105])\n"
          ]
        },
        {
          "output_type": "stream",
          "name": "stderr",
          "text": [
            "\r 78%|███████▊  | 356/455 [53:25<13:47,  8.36s/it]"
          ]
        },
        {
          "output_type": "stream",
          "name": "stdout",
          "text": [
            "Inputs shape: torch.Size([1, 1046])\n"
          ]
        },
        {
          "output_type": "stream",
          "name": "stderr",
          "text": [
            "\r 78%|███████▊  | 357/455 [53:35<14:39,  8.97s/it]"
          ]
        },
        {
          "output_type": "stream",
          "name": "stdout",
          "text": [
            "Inputs shape: torch.Size([1, 1229])\n"
          ]
        },
        {
          "output_type": "stream",
          "name": "stderr",
          "text": [
            "\r 79%|███████▊  | 358/455 [53:46<15:14,  9.42s/it]"
          ]
        },
        {
          "output_type": "stream",
          "name": "stdout",
          "text": [
            "Inputs shape: torch.Size([1, 1008])\n"
          ]
        },
        {
          "output_type": "stream",
          "name": "stderr",
          "text": [
            "\r 79%|███████▉  | 359/455 [53:52<13:41,  8.56s/it]"
          ]
        },
        {
          "output_type": "stream",
          "name": "stdout",
          "text": [
            "Inputs shape: torch.Size([1, 1001])\n"
          ]
        },
        {
          "output_type": "stream",
          "name": "stderr",
          "text": [
            "\r 79%|███████▉  | 360/455 [54:01<13:42,  8.66s/it]"
          ]
        },
        {
          "output_type": "stream",
          "name": "stdout",
          "text": [
            "Inputs shape: torch.Size([1, 1117])\n"
          ]
        },
        {
          "output_type": "stream",
          "name": "stderr",
          "text": [
            "\r 79%|███████▉  | 361/455 [54:12<14:44,  9.41s/it]"
          ]
        },
        {
          "output_type": "stream",
          "name": "stdout",
          "text": [
            "Inputs shape: torch.Size([1, 1019])\n"
          ]
        },
        {
          "output_type": "stream",
          "name": "stderr",
          "text": [
            "\r 80%|███████▉  | 362/455 [54:20<13:31,  8.72s/it]"
          ]
        },
        {
          "output_type": "stream",
          "name": "stdout",
          "text": [
            "Inputs shape: torch.Size([1, 934])\n"
          ]
        },
        {
          "output_type": "stream",
          "name": "stderr",
          "text": [
            "\r 80%|███████▉  | 363/455 [54:27<12:51,  8.38s/it]"
          ]
        },
        {
          "output_type": "stream",
          "name": "stdout",
          "text": [
            "Inputs shape: torch.Size([1, 1014])\n"
          ]
        },
        {
          "output_type": "stream",
          "name": "stderr",
          "text": [
            "\r 80%|████████  | 364/455 [54:38<13:57,  9.20s/it]"
          ]
        },
        {
          "output_type": "stream",
          "name": "stdout",
          "text": [
            "Inputs shape: torch.Size([1, 746])\n"
          ]
        },
        {
          "output_type": "stream",
          "name": "stderr",
          "text": [
            "\r 80%|████████  | 365/455 [54:47<13:28,  8.98s/it]"
          ]
        },
        {
          "output_type": "stream",
          "name": "stdout",
          "text": [
            "Inputs shape: torch.Size([1, 1247])\n"
          ]
        },
        {
          "output_type": "stream",
          "name": "stderr",
          "text": [
            "\r 80%|████████  | 366/455 [54:53<12:17,  8.29s/it]"
          ]
        },
        {
          "output_type": "stream",
          "name": "stdout",
          "text": [
            "Inputs shape: torch.Size([1, 977])\n"
          ]
        },
        {
          "output_type": "stream",
          "name": "stderr",
          "text": [
            "\r 81%|████████  | 367/455 [55:04<13:09,  8.97s/it]"
          ]
        },
        {
          "output_type": "stream",
          "name": "stdout",
          "text": [
            "Inputs shape: torch.Size([1, 1214])\n"
          ]
        },
        {
          "output_type": "stream",
          "name": "stderr",
          "text": [
            "\r 81%|████████  | 368/455 [55:14<13:25,  9.25s/it]"
          ]
        },
        {
          "output_type": "stream",
          "name": "stdout",
          "text": [
            "Inputs shape: torch.Size([1, 1145])\n"
          ]
        },
        {
          "output_type": "stream",
          "name": "stderr",
          "text": [
            "\r 81%|████████  | 369/455 [55:21<12:10,  8.49s/it]"
          ]
        },
        {
          "output_type": "stream",
          "name": "stdout",
          "text": [
            "Inputs shape: torch.Size([1, 1138])\n"
          ]
        },
        {
          "output_type": "stream",
          "name": "stderr",
          "text": [
            "\r 81%|████████▏ | 370/455 [55:30<12:32,  8.85s/it]"
          ]
        },
        {
          "output_type": "stream",
          "name": "stdout",
          "text": [
            "Inputs shape: torch.Size([1, 1225])\n"
          ]
        },
        {
          "output_type": "stream",
          "name": "stderr",
          "text": [
            "\r 82%|████████▏ | 371/455 [55:41<13:21,  9.55s/it]"
          ]
        },
        {
          "output_type": "stream",
          "name": "stdout",
          "text": [
            "Inputs shape: torch.Size([1, 1474])\n"
          ]
        },
        {
          "output_type": "stream",
          "name": "stderr",
          "text": [
            "\r 82%|████████▏ | 372/455 [55:48<12:00,  8.68s/it]"
          ]
        },
        {
          "output_type": "stream",
          "name": "stdout",
          "text": [
            "Inputs shape: torch.Size([1, 1121])\n"
          ]
        },
        {
          "output_type": "stream",
          "name": "stderr",
          "text": [
            "\r 82%|████████▏ | 373/455 [55:56<11:39,  8.53s/it]"
          ]
        },
        {
          "output_type": "stream",
          "name": "stdout",
          "text": [
            "Inputs shape: torch.Size([1, 1093])\n"
          ]
        },
        {
          "output_type": "stream",
          "name": "stderr",
          "text": [
            "\r 82%|████████▏ | 374/455 [56:07<12:34,  9.32s/it]"
          ]
        },
        {
          "output_type": "stream",
          "name": "stdout",
          "text": [
            "Inputs shape: torch.Size([1, 950])\n"
          ]
        },
        {
          "output_type": "stream",
          "name": "stderr",
          "text": [
            "\r 82%|████████▏ | 375/455 [56:15<11:48,  8.86s/it]"
          ]
        },
        {
          "output_type": "stream",
          "name": "stdout",
          "text": [
            "Inputs shape: torch.Size([1, 1064])\n"
          ]
        },
        {
          "output_type": "stream",
          "name": "stderr",
          "text": [
            "\r 83%|████████▎ | 376/455 [56:22<10:53,  8.27s/it]"
          ]
        },
        {
          "output_type": "stream",
          "name": "stdout",
          "text": [
            "Inputs shape: torch.Size([1, 1061])\n"
          ]
        },
        {
          "output_type": "stream",
          "name": "stderr",
          "text": [
            "\r 83%|████████▎ | 377/455 [56:33<11:45,  9.05s/it]"
          ]
        },
        {
          "output_type": "stream",
          "name": "stdout",
          "text": [
            "Inputs shape: torch.Size([1, 860])\n"
          ]
        },
        {
          "output_type": "stream",
          "name": "stderr",
          "text": [
            "\r 83%|████████▎ | 378/455 [56:43<12:02,  9.38s/it]"
          ]
        },
        {
          "output_type": "stream",
          "name": "stdout",
          "text": [
            "Inputs shape: torch.Size([1, 926])\n"
          ]
        },
        {
          "output_type": "stream",
          "name": "stderr",
          "text": [
            "\r 83%|████████▎ | 379/455 [56:50<10:47,  8.52s/it]"
          ]
        },
        {
          "output_type": "stream",
          "name": "stdout",
          "text": [
            "Inputs shape: torch.Size([1, 1151])\n"
          ]
        },
        {
          "output_type": "stream",
          "name": "stderr",
          "text": [
            "\r 84%|████████▎ | 380/455 [57:00<11:24,  9.13s/it]"
          ]
        },
        {
          "output_type": "stream",
          "name": "stdout",
          "text": [
            "Inputs shape: torch.Size([1, 1195])\n"
          ]
        },
        {
          "output_type": "stream",
          "name": "stderr",
          "text": [
            "\r 84%|████████▎ | 381/455 [57:10<11:38,  9.45s/it]"
          ]
        },
        {
          "output_type": "stream",
          "name": "stdout",
          "text": [
            "Inputs shape: torch.Size([1, 964])\n"
          ]
        },
        {
          "output_type": "stream",
          "name": "stderr",
          "text": [
            "\r 84%|████████▍ | 382/455 [57:17<10:28,  8.61s/it]"
          ]
        },
        {
          "output_type": "stream",
          "name": "stdout",
          "text": [
            "Inputs shape: torch.Size([1, 1079])\n"
          ]
        },
        {
          "output_type": "stream",
          "name": "stderr",
          "text": [
            "\r 84%|████████▍ | 383/455 [57:26<10:34,  8.82s/it]"
          ]
        },
        {
          "output_type": "stream",
          "name": "stdout",
          "text": [
            "Inputs shape: torch.Size([1, 1032])\n"
          ]
        },
        {
          "output_type": "stream",
          "name": "stderr",
          "text": [
            "\r 84%|████████▍ | 384/455 [57:37<11:13,  9.49s/it]"
          ]
        },
        {
          "output_type": "stream",
          "name": "stdout",
          "text": [
            "Inputs shape: torch.Size([1, 1034])\n"
          ]
        },
        {
          "output_type": "stream",
          "name": "stderr",
          "text": [
            "\r 85%|████████▍ | 385/455 [57:44<10:03,  8.62s/it]"
          ]
        },
        {
          "output_type": "stream",
          "name": "stdout",
          "text": [
            "Inputs shape: torch.Size([1, 1020])\n"
          ]
        },
        {
          "output_type": "stream",
          "name": "stderr",
          "text": [
            "\r 85%|████████▍ | 386/455 [57:52<09:42,  8.43s/it]"
          ]
        },
        {
          "output_type": "stream",
          "name": "stdout",
          "text": [
            "Inputs shape: torch.Size([1, 1108])\n"
          ]
        },
        {
          "output_type": "stream",
          "name": "stderr",
          "text": [
            "\r 85%|████████▌ | 387/455 [58:03<10:26,  9.21s/it]"
          ]
        },
        {
          "output_type": "stream",
          "name": "stdout",
          "text": [
            "Inputs shape: torch.Size([1, 834])\n"
          ]
        },
        {
          "output_type": "stream",
          "name": "stderr",
          "text": [
            "\r 85%|████████▌ | 388/455 [58:11<09:52,  8.85s/it]"
          ]
        },
        {
          "output_type": "stream",
          "name": "stdout",
          "text": [
            "Inputs shape: torch.Size([1, 1227])\n"
          ]
        },
        {
          "output_type": "stream",
          "name": "stderr",
          "text": [
            "\r 85%|████████▌ | 389/455 [58:18<09:04,  8.25s/it]"
          ]
        },
        {
          "output_type": "stream",
          "name": "stdout",
          "text": [
            "Inputs shape: torch.Size([1, 1186])\n"
          ]
        },
        {
          "output_type": "stream",
          "name": "stderr",
          "text": [
            "\r 86%|████████▌ | 390/455 [58:24<08:13,  7.59s/it]"
          ]
        },
        {
          "output_type": "stream",
          "name": "stdout",
          "text": [
            "Inputs shape: torch.Size([1, 1314])\n"
          ]
        },
        {
          "output_type": "stream",
          "name": "stderr",
          "text": [
            "\r 86%|████████▌ | 391/455 [58:35<09:17,  8.71s/it]"
          ]
        },
        {
          "output_type": "stream",
          "name": "stdout",
          "text": [
            "Inputs shape: torch.Size([1, 1098])\n"
          ]
        },
        {
          "output_type": "stream",
          "name": "stderr",
          "text": [
            "\r 86%|████████▌ | 392/455 [58:42<08:34,  8.17s/it]"
          ]
        },
        {
          "output_type": "stream",
          "name": "stdout",
          "text": [
            "Inputs shape: torch.Size([1, 985])\n"
          ]
        },
        {
          "output_type": "stream",
          "name": "stderr",
          "text": [
            "\r 86%|████████▋ | 393/455 [58:50<08:19,  8.06s/it]"
          ]
        },
        {
          "output_type": "stream",
          "name": "stdout",
          "text": [
            "Inputs shape: torch.Size([1, 1181])\n"
          ]
        },
        {
          "output_type": "stream",
          "name": "stderr",
          "text": [
            "\r 87%|████████▋ | 394/455 [59:01<09:06,  8.97s/it]"
          ]
        },
        {
          "output_type": "stream",
          "name": "stdout",
          "text": [
            "Inputs shape: torch.Size([1, 1135])\n"
          ]
        },
        {
          "output_type": "stream",
          "name": "stderr",
          "text": [
            "\r 87%|████████▋ | 395/455 [59:09<08:43,  8.72s/it]"
          ]
        },
        {
          "output_type": "stream",
          "name": "stdout",
          "text": [
            "Inputs shape: torch.Size([1, 1000])\n"
          ]
        },
        {
          "output_type": "stream",
          "name": "stderr",
          "text": [
            "\r 87%|████████▋ | 396/455 [59:16<08:00,  8.15s/it]"
          ]
        },
        {
          "output_type": "stream",
          "name": "stdout",
          "text": [
            "Inputs shape: torch.Size([1, 778])\n"
          ]
        },
        {
          "output_type": "stream",
          "name": "stderr",
          "text": [
            "\r 87%|████████▋ | 397/455 [59:26<08:32,  8.84s/it]"
          ]
        },
        {
          "output_type": "stream",
          "name": "stdout",
          "text": [
            "Inputs shape: torch.Size([1, 1172])\n"
          ]
        },
        {
          "output_type": "stream",
          "name": "stderr",
          "text": [
            "\r 87%|████████▋ | 398/455 [59:36<08:40,  9.13s/it]"
          ]
        },
        {
          "output_type": "stream",
          "name": "stdout",
          "text": [
            "Inputs shape: torch.Size([1, 877])\n"
          ]
        },
        {
          "output_type": "stream",
          "name": "stderr",
          "text": [
            "\r 88%|████████▊ | 399/455 [59:43<07:45,  8.32s/it]"
          ]
        },
        {
          "output_type": "stream",
          "name": "stdout",
          "text": [
            "Inputs shape: torch.Size([1, 964])\n"
          ]
        },
        {
          "output_type": "stream",
          "name": "stderr",
          "text": [
            "\r 88%|████████▊ | 400/455 [59:52<07:53,  8.61s/it]"
          ]
        },
        {
          "output_type": "stream",
          "name": "stdout",
          "text": [
            "Inputs shape: torch.Size([1, 965])\n"
          ]
        },
        {
          "output_type": "stream",
          "name": "stderr",
          "text": [
            "\r 88%|████████▊ | 401/455 [1:00:03<08:25,  9.36s/it]"
          ]
        },
        {
          "output_type": "stream",
          "name": "stdout",
          "text": [
            "Inputs shape: torch.Size([1, 1044])\n"
          ]
        },
        {
          "output_type": "stream",
          "name": "stderr",
          "text": [
            "\r 88%|████████▊ | 402/455 [1:00:10<07:34,  8.57s/it]"
          ]
        },
        {
          "output_type": "stream",
          "name": "stdout",
          "text": [
            "Inputs shape: torch.Size([1, 1136])\n"
          ]
        },
        {
          "output_type": "stream",
          "name": "stderr",
          "text": [
            "\r 89%|████████▊ | 403/455 [1:00:18<07:18,  8.43s/it]"
          ]
        },
        {
          "output_type": "stream",
          "name": "stdout",
          "text": [
            "Inputs shape: torch.Size([1, 923])\n"
          ]
        },
        {
          "output_type": "stream",
          "name": "stderr",
          "text": [
            "\r 89%|████████▉ | 404/455 [1:00:29<07:51,  9.25s/it]"
          ]
        },
        {
          "output_type": "stream",
          "name": "stdout",
          "text": [
            "Inputs shape: torch.Size([1, 863])\n"
          ]
        },
        {
          "output_type": "stream",
          "name": "stderr",
          "text": [
            "\r 89%|████████▉ | 405/455 [1:00:38<07:31,  9.03s/it]"
          ]
        },
        {
          "output_type": "stream",
          "name": "stdout",
          "text": [
            "Inputs shape: torch.Size([1, 1151])\n"
          ]
        },
        {
          "output_type": "stream",
          "name": "stderr",
          "text": [
            "\r 89%|████████▉ | 406/455 [1:00:45<06:53,  8.43s/it]"
          ]
        },
        {
          "output_type": "stream",
          "name": "stdout",
          "text": [
            "Inputs shape: torch.Size([1, 1223])\n"
          ]
        },
        {
          "output_type": "stream",
          "name": "stderr",
          "text": [
            "\r 89%|████████▉ | 407/455 [1:00:56<07:20,  9.17s/it]"
          ]
        },
        {
          "output_type": "stream",
          "name": "stdout",
          "text": [
            "Inputs shape: torch.Size([1, 1042])\n"
          ]
        },
        {
          "output_type": "stream",
          "name": "stderr",
          "text": [
            "\r 90%|████████▉ | 408/455 [1:01:05<07:17,  9.31s/it]"
          ]
        },
        {
          "output_type": "stream",
          "name": "stdout",
          "text": [
            "Inputs shape: torch.Size([1, 1068])\n"
          ]
        },
        {
          "output_type": "stream",
          "name": "stderr",
          "text": [
            "\r 90%|████████▉ | 409/455 [1:01:12<06:32,  8.52s/it]"
          ]
        },
        {
          "output_type": "stream",
          "name": "stdout",
          "text": [
            "Inputs shape: torch.Size([1, 1037])\n"
          ]
        },
        {
          "output_type": "stream",
          "name": "stderr",
          "text": [
            "\r 90%|█████████ | 410/455 [1:01:22<06:42,  8.94s/it]"
          ]
        },
        {
          "output_type": "stream",
          "name": "stdout",
          "text": [
            "Inputs shape: torch.Size([1, 1120])\n"
          ]
        },
        {
          "output_type": "stream",
          "name": "stderr",
          "text": [
            "\r 90%|█████████ | 411/455 [1:01:33<07:02,  9.60s/it]"
          ]
        },
        {
          "output_type": "stream",
          "name": "stdout",
          "text": [
            "Inputs shape: torch.Size([1, 748])\n"
          ]
        },
        {
          "output_type": "stream",
          "name": "stderr",
          "text": [
            "\r 91%|█████████ | 412/455 [1:01:39<06:12,  8.66s/it]"
          ]
        },
        {
          "output_type": "stream",
          "name": "stdout",
          "text": [
            "Inputs shape: torch.Size([1, 1041])\n"
          ]
        },
        {
          "output_type": "stream",
          "name": "stderr",
          "text": [
            "\r 91%|█████████ | 413/455 [1:01:48<05:59,  8.56s/it]"
          ]
        },
        {
          "output_type": "stream",
          "name": "stdout",
          "text": [
            "Inputs shape: torch.Size([1, 1207])\n"
          ]
        },
        {
          "output_type": "stream",
          "name": "stderr",
          "text": [
            "\r 91%|█████████ | 414/455 [1:01:59<06:22,  9.33s/it]"
          ]
        },
        {
          "output_type": "stream",
          "name": "stdout",
          "text": [
            "Inputs shape: torch.Size([1, 890])\n"
          ]
        },
        {
          "output_type": "stream",
          "name": "stderr",
          "text": [
            "\r 91%|█████████ | 415/455 [1:02:07<05:54,  8.87s/it]"
          ]
        },
        {
          "output_type": "stream",
          "name": "stdout",
          "text": [
            "Inputs shape: torch.Size([1, 1039])\n"
          ]
        },
        {
          "output_type": "stream",
          "name": "stderr",
          "text": [
            "\r 91%|█████████▏| 416/455 [1:02:14<05:24,  8.31s/it]"
          ]
        },
        {
          "output_type": "stream",
          "name": "stdout",
          "text": [
            "Inputs shape: torch.Size([1, 1095])\n"
          ]
        },
        {
          "output_type": "stream",
          "name": "stderr",
          "text": [
            "\r 92%|█████████▏| 417/455 [1:02:24<05:44,  9.07s/it]"
          ]
        },
        {
          "output_type": "stream",
          "name": "stdout",
          "text": [
            "Inputs shape: torch.Size([1, 1103])\n"
          ]
        },
        {
          "output_type": "stream",
          "name": "stderr",
          "text": [
            "\r 92%|█████████▏| 418/455 [1:02:34<05:37,  9.11s/it]"
          ]
        },
        {
          "output_type": "stream",
          "name": "stdout",
          "text": [
            "Inputs shape: torch.Size([1, 1149])\n"
          ]
        },
        {
          "output_type": "stream",
          "name": "stderr",
          "text": [
            "\r 92%|█████████▏| 419/455 [1:02:40<05:00,  8.35s/it]"
          ]
        },
        {
          "output_type": "stream",
          "name": "stdout",
          "text": [
            "Inputs shape: torch.Size([1, 1078])\n"
          ]
        },
        {
          "output_type": "stream",
          "name": "stderr",
          "text": [
            "\r 92%|█████████▏| 420/455 [1:02:50<05:10,  8.88s/it]"
          ]
        },
        {
          "output_type": "stream",
          "name": "stdout",
          "text": [
            "Inputs shape: torch.Size([1, 1091])\n"
          ]
        },
        {
          "output_type": "stream",
          "name": "stderr",
          "text": [
            "\r 93%|█████████▎| 421/455 [1:03:01<05:19,  9.39s/it]"
          ]
        },
        {
          "output_type": "stream",
          "name": "stdout",
          "text": [
            "Inputs shape: torch.Size([1, 1235])\n"
          ]
        },
        {
          "output_type": "stream",
          "name": "stderr",
          "text": [
            "\r 93%|█████████▎| 422/455 [1:03:08<04:41,  8.54s/it]"
          ]
        },
        {
          "output_type": "stream",
          "name": "stdout",
          "text": [
            "Inputs shape: torch.Size([1, 1186])\n"
          ]
        },
        {
          "output_type": "stream",
          "name": "stderr",
          "text": [
            "\r 93%|█████████▎| 423/455 [1:03:16<04:36,  8.63s/it]"
          ]
        },
        {
          "output_type": "stream",
          "name": "stdout",
          "text": [
            "Inputs shape: torch.Size([1, 976])\n"
          ]
        },
        {
          "output_type": "stream",
          "name": "stderr",
          "text": [
            "\r 93%|█████████▎| 424/455 [1:03:27<04:50,  9.37s/it]"
          ]
        },
        {
          "output_type": "stream",
          "name": "stdout",
          "text": [
            "Inputs shape: torch.Size([1, 1103])\n"
          ]
        },
        {
          "output_type": "stream",
          "name": "stderr",
          "text": [
            "\r 93%|█████████▎| 425/455 [1:03:34<04:19,  8.64s/it]"
          ]
        },
        {
          "output_type": "stream",
          "name": "stdout",
          "text": [
            "Inputs shape: torch.Size([1, 1157])\n"
          ]
        },
        {
          "output_type": "stream",
          "name": "stderr",
          "text": [
            "\r 94%|█████████▎| 426/455 [1:03:42<04:00,  8.28s/it]"
          ]
        },
        {
          "output_type": "stream",
          "name": "stdout",
          "text": [
            "Inputs shape: torch.Size([1, 1073])\n"
          ]
        },
        {
          "output_type": "stream",
          "name": "stderr",
          "text": [
            "\r 94%|█████████▍| 427/455 [1:03:53<04:14,  9.09s/it]"
          ]
        },
        {
          "output_type": "stream",
          "name": "stdout",
          "text": [
            "Inputs shape: torch.Size([1, 952])\n"
          ]
        },
        {
          "output_type": "stream",
          "name": "stderr",
          "text": [
            "\r 94%|█████████▍| 428/455 [1:04:01<04:01,  8.95s/it]"
          ]
        },
        {
          "output_type": "stream",
          "name": "stdout",
          "text": [
            "Inputs shape: torch.Size([1, 1000])\n"
          ]
        },
        {
          "output_type": "stream",
          "name": "stderr",
          "text": [
            "\r 94%|█████████▍| 429/455 [1:04:08<03:33,  8.23s/it]"
          ]
        },
        {
          "output_type": "stream",
          "name": "stdout",
          "text": [
            "Inputs shape: torch.Size([1, 1006])\n"
          ]
        },
        {
          "output_type": "stream",
          "name": "stderr",
          "text": [
            "\r 95%|█████████▍| 430/455 [1:04:18<03:42,  8.89s/it]"
          ]
        },
        {
          "output_type": "stream",
          "name": "stdout",
          "text": [
            "Inputs shape: torch.Size([1, 1138])\n"
          ]
        },
        {
          "output_type": "stream",
          "name": "stderr",
          "text": [
            "\r 95%|█████████▍| 431/455 [1:04:28<03:41,  9.21s/it]"
          ]
        },
        {
          "output_type": "stream",
          "name": "stdout",
          "text": [
            "Inputs shape: torch.Size([1, 1023])\n"
          ]
        },
        {
          "output_type": "stream",
          "name": "stderr",
          "text": [
            "\r 95%|█████████▍| 432/455 [1:04:35<03:14,  8.46s/it]"
          ]
        },
        {
          "output_type": "stream",
          "name": "stdout",
          "text": [
            "Inputs shape: torch.Size([1, 943])\n"
          ]
        },
        {
          "output_type": "stream",
          "name": "stderr",
          "text": [
            "\r 95%|█████████▌| 433/455 [1:04:45<03:13,  8.81s/it]"
          ]
        },
        {
          "output_type": "stream",
          "name": "stdout",
          "text": [
            "Inputs shape: torch.Size([1, 949])\n"
          ]
        },
        {
          "output_type": "stream",
          "name": "stderr",
          "text": [
            "\r 95%|█████████▌| 434/455 [1:04:56<03:17,  9.41s/it]"
          ]
        },
        {
          "output_type": "stream",
          "name": "stdout",
          "text": [
            "Inputs shape: torch.Size([1, 930])\n"
          ]
        },
        {
          "output_type": "stream",
          "name": "stderr",
          "text": [
            "\r 96%|█████████▌| 435/455 [1:05:02<02:50,  8.55s/it]"
          ]
        },
        {
          "output_type": "stream",
          "name": "stdout",
          "text": [
            "Inputs shape: torch.Size([1, 1273])\n"
          ]
        },
        {
          "output_type": "stream",
          "name": "stderr",
          "text": [
            "\r 96%|█████████▌| 436/455 [1:05:11<02:42,  8.54s/it]"
          ]
        },
        {
          "output_type": "stream",
          "name": "stdout",
          "text": [
            "Inputs shape: torch.Size([1, 1033])\n"
          ]
        },
        {
          "output_type": "stream",
          "name": "stderr",
          "text": [
            "\r 96%|█████████▌| 437/455 [1:05:22<02:46,  9.26s/it]"
          ]
        },
        {
          "output_type": "stream",
          "name": "stdout",
          "text": [
            "Inputs shape: torch.Size([1, 1096])\n"
          ]
        },
        {
          "output_type": "stream",
          "name": "stderr",
          "text": [
            "\r 96%|█████████▋| 438/455 [1:05:29<02:29,  8.78s/it]"
          ]
        },
        {
          "output_type": "stream",
          "name": "stdout",
          "text": [
            "Inputs shape: torch.Size([1, 1109])\n"
          ]
        },
        {
          "output_type": "stream",
          "name": "stderr",
          "text": [
            "\r 96%|█████████▋| 439/455 [1:05:36<02:12,  8.27s/it]"
          ]
        },
        {
          "output_type": "stream",
          "name": "stdout",
          "text": [
            "Inputs shape: torch.Size([1, 1128])\n"
          ]
        },
        {
          "output_type": "stream",
          "name": "stderr",
          "text": [
            "\r 97%|█████████▋| 440/455 [1:05:47<02:17,  9.15s/it]"
          ]
        },
        {
          "output_type": "stream",
          "name": "stdout",
          "text": [
            "Inputs shape: torch.Size([1, 1097])\n"
          ]
        },
        {
          "output_type": "stream",
          "name": "stderr",
          "text": [
            "\r 97%|█████████▋| 441/455 [1:05:57<02:07,  9.12s/it]"
          ]
        },
        {
          "output_type": "stream",
          "name": "stdout",
          "text": [
            "Inputs shape: torch.Size([1, 1038])\n"
          ]
        },
        {
          "output_type": "stream",
          "name": "stderr",
          "text": [
            "\r 97%|█████████▋| 442/455 [1:06:03<01:48,  8.36s/it]"
          ]
        },
        {
          "output_type": "stream",
          "name": "stdout",
          "text": [
            "Inputs shape: torch.Size([1, 948])\n"
          ]
        },
        {
          "output_type": "stream",
          "name": "stderr",
          "text": [
            "\r 97%|█████████▋| 443/455 [1:06:13<01:47,  8.93s/it]"
          ]
        },
        {
          "output_type": "stream",
          "name": "stdout",
          "text": [
            "Inputs shape: torch.Size([1, 963])\n"
          ]
        },
        {
          "output_type": "stream",
          "name": "stderr",
          "text": [
            "\r 98%|█████████▊| 444/455 [1:06:24<01:43,  9.38s/it]"
          ]
        },
        {
          "output_type": "stream",
          "name": "stdout",
          "text": [
            "Inputs shape: torch.Size([1, 887])\n"
          ]
        },
        {
          "output_type": "stream",
          "name": "stderr",
          "text": [
            "\r 98%|█████████▊| 445/455 [1:06:30<01:25,  8.54s/it]"
          ]
        },
        {
          "output_type": "stream",
          "name": "stdout",
          "text": [
            "Inputs shape: torch.Size([1, 1093])\n"
          ]
        },
        {
          "output_type": "stream",
          "name": "stderr",
          "text": [
            "\r 98%|█████████▊| 446/455 [1:06:39<01:17,  8.59s/it]"
          ]
        },
        {
          "output_type": "stream",
          "name": "stdout",
          "text": [
            "Inputs shape: torch.Size([1, 782])\n"
          ]
        },
        {
          "output_type": "stream",
          "name": "stderr",
          "text": [
            "\r 98%|█████████▊| 447/455 [1:06:50<01:14,  9.29s/it]"
          ]
        },
        {
          "output_type": "stream",
          "name": "stdout",
          "text": [
            "Inputs shape: torch.Size([1, 894])\n"
          ]
        },
        {
          "output_type": "stream",
          "name": "stderr",
          "text": [
            "\r 98%|█████████▊| 448/455 [1:06:57<01:00,  8.62s/it]"
          ]
        },
        {
          "output_type": "stream",
          "name": "stdout",
          "text": [
            "Inputs shape: torch.Size([1, 880])\n"
          ]
        },
        {
          "output_type": "stream",
          "name": "stderr",
          "text": [
            "\r 99%|█████████▊| 449/455 [1:07:04<00:49,  8.24s/it]"
          ]
        },
        {
          "output_type": "stream",
          "name": "stdout",
          "text": [
            "Inputs shape: torch.Size([1, 977])\n"
          ]
        },
        {
          "output_type": "stream",
          "name": "stderr",
          "text": [
            "\r 99%|█████████▉| 450/455 [1:07:15<00:45,  9.07s/it]"
          ]
        },
        {
          "output_type": "stream",
          "name": "stdout",
          "text": [
            "Inputs shape: torch.Size([1, 1154])\n"
          ]
        },
        {
          "output_type": "stream",
          "name": "stderr",
          "text": [
            "\r 99%|█████████▉| 451/455 [1:07:24<00:35,  8.98s/it]"
          ]
        },
        {
          "output_type": "stream",
          "name": "stdout",
          "text": [
            "Inputs shape: torch.Size([1, 885])\n"
          ]
        },
        {
          "output_type": "stream",
          "name": "stderr",
          "text": [
            "\r 99%|█████████▉| 452/455 [1:07:31<00:24,  8.23s/it]"
          ]
        },
        {
          "output_type": "stream",
          "name": "stdout",
          "text": [
            "Inputs shape: torch.Size([1, 1152])\n"
          ]
        },
        {
          "output_type": "stream",
          "name": "stderr",
          "text": [
            "\r100%|█████████▉| 453/455 [1:07:41<00:17,  8.83s/it]"
          ]
        },
        {
          "output_type": "stream",
          "name": "stdout",
          "text": [
            "Inputs shape: torch.Size([1, 1036])\n"
          ]
        },
        {
          "output_type": "stream",
          "name": "stderr",
          "text": [
            "\r100%|█████████▉| 454/455 [1:07:51<00:09,  9.34s/it]"
          ]
        },
        {
          "output_type": "stream",
          "name": "stdout",
          "text": [
            "Inputs shape: torch.Size([1, 952])\n"
          ]
        },
        {
          "output_type": "stream",
          "name": "stderr",
          "text": [
            "100%|██████████| 455/455 [1:07:58<00:00,  8.96s/it]\n"
          ]
        }
      ]
    },
    {
      "cell_type": "code",
      "source": [
        "from nltk.translate.bleu_score import corpus_bleu\n",
        "\n",
        "bleu_score = corpus_bleu(\n",
        "    [[ref] for ref in references],\n",
        "    predictions\n",
        ")\n",
        "print(f\"BLEU Score: {bleu_score}\")"
      ],
      "metadata": {
        "id": "3GFw2y3tUToM",
        "colab": {
          "base_uri": "https://localhost:8080/"
        },
        "outputId": "ec39d84c-c891-4690-da98-64d709bb6f8d"
      },
      "execution_count": null,
      "outputs": [
        {
          "output_type": "stream",
          "name": "stdout",
          "text": [
            "BLEU Score: 0.06133919602439004\n"
          ]
        }
      ]
    },
    {
      "cell_type": "code",
      "source": [
        "%%capture\n",
        "!pip install rouge_score"
      ],
      "metadata": {
        "id": "ioz_d4DFbXRk"
      },
      "execution_count": null,
      "outputs": []
    },
    {
      "cell_type": "code",
      "source": [
        "from rouge_score import rouge_scorer\n",
        "\n",
        "scorer = rouge_scorer.RougeScorer([\"rouge1\", \"rouge2\", \"rougeL\"], use_stemmer=True)\n",
        "rouge_scores = [scorer.score(ref, pred) for ref, pred in zip(references, predictions)]\n",
        "\n",
        "rouge1 = sum([score[\"rouge1\"].fmeasure for score in rouge_scores]) / len(rouge_scores)\n",
        "rouge2 = sum([score[\"rouge2\"].fmeasure for score in rouge_scores]) / len(rouge_scores)\n",
        "rougeL = sum([score[\"rougeL\"].fmeasure for score in rouge_scores]) / len(rouge_scores)\n",
        "\n",
        "print(f\"ROUGE-1: {rouge1}\")\n",
        "print(f\"ROUGE-2: {rouge2}\")\n",
        "print(f\"ROUGE-L: {rougeL}\")"
      ],
      "metadata": {
        "id": "IPIp4-x9bdIb",
        "colab": {
          "base_uri": "https://localhost:8080/"
        },
        "outputId": "7f8c0ec3-75bb-4465-bff2-6ddf953a4f43"
      },
      "execution_count": null,
      "outputs": [
        {
          "output_type": "stream",
          "name": "stdout",
          "text": [
            "ROUGE-1: 0.10813143784100818\n",
            "ROUGE-2: 0.057229347077285886\n",
            "ROUGE-L: 0.07532111627142717\n"
          ]
        }
      ]
    },
    {
      "cell_type": "code",
      "source": [
        "position = 30\n",
        "for position in range(91, 120):\n",
        "    print(references[position])\n",
        "    print(predictions[position])\n",
        "    print()"
      ],
      "metadata": {
        "id": "OAy0I-4HbfFV",
        "colab": {
          "base_uri": "https://localhost:8080/"
        },
        "outputId": "238a7588-ee66-4234-ee53-e966aca3714f"
      },
      "execution_count": null,
      "outputs": [
        {
          "output_type": "stream",
          "name": "stdout",
          "text": [
            "How about \"12 Years a Slave\"? It's a powerful and emotional true story about a man's struggle for freedom during the era of slavery. The storytelling is flawless and the performances are extremely moving. It's definitely visually stunning and will leave a lasting impact on you.\n",
            ". Use the user's movie history and preferences to suggest movies that align with their interests.\n",
            "\n",
            "Seen movies and their corresponding evaluation and details:\n",
            "Movie: Jumanji: The Next Level (2019)\n",
            "Positive comments: - Fantastic film, action-packed and hilarious- New deadly locations and additional players add excitement- Thrilling set pieces and flawless visual effects- Spectacular performances from the cast, especially Dwayne Johnson, Jack Black, Kevin Hart, Karen Gillan, and Awkwafina- Impressive supporting cast\n",
            "Negative comments: There are no negative comments\n",
            "Details:\n",
            "Title: Jumanji: The Next Level (2019)\n",
            "Genre: Action, Adventure, Comedy, Fantasy\n",
            "Director: Jake Kasdan\n",
            "Cast: Dwayne Johnson, Kevin Hart, Jack Black\n",
            "Abstract: [Like]\n",
            "- Rebooted the franchise with a new spin\n",
            "- Great roles played by Dwayne Johnson, Jack Black, and Karen Gilligan\n",
            "- Incredibly fun, visually stunning, and smartly written\n",
            "- Great humor, interesting challenges, and epic set pieces\n",
            "- Many surprises and crisp special effects\n",
            "- Tight direction and great camerawork/cinematography\n",
            "\n",
            "[Dislike]\n",
            "None.\n",
            "\n",
            "Movie: Pixels  (2015)\n",
            "Positive comments: - Extremely funny and entertaining- Unique and amazing special effects- Spectacular set pieces and CGI- Great performances by the cast- Nostalgic and worth a watch for the whole family\n",
            "Negative comments: - Generic script makes the movie mostly forgettable- Peter Dinklage's character could have had more screen time\n",
            "Details:\n",
            "Title: Pixels  (2015)\n",
            "Genre: Action, Comedy, Fantasy, Sci-Fi\n",
            "Director: Chris Columbus\n",
            "Cast: Adam Sandler, Kevin James, Michelle Monaghan\n",
            "Abstract: [Like] \n",
            "- I enjoyed Adam Sandler's performance in the movie\n",
            "- The nostalgia of the video arcade games from my childhood\n",
            "- The movie provided mindless entertainment and hearty laughs\n",
            "\n",
            "[Dislike]\n",
            "None.\n",
            "\n",
            "Movie: Journey 2: The Mysterious Island (2012)\n",
            "Positive comments: - The adventure and exploration of The Mysterious Island- The 3D effects that make the island come to life- The performances of the cast, particularly Dwayne Johnson, Josh Hutcherson, and Michael Caine\n",
            "Negative comments: - None\n",
            "Details:\n",
            "Title: Journey 2: The Mysterious Island (2012)\n",
            "Genre: Action, Adventure, Comedy, Family, Fantasy, Sci-Fi\n",
            "Director: Brad Peyton\n",
            "Cast: Dwayne Johnson, Michael Caine, Josh Hutcherson\n",
            "Abstract: [Like]\n",
            "- Fun, adventurous film for the whole family\n",
            "- New additions to the cast\n",
            "- Dwayne Johnson, Michael Caine, Josh Hutcherson, Luis Guzman, and Vanessa Hudgens' performances\n",
            "- Enjoyable for a Jules Verne fan\n",
            "\n",
            "[Dislike]\n",
            "- None Hi there! I'm in the mood to watch a movie. Can you recommend something? Absolutely! What kind of movie are you in the mood for? Any specific genre or theme? I'm looking for something entertaining and visually stunning. I love movies with great performances and thrilling set pieces. I think you would really enjoy \"22 Jump Street\". It has great performances, exciting action, and a lot of humor that makes it very entertaining. The chemistry between the main characters is fantastic and the movie has plenty of thrilling set pieces to keep you engaged. Thanks for the recommendation, but I've already seen \"22 Jump Street.\" While it had great performances and humor, I'm looking for something with a different vibe. I'm more in the mood for something with an emotional impact and flawless storytelling, maybe something based on a true story. Can you recommend something along those lines? I think you would really enjoy \"The Greatest Showman\". It has a visually stunning and emotionally impactful story, with great performances and a flawless storytelling. It's based on a true story and has a lot of heart and inspiration. That sounds perfect! I haven't seen \"The Greatest Showman\" yet, so I'll definitely give it a watch. Thanks for the recommendation! You're welcome!\n",
            "\n",
            "How about \"The Stepfather\" (2009)? It's a suspenseful thriller with a twisted story and a good ending. It also has elements of mystery and a compelling plot that I think you'll enjoy.\n",
            ". Use the user's movie history and preferences to suggest movies that align with their interests.\n",
            "\n",
            "Seen movies and their corresponding evaluation and details:\n",
            "Movie: Stand by Me  (1986)\n",
            "Positive comments: - Really sad at times- Gets more and more thrilling as it progresses- Good ending- Iconic lines- Important- The story is good- The acting is good\n",
            "Negative comments: - It is a good story but a useless one- There are useless scenes- The quality is really bad- The title doesn't exactly match with the movie (in my opinion)\n",
            "Details:\n",
            "Title: Stand by Me  (1986)\n",
            "Genre: Adventure, Comedy, Drama\n",
            "Director: Rob Reiner\n",
            "Cast: Wil Wheaton, River Phoenix, Corey Feldman\n",
            "Abstract: [Like]\n",
            "- The semi-innocent premise of the movie\n",
            "- Relating to every character\n",
            "- Nostalgic and reminiscent of childhood experiences\n",
            "- Emotional response and connection to the coming-of-age genre\n",
            "- The 80's teen coming-of-age flicks\n",
            "\n",
            "[Dislike]\n",
            "None.\n",
            "\n",
            "Movie: Paranormal Activity (2009)\n",
            "Positive comments: - Terrifying and eerie- Good acting- Good story- Ambiguous and effective ending- Effective jump scares- Shocking moments- Found footage style adds to the scariness\n",
            "Negative comments: - Not as good as The Blair Witch Project- Found footage style might be annoying for some- A little too short\n",
            "Details:\n",
            "Title: Paranormal Activity (2009)\n",
            "Genre: Horror, Mystery\n",
            "Director: Oren Peli\n",
            "Cast: Katie Featherston, Micah Sloat, Mark Fredrichs\n",
            "Abstract: [Like]\n",
            "- The movie got under my skin more than any film since The Exorcist\n",
            "- The build-up is gradual and hand-held cameras are used\n",
            "- The main characters are not Hollywood good looking, they're real and appealing\n",
            "- The movie tips its hat to past classics like The Haunting and Poltergeist\n",
            "- It reminded me of Open Water in its depiction of a typical American couple thrust into an extraordinary situation\n",
            "\n",
            "[Dislike]\n",
            "- None\n",
            "\n",
            "Movie: The Lincoln Lawyer (2011)\n",
            "Positive comments: - Amazing cinematography- Many twists and turns- Great acting- Suspenseful- Realistic\n",
            "Negative comments: - Quality isn't very good for a 2011 film\n",
            "Details:\n",
            "Title: The Lincoln Lawyer (2011)\n",
            "Genre: Crime, Drama, Mystery, Thriller\n",
            "Director: Brad Furman\n",
            "Cast: Matthew McConaughey, Marisa Tomei, Ryan Phillippe\n",
            "Abstract: [Like]\n",
            "- Good characters and performances\n",
            "- Matthew McConaughey and Trace Adkins' performances\n",
            "- Legal viewpoints and courtroom settings\n",
            "- Main character working out of a car\n",
            "- The guy who played his chauffeur\n",
            "\n",
            "[Dislike]\n",
            "None Hi there! I'm in the mood to watch a movie. Can you recommend something? Absolutely! What kind of movie are you in the mood for? Any specific genre or theme? I'm really into movies that are suspenseful and have a good story. Iconic lines and important themes are something that I look for in a movie. What do you recommend? I think you would enjoy \"Coming to America\" (1988). It has a great story, iconic lines, and important themes, along with a lot of humor. Oh, \"Coming to America\" is a hilarious movie, and I really enjoy Eddie Murphy's performance. However, I'm looking for something with more of a thrilling and suspenseful vibe. Do you have any other recommendations? How about \"Paranormal Activity\" (2009)? It's a suspenseful horror movie with a compelling story that will keep you on the edge of your seat. \"Paranormal Activity\" has a good story and effective jump scares, but I'm not a big fan of found footage style. Also, it's a little too short for my liking. Do you have any other recommendations that fit my preference for suspenseful movies with a good story and effective ending? How about \"Life Is Beautiful\" (1997)? It's a movie that combines suspense, good storytelling, and an emotional, effective ending. It's a compelling drama set during World War II with a balance of humor, fantasy, and tragedy. It effectively communicates the losses in Nazi concentration camps and is beautifully acted and directed. Plus, it fits your preference for important themes and a good story. \"Life Is Beautiful\" is indeed a touching and well-made movie, but I'm really in the mood for a suspenseful thriller right now. Do you have any other recommendations that are more in that genre? How about \"The Lincoln Lawyer\" (2011)? It's a suspenseful thriller with a great story, realistic courtroom settings, and a compelling performance by Matthew McConaughey. It also has a lot of suspense and a good ending. \"The Lincoln Lawyer\" sounds like a great recommendation! I haven't watched it before, so I'll definitely give it a try. Thanks for the recommendation! You\n",
            "\n",
            "What about \"Rushmore\" (1998)? It has amazing filmmaking, unique storytelling, and a clever feel-good vibe. The film also has a great entertaining tempo and a unique theatrical style and atmosphere that you might enjoy. Plus, it has stunning cinematography and a smooth and satisfying feel to the whole film.\n",
            ". Use the user's movie history and preferences to suggest movies that align with their interests.\n",
            "\n",
            "Seen movies and their corresponding evaluation and details:\n",
            "Movie: The Hobbit: An Unexpected Journey (2012)\n",
            "Positive comments: - Performances by Martin Freeman and Ian McKellen- Well-written manuscript- Amazing storytelling- Captivating from the first minutes- Beautiful surroundings and environments- Unique fantasy film based on an iconic book\n",
            "Negative comments: There are no negative comments\n",
            "Details:\n",
            "Title: The Hobbit: An Unexpected Journey (2012)\n",
            "Genre: Adventure, Fantasy\n",
            "Director: Peter Jackson\n",
            "Cast: Ian McKellen, Martin Freeman, Richard Armitage\n",
            "Abstract: [Like]\n",
            "- The movie was every bit as good and entertaining as the LotR movies\n",
            "- Martin Freeman's portrayal of Bilbo Baggins was impressive\n",
            "- The writing and acting were excellent\n",
            "- The movie made the fantasy world desirable and captivating\n",
            "- The 3 hours in the theater went by quickly\n",
            "\n",
            "[Dislike]\n",
            "- The photography/scenery was not as good as the LotR movies\n",
            "\n",
            "Movie: The Wife (2018)\n",
            "Positive comments: - Brilliantly performed piece of a life story- Best acting seen in many years- Beautiful storytelling with perspectives and reflection on life, dreams, and love- Almost everything in the film is perfect- Beautiful directing by Björn Runge- Beautiful music and cinematography- Fantastic storyline\n",
            "Negative comments: - None\n",
            "Details:\n",
            "Title: The Wife (2018)\n",
            "Genre: Drama\n",
            "Director: Björn Runge\n",
            "Cast: Glenn Close, Jonathan Pryce, Max Irons\n",
            "Abstract: [Like]\n",
            "- Glenn Close's performance\n",
            "- Jonathan Pryce's performance\n",
            "\n",
            "[Dislike]\n",
            "None.\n",
            "\n",
            "Movie: Annie Hall (1977)\n",
            "Positive comments: - Uniquely storytelling and style- Fantastic acting- Funny and smart use of breaking the fourth wall- Standout storytelling- Fantastic directing by Woody Allen- Good and interesting film structure- Very good filming- Smart, philosophical, deep, and intelligent\n",
            "Negative comments: There are no negative comments\n",
            "Details:\n",
            "Title: Annie Hall (1977)\n",
            "Genre: Comedy, Romance\n",
            "Director: Woody Allen\n",
            "Cast: Woody Allen, Diane Keaton, Tony Roberts\n",
            "Abstract: [Like]\n",
            "- The movie is not just for girls, it's for everyone\n",
            "- It's a \"Smile Movie\" that makes you feel good and is really funny\n",
            "- The characters of Alvy and Annie are fun and enjoyable\n",
            "- The feel-good factor and the humor are cranked up even higher in this movie\n",
            "\n",
            "[Dislike]\n",
            "None. Hi there! I'm in the mood to watch a movie. Can you recommend something? Absolutely! What kind of movie are you in the mood for? Any specific genre or theme? I'm looking for a movie with amazing storytelling, fantastic acting, and beautiful surroundings and environments. I really enjoy unique fantasy films based on iconic books. I think you might enjoy \"Bottle Rocket\" (1996). It has quirky and lovable characters, strong performances, and subtle humor. The film also has visually captivating environments and settings that add to the charm of the story. Plus, it's a unique and entertaining take on the crime and comedy genres. Thanks for the recommendation, but I'm not a big fan of crime movies. I prefer movies with brilliant storytelling, best acting, and beautiful directing. The films I usually enjoy have a strong focus on life stories, dreams, and love, and they often have a fantastic storyline and beautiful cinematography. How about watching \"The Wife\" (2018)? It has powerful acting, compelling character study, and excellent performances by all actors. The story is well-presented and executed, and it's a layered and challenging character study. Plus, it focuses on themes of relationships and personal journeys. \"The Wife\" sounds interesting, but I'm more in the mood for a movie with a unique storytelling style and fantastic directing. I also appreciate films with a smart use of breaking the fourth wall and a philosophical, deep, and intelligent approach to storytelling. I think you might enjoy \"The Greatest Showman\" (2017). It has a unique storytelling style, fantastic directing, and a smart use of breaking the fourth wall. The film also has a deep and intelligent approach to storytelling, and it's a visually stunning and emotionally captivating movie. Plus, it has a fantastic soundtrack and beautiful cinematography. That sounds perfect! I'll definitely give\n",
            "\n",
            "I recommend checking out \"The Hitcher (1986)\"! It has a relentless cat-and-mouse game, top-notch performances, and a perfect balance of action and suspense. The storytelling, acting, and cinematography are all fantastic, making it a thrilling and intense watch for fans of action and mystery movies.\n",
            ". Use the user's movie history and preferences to suggest movies that align with their interests.\n",
            "\n",
            "Seen movies and their corresponding evaluation and details:\n",
            "Movie: Switchblade Sisters (1975)\n",
            "Positive comments: - The tough, interesting B-actresses turned in cool, un-restrained performances- The film is very, very funny- The great marriage of 'exploitation' ideals with spots of realism- The action fantasy where we can root for the rough, take-no-prisoners gals of action- The director's knowledge of the rhythms of scenes and dialog\n",
            "Negative comments: - None\n",
            "Details:\n",
            "Title: Switchblade Sisters (1975)\n",
            "Genre: Action, Crime, Drama\n",
            "Director: Jack Hill\n",
            "Cast: Robbie Lee, Joanne Nail, Monica Gayle\n",
            "Abstract: [Like]\n",
            "- The tough, interesting B-actresses turned in cool, un-restrained performances\n",
            "- The film is very, very funny\n",
            "- The great marriage of 'exploitation' ideals with spots of realism\n",
            "- The action fantasy where we can root for the rough, take-no-prisoners gals of action\n",
            "- The director's knowledge of the rhythms of scenes and dialog\n",
            "\n",
            "[Dislike]\n",
            "- None\n",
            "\n",
            "Movie: Mothra (1961)\n",
            "Positive comments: The characters are fun to watch and the actors commit fully, bringing real emotion and reaction to the movie. The destruction scenes with obvious miniatures add to the delight and the movie holds up as a fun, hokey, and dopey film.\n",
            "Negative comments: The lack of more Mothra in the run-time is disappointing and the movie would be completely CGI-ified if made today.\n",
            "Details:\n",
            "Title: Mothra (1961)\n",
            "Genre: Adventure, Fantasy, Sci-Fi, Thriller\n",
            "Director: Ishirô Honda\n",
            "Cast: Furankî Sakai, Hiroshi Koizumi, Kyôko Kagawa\n",
            "Abstract: [Like] \n",
            "- Great addition to the \"large fake-looking monster destroys Japanese city\" genre\n",
            "- Dubbed in English, adding to the fun\n",
            "- Entertaining and fun storyline\n",
            "\n",
            "[Dislike]\n",
            "- None\n",
            "\n",
            "Movie: Frida (2002)\n",
            "Positive comments: - Salma Hayek's performance as Frida- Incorporation of Frida's art into the storytelling- Impressive supporting cast\n",
            "Negative comments: - Overt drama had dips and peaks\n",
            "Details:\n",
            "Title: Frida (2002)\n",
            "Genre: Biography, Drama, Romance\n",
            "Director: Julie Taymor\n",
            "Cast: Salma Hayek, Mía Maestro, Amelia Zapata\n",
            "Abstract: [Like] I liked the portrayal of the enthusiastic and vibrant woman in the movie, and the tribute to such a passionate life.\n",
            "[Dislike] None. Hi there! I'm in the mood to watch a movie. Can you recommend something? Absolutely! What kind of movie are you in the mood for? Any specific genre or theme? I'm looking for a movie with great performances and a good balance of action and suspense. I really enjoy movies where the characters are fun to watch and the actors commit fully, bringing real emotion and reaction to the movie. I recommend checking out \"The Flintstones (1994)\"! It has great performances and a good balance of action and suspense, with fun characters and a committed cast. It's a comedy and family film with a mix of fantasy, so it should be an enjoyable watch for you. Thank you for the recommendation, but I'm not in the mood for a comedy and family film at the moment. I'm more interested in movies with a bit more intensity and thrill. I'm really into action mystery and thriller kind of movies that keep me on the edge of my seat. I prefer stories where there's a relentless cat-and-mouse game and the performances are top-notch. Any recommendations that fit that description? How about checking out \"The Caine Mutiny (1954)\"? It has a great balance of action and suspense with top-notch performances that will keep you on the edge of your seat. The complex drama and stunning courtroom scene make it a compelling watch for fans of intense and thrilling movies. Thank you for the recommendation, but \"The Caine Mutiny\" seems to be more of a dramatic war film, and I'm really in the mood for something with more of a cat-and-mouse game and relentless suspense. I prefer movies with action and mystery elements that keep me guessing until the very end. Any other recommendations that fit that description? How about checking out \"The Silence of the Lambs (1991)\"? It has a great balance of action and suspense with top-notch performances that will keep you on the edge of your seat. The relentless cat-and-mouse game and the intense suspense make it a compelling watch for fans of action and mystery movies. That sounds perfect! I haven't watched \"The Silence of the Lambs\" before, so\n",
            "\n",
            "How about checking out \"Drive\" (2011)? It has a darker and mysterious tone, stunning atmospheric cinematography, and a full-bodied techno soundtrack. The character development is intriguing, and the visuals are absolutely stylish. I think it will be right up your alley!\n",
            ". Use the user's movie history and preferences to suggest movies that align with their interests.\n",
            "\n",
            "Seen movies and their corresponding evaluation and details:\n",
            "Movie: Maleficent: Mistress of Evil (2019)\n",
            "Positive comments: - Interesting exploration of Maleficent's past- Impressive battle sequences and visual effects- Beautifully shot and pleasing aesthetics\n",
            "Negative comments: - Lack of clear direction in linking ideas together- Confusion about the central theme of tolerance and acceptance- Aurora's character is a bit bland\n",
            "Details:\n",
            "Title: Maleficent: Mistress of Evil (2019)\n",
            "Genre: Adventure, Family, Fantasy, Romance\n",
            "Director: Joachim Rønning\n",
            "Cast: Angelina Jolie, Elle Fanning, Harris Dickinson\n",
            "Abstract: [Like]\n",
            "- Strong family love between Aurora and Maleficent\n",
            "- Maleficent being reborn from the ashes with help from Aurora's tears\n",
            "- The evil queen getting turned into a goat\n",
            "\n",
            "[Dislike]\n",
            "- Movie was too fast paced\n",
            "- Evil queen's plans revealed too soon\n",
            "- Trying to squeeze in too many angles and shots in every scene\n",
            "\n",
            "Movie: The Legend of Tarzan (2016)\n",
            "Positive comments: - The slavery element provided an interesting perspective- The costume design, hair, and make-up were well done- The look of the tribe led by Chief Mbonga- The acting from the main cast- The fresh twist on the Tarzan story- The CGI looked good- The action and excitement\n",
            "Negative comments: - The editing and continuity issues- Some of the CGI animals could have been better\n",
            "Details:\n",
            "Title: The Legend of Tarzan (2016)\n",
            "Genre: Action, Adventure, Drama, Fantasy, Romance\n",
            "Director: David Yates\n",
            "Cast: Alexander Skarsgård, Rory J Saper, Christian Stevens\n",
            "Abstract: [Like]\n",
            "- Christoph Waltz's performance\n",
            "- Solid cast\n",
            "- Historical setting concerning Belgian King Leopold and his exploitation of the Congo\n",
            "- Entertaining and solid story\n",
            "- Terrific visuals (except for the CGI animals)\n",
            "\n",
            "[Dislike]\n",
            "- Cheesy CGI for the animals\n",
            "\n",
            "Movie: The Addams Family (2019)\n",
            "Positive comments: - The character of Lurch, especially when he plays the piano or sings- The voice acting- The creepy and atmospheric score\n",
            "Negative comments: - The animation style- The dull story- The lack of comedy\n",
            "Details:\n",
            "Title: The Addams Family (2019)\n",
            "Genre: Animation, Comedy, Family, Fantasy, Horror\n",
            "Director: Greg Tiernan, Conrad Vernon\n",
            "Cast: Oscar Isaac, Charlize Theron, Chloë Grace Moretz\n",
            "Abstract: [Like] \n",
            "- The new and different version of the classic\n",
            "- The preservation of much of the mythology developed over the various properties\n",
            "- The engaging and honest portrayal of the characters\n",
            "- The new-to-me origin story of how and why they moved\n",
            "\n",
            "[Dislike]\n",
            "None. Hi there! I'm in the mood to watch a movie. Can you recommend something? Absolutely! What kind of movie are you in the mood for? Any specific genre or theme? I'm into movies with interesting character development and visually pleasing aesthetics. I also appreciate a good soundtrack and atmospheric cinematography. How about checking out \"The Disaster Artist\" (2017)? It celebrates The Room and the passion and pursuit of a dream of the characters, and the relationship between Tommy and Greg is handled with care and affection. Plus, it offers constant laughs and has a lot of heart. It seems like it would match your preference for interesting character development and visually pleasing aesthetics. I appreciate the recommendation, but I think \"The Disaster Artist\" (2017) might not be the right fit for me. I'm looking for a movie with more mystery and atmospheric cinematography, as well as a full-bodied soundtrack. Can you recommend something else that aligns with those features? How about checking out \"Gone with the Wind\" (1939)? It's a classic drama and romance film with incredible atmospheric cinematography and a sweeping soundtrack that captures the grandeur of the South. The character development is also quite rich, and the visuals are absolutely stunning. I think it will be right up your alley! Thanks for the recommendation, but \"Gone with the Wind\" (1939) doesn't quite fit the bill for me. I'm actually in the mood for something more modern with a slightly darker and mysterious tone. Any other recommendations that might match those qualities? How about checking out \"The Greatest Showman\" (2017)? It's a modern musical drama with a slightly darker and mysterious tone, and it has visually pleasing aesthetics and a full-bodied soundtrack. The character development and the portrayal of the circus world are also quite interesting. I think it will be a great fit for your preferences! That sounds perfect! I'll definitely give \"The Great\n",
            "\n",
            "How about \"What Happened Was... (1994)\"? It has great performances and a bit of suspense, and it might be just what you're looking for!\n",
            ". Use the user's movie history and preferences to suggest movies that align with their interests.\n",
            "\n",
            "Seen movies and their corresponding evaluation and details:\n",
            "Movie: Gloria (1980)\n",
            "Positive comments: - Great movie and performances- Gena Rowlands as an unexpected guardian and hero- Suspenseful and keeps you glued to your seat\n",
            "Negative comments: There are no negative comments\n",
            "Details:\n",
            "Title: Gloria (1980)\n",
            "Genre: Crime, Drama, Thriller\n",
            "Director: John Cassavetes\n",
            "Cast: Julie Carmen, Tony Knesich, Gregory Cleghorne\n",
            "Abstract: [Like]\n",
            "- Great movie and performances\n",
            "- Gena Rowlands as an unexpected guardian and hero\n",
            "- Suspenseful and keeps you glued to your seat\n",
            "\n",
            "[Dislike]\n",
            "None.\n",
            "\n",
            "Movie: Surviving the Game (1994)\n",
            "Positive comments: - Great action- New twist on an old theme- Enjoyed it then and still like it after many years\n",
            "Negative comments: There are no negative comments\n",
            "Details:\n",
            "Title: Surviving the Game (1994)\n",
            "Genre: Action, Adventure, Crime, Drama, Thriller\n",
            "Director: Ernest R. Dickerson\n",
            "Cast: Ice-T, Rutger Hauer, Charles S. Dutton\n",
            "Abstract: [Like]\n",
            "- Great action\n",
            "- New twist on an old theme\n",
            "- Enjoyed it then and still like it after many years\n",
            "\n",
            "[Dislike]\n",
            "None.\n",
            "\n",
            "Movie: The Company of Wolves (1984)\n",
            "Positive comments: There are no positive comments\n",
            "Negative comments: - Not entertaining- Lousy- Hard to follow- Cheesy- No likeable characters\n",
            "Details:\n",
            "Title: The Company of Wolves (1984)\n",
            "Genre: Drama, Fantasy, Horror\n",
            "Director: Neil Jordan\n",
            "Cast: Angela Lansbury, David Warner, Graham Crowden\n",
            "Abstract: [Like]\n",
            "- Stylish and classy werewolf tale\n",
            "- Adult fairytale with a great cast\n",
            "- Bizarre and original special effects\n",
            "- Great soundtrack and photography\n",
            "\n",
            "[Dislike]\n",
            "- None Hi there! I'm in the mood to watch a movie. Can you recommend something? The Honeymoon Killers (1970) The Honeymoon Killers (1970) sounds interesting, but I'm not really into dark and gritty movies. I prefer ones with great performances and a bit of suspense. Do you have anything like that in mind? How about \"Soylent Green (1973)\"? It has great performances and a suspenseful detective story that might interest you! Soylent Green (1973) sounds intriguing, but I'm looking for something with a bit more of a twist on an old theme and some action. Do you have anything else in mind? How about \"Paris, Texas (1984)\"? It has great performances and a unique twist on the classic theme of a man finding himself, with some emotional and suspenseful moments that you might enjoy. \"Paris, Texas (1984)\" seems like a thoughtful movie, but I'm not in the mood for something with a slow pace. I'm looking for a film with a bit more intensity. Do you have any other recommendations? How about \"The Company of Wolves (1984)\"? It has great performances and a unique twist on the classic theme of a man finding himself, with some emotional and suspenseful moments that you might enjoy. \"The Company of Wolves (1984)\" sounds like a great recommendation! I'll definitely give it a watch. Thanks for the suggestion! You're welcome! I hope you enjoy \"The Company of Wolves (\n",
            "\n",
            "How about watching \"Marrowbone (2018)\"? It's a compelling and atmospheric film with a focus on character development and a unique, mysterious concept. The location footage is magnificent and adds to the beauty of the film. The romance between the characters is well-developed, and the storytelling is engaging and authentic.\n",
            ". Use the user's movie history and preferences to suggest movies that align with their interests.\n",
            "\n",
            "Seen movies and their corresponding evaluation and details:\n",
            "Movie: All Saints (2017)\n",
            "Positive comments: - The film was shot on location at the actual All Saints church, adding authenticity to the story.- Meeting the real people alongside the actors was interesting.- The character of Ye Win was the most interesting and compelling in the film.- The idea of the congregation coming together to start a farm and save the church was a unique and inspiring concept.\n",
            "Negative comments: - The film was overly sentimental and melodramatic at times.- The development of how the Smyrna community rallied around the farm idea was not well portrayed.- The church services were depicted as too informal and unstructured, lacking in church ritual.\n",
            "Details:\n",
            "Title: All Saints (2017)\n",
            "Genre: Drama\n",
            "Director: Steve Gomer\n",
            "Cast: John Corbett, Cara Buono, Myles Moore\n",
            "Abstract: [Like] The movie was much more than just a feel-good preachy film, with a great and inspiring message for all of humanity. The way the obstacles were faced and overcome, and how they changed people and their community, was worth the watch.\n",
            "\n",
            "[Dislike] None.\n",
            "\n",
            "Movie: Hostiles (2018)\n",
            "Positive comments: - The film's exploration of the spiritual journey of Captain Blocker- The powerful performances by Christian Bale and Rosamund Pike- The moving reconciliation between Chief Yellow Hawk and Captain Blocker\n",
            "Negative comments: - The brutal and graphic violence depicted in the film\n",
            "Details:\n",
            "Title: Hostiles (2018)\n",
            "Genre: Drama, Western\n",
            "Director: Scott Cooper\n",
            "Cast: Scott Shepherd, Rosamund Pike, Ava Cooper\n",
            "Abstract: [Like] The movie was excellent and showed the good-hearted Indians who helped the Captain finish his assignment.\n",
            "\n",
            "[Dislike] The scene where Rosalee is told by her husband to take their 3 children and run to the trees, and she stops to watch as her husband is killed by the attacking Indians, resulting in the death of all three children. This kind of scene ruins the movie for me.\n",
            "\n",
            "Movie: Phantom Thread (2018)\n",
            "Positive comments: - Beautifully photographed with breath-taking colors and set-ups- Fascinating introduction to the art of fashion design- Towering performance of Daniel Day-Lewis- Outstanding performance by Vicky Krieps- Touches of Hitchcock and Bergman in the film- Development of the poison mushrooms and the making of the omelette\n",
            "Negative comments: - None\n",
            "Details:\n",
            "Title: Phantom Thread (2018)\n",
            "Genre: Drama, History, Romance\n",
            "Director: Paul Thomas Anderson\n",
            "Cast: Vicky Krieps, Daniel Day-Lewis, Lesley Manville\n",
            "Abstract: [Like]\n",
            "- Daniel Day-Lewis's acting was absolutely phenomenal and captivating\n",
            "- The range of characters he has portrayed throughout his career is impressive\n",
            "- The reviewer was completely enthralled by his performance and watched the movie twice back to back\n",
            "\n",
            "[Dislike]\n",
            "None. Hi there! I'm in the mood to watch a movie. Can you recommend something? Absolutely! What kind of movie are you in the mood for? Any specific genre or theme? I'm generally drawn to movies that have a strong focus on character development and authentic storytelling. I appreciate films shot on location and with a unique and inspiring concept. How about watching \"Munich (2005)\"? It's a powerful and thought-provoking film with intense and absorbing storytelling. The strong ensemble cast delivers compelling performances, and it's a fantastic piece of film-making with great attention to detail. \"Munich (2005)\" sounds like a well-made film, but I'm not a big fan of intense and graphic violence depicted in movies. I tend to enjoy films with powerful performances and exploration of spiritual journeys, like the ones in \"Hostiles\" and \"Phantom Thread\". Any recommendations along those lines? I would recommend \"A Private War (2018)\" for you. It's a gripping and immersive film that highlights the mental and emotional toll of war correspondents, with a strong focus on character development and powerful performances, particularly by Rosamund Pike. The film also offers a realistic and authentic perspective, with strong visuals and compelling storytelling. \"A Private War (2018)\" seems intriguing, especially with the focus on the mental and emotional toll of war correspondents. However, I feel like the lack of coverage of complex political situations in the Middle Eastern nations may not fully satisfy my preference for authentic storytelling and strong character development. Do you have any other recommendations in mind? How about watching \"The Greatest Showman (2017)\"? It's a visually stunning and emotionally engaging film that tells the story of P.T. Barnum and his circus, with a focus on the characters and their relationships. The film has a unique and inspiring concept, and it's a fantastic piece of film-making with great attention to detail. \"The Greatest Showman (2017)\" sounds\n",
            "\n",
            "I believe you would really enjoy \"Carnage (2011)\"! It has a clever and witty script, exceptional acting performances, and effectively balances heavy drama with indulgent humor.\n",
            ". Use the user's movie history and preferences to suggest movies that align with their interests.\n",
            "\n",
            "Seen movies and their corresponding evaluation and details:\n",
            "Movie: Vampire Academy (2014)\n",
            "Positive comments: There are no positive comments\n",
            "Negative comments: 1. Confusing and convoluted plot2. Poorly written screenplay with fast-paced, disjointed dialogue3. Lack of strong action scenes4. Uninspiring and poorly choreographed hijinks5. Overemphasis on teenage drama and lack of focus on vampire mythology and supernatural elements\n",
            "Details:\n",
            "Title: Vampire Academy (2014)\n",
            "Genre: Action, Comedy, Drama, Fantasy, Horror, Mystery, Thriller\n",
            "Director: Mark Waters\n",
            "Cast: Zoey Deutch, Lucy Fry, Danila Kozlovskiy\n",
            "Abstract: [Like] The movie has a superior plot, better humor, and is set in a world of vampire awareness, which makes it more logical and enjoyable compared to other supernatural niche stories.\n",
            "\n",
            "[Dislike] The special effects are only passable and the second-string cast is left to execute the far superior plot.\n",
            "\n",
            "Movie: Ladder 49 (2004)\n",
            "Positive comments: - The movie effectively portrays the lives of firefighters and the emotional impact on them and their families- The story sets the film apart from other firefighting films- The supporting cast, especially John Travolta and Jacinda Barrett, stands out\n",
            "Negative comments: - None\n",
            "Details:\n",
            "Title: Ladder 49 (2004)\n",
            "Genre: Action, Drama, Thriller\n",
            "Director: Jay Russell\n",
            "Cast: Joaquin Phoenix, John Travolta, Jacinda Barrett\n",
            "Abstract: [Like]\n",
            "- Emotionally intense and powerful drama\n",
            "- Captures the sense of camaraderie and loyalty between the firefighters\n",
            "- Well-directed action scenes\n",
            "- Touching, moving, and heartbreaking\n",
            "\n",
            "[Dislike]\n",
            "- Shaky-cam editing in the action scenes\n",
            "\n",
            "Movie: Dark House (2009)\n",
            "Positive comments: - True scares and creepy ghost-like monsters- Quality scares and spooky characters- Maintains a sense of creepiness- Brisk 85-minute runtime\n",
            "Negative comments: - Not all the humor works as expected- Overuse of CGI blood\n",
            "Details:\n",
            "Title: Dark House (2009)\n",
            "Genre: Horror, Thriller\n",
            "Director: Darin Scott\n",
            "Cast: Jeffrey Combs, Meghan Ory, Diane Salinger\n",
            "Abstract: [Like]\n",
            "- Fantastic horror movie\n",
            "- Decent acting\n",
            "- Good story and direction\n",
            "- Reminded me of House on Haunted Hill\n",
            "- Very scary\n",
            "\n",
            "[Dislike]\n",
            "- None Hi there! I'm in the mood to watch a movie. Can you recommend something? Absolutely! What kind of movie are you in the mood for? Any specific genre or theme? I'm not a big fan of movies with confusing and convoluted plots, poorly written screenplays, and lack of strong action scenes. I also don't really enjoy movies with overemphasis on teenage drama and lack of focus on supernatural elements. Based on your preferences, I think you would enjoy \"Kinky Boots.\" It has a great story, lots of humor, and excellent acting. It's not confusing and has a strong focus on real people and their values without overemphasis on teenage drama. Thank you for the recommendation, but I don't think \"Kinky Boots\" is the right fit for me. I'm actually more into movies that effectively portray the lives of specific professions and the emotional impact on them. Also, movies with true scares, creepy monsters, and quality scares. Based on your preferences, I think you would enjoy \"United 93.\" It effectively portrays the lives of the people involved in the 9/11 events and the emotional impact on them. It's also a realistic and intense thriller with quality scares. \"United 93\" sounds like a great movie, but unfortunately, it's not exactly what I'm looking for. I'm more into movies that maintain a sense of creepiness and have a brisk runtime. Any other recommendations? How about \"Broken Flowers\"? It portrays the life of a retired computer magnate and his journey to seek out his past lovers after receiving an anonymous letter. It has a subtle and creepy atmosphere, with a focus on emotional impact and relationships. \"Broken Flowers\" sounds intriguing, but I'm actually more into movies with a balance of heavy drama and indulgent humor, showcased through exceptional acting performances. How about \"The Squid and the Whale\"? It has a balance of heavy drama and indulgent humor, showcased through exceptional acting performances. It also has a brisk runtime and a focus on the emotional impact of relationships. That sounds perfect! I haven't seen \"The Squid and the Whale\" before, so I'll definitely give it a watch. Thanks for the recommendation! You're welcome! I hope you enjoy\n",
            "\n",
            "I think \"The Revenant\" (2015) would be a great fit for you. It has an intense and harrowing storyline, outstanding performances, and definitely conveys feelings of desperation and hopelessness throughout the movie. Plus, the visuals and cinematography are stunning, which adds to the overall experience.\n",
            ". Use the user's movie history and preferences to suggest movies that align with their interests.\n",
            "\n",
            "Seen movies and their corresponding evaluation and details:\n",
            "Movie: The King (2019)\n",
            "Positive comments: - The movie was truly entertaining and provided a good escape for the audience- The acting was fantastic, particularly the performance of the young star- The cinematography was very good, with wide and expansive shots that made the audience feel immersed in the setting- The sound and music, while not great, worked well to create a serious and somewhat grim atmosphere\n",
            "Negative comments: - None\n",
            "Details:\n",
            "Title: The King (2019)\n",
            "Genre: Biography, Drama, History, Romance, War\n",
            "Director: David Michôd\n",
            "Cast: Tom Glynn-Carney, Gábor Czap, Tom Fisher\n",
            "Abstract: [Like]\n",
            "- Outstanding production values\n",
            "- Excellent acting, lighting, direction, script, and locations\n",
            "- Great story with historical significance\n",
            "- Engaging and does not drag\n",
            "\n",
            "[Dislike]\n",
            "None.\n",
            "\n",
            "Movie: I Sell the Dead (2008)\n",
            "Positive comments: - Great blend of comedy and horror- Amazing music and audio despite the budget- Well-done story and top-notch acting- Potential for a sequel- Exciting and refreshing horror comedy\n",
            "Negative comments: - None\n",
            "Details:\n",
            "Title: I Sell the Dead (2008)\n",
            "Genre: Comedy, Horror\n",
            "Director: Glenn McQuaid\n",
            "Cast: Dominic Monaghan, Larry Fessenden, Angus Scrimm\n",
            "Abstract: [Like] \n",
            "- Jubilant send-up of Hammer horror\n",
            "- Enough scares to keep fans satisfied\n",
            "- Staggered plot\n",
            "- Performances are uniformly solid\n",
            "- Decor is a sight to behold\n",
            "- Beautiful, haunting score\n",
            "- Genuinely heartfelt love letter to films of yesteryear\n",
            "\n",
            "[Dislike]\n",
            "None.\n",
            "\n",
            "Movie: Blood Creek (2009)\n",
            "Positive comments: - The unique plot line involving WW2 Nazi doctor experimenting with the occult, necromancy, and Norse mythology- The blending of story and mythos with a good amount of lore- The movie spans a time period of many decades and is easy to understand- The scary moments that will definitely get a few jumps out of you- Dominic Purcell's acting job\n",
            "Negative comments: - None\n",
            "Details:\n",
            "There are no extra data for this movie. Hi there! I'm in the mood to watch a movie. Can you recommend something? Absolutely! What kind of movie are you in the mood for? Any specific genre or theme? I'm usually into movies that blend different elements like comedy and horror, with great music and audio. I also enjoy unique plot lines and well-done storytelling. Based on your preferences, I think you would really enjoy \"The Machine\" (2014). It's a blend of sci-fi and thriller with inventive visuals, a thinking man's storyline, and a strong synth-score. The movie also delivers a unique plot and storytelling, along with some great action. Hmm, \"The Machine\" (2014) sounds interesting, but I'm not sure if it has the comedy element I'm looking for. I also prefer movies with a mix of horror and comedy that keeps me entertained throughout. Based on your preferences, I recommend \"I Sell the Dead\" (2008). It's a comedy-horror movie with a unique blend of humor and horror, as well as a captivating British-type humor in the dialogue and setting. The movie also includes a great mix of horror and comedy that keeps the audience entertained throughout. \"I Sell the Dead\" (2008) seems like a good recommendation, but I'm looking for something with a little more potential for a sequel and a refreshing take on horror comedy. How about \"The Exorcism of Emily Rose\" (2005)? It's a unique blend of horror and courtroom drama with a chilling storyline and potential for a sequel. The movie also has an interesting take on horror that keeps the audience entertained throughout. \"The Exorcism of Emily Rose\" (2005) sounds intriguing, but I'm actually in the mood for something with a different theme. I really enjoy movies with an intense and harrowing storyline, outstanding performances, and a feeling of desperation and hopelessness that the movie conveys. I think you would really enjoy \"The King\" (2019). It's a fantastic movie with a unique blend of comedy and drama, outstanding performances, and a feeling of desperation and hopelessness that the movie conveys. The movie also has a great storyline and a mix of horror and comedy that keeps the audience entertained throughout. \"The King\" (2019) sounds like a perfect fit for what I'\n",
            "\n",
            "How about the movie \"The Girl with the Dragon Tattoo (2011)\"? It's an outstanding serial killer mystery-thriller with remarkable effort in feature length filmmaking. The characters are more important than the story, and it offers a frightening and haunting cinematic experience with a competent example of storytelling that aligns with your preferences.\n",
            ". Use the user's movie history and preferences to suggest movies that align with their interests.\n",
            "\n",
            "Seen movies and their corresponding evaluation and details:\n",
            "Movie: Eastern Promises (2007)\n",
            "Positive comments: - Viggo Mortensen's daring display of wits and courage- Some of the performances by the cast\n",
            "Negative comments: - Poorly-written characters- Stagnant and insipid narrative- Lack of suspense and forgettable plot twists\n",
            "Details:\n",
            "Title: Eastern Promises (2007)\n",
            "Genre: Crime, Drama, Thriller\n",
            "Director: David Cronenberg\n",
            "Cast: Josef Altin, Mina E. Mina, Aleksandar Mikic\n",
            "Abstract: [Like] The observer approach to the story, the convincing performance by Viggo Mortensen, and the slow pace with high tension.\n",
            "\n",
            "[Dislike] The lack of relatability and the lack of memorability in the film.\n",
            "\n",
            "Movie: Once Upon a Time in America (1984)\n",
            "Positive comments: - Stunning mix of strong visuals and powerful music- Ennio Morricone's legendary score- Consistent acting throughout, especially from Robert De Niro- Excellent editing and coherence in storytelling- Enigmatic quality of the characters\n",
            "Negative comments: - Graphic depictions of rape- Devaluing and victimizing portrayal of women\n",
            "Details:\n",
            "Title: Once Upon a Time in America (1984)\n",
            "Genre: Crime, Drama\n",
            "Director: Sergio Leone\n",
            "Cast: Robert De Niro, James Woods, Elizabeth McGovern\n",
            "Abstract: [Like]\n",
            "- Stunningly shot\n",
            "- Agonisingly well acted\n",
            "- Wonderful soundtrack\n",
            "- Has a heart\n",
            "- Tight film with attention to detail\n",
            "- Thought-provoking and contemplative\n",
            "\n",
            "[Dislike]\n",
            "None.\n",
            "\n",
            "Movie: JFK (1991)\n",
            "Positive comments: - The film runs for more than three hours, and with the overwhelming amount of content and the humongous scope of the plot, it's unbelievable that Stone managed to complete the production of the film within two years.- The expert explanation and exploration of the conspiracies surrounding the assassination of President Kennedy through spellbinding color and black-and-white images, and the recreation of the chain of sequences that lead to the assassination and its convoluted aftermath.- Effective individual performances from A-listers like Kevin Costner, Tommy Lee Jones, Joe Pesci, Gary Oldman, Kevin Bacon, and Donald Sutherland.- The manner in which Oliver Stone filmed JFK through the use of disturbing flashback images, rapid-fire editing, and intertwining it with suspenseful pulsating rhythms by composer John Williams.\n",
            "Negative comments: - None.\n",
            "Details:\n",
            "Title: JFK (1991)\n",
            "Genre: Drama, History, Thriller\n",
            "Director: Oliver Stone\n",
            "Cast: Sally Kirkland, Anthony Ramirez, Gary Taggart\n",
            "Abstract: [Like]\n",
            "- The use of recreations, actual footage, and film editing to create a coherent storyline\n",
            "- The direction of the film, maintaining a reasonable speed without getting bogged down\n",
            "- The twist of having the real Jim Garrison play Chief Justice Earl Warren\n",
            "\n",
            "[Dislike]\n",
            "None. Hi there! I'm in the mood to watch a movie. Can you recommend something? Absolutely! What kind of movie are you in the mood for? Any specific genre or theme? I enjoy movies with strong visuals, great music, and consistent acting. I also appreciate a captivating plot and good storytelling. Based on your preferences, I think you might enjoy Up (2009). It has stunning animation, beautiful backgrounds and colors, and exceptional voice acting. The story also has emotional and moving moments, with a captivating plot and great storytelling. Thank you for the recommendation, but I'm looking for something with a more mature theme and intense narrative. I tend to enjoy movies with an enigmatic quality to the characters and a mix of strong visuals and powerful music, along with consistent acting throughout. Any other suggestions? In that case, I'd recommend The Bourne Ultimatum (2007). It has an intense and enigmatic narrative, with strong visuals and thrilling action. The script is intelligent and subtle, and the performances are consistent throughout. I appreciate the recommendation, but I'm not a fan of the excessive use of shaky camera technique in The Bourne Ultimatum (2007). I prefer movies with a more steady and coherent visual style. Do you have any other suggestions that align with my preferences? How about The Great Escape (1963)? It has a mix of strong visuals and powerful music, with consistent acting throughout. The plot is captivating and the storytelling is excellent. It also has a mix of humor and drama, which I think you might enjoy. That sounds like a great recommendation! I'll definitely give The Great Escape (1963) a watch. Thanks for the suggestion! You're welcome! I\n",
            "\n",
            "How about giving \"The Kid\" (1921) a try? It has a heartwarming storyline and blends comedy and drama perfectly. The direction and acting by Charlie Chaplin are truly impressive, and the film's story execution is top-notch. Plus, it has some amazing visual effects for its time period.\n",
            ". Use the user's movie history and preferences to suggest movies that align with their interests.\n",
            "\n",
            "Seen movies and their corresponding evaluation and details:\n",
            "Movie: Cinderella Man (2005)\n",
            "Positive comments: - Amazing story made into an amazing movie- Great acting, direction, and screenplay- Fits real life very well- Oscar-worthy performances- Perfect casting\n",
            "Negative comments: There are no negative comments\n",
            "Details:\n",
            "Title: Cinderella Man (2005)\n",
            "Genre: Biography, Drama, Romance, Sport\n",
            "Director: Ron Howard\n",
            "Cast: Russell Crowe, Renée Zellweger, Paul Giamatti\n",
            "Abstract: [Like]\n",
            "- Outstanding performance by Russell Crowe\n",
            "- Visual depiction of the family's struggle during the depression\n",
            "- Good chemistry between Russell Crowe and Renee\n",
            "- Impressive performances by the kids\n",
            "- Compelling portrayal of the rich promoter by Paul Giamatti\n",
            "- Bruce McGill's portrayal of the rich promoter\n",
            "\n",
            "[Dislike]\n",
            "- Renee's portrayal of her character, which reminded the reviewer of Roxie Heart\n",
            "- Uncertainty about the portrayal of the Max Baer character\n",
            "\n",
            "Movie: Citizen Kane (1941)\n",
            "Positive comments: - The story and screenplay are amazing- The acting, especially by Orson Welles, is great- The direction and visual effects are impressive\n",
            "Negative comments: There are no negative comments\n",
            "Details:\n",
            "Title: Citizen Kane (1941)\n",
            "Genre: Drama, Mystery\n",
            "Director: Orson Welles\n",
            "Cast: Joseph Cotten, Dorothy Comingore, Agnes Moorehead\n",
            "Abstract: [Like]\n",
            "- Orson Welles' performance and his impact on the movie\n",
            "- The complexity and depth of the characters\n",
            "- The surprise ending\n",
            "\n",
            "[Dislike]\n",
            "None.\n",
            "\n",
            "Movie: Jarhead (2005)\n",
            "Positive comments: - The plot is great- The acting is very good all around- The cinematography is amazing- The art direction, costume design, and such are also amazing\n",
            "Negative comments: - None\n",
            "Details:\n",
            "Title: Jarhead (2005)\n",
            "Genre: Biography, Drama, War\n",
            "Director: Sam Mendes\n",
            "Cast: Jake Gyllenhaal, Scott MacDonald, Peter Sarsgaard\n",
            "Abstract: [Like] Realism, portrayal of the uneventful nature of war, strong performances by Jake Gyllenhaal, Peter Sarsgaard, and Jamie Foxx.\n",
            "\n",
            "[Dislike] Reminded too much of 'Platoon', lack of purpose for the characters being in the war. Hi there! I'm in the mood to watch a movie. Can you recommend something? What kind of movie are you in the mood for? Any specific genre or theme? I really enjoy movies with amazing stories, great acting, and impressive direction. I also love movies that fit real life very well. Can you recommend something along those lines? I think you might enjoy \"M*A*S*H\" (1970). It has an amazing story, great acting, and impressive direction that really captures the gritty reality of war. Plus, the humor mixed with realistic and gory surgical scenes adds a unique and realistic touch to the film. \"M*A*S*H\" (1970) sounds like a great movie, but I'm actually looking for something with a lighter tone this time. I'm thinking more along the lines of comedy-drama with a heartwarming storyline. Do you have any other recommendations? How about \"The Big Lebowski\" (1998)? It's a comedy-drama with a heartwarming storyline and great acting. The film has a unique and quirky tone that I think you'll enjoy. \"The Big Lebowski\" (1998) sounds like a good recommendation, but I'm looking for something with a more serious and dramatic tone. I'm in the mood for a movie that really\n",
            "\n",
            "How about \"A Perfect World (1993)\"? It has a captivating and meaningful story with engaging romance and a well-paced storyline. The film explores the themes of empathy, understanding, and human connection through the unlikely bond between a convict and a young boy. The performances by Kevin Costner and Clint Eastwood are powerful, and the emotional depth of the characters makes for a truly compelling drama. Plus, it's a modern film with a unique and thought-provoking narrative.\n",
            ". Use the user's movie history and preferences to suggest movies that align with their interests.\n",
            "\n",
            "Seen movies and their corresponding evaluation and details:\n",
            "Movie: Call Me by Your Name (2018)\n",
            "Positive comments: - The story was captivating and meaningful- The chemistry between Elio and Oliver was well portrayed- The \"call me by your name\" game was a memorable and touching moment\n",
            "Negative comments: - None\n",
            "Details:\n",
            "Title: Call Me by Your Name (2018)\n",
            "Genre: Drama, Romance\n",
            "Director: Luca Guadagnino\n",
            "Cast: Armie Hammer, Timothée Chalamet, Michael Stuhlbarg\n",
            "Abstract: [Like]\n",
            "- Very moving and interesting\n",
            "- Focuses on the human soul and the search for love\n",
            "- Great performances\n",
            "- Fantastic soundtrack\n",
            "- Top-notch directing\n",
            "- Thoroughly enjoyed from beginning to end\n",
            "\n",
            "[Dislike]\n",
            "None\n",
            "\n",
            "Movie: Gone Girl  (2014)\n",
            "Positive comments: - David Fincher's direction- Ben's performance- Engaging and well-paced storyline\n",
            "Negative comments: - None\n",
            "Details:\n",
            "Title: Gone Girl  (2014)\n",
            "Genre: Drama, Mystery, Thriller\n",
            "Director: David Fincher\n",
            "Cast: Ben Affleck, Rosamund Pike, Neil Patrick Harris\n",
            "Abstract: [Like]\n",
            "- The movie follows the book plot closely\n",
            "- Good job of keeping the suspense\n",
            "- Good pace and kept my interest\n",
            "\n",
            "[Dislike]\n",
            "- None\n",
            "\n",
            "Movie: Love, Simon (2018)\n",
            "Positive comments: I loved the sweet and heartwarming romance between Simon and Blue. The Ferris wheel scene was particularly magical and had me rooting for their love story.\n",
            "Negative comments: There are no negative comments\n",
            "Details:\n",
            "Title: Love, Simon (2018)\n",
            "Genre: Comedy, Drama\n",
            "Director: Greg Berlanti\n",
            "Cast: Nick Robinson, Jennifer Garner, Josh Duhamel\n",
            "Abstract: [Like] \n",
            "- The movie is touching, heartwarming, and refreshing\n",
            "- It combines humor and authenticity effortlessly\n",
            "- The performances by the actors are believable and relatable\n",
            "- The aggressive and clever marketing leading up to the release\n",
            "\n",
            "[Dislike]\n",
            "- None. Absolutely! What kind of movie are you in the mood for? Any specific genre or theme? I'm in the mood for something with a captivating and meaningful story. I also enjoy movies with engaging romance and well-paced storylines. Can you recommend something along those lines? I recommend \"Gone Baby Gone.\" It has a captivating and meaningful story with engaging romance and a well-paced storyline. The performances are great, and the moral and ethical codes of the lead character add depth to the plot. \"Gone Baby Gone\" sounds like a good movie, but I'm more in the mood for something with a different theme. Do you have any other recommendations that align more with my preferences? How about \"The Legend of 1900\"? It has a captivating and meaningful story, with an engaging romance and well-paced storyline. The film also has stunning visuals and is praised for its outstanding storytelling and incredible music. \"The Legend of 1900\" seems like a great recommendation, but I feel like I've seen something similar before. I'm looking for a movie with a different setting and theme. Can you suggest something else? How about \"Love, Simon\"? It has a captivating and meaningful story with engaging romance and a well-paced storyline. The film also delivers a positive message and is a big LGBT romantic comedy, which is not common in Hollywood. \"Love, Simon\" sounds like a movie I'd enjoy, but I've already seen it. Do you have any other recommendations that align more with my preferences? How about \"A Streetcar Named Desire (1951)\"? It has a captivating and meaningful story with engaging romance and a well-paced storyline. The performances of Marlon Brando and Vivien Leigh are outstanding, and the seedy, steamy French Quarter setting adds a unique and captivating backdrop to the story. Plus, the depth and texture of the characters and their interactions make for a compelling and absorbing drama. \"A Streetcar Named Desire\" is a classic, but I'm looking for something more modern. Can you recommend a more recent movie that fits my preferences? How about \"The Big Sick\" (2018)? It has a captivating and meaningful story with engaging romance and a well-paced storyline. The film also delivers a positive message and is a big LGBT romantic comedy, which is not common in Hollywood. Plus, the performances of the lead actors are outstanding, and the film has received critical acclaim for its heartfelt and authentic portrayal of love and relationships.\n",
            "\n",
            "I suggest watching \"Spider-Man: Homecoming\"! It offers a different take on the superhero genre with a high school teen comedy twist. The film also features a solid, brilliantly played villain in The Vulture, portrayed by Michael Keaton. It has great action sequences and strong performances from the cast.\n",
            ". Use the user's movie history and preferences to suggest movies that align with their interests.\n",
            "\n",
            "Seen movies and their corresponding evaluation and details:\n",
            "Movie: Kingsman: The Golden Circle (2017)\n",
            "Positive comments: - The technical aspects of the film, including the action sequences, camera work, acting, editing, and visual effects- The set design, especially the headquarters for the Statesman- The performances of the cast, particularly Colin Firth, Taron Edgerton, Mark Strong, Jeff Bridges, and Channing Tatum- The fun and ridiculous nature of the film\n",
            "Negative comments: - The lack of fresh ideas and originality in the story- The attempt to replicate what made the original film great without adding anything new- The handling of the villain and the pacing issues in the second act\n",
            "Details:\n",
            "Title: Kingsman: The Golden Circle (2017)\n",
            "Genre: Action, Adventure, Comedy, Crime, Thriller\n",
            "Director: Matthew Vaughn\n",
            "Cast: Taron Egerton, Edward Holcroft, Gordon Alexander\n",
            "Abstract: [Like]\n",
            "- Engaging and made me want more from the series\n",
            "- Superb cast with great performances\n",
            "- Improved on what needed to be improved from the first movie\n",
            "- Dark humor and willingness to go where it needed to for entertainment\n",
            "- Better fights and favorite moments with Elton John and the last fight between Charlie and Eggsy\n",
            "- Enjoyed the singing Merlin did of \"Country Roads\" by John Denver\n",
            "\n",
            "[Dislike]\n",
            "- None\n",
            "\n",
            "Movie: Justice League  (2017)\n",
            "Positive comments: - The anticipation and excitement of finally seeing these iconic heroes on the big screen- Some moments where I felt like I was having fun\n",
            "Negative comments: - The attempt at humor felt forced and none of the jokes were funny- Tonal issues with the movie trying to be dark and serious while also incorporating humor- Steppenwolf as a lame and generic villain with poor CGI- Slo-mo action sequences and noticeable visual effects- Lack of fun and enjoyment overall- Bad editing and cropping- Thin characterization and plot with numerous plot holes- The movie's overall execution and quality\n",
            "Details:\n",
            "Title: Justice League  (2017)\n",
            "Genre: Action, Adventure, Fantasy, Sci-Fi\n",
            "Director: Zack Snyder\n",
            "Cast: Ben Affleck, Henry Cavill, Amy Adams\n",
            "Abstract: [Like]\n",
            "- Tight running time and no wasted scenes\n",
            "- Visual effects and scenes involving Flash\n",
            "- Good humor and sarcasm\n",
            "- Strong performances from Ben Affleck, Jason Momoa, and Ezra Miller\n",
            "- Gal Gadot's portrayal of Wonderwoman\n",
            "\n",
            "[Dislike]\n",
            "- Lack of a well-defined antagonist\n",
            "- Underutilization of certain top-billed actors\n",
            "- Rushed build-up to the Justice League without individual character movies\n",
            "\n",
            "Movie: The Grudge (2020)\n",
            "Positive comments: There are no positive comments\n",
            "Negative comments: - Confusing and non-linear storytelling- Gaping plot holes- Weak and undeveloped characters- Lack of suspense or tension- Heavy reliance on jump scares- Lack of creative vision\n",
            "Details:\n",
            "There are no extra data for this movie. Hi there! I'm in the mood to watch a movie. Can you recommend something? Absolutely! What kind of movie are you in the mood for? Any specific genre or theme? I'm looking for a movie with great technical aspects and fun and ridiculous nature. I also enjoy action sequences and strong performances from the cast. I recommend \"Ingrid Goes West\"! It has great technical aspects, a fun and ridiculous nature, and strong performances from the cast, particularly Aubrey Plaza. It also has a unique portrayal of social media and its effects, which adds an interesting element to the story. I appreciate the recommendation, but \"Ingrid Goes West\" doesn't quite match my preference. While I do enjoy the portrayal of social media, I'm looking for a movie with an action-packed storyline and some iconic heroes on the big screen. I also prefer a movie that avoids being an origin story and has a solid, well-played villain. Any other recommendations? I think you'll enjoy \"Pirates of the Caribbean: Dead Men Tell No Tales\"! It has the action-packed storyline, iconic heroes, and a well-played villain that you're looking for. Plus, it has some stunning action sequences and entertaining performances from the cast. I've actually seen \"Pirates of the Caribbean: Dead Men Tell No Tales\" before. While I did enjoy the action scenes and the character of Salazar as a menacing villain, there were some aspects that didn't quite sit well with me. I'm looking for a movie with a different take on the superhero genre, and a solid villain played brilliantly by an actor. Any other recommendations that might fit those criteria? I recommend \"The Avengers: Endgame\"! It has a different take on the superhero genre, with a solid villain played brilliantly by Tom Hiddleston as Loki. The movie also has a great ensemble cast and a well-crafted storyline that ties up loose ends from previous movies. That sounds perfect! I haven't seen \"The Avengers: Endgame\" yet, so I'll definitely give it a watch.\n",
            "\n",
            "How about \"District 9\" (2009)? It's an action-packed sci-fi thriller with exquisite cinematography, impressive special effects, and a unique, character-driven story. It seamlessly transitions between different stages of the movie and explores thought-provoking themes about what makes a human being human. It's definitely an original concept with a strong cast that you might enjoy!\n",
            ". Use the user's movie history and preferences to suggest movies that align with their interests.\n",
            "\n",
            "Seen movies and their corresponding evaluation and details:\n",
            "Movie: Love the Beast (2009)\n",
            "Positive comments: - The intense labor of love and passion for cars portrayed in the documentary- The super-charged racing sequences and crash footage- Eric Bana's energy, focus, and determination in the film\n",
            "Negative comments: - None.\n",
            "Details:\n",
            "Title: Love the Beast (2009)\n",
            "Genre: Documentary, Sport\n",
            "Director: Eric Bana\n",
            "Cast: Eric Bana, Jeremy Clarkson, Steve Coad\n",
            "Abstract: [Like]\n",
            "- The intense labor of love and passion for cars portrayed in the documentary\n",
            "- The super-charged racing sequences and crash footage\n",
            "- Eric Bana's energy, focus, and determination in the film\n",
            "\n",
            "[Dislike]\n",
            "- None.\n",
            "\n",
            "Movie: The Scorpion King (2002)\n",
            "Positive comments: - The star-studded cast- The feel-good, action-packed nature of the movie- The charisma and acting skills of The Rock- The roller coaster of action, adventure, intrigue, romance, and magic\n",
            "Negative comments: - None\n",
            "Details:\n",
            "Title: The Scorpion King (2002)\n",
            "Genre: Action, Adventure, Fantasy\n",
            "Director: Chuck Russell\n",
            "Cast: Dwayne Johnson, Steven Brand, Michael Clarke Duncan\n",
            "Abstract: [Like]\n",
            "- The film provides 90 minutes of decent entertainment\n",
            "- The self-mocking tone and well-executed action scenes\n",
            "- The loud rock soundtrack\n",
            "- The Rock's performance as an action hero\n",
            "- Kelly Hu's performance\n",
            "\n",
            "[Dislike]\n",
            "- The unclear storyline and rushed prologue\n",
            "- The predictable ending and cringe-worthy dialogue\n",
            "- The lack of menacing presence from the villain\n",
            "- Grant Heslov's overdone comedic performance\n",
            "\n",
            "Movie: The 40-Year-Old Virgin (2005)\n",
            "Positive comments: - The premise of the movie is great and worth watching at least once.- Steve Carell's performance is great and he brings a lot of comedy to the film.- The originality of the concept and how it was brought to the screen is commendable.- Catherine Keener's performance adds a touch of realism and credibility to the film.\n",
            "Negative comments: - The excessive profanity in the dialogue becomes unfunny and overwhelming.- Too much information about sexual acts and other kinky incidents that become nauseating.- The film could have been more enjoyable with some strategic editing to reduce the runtime.\n",
            "Details:\n",
            "Title: The 40-Year-Old Virgin (2005)\n",
            "Genre: Comedy, Romance\n",
            "Director: Judd Apatow\n",
            "Cast: Steve Carell, Catherine Keener, Paul Rudd\n",
            "Abstract: [Like]\n",
            "- Surprised by the quality of the movie\n",
            "- Great cast with a variety of actors\n",
            "- Well-told story with simple but funny dialogue and situations\n",
            "\n",
            "[Dislike]\n",
            "None. Hi there! I'm in the mood to watch a movie. Can you recommend something? Absolutely! What kind of movie are you in the mood for? Any specific genre or theme? I'm not very picky when it comes to movies. I enjoy a good mix of action, adventure, and a touch of comedy. I really like movies with a strong cast and an original concept. How about \"Quantum of Solace\"? It's an action-packed Bond film with a strong cast, fast-paced adventure, and a gritty tone. Plus, it has a touch of mystery and thriller elements that might appeal to you. \"Quantum of Solace\" sounds like a decent movie, but I'm not a big fan of lackluster opening car chases and unmemorable scripts and direction. I prefer movies with strong character-driven stories and seamless transitions between different stages of the movie. Do you have any recommendations that fit that description? How about \"12 Angry Men\" (1957)? It's a classic courtroom drama that takes place almost entirely in one room, focusing on the intense deliberations of a jury. The film's strong character development and thought-provoking themes might be right up your alley. \"12 Angry Men\" does have strong character development and thought-provoking themes, but I'm actually looking for something with a bit more action and adventure. Do you have anything in mind that fits that description? How about \"The Hangover\" (2009)? It's a comedy with a lot of action and adventure, and it has a strong cast and original concept. Plus, it's a fun and entertaining movie that I think you'll enjoy. \"The Hangover\" sounds like a great movie, but I'm not a big fan of the lack of originality and the predictable plot. I prefer movies with a more unique and\n",
            "\n",
            "I think you would really enjoy \"The Lord of the Rings: The Return of the King (2003)\". It's an action-packed fantasy epic with a strong cast and epic scenes that will definitely satisfy your preferences. It's the powerful conclusion to J.R.R. Tolkien's Lord of the Rings trilogy with outstanding cast performances and epic portrayals of teamwork and steadfastness.\n",
            ". Use the user's movie history and preferences to suggest movies that align with their interests.\n",
            "\n",
            "Seen movies and their corresponding evaluation and details:\n",
            "Movie: Angels Crest (2011)\n",
            "Positive comments: The movie did provide poignant moments when the child was found, and it might help those who have experienced similar tragedies.\n",
            "Negative comments: Not enough action to hold interest for younger viewers, too much time spent with people running around and cursing, and the script made it difficult for the actors to do a good job.\n",
            "Details:\n",
            "There are no extra data for this movie.\n",
            "\n",
            "Movie: Pacific Rim  (2013)\n",
            "Positive comments: - Enjoyed by fans of Science Fiction and action packed movies- Colorful and holds your attention- Creative monsters and their movements\n",
            "Negative comments: - Story gets old fast- No acting challenges- Overkill in the action\n",
            "Details:\n",
            "Title: Pacific Rim  (2013)\n",
            "Genre: Action, Adventure, Sci-Fi\n",
            "Director: Guillermo del Toro\n",
            "Cast: Charlie Hunnam, Diego Klattenhoff, Idris Elba\n",
            "Abstract: [Like]\n",
            "- Visual effects and battle scenes\n",
            "- Interesting sci-fi ideas\n",
            "- Engaging plot\n",
            "- Optimal character development\n",
            "- Seamless fusion of different ideas\n",
            "- Emotionally deep without being melodramatic or shallow\n",
            "- Idris Elba's performance\n",
            "\n",
            "[Dislike]\n",
            "- Lack of attention to sci-fi conceptual depth\n",
            "- Acting performances could have been slightly better\n",
            "\n",
            "Movie: Taken 2 (2012)\n",
            "Positive comments: Fast paced action, holds attention, good for prime time viewing, not gory killing, enjoyable chase scenes, Liam Neeson's performance\n",
            "Negative comments: There are no negative comments\n",
            "Details:\n",
            "Title: Taken 2 (2012)\n",
            "Genre: Action, Crime, Thriller\n",
            "Director: Olivier Megaton\n",
            "Cast: Liam Neeson, Maggie Grace, Famke Janssen\n",
            "Abstract: [Like] None.\n",
            "\n",
            "[Dislike] The sudden change in the behavior of the wife and the lack of depth in the villain's motivation. Hi there! I'm in the mood to watch a movie. Can you recommend something? Absolutely! What kind of movie are you in the mood for? Any specific genre or theme? I'm really into action-packed movies with a bit of drama and fantasy. I also enjoy movies that have a strong cast and epic scenes.\", ' I would recommend you watch The Little Mermaid (1989). It has a strong cast and epic scenes, along with fantasy elements and a bit of drama. It's a timeless classic that I think you'll enjoy. I appreciate the recommendation, but I don't think The Little Mermaid (1989) fits my preferences. It's a great family movie with colorful underwater scenes and adorable creatures, but I'm more into action-packed films with a bit of drama and fantasy. I also look for movies with a strong cast and epic scenes. Do you have any other recommendations? How about checking out \"The Most Dangerous Game\" (1932)? It's an action-packed thriller with elements of horror and adventure. The movie has a strong cast and features epic pursuits and outdoor action. It should definitely satisfy your preference for action-packed films with drama and fantasy elements. I see where you're coming from, but \"The Most Dangerous Game\" (1932) doesn't quite seem to fit my preferences. While it does have some action and outdoor pursuits, it's more of a survival thriller with elements of horror, which isn't exactly what I'm in the mood for. I'm really looking for something with a bit more of a fantasy and epic feel, along with a strong cast. Do you have any other recommendations? How about checking out \"The Hobbit: An Unexpected Journey\" (2012)? It's an epic fantasy adventure with a strong cast and fantastical creatures. The movie has a lot of action and drama, and it's definitely a bit of a fantasy and epic feel. I think you'll really enjoy it. I appreciate the recommendation, but \"The Hobbit: An Unexpected Journey\"\n",
            "\n",
            "I would recommend \"The African Queen (1951)\" for you. It offers a realistic adventure story with remarkable performances by the stars, detailed character studies, and a touching love story without common sentimentality. The cinematography and filming on location in the Congo also add to the immersive experience of the film.\n",
            ". Use the user's movie history and preferences to suggest movies that align with their interests.\n",
            "\n",
            "Seen movies and their corresponding evaluation and details:\n",
            "Movie: Ghost (1990)\n",
            "Positive comments: The movie hearkens back to films of the 1940s and 1950s, mixing screwball comedy, romance, and suspense with a ghost story. Whoopi Goldberg's performance as Oda Mae Brown is absolutely hilarious.\n",
            "Negative comments: The film feels like something created by corporate marketing men, lacking in originality and serving up slobbering sentimentality. The story is extremely predictable and the cast makes no attempt to create characters. The overall quality of the film, from cinematography to editing to design, is ho-hum.\n",
            "Details:\n",
            "Title: Ghost (1990)\n",
            "Genre: Drama, Fantasy, Romance, Thriller\n",
            "Director: Jerry Zucker\n",
            "Cast: Patrick Swayze, Demi Moore, Tony Goldwyn\n",
            "Abstract: [Like]\n",
            "- The emotional depth and impact of the story\n",
            "- The strong performances by the cast, particularly Whoopi Goldberg\n",
            "- The unexpected and funny scenes that added humor to the movie\n",
            "- The belief in life after death that the movie instilled\n",
            "\n",
            "[Dislike]\n",
            "- None.\n",
            "\n",
            "Movie: Monster  (2003)\n",
            "Positive comments: - The film offers a relentlessly fearsome portrait of Aileen Wuornos- Charlize Theron gives an inspired performance as Wuornos- The supporting cast is very good\n",
            "Negative comments: - The film does an extraordinary job of making us see Wuornos and Selby as human beings, but both characters are dangerous, mean, manipulative, and vicious\n",
            "Details:\n",
            "Title: Monster  (2003)\n",
            "Genre: Biography, Crime, Drama, Thriller\n",
            "Director: Patty Jenkins\n",
            "Cast: Charlize Theron, Christina Ricci, Bruce Dern\n",
            "Abstract: [Like] Charlize Theron's performance, the portrayal of Aileen Wuornos's complex character, the emotional depth of the story, and the powerful storytelling.\n",
            "\n",
            "[Dislike] None.\n",
            "\n",
            "Movie: The Canterville Ghost (1944)\n",
            "Positive comments: The enjoyable performances by the cast, particularly Margaret O'Brien and Charles Laughton. The emphasis on comedy rather than ghostly thrills, which was expertly done.\n",
            "Negative comments: There are no negative comments\n",
            "Details:\n",
            "There are no extra data for this movie. Hi there! I'm in the mood to watch a movie. Can you recommend something? Absolutely! What kind of movie are you in the mood for? Any specific genre or theme? I'm generally drawn to movies with strong performances and well-crafted storytelling. I particularly enjoy films that offer a blend of drama, romance, and adventure. Some great cinematography and a purposeful script are also big pluses for me. Based on your preferences, I think you would enjoy \"The Band Wagon (1953)\". It offers a blend of comedy, romance, and musical numbers, with strong performances from the cast and a well-crafted storyline. The musical sequences and dance performances also showcase great cinematography and add to the overall experience. Actually, \"The Band Wagon\" doesn't quite match the type of movie I'm in the mood for. I'm looking for a film that has a more subtle and purposeful script, as well as remarkable performances by the stars. It should also have a touch of adventure and a detailed character study. Do you have any other recommendations in mind? I believe \"Fried Green Tomatoes\" would be a perfect match for your preferences. It offers exceptional storytelling, strong acting performances, and a heart-warming and intelligent story with a touch of adventure. The film also has beautiful cinematography and a purposeful script that delves into detailed character studies. It's a wonderful blend of drama, romance, and adventure that I think you would thoroughly enjoy. I appreciate the recommendation, but I don't think \"Fried Green Tomatoes\" quite fits the bill for what I'm looking for. While it has some commendable qualities, I'm actually in the mood for something with a more realistic adventure story, along with detailed character study and a touch of romance. How about \"The Big Chill (1983)\"? It offers a realistic adventure story with a touch of romance, along with detailed character study and a purposeful script. The performances by the cast are strong, and the film has a blend of drama, romance, and adventure that I think you would enjoy. That sounds like a perfect match for what I'm in the mood for! I'll definitely give \"The Big Chill\n",
            "\n",
            "I think \"Anne of the Thousand Days\" (1969) would be a perfect fit for you. It has visually rich and technically well-done settings, intense characters, and historically steeped settings that align with your preferences. The portrayal of Henry VIII and Anne Boleyn is wonderful, and the movie provides an engaging and historically accurate experience.\n",
            ". Use the user's movie history and preferences to suggest movies that align with their interests.\n",
            "\n",
            "Seen movies and their corresponding evaluation and details:\n",
            "Movie: The History Boys (2006)\n",
            "Positive comments: The witty and often unrealistic dialogue, the fun scenes of the boys singing and reenacting movies and plays, and the sympathetic treatment of the gay characters.\n",
            "Negative comments: There are no negative comments\n",
            "Details:\n",
            "Title: The History Boys (2006)\n",
            "Genre: Comedy, Drama, Romance\n",
            "Director: Nicholas Hytner\n",
            "Cast: Samuel Anderson, James Corden, Stephen Campbell Moore\n",
            "Abstract: [Like] \n",
            "- The movie is a smooth, lively, and vivid conversion of a play to film\n",
            "- The film has insightful, touching observations presented in a fast-moving and highly entertaining context\n",
            "- The cast is terrific and has the right looks as well as the right lines\n",
            "- The more emotional parts are even stronger in the film's close-ups\n",
            "\n",
            "[Dislike]\n",
            "- None\n",
            "\n",
            "Movie: Hardball  (2001)\n",
            "Positive comments: There are no positive comments\n",
            "Negative comments: The movie is sickenly trite, entirely predictable, sugary with ersatz emotion, awful, filled with soaring violins accompanying trivial accomplishments, lacking original lines, deadly dull, and with a script that could have been composed by a computer. The involvement of Keanu Reeves and the score were also disappointing.\n",
            "Details:\n",
            "Title: Hardball  (2001)\n",
            "Genre: Comedy, Drama, Sport\n",
            "Director: Brian Robbins\n",
            "Cast: Keanu Reeves, Diane Lane, John Hawkes\n",
            "Abstract: [Like]\n",
            "- Good acting from the youth\n",
            "- Great story and pacing\n",
            "- Emotional impact\n",
            "- Soundtrack\n",
            "\n",
            "[Dislike]\n",
            "- None\n",
            "\n",
            "Movie: Imagine Me & You (2006)\n",
            "Positive comments: - The music is great. It has a big lush sound, lots of variety, and is melodious and fun.\n",
            "Negative comments: - The characters are pretty bland and the plot proceeds at a glacial pace.- The ending is corny and comes out of the blue without cause.- The movie treats a F-F couple as something highly exotic, shocking, and unexpected, which is not the case anymore.\n",
            "Details:\n",
            "Title: Imagine Me & You (2006)\n",
            "Genre: Comedy, Drama, Romance\n",
            "Director: Ol Parker\n",
            "Cast: Piper Perabo, Lena Headey, Matthew Goode\n",
            "Abstract: [Like] \n",
            "- Successfully combines love, British humour, and an attractive cast\n",
            "- Originality mixed in with clichés\n",
            "- Starts with a wedding and then breaks into real life\n",
            "- Portrays normal people in real life\n",
            "- Fun and a bit unpredictable\n",
            "\n",
            "[Dislike]\n",
            "- None Hi there! I'm in the mood to watch a movie. Can you recommend something? Absolutely! What kind of movie are you in the mood for? Any specific genre or theme? I'm actually a fan of movies with visually rich and technically well-done settings. I also enjoy ones with a big lush sound and melodious music. Plus, a movie with intense characters and historically steeped settings always catches my interest. Any recommendations based on that? Based on your preferences, I think you would enjoy \"48 Hrs.\" (1982). It has a combination of action, comedy, and drama with intense characters and a historically steeped setting. The chemistry between Nick Nolte and Eddie Murphy, and the performances of the cast, make it an enjoyable watch for fans of visually rich and technically well-done settings. I appreciate the recommendation, but I don't think \"48 Hrs.\" (1982) would be the right fit for me. The combination of action, comedy, and drama isn't really what I'm looking for right now. I'm more interested in a movie with a focus on historically steeped settings and intense characters. Any other recommendations based on that? How about \"The Descendants\" (2011)? It has a historically steeped setting in Hawaii, and the characters are engaging and intense. George Clooney's performance is also highly praised. Plus, the balance of refinement and dry humor might be exactly what you're looking for. I can see why you'd recommend \"The Descendants\" (2011) based on my preferences, but I don't think it's the right fit for me. The setting in Hawaii and the balance of refinement and dry humor aren't what I'm currently in the mood for. I'm really looking for a movie with intense characters and historically steeped settings. Do you have any other recommendations that align with those preferences? How about \"The Great Gatsby\" (2013)? It has intense characters and a historically steeped setting, with a visually rich and technically well-done portrayal of the 1920s. The performances of the cast, especially Leonardo DiCaprio, are highly praised, and the movie has a big lush sound and melodious music. It might be exactly what you're looking for. That sounds\n",
            "\n",
            "Since you're looking for a mix of different genres, including drawing room comedy, Hitchcockian noir, and black comedy, while also providing a slice of life and a leisurely explication of human interaction, I recommend \"Married Life\" (2008). It offers all of these elements in a captivating and engaging manner, with excellent performances and an intelligently written script that you'll definitely appreciate.\n",
            ". Use the user's movie history and preferences to suggest movies that align with their interests.\n",
            "\n",
            "Seen movies and their corresponding evaluation and details:\n",
            "Movie: Secondhand Lions (2003)\n",
            "Positive comments: - The movie is a joyful and optimistic romp about the relationship between the old and the young- The humor is well-honed and comes from the talents of acting treasures Michael Caine and Robert Duvall- It's a sentimental rural fable with worthwhile lessons that can be learned\n",
            "Negative comments: - None\n",
            "Details:\n",
            "Title: Secondhand Lions (2003)\n",
            "Genre: Comedy, Drama, Family\n",
            "Director: Tim McCanlies\n",
            "Cast: Michael Caine, Robert Duvall, Haley Joel Osment\n",
            "Abstract: [Like]\n",
            "- Thoroughly watchable family epic\n",
            "- Finest actors in fitting roles\n",
            "- Story line many families can identify with\n",
            "- Hospital scene\n",
            "- Quality of the film\n",
            "\n",
            "[Dislike]\n",
            "- None\n",
            "\n",
            "Movie: Across the Universe (2007)\n",
            "Positive comments: The imaginative and colorfully individual treatment of the Beatles songs, the refreshing way each familiar song is dovetailed into the plot, and the delightful musical sections.\n",
            "Negative comments: The weak and predictable plot, which is an all-too-familiar rehash of the musical Hair without its cutting-edge satire.\n",
            "Details:\n",
            "Title: Across the Universe (2007)\n",
            "Genre: Drama, Fantasy, History, Music, Musical, Romance\n",
            "Director: Julie Taymor\n",
            "Cast: Evan Rachel Wood, Jim Sturgess, Joe Anderson\n",
            "Abstract: [Like]\n",
            "- The use of The Beatles' songs in the film was beautiful, magical, and intelligent\n",
            "- The references to rock icons like Jimi Hendrix and Janis Joplin\n",
            "- The chemistry between the lead actors, Jim Sturgess and Evan Rachel Wood\n",
            "- Memorable moments like Bono singing \"I am the Walrus\" and the rooftop performance reminiscent of Abbey Road\n",
            "\n",
            "[Dislike]\n",
            "- Some of the songs were not well performed by the actors, particularly \"I Want to Hold Your Hand\"\n",
            "\n",
            "Movie: Water (2005)\n",
            "Positive comments: - Spectacularly photographed- Moving drama about human potential wasted by traditions- Love of all kinds manages to flourish amid the squalor- Stunning film capturing a glorious feeling of 1938 India\n",
            "Negative comments: - None\n",
            "Details:\n",
            "Title: Water (2005)\n",
            "Genre: Drama\n",
            "Director: Deepa Mehta\n",
            "Cast: Sarala Kariyawasam, Buddhi Wickrama, Rinsly Weerarathne\n",
            "Abstract: [Like] \n",
            "- Spectacularly photographed\n",
            "- Moving drama about human potential wasted by traditions\n",
            "- Love of all kinds manages to flourish amid the squalor\n",
            "- Stunning film capturing a glorious feeling of 1938 India\n",
            "\n",
            "[Dislike]\n",
            "- None Hi there! I'm in the mood to watch a movie. Can you recommend something? Absolutely! What kind of movie are you in the mood for? Any specific genre or theme? I'm in the mood for something with a heartfelt story, great acting, and maybe a hint of nostalgia. I really enjoy movies that capture the human experience and offer a mix of different genres. I think you would really appreciate \"Sin Nombre\" (2009). It beautifully captures the human experience and offers a mix of different genres, with powerful performances and a heartfelt story that will definitely resonate with you. \"Sin Nombre\" (2009) sounds like a great recommendation, but I think I'm looking for something with a little more light-heartedness and humor. The movies I enjoy usually have a balance of humor and heartfelt moments, and \"Sin Nombre\" seems to lean more towards a serious tone. Any other suggestions? How about \"Freaky Friday\" (2003)? It has a great balance of humor and heartfelt moments, with entertaining performances and an enjoyable soundtrack. The chemistry between the characters is also really well done, which adds to the humorous and heartfelt experience of the film. \"Freaky Friday\" is definitely a fun and heartwarming movie, but I'm actually looking for something with a more mature tone and deeper storytelling. The movies I enjoy usually have a more thoughtful approach to relationships and life lessons, often set in a specific time period or cultural setting. Any other suggestions that fit this description? I think you would really enjoy \"Till the Clouds Roll By\" (1947). It offers a mix of different genres, with a specific time period setting and cultural backdrop, and showcases a heartfelt story with great acting. It also features some nostalgic musical numbers and captures the human experience in a beautiful, colorful finale. \"Till the Clouds Roll By\" (1947) definitely sounds like it has some of the elements I enjoy in a movie. However, I'm actually looking for something with a more modern setting and a different genre mix. The movies I usually enjoy offer a mix of different genres, including drawing room comedy, Hitchcockian noir, and black comedy, while also providing a slice of life and an intelligently written, leisurely explication of human interaction. Do you have any recommendations that fit this description? I think you would really enjoy \"The Big Lebowski\" (1998). It offers a mix of different genres, including drawing room comedy, Hitchcockian noir, and black comedy, while also providing a slice of life and an intelligently written, leisurely explication of human interaction. The performances are great, and the film has a unique and entertaining take on the characters and their interactions. \"The Big Lebowski\" (199\n",
            "\n",
            "How about checking out \"Fargo\" (1996)? It has a natural and engaging scenario that keeps the audience hooked, as well as interesting details and settings that add depth to the film. The captivating performances by Steve Buscemi and Peter Stormare really bring the story to life.\n",
            ". Use the user's movie history and preferences to suggest movies that align with their interests.\n",
            "\n",
            "Seen movies and their corresponding evaluation and details:\n",
            "Movie: Vertigo (1958)\n",
            "Positive comments: The performances of Kim Novak and James Stewart were wonderful, and the creativity of Hitchcock in the fake Mrs. Elster's fake suicide and John's efforts to perform the event was remarkable.\n",
            "Negative comments: The bad quality of colored film techniques was a downside, and some scenes, such as the starting scene with the policeman and the car following scenes, did not fit well with a Hitchcock film.\n",
            "Details:\n",
            "Title: Vertigo (1958)\n",
            "Genre: Mystery, Romance, Thriller\n",
            "Director: Alfred Hitchcock\n",
            "Cast: James Stewart, Kim Novak, Barbara Bel Geddes\n",
            "Abstract: [Like] \n",
            "- The movie keeps you dazzled throughout\n",
            "- The ticking time bomb nature of the plot keeps you puzzled\n",
            "- The ability to feel and live what the characters feel and live\n",
            "- James Stewart's astounding performance\n",
            "\n",
            "[Dislike]\n",
            "- Other than lead characters, people keep disappearing from the plot\n",
            "- The heartbreaking climax lessens the overall impact\n",
            "\n",
            "Movie: The Apartment (1960)\n",
            "Positive comments: - The simple yet amazing story- The performances of Jack Lemmon and Shirley Maclaine- The reflection of routine life by the director Billy Wilder- The interesting subject matter of the film\n",
            "Negative comments: - None\n",
            "Details:\n",
            "Title: The Apartment (1960)\n",
            "Genre: Comedy, Drama, Romance\n",
            "Director: Billy Wilder\n",
            "Cast: Jack Lemmon, Shirley MacLaine, Fred MacMurray\n",
            "Abstract: [Like]\n",
            "- Razor sharp dialogue and well defined characters\n",
            "- Smooth transition from comedy to drama\n",
            "- Great performances, especially by Jack Lemmon and Shirley MacLaine\n",
            "- MacLaine's honest and non-melodramatic performance\n",
            "- The Christmas Eve scene\n",
            "\n",
            "[Dislike]\n",
            "None.\n",
            "\n",
            "Movie: The Manchurian Candidate  (1962)\n",
            "Positive comments: - Interesting plot and storyline- Intriguing use of symbolism with the queen of diamonds- Memorable and impactful fighting scenes- Clever and funny dialogue\n",
            "Negative comments: - None\n",
            "Details:\n",
            "Title: The Manchurian Candidate  (1962)\n",
            "Genre: Drama, Thriller\n",
            "Director: John Frankenheimer\n",
            "Cast: Frank Sinatra, Laurence Harvey, Janet Leigh\n",
            "Abstract: [Like] \n",
            "- The big plot surprise and the hints that are revealed on a second viewing\n",
            "- The potent performances of the leads, particularly Frank Sinatra and Laurence Harvey\n",
            "- The complex and intriguing storyline that connects war-induced stress, national security, and the US Presidency\n",
            "\n",
            "[Dislike]\n",
            "None. Hi there! I'm in the mood to watch a movie. Can you recommend something? Absolutely! What kind of movie are you in the mood for? Any specific genre or theme? I'm generally into movies with captivating performances and engaging storylines. I also enjoy movies with interesting details and settings that add depth to the film. Do you have any recommendations based on that? Based on your preference for captivating performances and engaging storylines, I think you would really enjoy \"Goodfellas\" (1990). The movie features superb acting and a storyline that delves into interesting details and settings that add depth to the film. Thank you for the recommendation, but I've already seen \"Goodfellas\" (1990) and while the performances were amazing, I didn't quite connect with the story as much as I'd hoped. I'm looking for something with a natural and engaging scenario that keeps the audience hooked and interesting details and settings that add depth to the film. Any other recommendations? How about checking out \"The Shining\" (1980)? It has captivating performances, an engaging storyline, and the setting plays a crucial role in creating a deeply unsettling atmosphere that adds depth to the film. Plus, it has some iconic and unforgettable visual moments that you might enjoy. I appreciate the recommendation, but I've already seen \"The Shining\" (1980). While it did have captivating performances and an engaging storyline, it didn't quite have the natural and engaging scenario that I'm looking for. Do you have any other recommendations with those features? How about checking out \"The Great Escape\" (1963)? It has captivating performances, an engaging storyline, and the setting plays a crucial role in creating a thrilling and engaging atmosphere that adds depth to the film. Plus, it has some iconic and unforgettable visual moments that you might enjoy. That sounds like a great recommendation! I haven't seen \"The Great Escape\" (1963) yet,\n",
            "\n",
            "I think you might enjoy \"Babe (1995)\". It has a positive message about hard work and tolerance, and the storyline has an even pacing throughout. Plus, the clever animation and well-done animatronic creature-doubles create a visually appealing movie.\n",
            ". Use the user's movie history and preferences to suggest movies that align with their interests.\n",
            "\n",
            "Seen movies and their corresponding evaluation and details:\n",
            "Movie: Mona Lisa Smile (2003)\n",
            "Positive comments: There are no positive comments\n",
            "Negative comments: The film's portrayal of women as shallow and the lack of depth in the characters. The unoriginal and uninspiring premise. The lack of credibility in Julia Roberts' performance. Insulting modernist paintings.\n",
            "Details:\n",
            "Title: Mona Lisa Smile (2003)\n",
            "Genre: Drama\n",
            "Director: Mike Newell\n",
            "Cast: Julia Roberts, Kirsten Dunst, Julia Stiles\n",
            "Abstract: [Like]\n",
            "- Thought-provoking and inspiring plot\n",
            "- Strong and talented female cast\n",
            "- Beautiful and nostalgic scenes and costumes\n",
            "- Well-executed conflicts and confrontations\n",
            "- A great closing credit scene\n",
            "\n",
            "[Dislike]\n",
            "None.\n",
            "\n",
            "Movie: The Horse Whisperer  (1998)\n",
            "Positive comments: - Visual love affair with the great western landscape- Cinematic beauty of the film- Teaching that healing the spirit of broken creatures comes through acts of kindness and patience- Credible and true performances by the cast\n",
            "Negative comments: - Ineffectual setting of urban savagery- Unrealistic portrayal of the horse protecting the young rider\n",
            "Details:\n",
            "Title: The Horse Whisperer  (1998)\n",
            "Genre: Drama, Romance, Western\n",
            "Director: Robert Redford\n",
            "Cast: Robert Redford, Kristin Scott Thomas, Sam Neill\n",
            "Abstract: [Like] \n",
            "- Redford's treatment of the story and characters with respect\n",
            "- The focus on the spiritual relationship between human and horse\n",
            "- The stunning locations captured in the film\n",
            "\n",
            "[Dislike]\n",
            "- The silly Hollywood ending\n",
            "\n",
            "Movie: The Girl Next Door (2004)\n",
            "Positive comments: There are no positive comments\n",
            "Negative comments: The lack of originality, the unimpressive acting talent, and the cliché-ridden storyline.\n",
            "Details:\n",
            "Title: The Girl Next Door (2004)\n",
            "Genre: Comedy, Drama, Romance\n",
            "Director: Luke Greenfield\n",
            "Cast: Emile Hirsch, Elisha Cuthbert, Timothy Olyphant\n",
            "Abstract: [Like] The character growth in Matthew and the unexpected but heartwarming ending.\n",
            "\n",
            "[Dislike] None. Hi there! I'm in the mood to watch a movie. Can you recommend something? What kind of movies do you usually enjoy? Any specific genre or theme? I really enjoy movies with great visual landscapes and cinematic beauty. I also appreciate films that teach valuable lessons about kindness and patience. But I'm not a fan of movies with ineffective urban settings or unrealistic portrayals of animals. I think you might enjoy \"Passionada (2003)\". It has a beautiful portrayal of the Portuguese ethnic community in New Bedford, and it's filled with love and romance. Additionally, the film brings a different perspective compared to mainstream Hollywood fare, and it may teach valuable lessons about love and relationships. Thanks for the recommendation, but I'm not sure if \"Passionada (2003)\" is the right fit for me. I'm more into movies with background settings that flesh out the story, and I tend to enjoy vibrant performances by the actors. Unfortunately, I'm not a fan of sappy storylines and unlikely props. I think you might enjoy \"Closer (2004)\". The movie has incredible performances by the cast, especially Natalie Portman, and it captures the raw and real emotions of the characters. The story is high drama and delves into the complexity of relationships, without relying on sappiness or unlikely scenarios. I appreciate the recommendation, but \"Closer (2004)\" doesn't seem like my cup of tea. While I do enjoy exceptional performances by the cast, I tend to steer clear from preachy dialogues and slow-moving storylines. I prefer movies with a positive message and a more even pacing throughout the plot. How about \"The Secret Life of Walter Mitty (2013)\"? It has a beautiful portrayal of the natural world and a positive message about following your dreams. The film also has a great balance of action and romance, and it's filled with vibrant performances by the cast. That sounds like a great recommendation! I haven't watched \"The Secret Life of Walter Mitty (2013)\" before, but it seems to align\n",
            "\n",
            "How about \"Die Hard\" (1988)? It has realistic action sequences, engaging and relatable characters, and a great mix of humor with hardcore action. It's a classic in the action movie genre and it perfectly matches your preferences.\n",
            ". Use the user's movie history and preferences to suggest movies that align with their interests.\n",
            "\n",
            "Seen movies and their corresponding evaluation and details:\n",
            "Movie: A History of Violence (2005)\n",
            "Positive comments: Realistic and groundbreaking violent scenes\n",
            "Negative comments: Lack of plot, unimpressive performances by good actors, short length of the movie\n",
            "Details:\n",
            "Title: A History of Violence (2005)\n",
            "Genre: Action, Crime, Drama, Thriller\n",
            "Director: David Cronenberg\n",
            "Cast: Viggo Mortensen, Maria Bello, Ed Harris\n",
            "Abstract: [Like]\n",
            "- The film is a well put together crime drama/suspense thriller\n",
            "- Viggo Mortensen's fantastic performance\n",
            "- Maria Bello's excellent acting\n",
            "- Ed Harris's great performance\n",
            "- Great story and just the right amount of time for a movie\n",
            "\n",
            "[Dislike]\n",
            "- None\n",
            "\n",
            "Movie: I, Robot (2004)\n",
            "Positive comments: - Good action movie for popcorn entertainment- Good messages about big businesses and technology- Special effects and fight scenes are awesome\n",
            "Negative comments: - Plot doesn't stick close to Isaac Asimov's book- Acting is just okay- Will Smith's character is not very different from his other roles- Shia Lebouf's character is a little annoying\n",
            "Details:\n",
            "Title: I, Robot (2004)\n",
            "Genre: Action, Mystery, Sci-Fi, Thriller\n",
            "Director: Alex Proyas\n",
            "Cast: Will Smith, Bridget Moynahan, Alan Tudyk\n",
            "Abstract: [Like]\n",
            "- Entertaining\n",
            "- Exciting action sequence in the last half hour\n",
            "- Robots and the sequence in the tunnel\n",
            "- Finale with mass of robots attacking a high-rise\n",
            "\n",
            "[Dislike]\n",
            "- Missed opportunities\n",
            "- Special effects not convincing\n",
            "- Lack of emotion in performances\n",
            "- Lack of excitement throughout most of the movie\n",
            "\n",
            "Movie: Shrek (2001)\n",
            "Positive comments: - Appeals to both kids and adults- Bevy of recognizable fairy tale characters- Humor that is adult-oriented but goes over kids' heads- Talented voice cast\n",
            "Negative comments: There are no negative comments\n",
            "Details:\n",
            "Title: Shrek (2001)\n",
            "Genre: Animation, Adventure, Comedy, Family, Fantasy, Romance\n",
            "Director: Andrew Adamson, Vicky Jenson\n",
            "Cast: Mike Myers, Eddie Murphy, Cameron Diaz\n",
            "Abstract: [Like]\n",
            "- The classic feel of the animation\n",
            "- The amazing characters of Donkey and Shrek\n",
            "\n",
            "[Dislike]\n",
            "None Hi there! I'm in the mood to watch a movie. Can you recommend something? Absolutely! What kind of movie are you in the mood for? Any specific genre or theme? I'm more into action movies with realistic and groundbreaking violent scenes, engaging characters, and a good mix of humor with hardcore action. What do you have in mind? I'm sorry, I don't have any movie recommendations that match your preferences at the moment. However, if you're open to trying something different, I can suggest a musical drama called \"Tommy\" (1975). It has great performances, music, and visually impressive scenes that you might enjoy. \"Tommy\" (1975) doesn't quite match my preference for action movies with realistic and groundbreaking violent scenes. I prefer movies with engaging characters and a good mix of humor with hardcore action. Any other recommendations that align more with my preferences? How about \"The Dark Knight\" (2008)? It has engaging characters, a good mix of humor with hardcore action, and realistic and groundbreaking violent scenes. Plus, it's a great action movie with a strong message about the nature of heroism. \"The Dark Knight\" (2008) sounds like a great recommendation! I haven't watched it before, so I'll definitely give it a try. Thanks for the suggestion\n",
            "\n",
            "I think you might enjoy \"Dead Poets Society (1989)\". It's a comedy-drama that has relatable characters and real-life situations, and it also delivers a powerful message about the responsibility and joy of being alive and making a difference.\n",
            ". Use the user's movie history and preferences to suggest movies that align with their interests.\n",
            "\n",
            "Seen movies and their corresponding evaluation and details:\n",
            "Movie: Scary Movie (2000)\n",
            "Positive comments: - The reviewer enjoyed the movie and found it to be a hilarious comedy that made them and their friends laugh hysterically.- They appreciated that the movie was not high-brow or intelligent comedy, and they were not expecting Shakespeare, but still enjoyed what they got.\n",
            "Negative comments: - The reviewer disliked the excessive references to drugs in the movie and felt that it was a downside.\n",
            "Details:\n",
            "Title: Scary Movie (2000)\n",
            "Genre: Comedy\n",
            "Director: Keenen Ivory Wayans\n",
            "Cast: Carmen Electra, Dave Sheridan, Frank B. Moore\n",
            "Abstract: [Like] The non-stop laughs and the clever parody of various horror and thriller movies. The successful gags and the overall comedic tone of the movie.\n",
            "\n",
            "[Dislike] Some jokes are superficial and don't stand out compared to the rest. The movie had a short runtime.\n",
            "\n",
            "Movie: The Birth of a Nation (1915)\n",
            "Positive comments: There are no positive comments\n",
            "Negative comments: The movie is racially offensive, perpetuates harmful stereotypes, and promotes racism and hatred. It is a disgrace and a display of racial hatred for the masses. The film should not be praised or remembered for its artistic and technological brilliance.\n",
            "Details:\n",
            "Title: The Birth of a Nation (1915)\n",
            "Genre: Drama, History, War\n",
            "Director: D.W. Griffith\n",
            "Cast: Lillian Gish, Mae Marsh, Henry B. Walthall\n",
            "Abstract: [Like] Good filmmaking\n",
            "[Dislike] Bad history\n",
            "\n",
            "Movie: The Black Hole (1979)\n",
            "Positive comments: The ending of the movie is incredibly powerful and memorable, with Maximilian standing proud and the Doctor being part of it. The visuals of the ending are haunting and unforgettable, making up for any plot issues and flat characters.\n",
            "Negative comments: The lack of a scientifically sound plot, visible wires, and flat characters were disappointing.\n",
            "Details:\n",
            "Title: The Black Hole (1979)\n",
            "Genre: Action, Sci-Fi\n",
            "Director: Gary Nelson\n",
            "Cast: Maximilian Schell, Anthony Perkins, Robert Forster\n",
            "Abstract: [Like]\n",
            "- Fantastic screenplay\n",
            "- Philosophical insights into life and death\n",
            "- Ahead of its time\n",
            "\n",
            "[Dislike]\n",
            "- None Hi there! I'm in the mood to watch a movie. Can you recommend something? Absolutely! What kind of movie are you in the mood for? Any specific genre or theme? I'm in the mood for a comedy or drama. I like movies that are funny and also have a powerful message. Based on your preference for a comedy with a powerful message, I would recommend \"Chicken Run (2000)\". It's an animated film with sharp writing, heartwarming themes, and plenty of funny moments. I appreciate the recommendation, but I'm not a big fan of animated movies. I'm looking for something with more relatable characters and real-life situations. Can you recommend something along those lines? How about \"The Birth of a Nation (1915)\"? It's a historical drama that delves into important themes with impressive cinematic skill and quality acting. It's a powerful movie that showcases the impact of war and society. I appreciate the recommendation, but I have to decline. I recently watched a movie with historical themes, and I'm looking for something more focused on individual growth and personal challenges. I prefer movies with relatable characters and real-life situations. How about \"The Black Hole (1979)\"? It's a sci-fi thriller with a powerful message about the importance of humanity and the consequences of our actions. It's a thought-provoking movie with relatable characters and real-life situations. That sounds like a great recommendation! I haven't watched \"The Black Hole (1979)\" before, so I'll definitely give it a try. Thanks for the suggestion\n",
            "\n",
            "How about watching \"Million Dollar Baby (2004)\"? It has great characters, a wonderful story, and superb storytelling elements that you might enjoy. It also has surprise cameos and witty inside Hollywood jokes that add to the overall entertainment value of the film.\n",
            ". Use the user's movie history and preferences to suggest movies that align with their interests.\n",
            "\n",
            "Seen movies and their corresponding evaluation and details:\n",
            "Movie: After Hours  (1985)\n",
            "Positive comments: - The dark and twisted humor used to convey the message- The portrayal of strange and human characters- The experience of watching the film\n",
            "Negative comments: There are no negative comments\n",
            "Details:\n",
            "Title: After Hours  (1985)\n",
            "Genre: Comedy, Crime, Drama, Thriller\n",
            "Director: Martin Scorsese\n",
            "Cast: Griffin Dunne, Rosanna Arquette, Verna Bloom\n",
            "Abstract: [Like]\n",
            "- The dark and surreal world drew me in with fantastical wonder\n",
            "- The characters were interesting and the acting, especially by Griffin Dunne, was superb\n",
            "- The pacing of the movie was great\n",
            "- The techniques used by Scorsese and the quick editing were impressive\n",
            "- The film put me on edge and kept me engaged as a viewer\n",
            "- It was a deeply black comedy that was evocative of soHo in the early 80's\n",
            "\n",
            "[Dislike]\n",
            "- None\n",
            "\n",
            "Movie: The Holiday (2006)\n",
            "Positive comments: 1. The movie is not only a romantic comedy, but also a movie about making movies, with inside Hollywood jokes and surprise cameos.2. The film includes brief images of classic DVD covers and a library with the movie Gigli, adding a fun element.\n",
            "Negative comments: 1. Lack of editing, with at least 30 minutes that could have been removed.2. Lack of Jack Black's screen time and importance to the plot.3. Lack of credibility in some scenes, with the children stealing the show from the main stars.4. Lack of continuity between the UK and US plot, making them feel like two different films at times.\n",
            "Details:\n",
            "Title: The Holiday (2006)\n",
            "Genre: Comedy, Romance\n",
            "Director: Nancy Meyers\n",
            "Cast: Cameron Diaz, Kate Winslet, Jude Law\n",
            "Abstract: [Like]\n",
            "- The natural look and character of Kate Winslet\n",
            "- The charming and naive character of Jack Black\n",
            "- The development of the relationships between the characters\n",
            "- The fresh, original, and delightful writing by Nancy Meyers\n",
            "- The feel-good elements injected into the romantic comedy genre\n",
            "\n",
            "[Dislike]\n",
            "- None\n",
            "\n",
            "Movie: Shoot 'Em Up  (2007)\n",
            "Positive comments: - Clive Owen's performance and charisma- Stylish action sequences- Entertaining and fun for the most part\n",
            "Negative comments: - Plot is a pretentious attempt to convey a message about gun control- Some parts of the film become too cheesy and tiresome- Final sequences lose steam and become corny\n",
            "Details:\n",
            "Title: Shoot 'Em Up  (2007)\n",
            "Genre: Action, Comedy, Thriller\n",
            "Director: Michael Davis\n",
            "Cast: Clive Owen, Paul Giamatti, Monica Bellucci\n",
            "Abstract: [Like] \n",
            "- The audacious and hyperactive nature of the movie\n",
            "- The endless shoot-outs and chases\n",
            "- Clive Owen's performance and his low-rent James Bond-esque persona\n",
            "- The outlandishly funny and shamelessly watchable action sequences\n",
            "\n",
            "[Dislike]\n",
            "- None Hi there! I'm in the mood to watch a movie. Can you recommend something? Absolutely! What kind of movie are you in the mood for? Any specific genre or theme? I enjoy movies with dark and twisted humor, and the portrayal of strange and human characters. The experience of watching the film is also important to me. I think you might enjoy \"Ocean's Eleven (2001)\"! It has elements of dark humor, a great ensemble cast, and an overall entertaining experience. It might be just what you're looking for. Thank you for the recommendation, but I feel like \"Ocean's Eleven (2001)\" may not have the same kind of storytelling and character depth that I'm looking for. I tend to enjoy movies that are not only entertaining but also have a unique twist and unexpected elements. How about checking out \"Labyrinth (1986)\"? It has a magical and imaginative plot with a touch of dark humor, as well as unique and unexpected elements that you might enjoy. It also has a depth to the script and clear attitudes that convey valuable lessons. I appreciate the suggestion, but I feel like \"Labyrinth (1986)\" may not check all the boxes for me. I tend to enjoy movies with brief images of classic DVD covers and fun elements like surprise cameos, as well as witty inside Hollywood jokes. How about \"The Holiday (2006)\"? It has a mix of romance, comedy, and drama, with a focus on making movies and inside Hollywood jokes. It also has a charming and naive character, as well as a fresh and original writing style. That sounds like a great recommendation! I'll definitely give \"The Holiday (2006)\" a watch. Thanks for the suggestion! You're welcome! I\n",
            "\n",
            "How about watching \"Confessions of a Dangerous Mind\" (2003)? It has great acting, an engaging plot, and a good level of tension. Plus, it has comedic and thrilling elements that you may find entertaining.\n",
            ". Use the user's movie history and preferences to suggest movies that align with their interests.\n",
            "\n",
            "Seen movies and their corresponding evaluation and details:\n",
            "Movie: Prince of Persia: The Sands of Time  (2010)\n",
            "Positive comments: - Enjoyable and entertaining- Good acting- Well-flowing and understandable plot\n",
            "Negative comments: There are no negative comments\n",
            "Details:\n",
            "Title: Prince of Persia: The Sands of Time  (2010)\n",
            "Genre: Action, Adventure, Fantasy\n",
            "Director: Mike Newell\n",
            "Cast: Jake Gyllenhaal, Gemma Arterton, Ben Kingsley\n",
            "Abstract: [Like]\n",
            "- Impressive visuals and special effects\n",
            "- Faithful to the general premise of the game\n",
            "- Added middle eastern folklore makes the movie interesting\n",
            "- Jake Gyllenhal's impressive performance as Prince Dastan\n",
            "- Gemma Arterton's solid performance as Tamina\n",
            "\n",
            "[Dislike]\n",
            "- Inaccurate accents used by the actors, not fitting for the setting of medieval Persia\n",
            "\n",
            "Movie: The Fog  (2005)\n",
            "Positive comments: - The plot was generally nice.\n",
            "Negative comments: - The remake was unnecessary and failed to live up to the original.- The film was not successful in creating a scary atmosphere.\n",
            "Details:\n",
            "Title: The Fog  (2005)\n",
            "Genre: Horror, Mystery\n",
            "Director: Rupert Wainwright\n",
            "Cast: Tom Welling, Maggie Grace, Selma Blair\n",
            "Abstract: [Like]\n",
            "- Cinematography and practical/CGI effects\n",
            "- Likable characters and interesting relationships\n",
            "- Fascinating history of the town\n",
            "- Atmospheric, eerie, and intense\n",
            "\n",
            "[Dislike]\n",
            "- None\n",
            "\n",
            "Movie: Krampus (2015)\n",
            "Positive comments: Good special effects, excellent acting\n",
            "Negative comments: Not scary, not able to disturb in any way\n",
            "Details:\n",
            "Title: Krampus (2015)\n",
            "Genre: Comedy, Fantasy, Horror\n",
            "Director: Michael Dougherty\n",
            "Cast: Emjay Anthony, Adam Scott, Toni Collette\n",
            "Abstract: [Like]\n",
            "- Acting was top-notch\n",
            "- Story was good and kept me glued to the screen\n",
            "- Hilarious scenes, especially from Aunt Dorothy\n",
            "- Practical effects were used well\n",
            "- Krampus's minions were awesome and scary\n",
            "- Original and unexpected ending\n",
            "\n",
            "[Dislike]\n",
            "- None Hi there! I'm in the mood to watch a movie. Can you recommend something? What kind of movie are you in the mood for? Any specific genre or theme? I generally enjoy movies with good acting, well-flowing plots, and enjoyable entertainment. I also appreciate a nice plot with good special effects and excellent acting. Any recommendations based on that? Based on your preferences, I think you'll really enjoy \"Fear and Loathing in Las Vegas.\" It's a surreal, fast-paced adventure with strong performances and an engaging plot. Plus, the special effects and directing style are truly unique. Thanks for the recommendation, but I think I'll have to pass on \"Fear and Loathing in Las Vegas.\" While I appreciate the unique directing style and strong performances, I'm not really in the mood for a surreal, fast-paced adventure at the moment. I'm looking for something with a bit more of a logical thread in the plot. In that case, I recommend \"Waiting for the Barbarians.\" It has engaging and introspective storytelling, beautiful cinematography, and strong performances from the cast. The plot is well-developed and the setting adds to the overall experience. Thanks for the recommendation, but I'll have to pass on \"Waiting for the Barbarians\" as well. While I do appreciate engaging storytelling and strong performances, I'm not particularly interested in the setting of that movie at the moment. I'm looking for something with more of a thrilling and comedic element to it. How about checking out \"Birdemic: Shock and Terror\"? It's a hilariously bad horror movie with some unintentional comedic elements that you might find entertaining. Plus, it has a thrilling and suspenseful aspect to it as well. Thanks for the suggestion, but I don't think \"Birdemic: Shock and Terror\" is quite what I'm looking for right now. While I do enjoy unintentional comedic elements and a thrilling aspect, I'm not really in the mood for a horror movie at the moment. How about checking out \"The Fog  (2005)\"? It has a well-developed plot, good special effects, and excellent acting. Plus, it's a horror movie with a thrilling and suspenseful aspect to it. That sounds like a perfect recommendation! I haven't watched \"The Fog  (2005)\" before, so I'll definitely give it a try. Thanks for the suggestion! You're\n",
            "\n",
            "Based on your preference for upbeat musical numbers and a feel-good vibe, I would recommend \"Anything Goes\" (1956). It features stars like Bing Crosby, Donald O'Connor, and Zizi Jeanmaire and will leave you with a good feeling. The dance routines and performances are delightful, making it an enjoyable musical with a light-hearted atmosphere.\n",
            ". Use the user's movie history and preferences to suggest movies that align with their interests.\n",
            "\n",
            "Seen movies and their corresponding evaluation and details:\n",
            "Movie: The Women (1939)\n",
            "Positive comments: - Brilliant wit and wisdom- Fast paced dialogue- Funny episodes, especially with Roz Russell- Notable performances by Mary Boland, Butterfly McQueen, and Lucile Watson\n",
            "Negative comments: - None\n",
            "Details:\n",
            "Title: The Women (1939)\n",
            "Genre: Comedy, Drama\n",
            "Director: George Cukor\n",
            "Cast: Norma Shearer, Joan Crawford, Rosalind Russell\n",
            "Abstract: [Like]\n",
            "- The movie is funny and incredibly witty\n",
            "- It's amazing to see so many female screen legends on the same screen at once\n",
            "- Four great female roles and a number of good supporting roles\n",
            "- Good triumphing over evil\n",
            "- Brilliant supporting cast that provides even more laughs and never a dull moment\n",
            "\n",
            "[Dislike]\n",
            "- The film, especially the ending, may be slightly offensive to today's \"modern woman\"\n",
            "\n",
            "Movie: A Streetcar Named Desire (1951)\n",
            "Positive comments: Vivien Leigh's portrayal of Blanche, the myriad of emotions she struggled with\n",
            "Negative comments: The story seemed too violent and the overall impression of raw emotions too heavily oppressive\n",
            "Details:\n",
            "Title: A Streetcar Named Desire (1951)\n",
            "Genre: Drama\n",
            "Director: Elia Kazan\n",
            "Cast: Vivien Leigh, Marlon Brando, Kim Hunter\n",
            "Abstract: [Like] The review provides an interesting and detailed history of the evolution of acting in theater and cinema, as well as the impact of actors like Marlon Brando and directors like Elia Kazan.\n",
            "\n",
            "[Dislike] The review could benefit from a clearer structure and organization to make it easier to follow the points being made.\n",
            "\n",
            "Movie: Our Man in Havana (1959)\n",
            "Positive comments: Nice to see Maureen O'Hara and Noel Coward in the film, and Alec Guinness' portrayal with a slightly amusing touch.\n",
            "Negative comments: Lack of overall cohesiveness and the feeling of separate, vaguely connected scenes. The movie is entertaining but not dynamic, and more could have been done with the illustrious cast.\n",
            "Details:\n",
            "Title: Our Man in Havana (1959)\n",
            "Genre: Comedy, Crime, Drama, Thriller\n",
            "Director: Carol Reed\n",
            "Cast: Alec Guinness, Burl Ives, Maureen O'Hara\n",
            "Abstract: [Like] Nice to see Maureen O'Hara and Noel Coward in the film, and Alec Guinness' portrayal with a slightly amusing touch.\n",
            "\n",
            "[Dislike] Lack of overall cohesiveness and the feeling of separate, vaguely connected scenes. The movie is entertaining but not dynamic, and more could have been done with the illustrious cast. Hi there! I'm in the mood to watch a movie. Can you recommend something? Absolutely! What kind of movie are you in the mood for? Any specific genre or theme? I love movies with brilliant wit and wisdom, fast-paced dialogue, and funny episodes, especially with strong performances by the actors. Based on your love for fast-paced dialogue and strong performances, I think you would enjoy \"Flying Down to Rio.\" It's a fun movie with wonderful solo dancing and a famous dance scene with Fred Astaire and Ginger Rogers. The comedy is pretty good, and the fadeout segways are reminiscent of silent films. Plus, it features the beauty of Dolores del Rio and interesting editing experiments. \"Flying Down to Rio\" sounds interesting, but I'm looking for a movie with more musical numbers and an exciting atmosphere in the musical content. Any other recommendations based on that? How about \"The Butcher's Wife\" (1991)? It's a romantic comedy with a cozy feel and great music at the end. The performances by Demi Moore and Jeff Daniels are really strong, and it captures the essence of falling in love and finding your soul mate. Plus, it has a fantasy and romance element that adds a fun twist to the story. \"The Butcher's Wife\" seems like a good movie, but I prefer musical movies with dance routines and iconic performances. I'd actually prefer a movie that has upbeat musical numbers and a feel-good vibe. Anything like that in mind? How about \"The Greatest Showman\" (2017)? It's a musical biopic with a feel-good vibe and upbeat musical numbers. The performances by Hugh Jackman and Zendaya are really strong, and the movie captures the essence of falling in love and finding your soul mate. Plus, it has a fantasy and romance element that adds a fun twist to the story. \"The Greatest Showman\" sounds\n",
            "\n",
            "How about \"Bringing Up Baby\" from 1938? It's a delightful comedy that is surreal and bizarre, with charming and amusing actors. The film has a thrilling and suspenseful plot with unexpected twists, and the characters are well-developed and endearing. Plus, it's not overly comedic and has a unique and gripping storyline that I think you'll enjoy.\n",
            ". Use the user's movie history and preferences to suggest movies that align with their interests.\n",
            "\n",
            "Seen movies and their corresponding evaluation and details:\n",
            "Movie: Brooklyn's Finest (2010)\n",
            "Positive comments: Intense and gritty portrayal of the lives of NYPD cops and the crime-ridden housing projects in Brooklyn. The interconnected storylines of the three main characters were well-developed and kept the audience engaged.\n",
            "Negative comments: The movie was overly long at 133 minutes, and the brutal and violent scenes may not be suitable for all viewers.\n",
            "Details:\n",
            "Title: Brooklyn's Finest (2010)\n",
            "Genre: Action, Crime, Drama, Thriller\n",
            "Director: Antoine Fuqua\n",
            "Cast: Richard Gere, Don Cheadle, Ethan Hawke\n",
            "Abstract: [Like]\n",
            "- Top notch director\n",
            "- Good story\n",
            "- Great cast\n",
            "- Excellent performances by Cheadle, Hawke & Gere\n",
            "- Gere's performance in this movie\n",
            "\n",
            "[Dislike]\n",
            "- None\n",
            "\n",
            "Movie: Absolute Power (1997)\n",
            "Positive comments: The movie had a thrilling and suspenseful plot with unexpected twists and turns. The performances by the cast, especially Clint Eastwood and Gene Hackman, were captivating and kept me engaged throughout the film.\n",
            "Negative comments: The action scenes involving Clint Eastwood's character were not very convincing, and it was difficult to believe that a man of his age could perform such stunts. The ending felt a bit unrealistic and over-the-top, with the protagonist taking on the entire power structure of the United States Government.\n",
            "Details:\n",
            "There are no extra data for this movie.\n",
            "\n",
            "Movie: The Mummy's Hand (1940)\n",
            "Positive comments: Exciting and suspenseful plot, interesting characters, and a thrilling climax.\n",
            "Negative comments: There are no negative comments\n",
            "Details:\n",
            "Title: The Mummy's Hand (1940)\n",
            "Genre: Adventure, Fantasy, Horror\n",
            "Director: Christy Cabanne\n",
            "Cast: Dick Foran, Peggy Moran, Wallace Ford\n",
            "Abstract: [Like]\n",
            "- Action, adventure, romance, and comedy\n",
            "- Terrific performances by Dick Foran and Wallace Ford\n",
            "- Great chemistry between the actors\n",
            "- Cecil Kelloway's touch of sophistication and comedy\n",
            "- Nice pace and many positives\n",
            "- Favorite film in the series\n",
            "\n",
            "[Dislike]\n",
            "None. Hi there! I'm in the mood to watch a movie. Can you recommend something? Absolutely! What kind of movie are you in the mood for? Any specific genre or theme? I'm usually drawn to intense and suspenseful movies with captivating storylines and well-developed characters. I also enjoy thrilling plots with unexpected twists. Based on your preferences, I think you would enjoy \"The Devil Wears Prada\" (2006). It has intense and suspenseful moments, a captivating storyline, and well-developed characters. Plus, it has some unexpected twists that I think you'll appreciate. Thank you for the recommendation, but I don't think \"The Devil Wears Prada\" (2006) is quite what I'm in the mood for. I tend to prefer movies with more gritty and realistic portrayals, like NYPD cops in crime-ridden housing projects in Brooklyn, or thrilling and suspenseful plots with unexpected twists and turns. Can you recommend something else that fits those criteria? Based on your preferences for gritty and realistic portrayals and thrilling, suspenseful plots with unexpected twists, I recommend \"K-9\" (1989). It's an action-comedy with a strong NYPD cop protagonist and a thrilling plot with unexpected twists and turns. Plus, it has some gritty and realistic portrayals of crime-ridden areas in Brooklyn. Thank you for the recommendation, but I don't think \"K-9\" (1989) is quite what I'm looking for. The action-comedy genre isn't really my cup of tea. I prefer movies that focus more on the character development and intense plot twists, rather than comedic elements. Any other recommendations? Based on your preference for intense plot twists and character development, I think you would really enjoy \"The Loneliness of the Long Distance Runner\" (1962). It has a compelling story and remarkable structure, with themes of societal change and individual resilience. Thank you for the recommendation, but \"The Loneliness of the Long Distance Runner\" (1962) doesn't quite match what I'm looking for either. It seems more like a serious drama with social themes, and I'm really in the mood for something more suspenseful and thrilling. I appreciate your effort in finding something that matches my criteria though. Do you have any other options? How about \"The Mummy's Hand\" (1940)? It has intense and suspenseful moments, a captivating storyline, and well-developed characters. Plus, it has some unexpected twists that I think you'll appreciate. That sounds perfect! I haven't watched \"The Mummy's Hand\" (1940) before, but it seems like it would be right up my alley. I'll definitely\n",
            "\n",
            "How about \"Terminator 2: Judgment Day\" (1991)? It has a modern setting, sci-fi elements, innovative special effects, a complex plot, and a good mix of humor and clean writing. It offers thrilling action and an engaging storyline that I think you'll enjoy based on your preferences.\n",
            ". Use the user's movie history and preferences to suggest movies that align with their interests.\n",
            "\n",
            "Seen movies and their corresponding evaluation and details:\n",
            "Movie: Deep Impact  (1998)\n",
            "Positive comments: The accuracy of the world ending is very high, the non-sci-fi portion is superior, and the acting and story are great. The performances by the actors are some of the best all year.\n",
            "Negative comments: There are no negative comments\n",
            "Details:\n",
            "Title: Deep Impact  (1998)\n",
            "Genre: Action, Drama, Sci-Fi, Thriller\n",
            "Director: Mimi Leder\n",
            "Cast: Robert Duvall, Téa Leoni, Elijah Wood\n",
            "Abstract: [Like]\n",
            "- Great cast\n",
            "- Excellent acting\n",
            "\n",
            "[Dislike]\n",
            "None\n",
            "\n",
            "Movie: Strange Brew (1983)\n",
            "Positive comments: - The movie was a great transition from a small segment to the big screen- The humor was clean and enjoyable- The writing was fantastic and the humor was awesome- The addition of Hamlet to the mix worked well\n",
            "Negative comments: - None\n",
            "Details:\n",
            "Title: Strange Brew (1983)\n",
            "Genre: Comedy, Crime, Sci-Fi\n",
            "Director: Rick Moranis, Dave Thomas\n",
            "Cast: Dave Thomas, Rick Moranis, Max von Sydow\n",
            "Abstract: [Like]\n",
            "- The movie was a great transition from a small segment to the big screen\n",
            "- The humor was clean and enjoyable\n",
            "- The writing was fantastic and the humor was awesome\n",
            "- The addition of Hamlet to the mix worked well\n",
            "\n",
            "[Dislike]\n",
            "- None\n",
            "\n",
            "Movie: My Left Foot (1989)\n",
            "Positive comments: - The movie is less of a rise story and more of a coming-of-age biopic, which sets it apart from similar films.- The performances of Daniel Day-Lewis and Brenda Fricker are outstanding and deserving of their Oscar wins.- The portrayal of the Browns as a loving and supportive family is admirable and heartwarming.\n",
            "Negative comments: There are no negative comments\n",
            "Details:\n",
            "Title: My Left Foot (1989)\n",
            "Genre: Biography, Drama\n",
            "Director: Jim Sheridan\n",
            "Cast: Daniel Day-Lewis, Brenda Fricker, Alison Whelan\n",
            "Abstract: [Like] \n",
            "- The optimistic view of the reality of cerebral palsy\n",
            "- Focus on the family and support system of the protagonist\n",
            "- Positive messages delivered in a direct and gentle way\n",
            "- Fluid direction and emotional performance by the protagonist\n",
            "\n",
            "[Dislike]\n",
            "- Lack of deeper exploration on some issues\n",
            "- Some things remain unexplained or happen too quickly Hi there! I'm in the mood to watch a movie. Can you recommend something? Absolutely! What kind of movie are you in the mood for? Any specific genre or theme? I'm looking for a movie with great storytelling and strong performances. I enjoy films that have a good mix of humor, clean writing, and enjoyable humor. Based on your preferences, I think you would really enjoy \"On the Waterfront\" (1954). It has a compelling plot, strong performances, and it provides a gritty and realistic portrayal. I appreciate the recommendation, but I'm more in the mood for something with a modern setting and a bit of sci-fi twist. The movie I'm looking for also has a good mix of humor and clean writing, which I didn't see in \"On the Waterfront\" (1954). How about \"School of Rock\" (2003)? It's a modern comedy with a great mix of humor, clean writing, and a feel-good factor. The movie also has strong performances and a fun twist with music. I think you'll really enjoy it based on your preferences. \"School of Rock\" sounds like a fun movie, but I'm actually in the mood for something with more action and a sci-fi twist. The movie I have in mind also has a complex plot and some innovative special effects, which I didn't see in \"School of Rock\" (2003). How about \"The Fifth Element\" (1997)? It has a modern setting, a sci-fi twist, and a complex plot with innovative special effects. The movie also has a great mix of humor and clean writing, which I think you'll really enjoy based on your preferences. \"The Fifth Element\" sounds like a perfect match for what I'm looking for! I haven't seen it before, so I'll definitely give it\n",
            "\n",
            "How about \"Spider-Man (2002)?\" It's a fantastic action-packed movie with thrilling fight scenes and intense energy. The cast delivers excellent performances, and the cinematography brings the comic book world to life. It's a classic superhero movie that I think you would really enjoy!\n",
            ". Use the user's movie history and preferences to suggest movies that align with their interests.\n",
            "\n",
            "Seen movies and their corresponding evaluation and details:\n",
            "Movie: Spy Game (2001)\n",
            "Positive comments: The brilliant camera work, the thrilling plot that keeps the audience on the edge of their seats, Robert Redford's cool and ice-like portrayal of the elder secret agent, and Brad Pitt's excellent performance.\n",
            "Negative comments: There are no negative comments\n",
            "Details:\n",
            "Title: Spy Game (2001)\n",
            "Genre: Action, Crime, Thriller\n",
            "Director: Tony Scott\n",
            "Cast: Robert Redford, Brad Pitt, Catherine McCormack\n",
            "Abstract: [Like]\n",
            "- Thrilling plot without gory actions\n",
            "- Resemblance and chemistry between Robert Redford and Brad Pitt\n",
            "- Crispy and memorable dialogs\n",
            "- Nuances of CIA games\n",
            "- Focused direction\n",
            "- Superbly laid out story with twists and turns\n",
            "- Performance of Robert Redford\n",
            "\n",
            "[Dislike]\n",
            "- Casting of Catherine McCormack\n",
            "- Lack of better Irish/English actresses\n",
            "\n",
            "Movie: Flash Point (2007)\n",
            "Positive comments: - Spectacular fight scenes incorporating MMA- Every punch and kick can be felt- Brilliant chase scene- Best fight scene in the whole film- Collin Chou matches Donnie's speed and intensity equally\n",
            "Negative comments: - Weak storyline\n",
            "Details:\n",
            "Title: Flash Point (2007)\n",
            "Genre: Action, Crime, Thriller\n",
            "Director: Wilson Yip\n",
            "Cast: Donnie Yen, Louis Koo, Collin Chou\n",
            "Abstract: [Like]\n",
            "- Spectacular fight scenes incorporating MMA\n",
            "- Every punch and kick can be felt\n",
            "- Brilliant chase scene\n",
            "- Best fight scene in the whole film\n",
            "- Collin Chou matches Donnie's speed and intensity equally\n",
            "\n",
            "[Dislike]\n",
            "- Weak storyline\n",
            "\n",
            "Movie: Blade II (2002)\n",
            "Positive comments: Good fight scenes, surprising appearance of Donnie Yen, amazing special effects\n",
            "Negative comments: More comic bookish, reaching out to a new demographic, disappointment in bringing back Whistler and leaving out the doctor from the first film\n",
            "Details:\n",
            "Title: Blade II (2002)\n",
            "Genre: Action, Horror, Sci-Fi, Thriller\n",
            "Director: Guillermo del Toro\n",
            "Cast: Wesley Snipes, Kris Kristofferson, Ron Perlman\n",
            "Abstract: [Like]\n",
            "- Strong special effects\n",
            "- Excellent gore and graphic detail\n",
            "- Expansion on the original film\n",
            "- Good performances from the actors\n",
            "- Fast-paced and never boring\n",
            "\n",
            "[Dislike]\n",
            "- Weak computer effects\n",
            "- Predictable double crosses\n",
            "- Villain confesses everything before being killed Hi there! I'm in the mood to watch a movie. Can you recommend something? Absolutely! What kind of movie are you in the mood for? Any specific genre or theme? I'm a big fan of action movies with thrilling plots and amazing fight scenes. I also love when the cast delivers excellent performances and the cinematography is outstanding. Do you have any recommendations in mind? I would recommend \"Finding Nemo (2003)\" for you! While it may not be an action-packed film, it has a thrilling and adventurous plot, with stunning animation and visuals. The voice cast delivers excellent performances, and the movie has valuable life lessons woven into the story. It's entertaining for all ages and has been praised for its exceptional side characters. Thanks for the recommendation, but I'm really looking for something with spectacular fight scenes and intense action. I also prefer movies with a bit more intense and high-energy plot. Do you have any other recommendations that match those criteria? I think you would really enjoy \"In Bruges (2008).\" It's a mix of comedy, crime, and thriller, with intense action and a gripping plot. The performances are excellent, the script is intelligent, and the film has a great balance of dark humor and moral complexity. The cinematography is also stunning, and the dialogue is quick and quirky. It has the high-energy plot and intense action scenes you're looking for. \"In Bruges\" sounds like a great film, but I'm looking for something that has a bit more intense fight scenes and action-packed sequences. I really enjoy when a movie can make me feel every punch and kick. Do you have anything else in mind that aligns with those preferences? I think you would really enjoy \"The Avengers (2012).\" It's an action-packed superhero movie with intense fight scenes and thrilling action sequences. The cast delivers excellent performances, and the cinematography is outstanding. The movie has a gripping plot and a great balance of action and humor. It's a perfect blend of intense action and high-energy plot that you're looking for. \"The Aven\n",
            "\n",
            "How about \"Unbreakable\" (2000)? It has a unique and unexpected storyline with a blend of mystery and thriller elements. The characters are complex and likeable, and the plot goes intriguing places. It's a movie with lots of depth and will definitely keep you intrigued throughout.\n",
            ". Use the user's movie history and preferences to suggest movies that align with their interests.\n",
            "\n",
            "Seen movies and their corresponding evaluation and details:\n",
            "Movie: Final Fantasy: The Spirits Within (2001)\n",
            "Positive comments: - The unique and technologically advanced storyline- Aki's character, particularly her sense of vulnerability and beautiful hair\n",
            "Negative comments: - None\n",
            "Details:\n",
            "Title: Final Fantasy: The Spirits Within (2001)\n",
            "Genre: Animation, Action, Adventure, Fantasy, Romance, Sci-Fi\n",
            "Director: Hironobu Sakaguchi, Motonori Sakakibara\n",
            "Cast: Ming-Na Wen, Alec Baldwin, Ving Rhames\n",
            "Abstract: [Like]\n",
            "- The movie's incredible depiction of reality down to the finest detail\n",
            "- The story line, characters, and science are all done very well\n",
            "- The actors who did the voices did an excellent job in bringing the animated characters to life\n",
            "- The computer animation is stunning and almost totally real\n",
            "\n",
            "[Dislike]\n",
            "- The story went slower than a normal sci-fi/action film\n",
            "- The reviewer wasn't knocked out about the story\n",
            "\n",
            "Movie: Josie and the Pussycats  (2001)\n",
            "Positive comments: - I liked the character of Josie and her performance in the movie- The pussycat ears were a nice touch- The movie had some funny and clever moments\n",
            "Negative comments: - The movie was not quite funny or clever enough- Overall, the movie felt weak and did not meet expectations\n",
            "Details:\n",
            "Title: Josie and the Pussycats  (2001)\n",
            "Genre: Comedy, Music\n",
            "Director: Harry Elfont, Deborah Kaplan\n",
            "Cast: Rachael Leigh Cook, Rosario Dawson, Tara Reid\n",
            "Abstract: [Like]\n",
            "- Hilarious performances by Tara Reid, Rosario Dawson, and Rachel Leigh Cook\n",
            "- Funny remake of the old T.V. show\n",
            "- Recommended for anyone interested in comedies\n",
            "- Must-see and highly enjoyable\n",
            "\n",
            "[Dislike]\n",
            "None.\n",
            "\n",
            "Movie: The Fast and the Furious (2001)\n",
            "Positive comments: - The unexpected fast-paced nature of the movie- The ability to make a 2-hour movie out of 10-second car races\n",
            "Negative comments: There are no negative comments\n",
            "Details:\n",
            "Title: The Fast and the Furious (2001)\n",
            "Genre: Action, Crime, Thriller\n",
            "Director: Rob Cohen\n",
            "Cast: Paul Walker, Vin Diesel, Michelle Rodriguez\n",
            "Abstract: [Like]\n",
            "- Cinematography, editing, and acting\n",
            "- Hip soundtrack\n",
            "- Entertaining plot\n",
            "- Great performances by Paul Walker and Vin Diesel\n",
            "- Climactic duel between tuner cars and 18-wheeler\n",
            "\n",
            "[Dislike]\n",
            "- Initial confusion and fast-paced nature of the movie\n",
            "- Implausible plot points\n",
            "- Ludicrous action sequences Hi there! I'm in the mood to watch a movie. Can you recommend something? Absolutely! What kind of movie are you in the mood for? Any specific genre or theme? I'm really into movies with unique and technologically advanced storylines. I also enjoy when there's a character that has a sense of vulnerability but is also strong in some way. What would you recommend based on that? I think you might enjoy \"Anger Management\" (2003). It has a unique storyline with comedic moments and features a character with vulnerabilities but also strength. The chemistry between Adam Sandler and Jack Nicholson is great and it offers a different type of film from Adam Sandler. Hmm, \"Anger Management\" sounds interesting, but I'm not a big fan of Adam Sandler's character in that movie. I usually enjoy movies with unexpected fast-paced nature and the ability to make a full-length film out of short moments. Do you have any recommendations based on that? How about \"Final Fantasy: The Spirits Within\" (2001)? It has a unique and technologically advanced storyline with stunning animation. The movie also features fast-paced action and blends elements of folklore, science, and animated battle sequences. I've actually seen \"Final Fantasy: The Spirits Within\" before, and while I appreciated the technology and animation, the storyline didn't fully captivate me. I'm looking for something with more depth and intrigue. Can you recommend something else? How about \"The Fast and the Furious\" (2001)? It has a unique and fast-paced nature with unexpected twists and turns. The movie also features a strong and vulnerable character, Vin Diesel, and has a great soundtrack. \"The Fast and the Furious\" sounds like a good recommendation, but I've already seen it before. I'm looking for something with a more unexpected and fast-paced nature, as\n",
            "\n"
          ]
        }
      ]
    },
    {
      "cell_type": "code",
      "source": [
        "from collections import Counter\n",
        "\n",
        "from nltk.translate import bleu_score\n",
        "from nltk.translate.bleu_score import SmoothingFunction\n",
        "import numpy as np\n",
        "\n",
        "\n",
        "def distinct(seqs):\n",
        "    \"\"\" Calculate intra/inter distinct 1/2. \"\"\"\n",
        "    \"\"\" Recuperado de https://github.com/PaddlePaddle/models/blob/release/1.6/PaddleNLP/Research/Dialogue-PLATO/plato/metrics/metrics.py\"\"\"\n",
        "    batch_size = len(seqs)\n",
        "    intra_dist1, intra_dist2 = [], []\n",
        "    unigrams_all, bigrams_all = Counter(), Counter()\n",
        "    for seq in seqs:\n",
        "        unigrams = Counter(seq)\n",
        "        bigrams = Counter(zip(seq, seq[1:]))\n",
        "        intra_dist1.append((len(unigrams)+1e-12) / (len(seq)+1e-5))\n",
        "        intra_dist2.append((len(bigrams)+1e-12) / (max(0, len(seq)-1)+1e-5))\n",
        "\n",
        "        unigrams_all.update(unigrams)\n",
        "        bigrams_all.update(bigrams)\n",
        "\n",
        "    inter_dist1 = (len(unigrams_all)+1e-12) / (sum(unigrams_all.values())+1e-5)\n",
        "    inter_dist2 = (len(bigrams_all)+1e-12) / (sum(bigrams_all.values())+1e-5)\n",
        "    intra_dist1 = np.average(intra_dist1)\n",
        "    intra_dist2 = np.average(intra_dist2)\n",
        "    return intra_dist1, intra_dist2, inter_dist1, inter_dist2"
      ],
      "metadata": {
        "id": "_J_LsiLibtWC"
      },
      "execution_count": null,
      "outputs": []
    },
    {
      "cell_type": "code",
      "source": [
        "import nltk\n",
        "nltk.download('punkt_tab')\n",
        "\n",
        "tokenized_text = [nltk.word_tokenize(text) for text in references]\n",
        "resultado = distinct(tokenized_text)\n",
        "print(resultado)"
      ],
      "metadata": {
        "id": "GaUuOQfXjXeT",
        "colab": {
          "base_uri": "https://localhost:8080/"
        },
        "outputId": "7fe757a0-17d0-4512-f2b9-e8aec1208fa3"
      },
      "execution_count": null,
      "outputs": [
        {
          "output_type": "stream",
          "name": "stderr",
          "text": [
            "[nltk_data] Downloading package punkt_tab to /root/nltk_data...\n",
            "[nltk_data]   Unzipping tokenizers/punkt_tab.zip.\n"
          ]
        },
        {
          "output_type": "stream",
          "name": "stdout",
          "text": [
            "(0.8174602211235673, 0.9857301007313511, 0.11541064977609411, 0.3757125912018547)\n"
          ]
        }
      ]
    },
    {
      "cell_type": "code",
      "source": [
        "%%capture\n",
        "!pip install bert-score\n",
        "\n",
        "from bert_score import score\n",
        "\n",
        "# Calcular métricas de BertScore\n",
        "P, R, F1 = score(predictions, references, lang=\"en\", rescale_with_baseline=True)\n",
        "\n",
        "# Imprimir las métricas\n",
        "print(f\"BertScore Precision (P): {P.mean().item():.4f}\")\n",
        "print(f\"BertScore Recall (R): {R.mean().item():.4f}\")\n",
        "print(f\"BertScore F1: {F1.mean().item():.4f}\")\n"
      ],
      "metadata": {
        "id": "2KhOih3hh-BV",
        "colab": {
          "base_uri": "https://localhost:8080/",
          "height": 52
        },
        "outputId": "eb60d0dd-2fbd-490a-cae0-d00b5928be6f"
      },
      "execution_count": null,
      "outputs": [
        {
          "output_type": "stream",
          "name": "stderr",
          "text": [
            "Some weights of RobertaModel were not initialized from the model checkpoint at roberta-large and are newly initialized: ['roberta.pooler.dense.bias', 'roberta.pooler.dense.weight']\n",
            "You should probably TRAIN this model on a down-stream task to be able to use it for predictions and inference.\n"
          ]
        }
      ]
    },
    {
      "cell_type": "code",
      "source": [
        "from nltk import ngrams\n",
        "from collections import Counter\n",
        "\n",
        "tokenized_text = [nltk.word_tokenize(text) for text in references]\n",
        "\n",
        "def calculate_distinct(tokenized_text):\n",
        "    # unigramas\n",
        "    all_unigrams = [word for text in tokenized_text for word in text]\n",
        "    unique_unigrams = set(all_unigrams)\n",
        "    distinc_1 = len(unique_unigrams) / len(all_unigrams) if all_unigrams else 0\n",
        "\n",
        "    # bigramas\n",
        "    all_bigrams = [bigram for text in tokenized_text for bigram in ngrams(text, 2)]\n",
        "    unique_bigrams = set(all_bigrams)\n",
        "    distinc_2 = len(unique_bigrams) / len(all_bigrams) if all_bigrams else 0\n",
        "\n",
        "    return distinc_1, distinc_2\n",
        "\n",
        "distinc_1, distinc_2 = calculate_distinct(tokenized_text)\n",
        "\n",
        "print(f\"Distinc-1 (Unigramas): {distinc_1}\")\n",
        "print(f\"Distinc-2 (Bigramas): {distinc_2}\")\n"
      ],
      "metadata": {
        "colab": {
          "base_uri": "https://localhost:8080/"
        },
        "id": "MgmL9Qn0TTIK",
        "outputId": "39831ab4-90cb-4e91-a1c0-761a717c1b9a"
      },
      "execution_count": null,
      "outputs": [
        {
          "output_type": "stream",
          "name": "stdout",
          "text": [
            "Distinc-1 (Unigramas): 0.11541064981949459\n",
            "Distinc-2 (Bigramas): 0.37571259134560203\n"
          ]
        }
      ]
    }
  ]
}